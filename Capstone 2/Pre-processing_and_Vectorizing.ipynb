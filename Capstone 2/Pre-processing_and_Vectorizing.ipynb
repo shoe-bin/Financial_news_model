{
 "cells": [
  {
   "cell_type": "code",
   "execution_count": 277,
   "id": "8ce52705",
   "metadata": {},
   "outputs": [],
   "source": [
    "# !conda install langdetect\n",
    "import requests\n",
    "import pandas as pd\n",
    "import numpy as np\n",
    "from bs4 import BeautifulSoup\n",
    "from functools import reduce\n",
    "import re\n",
    "import string\n",
    "from langdetect import detect_langs\n",
    "from nltk.stem import WordNetLemmatizer\n",
    "from nltk.tokenize import word_tokenize\n",
    "import nltk\n",
    "from tqdm import tqdm\n",
    "import matplotlib.pyplot as plt"
   ]
  },
  {
   "cell_type": "code",
   "execution_count": 204,
   "id": "8e76bf76",
   "metadata": {},
   "outputs": [],
   "source": [
    "master_df = pd.read_csv('articles_export.csv', index_col=0)"
   ]
  },
  {
   "cell_type": "code",
   "execution_count": 4,
   "id": "ee226519",
   "metadata": {},
   "outputs": [],
   "source": [
    "pd.reset_option('display.max_colwidth')"
   ]
  },
  {
   "cell_type": "code",
   "execution_count": 205,
   "id": "09f5d427",
   "metadata": {},
   "outputs": [
    {
     "name": "stdout",
     "output_type": "stream",
     "text": [
      "<class 'pandas.core.frame.DataFrame'>\n",
      "Index: 10290 entries, 0 to 29\n",
      "Data columns (total 16 columns):\n",
      " #   Column                   Non-Null Count  Dtype  \n",
      "---  ------                   --------------  -----  \n",
      " 0   Unnamed: 0               8452 non-null   float64\n",
      " 1   title                    10290 non-null  object \n",
      " 2   url                      10290 non-null  object \n",
      " 3   time_published           10290 non-null  object \n",
      " 4   authors                  10290 non-null  object \n",
      " 5   summary                  10290 non-null  object \n",
      " 6   banner_image             9921 non-null   object \n",
      " 7   source                   10290 non-null  object \n",
      " 8   category_within_source   4560 non-null   object \n",
      " 9   source_domain            10290 non-null  object \n",
      " 10  topics                   10290 non-null  object \n",
      " 11  overall_sentiment_score  10290 non-null  float64\n",
      " 12  overall_sentiment_label  10290 non-null  object \n",
      " 13  ticker_sentiment         10290 non-null  object \n",
      " 14  ticker                   10290 non-null  object \n",
      " 15  article                  10231 non-null  object \n",
      "dtypes: float64(2), object(14)\n",
      "memory usage: 1.3+ MB\n",
      "<class 'pandas.core.frame.DataFrame'>\n",
      "Index: 10290 entries, 0 to 29\n",
      "Data columns (total 15 columns):\n",
      " #   Column                   Non-Null Count  Dtype  \n",
      "---  ------                   --------------  -----  \n",
      " 0   title                    10290 non-null  object \n",
      " 1   url                      10290 non-null  object \n",
      " 2   time_published           10290 non-null  object \n",
      " 3   authors                  10290 non-null  object \n",
      " 4   summary                  10290 non-null  object \n",
      " 5   banner_image             9921 non-null   object \n",
      " 6   source                   10290 non-null  object \n",
      " 7   category_within_source   4560 non-null   object \n",
      " 8   source_domain            10290 non-null  object \n",
      " 9   topics                   10290 non-null  object \n",
      " 10  overall_sentiment_score  10290 non-null  float64\n",
      " 11  overall_sentiment_label  10290 non-null  object \n",
      " 12  ticker_sentiment         10290 non-null  object \n",
      " 13  ticker                   10290 non-null  object \n",
      " 14  article                  10231 non-null  object \n",
      "dtypes: float64(1), object(14)\n",
      "memory usage: 1.3+ MB\n"
     ]
    }
   ],
   "source": [
    "# master_df = master_df.drop_duplicates()\n",
    "master_df.info()\n",
    "master_df.drop(columns=['Unnamed: 0'], inplace=True)\n",
    "master_df.info()"
   ]
  },
  {
   "cell_type": "code",
   "execution_count": 206,
   "id": "95381bac",
   "metadata": {},
   "outputs": [
    {
     "data": {
      "text/plain": [
       "source\n",
       "Benzinga            4560\n",
       "Zacks Commentary    3478\n",
       "Motley Fool         2252\n",
       "Name: count, dtype: int64"
      ]
     },
     "execution_count": 206,
     "metadata": {},
     "output_type": "execute_result"
    }
   ],
   "source": [
    "master_df['source'].value_counts()"
   ]
  },
  {
   "cell_type": "code",
   "execution_count": 207,
   "id": "2de585f5",
   "metadata": {},
   "outputs": [
    {
     "data": {
      "text/plain": [
       "(59, 15)"
      ]
     },
     "execution_count": 207,
     "metadata": {},
     "output_type": "execute_result"
    }
   ],
   "source": [
    "articles_missing = master_df[master_df['article'].isna()]\n",
    "articles_missing.shape"
   ]
  },
  {
   "cell_type": "code",
   "execution_count": 208,
   "id": "6ffac518",
   "metadata": {},
   "outputs": [],
   "source": [
    "master_df.drop(columns=['summary', 'banner_image', 'category_within_source', 'topics', 'ticker_sentiment'], inplace=True)"
   ]
  },
  {
   "cell_type": "code",
   "execution_count": 209,
   "id": "22731ecf",
   "metadata": {},
   "outputs": [
    {
     "name": "stdout",
     "output_type": "stream",
     "text": [
      "<class 'pandas.core.frame.DataFrame'>\n",
      "Index: 10231 entries, 0 to 29\n",
      "Data columns (total 10 columns):\n",
      " #   Column                   Non-Null Count  Dtype  \n",
      "---  ------                   --------------  -----  \n",
      " 0   title                    10231 non-null  object \n",
      " 1   url                      10231 non-null  object \n",
      " 2   time_published           10231 non-null  object \n",
      " 3   authors                  10231 non-null  object \n",
      " 4   source                   10231 non-null  object \n",
      " 5   source_domain            10231 non-null  object \n",
      " 6   overall_sentiment_score  10231 non-null  float64\n",
      " 7   overall_sentiment_label  10231 non-null  object \n",
      " 8   ticker                   10231 non-null  object \n",
      " 9   article                  10231 non-null  object \n",
      "dtypes: float64(1), object(9)\n",
      "memory usage: 879.2+ KB\n"
     ]
    }
   ],
   "source": [
    "master_df = master_df.dropna()\n",
    "master_df.info()"
   ]
  },
  {
   "cell_type": "code",
   "execution_count": 211,
   "id": "e1c6493b",
   "metadata": {},
   "outputs": [],
   "source": [
    "master_df = master_df.drop_duplicates()"
   ]
  },
  {
   "cell_type": "code",
   "execution_count": 212,
   "id": "3ca1ba2f",
   "metadata": {},
   "outputs": [
    {
     "data": {
      "text/plain": [
       "ticker\n",
       "AAPL    647\n",
       "ABNB    340\n",
       "ADBE    347\n",
       "ADP      71\n",
       "AMD     544\n",
       "ANET    386\n",
       "AVGO    430\n",
       "BABA    348\n",
       "CRWD    353\n",
       "CSCO    315\n",
       "DELL    234\n",
       "GOOG    326\n",
       "IBM     135\n",
       "INTU    168\n",
       "META    455\n",
       "MSFT    428\n",
       "MU      193\n",
       "NFLX    421\n",
       "NVDA    540\n",
       "ORCL    259\n",
       "PLTR    249\n",
       "PYPL    366\n",
       "QCOM    374\n",
       "SHOP    480\n",
       "SPOT    297\n",
       "TSLA    447\n",
       "TSM     363\n",
       "UBER    369\n",
       "Name: article, dtype: int64"
      ]
     },
     "execution_count": 212,
     "metadata": {},
     "output_type": "execute_result"
    }
   ],
   "source": [
    "master_df.groupby('ticker').count()['article']\n"
   ]
  },
  {
   "cell_type": "code",
   "execution_count": 213,
   "id": "fadc2e3d",
   "metadata": {},
   "outputs": [
    {
     "data": {
      "text/plain": [
       "9019"
      ]
     },
     "execution_count": 213,
     "metadata": {},
     "output_type": "execute_result"
    }
   ],
   "source": [
    "master_df['article'].nunique()"
   ]
  },
  {
   "cell_type": "markdown",
   "id": "2e8a4f07",
   "metadata": {},
   "source": [
    "<h2> Benzinga Clean Up"
   ]
  },
  {
   "cell_type": "code",
   "execution_count": 214,
   "id": "221aecc5",
   "metadata": {},
   "outputs": [],
   "source": [
    "benzinga_df = master_df[master_df['source'] == 'Benzinga']"
   ]
  },
  {
   "cell_type": "code",
   "execution_count": 215,
   "id": "41d307c9",
   "metadata": {},
   "outputs": [
    {
     "data": {
      "text/plain": [
       "(4357, 10)"
      ]
     },
     "execution_count": 215,
     "metadata": {},
     "output_type": "execute_result"
    }
   ],
   "source": [
    "benzinga_df.shape"
   ]
  },
  {
   "cell_type": "code",
   "execution_count": 216,
   "id": "5e75f8eb",
   "metadata": {},
   "outputs": [],
   "source": [
    "common_keywords = ['To read this article', 'Please click here to sign up', 'Photo by',\n",
    "                   'This story was generated', 'Photo via', 'Check out more of Benzinga',\n",
    "                   'Photo courtesy:', 'This article is from an unpaid external', '©', 'This article was generated by']"
   ]
  },
  {
   "cell_type": "code",
   "execution_count": 217,
   "id": "121e680c",
   "metadata": {
    "scrolled": true
   },
   "outputs": [],
   "source": [
    "# pd.reset_option('display.max_colwidth')\n",
    "# benzinga_df['cut1_article'] = benzinga_df['article'].apply(lambda x: x[-350:])\n",
    "# pd.set_option('display.max_colwidth', None)\n",
    "# benzinga_df['cut1_article'][:25]"
   ]
  },
  {
   "cell_type": "code",
   "execution_count": 218,
   "id": "2a0cf776",
   "metadata": {},
   "outputs": [],
   "source": [
    "def trim_by_keyword(article, keyword):\n",
    "    return article.split(keyword)[0]\n",
    "\n",
    "def trim_articles(articles, keywords):\n",
    "    return [reduce(trim_by_keyword, keywords, article) for article in articles]\n",
    "\n"
   ]
  },
  {
   "cell_type": "code",
   "execution_count": 219,
   "id": "74804a96",
   "metadata": {},
   "outputs": [
    {
     "name": "stderr",
     "output_type": "stream",
     "text": [
      "/var/folders/k7/_jdxw9bx3_7cybsnkxz0pr200000gn/T/ipykernel_50579/1812483282.py:1: SettingWithCopyWarning: \n",
      "A value is trying to be set on a copy of a slice from a DataFrame.\n",
      "Try using .loc[row_indexer,col_indexer] = value instead\n",
      "\n",
      "See the caveats in the documentation: https://pandas.pydata.org/pandas-docs/stable/user_guide/indexing.html#returning-a-view-versus-a-copy\n",
      "  benzinga_df['cut2_articles'] = trim_articles(benzinga_df['article'], common_keywords)\n"
     ]
    }
   ],
   "source": [
    "benzinga_df['cut2_articles'] = trim_articles(benzinga_df['article'], common_keywords)"
   ]
  },
  {
   "cell_type": "code",
   "execution_count": 220,
   "id": "b4bc8b51",
   "metadata": {},
   "outputs": [
    {
     "data": {
      "text/plain": [
       "(4357, 11)"
      ]
     },
     "execution_count": 220,
     "metadata": {},
     "output_type": "execute_result"
    }
   ],
   "source": [
    "benzinga_df.shape"
   ]
  },
  {
   "cell_type": "code",
   "execution_count": 221,
   "id": "7ebd88b5",
   "metadata": {},
   "outputs": [
    {
     "data": {
      "text/plain": [
       "0     Advanced Energy Industries AEIS reported non-G...\n",
       "8     To gain an edge, this is what you need to know...\n",
       "11    T-Mobile US, Inc TMUS reported its second-quar...\n",
       "12    Tim Sweeney, the CEO of Epic Games, has public...\n",
       "20    Leading cryptocurrencies edged lower Tuesday a...\n",
       "                            ...                        \n",
       "5     Someone with a lot of money to spend has taken...\n",
       "7     Image sourced from Unsplash This post contains...\n",
       "9     Image sourced from Unsplash This post contains...\n",
       "18    This post contains sponsored advertising conte...\n",
       "24    © 2024 Benzinga.com. Benzinga does not provide...\n",
       "Name: article, Length: 4357, dtype: object"
      ]
     },
     "execution_count": 221,
     "metadata": {},
     "output_type": "execute_result"
    }
   ],
   "source": [
    "benzinga_df['article']"
   ]
  },
  {
   "cell_type": "code",
   "execution_count": 222,
   "id": "940d5b3a",
   "metadata": {},
   "outputs": [
    {
     "data": {
      "text/plain": [
       "0     Advanced Energy Industries AEIS reported non-G...\n",
       "8     To gain an edge, this is what you need to know...\n",
       "11    T-Mobile US, Inc TMUS reported its second-quar...\n",
       "12    Tim Sweeney, the CEO of Epic Games, has public...\n",
       "20    Leading cryptocurrencies edged lower Tuesday a...\n",
       "                            ...                        \n",
       "5     Someone with a lot of money to spend has taken...\n",
       "7     Image sourced from Unsplash This post contains...\n",
       "9     Image sourced from Unsplash This post contains...\n",
       "18    This post contains sponsored advertising conte...\n",
       "24                                                     \n",
       "Name: cut2_articles, Length: 4357, dtype: object"
      ]
     },
     "execution_count": 222,
     "metadata": {},
     "output_type": "execute_result"
    }
   ],
   "source": [
    "benzinga_df['cut2_articles']"
   ]
  },
  {
   "cell_type": "code",
   "execution_count": 223,
   "id": "15f07bdd",
   "metadata": {},
   "outputs": [
    {
     "name": "stderr",
     "output_type": "stream",
     "text": [
      "/var/folders/k7/_jdxw9bx3_7cybsnkxz0pr200000gn/T/ipykernel_50579/2557628087.py:1: SettingWithCopyWarning: \n",
      "A value is trying to be set on a copy of a slice from a DataFrame.\n",
      "Try using .loc[row_indexer,col_indexer] = value instead\n",
      "\n",
      "See the caveats in the documentation: https://pandas.pydata.org/pandas-docs/stable/user_guide/indexing.html#returning-a-view-versus-a-copy\n",
      "  benzinga_df['char_count'] = benzinga_df['cut2_articles'].apply(lambda x: len(x))\n"
     ]
    }
   ],
   "source": [
    "benzinga_df['char_count'] = benzinga_df['cut2_articles'].apply(lambda x: len(x))"
   ]
  },
  {
   "cell_type": "code",
   "execution_count": 224,
   "id": "15449dc3",
   "metadata": {},
   "outputs": [
    {
     "data": {
      "text/plain": [
       "(4357, 12)"
      ]
     },
     "execution_count": 224,
     "metadata": {},
     "output_type": "execute_result"
    }
   ],
   "source": [
    "benzinga_df.shape"
   ]
  },
  {
   "cell_type": "code",
   "execution_count": null,
   "id": "6da8e836",
   "metadata": {},
   "outputs": [],
   "source": []
  },
  {
   "cell_type": "code",
   "execution_count": 225,
   "id": "602594fa",
   "metadata": {},
   "outputs": [
    {
     "data": {
      "text/plain": [
       "5505      0\n",
       "1798      0\n",
       "6373      0\n",
       "5224      0\n",
       "5176      0\n",
       "5219      0\n",
       "5270      0\n",
       "5177      0\n",
       "1773      0\n",
       "5173      0\n",
       "1797      0\n",
       "5274      0\n",
       "5170      0\n",
       "31        2\n",
       "3         2\n",
       "8182      2\n",
       "2900      2\n",
       "5930      2\n",
       "4912      2\n",
       "1509      2\n",
       "49       15\n",
       "1896     58\n",
       "3583     58\n",
       "5178     59\n",
       "5275     62\n",
       "971      63\n",
       "4767     69\n",
       "77       74\n",
       "2188     76\n",
       "3149     76\n",
       "354      76\n",
       "8066     76\n",
       "3096     79\n",
       "1416     82\n",
       "4973     86\n",
       "8026     88\n",
       "3153     88\n",
       "2183     89\n",
       "5249     89\n",
       "4279     90\n",
       "6742     93\n",
       "5256     95\n",
       "6        99\n",
       "2599    100\n",
       "1899    100\n",
       "931     101\n",
       "8       104\n",
       "1719    105\n",
       "1842    106\n",
       "60      114\n",
       "Name: char_count, dtype: int64"
      ]
     },
     "execution_count": 225,
     "metadata": {},
     "output_type": "execute_result"
    }
   ],
   "source": [
    "benzinga_df['char_count'].sort_values()[150:200]"
   ]
  },
  {
   "cell_type": "code",
   "execution_count": 226,
   "id": "578c2cd4",
   "metadata": {
    "scrolled": true
   },
   "outputs": [],
   "source": [
    "# pd.set_option('display.max_colwidth', None)\n",
    "# benzinga_df[benzinga_df['char_count'] == 668]['cut2_articles']"
   ]
  },
  {
   "cell_type": "code",
   "execution_count": 227,
   "id": "8ccfab8e",
   "metadata": {
    "scrolled": true
   },
   "outputs": [],
   "source": [
    "# benzinga_df[benzinga_df['char_count'] == 668]['article']"
   ]
  },
  {
   "cell_type": "code",
   "execution_count": 228,
   "id": "3d64b0de",
   "metadata": {},
   "outputs": [
    {
     "data": {
      "text/plain": [
       "4357"
      ]
     },
     "execution_count": 228,
     "metadata": {},
     "output_type": "execute_result"
    }
   ],
   "source": [
    "benzinga_df['char_count'].count()"
   ]
  },
  {
   "cell_type": "code",
   "execution_count": 229,
   "id": "f9d38ee1",
   "metadata": {},
   "outputs": [],
   "source": [
    "benzinga_df = benzinga_df[benzinga_df['char_count'] > 10]"
   ]
  },
  {
   "cell_type": "code",
   "execution_count": 230,
   "id": "49a25698",
   "metadata": {},
   "outputs": [
    {
     "data": {
      "text/plain": [
       "(4187, 12)"
      ]
     },
     "execution_count": 230,
     "metadata": {},
     "output_type": "execute_result"
    }
   ],
   "source": [
    "benzinga_df.shape"
   ]
  },
  {
   "cell_type": "code",
   "execution_count": 231,
   "id": "4c8ea8c4",
   "metadata": {},
   "outputs": [
    {
     "data": {
      "text/plain": [
       "49       15\n",
       "3583     58\n",
       "1896     58\n",
       "5178     59\n",
       "5275     62\n",
       "971      63\n",
       "4767     69\n",
       "77       74\n",
       "2188     76\n",
       "3149     76\n",
       "354      76\n",
       "8066     76\n",
       "3096     79\n",
       "1416     82\n",
       "4973     86\n",
       "8026     88\n",
       "3153     88\n",
       "5249     89\n",
       "2183     89\n",
       "4279     90\n",
       "6742     93\n",
       "5256     95\n",
       "6        99\n",
       "1899    100\n",
       "2599    100\n",
       "931     101\n",
       "8       104\n",
       "1719    105\n",
       "1842    106\n",
       "60      114\n",
       "3845    116\n",
       "74      116\n",
       "2857    117\n",
       "2834    123\n",
       "3782    125\n",
       "5       126\n",
       "49      126\n",
       "26      129\n",
       "6024    132\n",
       "3195    132\n",
       "5000    134\n",
       "5054    134\n",
       "6156    135\n",
       "25      136\n",
       "26      136\n",
       "2009    136\n",
       "4642    137\n",
       "6665    137\n",
       "6201    137\n",
       "1276    139\n",
       "Name: char_count, dtype: int64"
      ]
     },
     "execution_count": 231,
     "metadata": {},
     "output_type": "execute_result"
    }
   ],
   "source": [
    "benzinga_df['char_count'].sort_values()[0:50]"
   ]
  },
  {
   "cell_type": "code",
   "execution_count": 232,
   "id": "2b0bafd1",
   "metadata": {},
   "outputs": [
    {
     "data": {
      "text/plain": [
       "1101    NVIDIA NVDA has outperformed the market over t...\n",
       "1473    On CNBC’s “The Final Call,” Carter Worth said,...\n",
       "1857    Broadcom AVGO has outperformed the market over...\n",
       "1879    Broadcom AVGO has outperformed the market over...\n",
       "3754    Micron Technology MU has outperformed the mark...\n",
       "3789    U.S. stocks were slightly higher, with the Dow...\n",
       "4313    Broadcom AVGO has outperformed the market over...\n",
       "4320    Broadcom AVGO has outperformed the market over...\n",
       "4335    Broadcom AVGO has outperformed the market over...\n",
       "4361    Broadcom AVGO has outperformed the market over...\n",
       "4409    Meta Platforms META has outperformed the marke...\n",
       "4458    Meta Platforms META has outperformed the marke...\n",
       "4651    Oracle ORCL has outperformed the market over t...\n",
       "4666    Oracle ORCL has outperformed the market over t...\n",
       "4702    Oracle ORCL has outperformed the market over t...\n",
       "4729    Oracle ORCL has outperformed the market over t...\n",
       "4738    Advanced Micro Devices AMD has outperformed th...\n",
       "4772    Advanced Micro Devices AMD has outperformed th...\n",
       "4948    Adobe ADBE has outperformed the market over th...\n",
       "4950    Adobe ADBE has outperformed the market over th...\n",
       "4960    Adobe ADBE has outperformed the market over th...\n",
       "4987    Adobe ADBE has outperformed the market over th...\n",
       "4997    Adobe ADBE has outperformed the market over th...\n",
       "5022    Adobe ADBE has outperformed the market over th...\n",
       "5087    Qualcomm QCOM has outperformed the market over...\n",
       "5160    Qualcomm QCOM has outperformed the market over...\n",
       "5239    Micron Technology MU has outperformed the mark...\n",
       "5251    Micron Technology MU has outperformed the mark...\n",
       "5260    Micron Technology MU has outperformed the mark...\n",
       "5293    Arista Networks ANET has outperformed the mark...\n",
       "5298    Arista Networks ANET has outperformed the mark...\n",
       "5306    Arista Networks ANET has outperformed the mark...\n",
       "6286    Tesla TSLA has outperformed the market over th...\n",
       "6390    Tesla TSLA has outperformed the market over th...\n",
       "6478    Netflix NFLX has outperformed the market over ...\n",
       "7788    Shopify SHOP has outperformed the market over ...\n",
       "7862    Shopify SHOP has outperformed the market over ...\n",
       "7913    Shopify SHOP has outperformed the market over ...\n",
       "7947    Shopify SHOP has outperformed the market over ...\n",
       "8078    Shopify SHOP has outperformed the market over ...\n",
       "8139    Shopify SHOP has outperformed the market over ...\n",
       "3       Intuit INTU has outperformed the market over t...\n",
       "32      Intuit INTU has outperformed the market over t...\n",
       "12      Intuit INTU has outperformed the market over t...\n",
       "1       Intuit INTU has outperformed the market over t...\n",
       "0       Intuit INTU has outperformed the market over t...\n",
       "4       Intuit INTU has outperformed the market over t...\n",
       "15        Intuit INTU has outperformed the market over...\n",
       "6       Intuit INTU has outperformed the market over t...\n",
       "12      Dell Technologies DELL has outperformed the ma...\n",
       "76      Dell Technologies DELL has outperformed the ma...\n",
       "19      Dell Technologies DELL has outperformed the ma...\n",
       "80      Spotify Technology SPOT has outperformed the m...\n",
       "69      The Nasdaq 100 closed higher by around 0.1% du...\n",
       "Name: cut2_articles, dtype: object"
      ]
     },
     "execution_count": 232,
     "metadata": {},
     "output_type": "execute_result"
    }
   ],
   "source": [
    "benzinga_df[(benzinga_df['char_count'] > 500) & (benzinga_df['char_count'] < 600)]['cut2_articles']"
   ]
  },
  {
   "cell_type": "code",
   "execution_count": 233,
   "id": "82cbf4d0",
   "metadata": {},
   "outputs": [
    {
     "data": {
      "text/plain": [
       "1101    NVIDIA NVDA has outperformed the market over t...\n",
       "1473    On CNBC’s “The Final Call,” Carter Worth said,...\n",
       "1857    Broadcom AVGO has outperformed the market over...\n",
       "1879    Broadcom AVGO has outperformed the market over...\n",
       "3754    Micron Technology MU has outperformed the mark...\n",
       "3789    U.S. stocks were slightly higher, with the Dow...\n",
       "4313    Broadcom AVGO has outperformed the market over...\n",
       "4320    Broadcom AVGO has outperformed the market over...\n",
       "4335    Broadcom AVGO has outperformed the market over...\n",
       "4361    Broadcom AVGO has outperformed the market over...\n",
       "4409    Meta Platforms META has outperformed the marke...\n",
       "4458    Meta Platforms META has outperformed the marke...\n",
       "4651    Oracle ORCL has outperformed the market over t...\n",
       "4666    Oracle ORCL has outperformed the market over t...\n",
       "4702    Oracle ORCL has outperformed the market over t...\n",
       "4729    Oracle ORCL has outperformed the market over t...\n",
       "4738    Advanced Micro Devices AMD has outperformed th...\n",
       "4772    Advanced Micro Devices AMD has outperformed th...\n",
       "4948    Adobe ADBE has outperformed the market over th...\n",
       "4950    Adobe ADBE has outperformed the market over th...\n",
       "4960    Adobe ADBE has outperformed the market over th...\n",
       "4987    Adobe ADBE has outperformed the market over th...\n",
       "4997    Adobe ADBE has outperformed the market over th...\n",
       "5022    Adobe ADBE has outperformed the market over th...\n",
       "5087    Qualcomm QCOM has outperformed the market over...\n",
       "5160    Qualcomm QCOM has outperformed the market over...\n",
       "5239    Micron Technology MU has outperformed the mark...\n",
       "5251    Micron Technology MU has outperformed the mark...\n",
       "5260    Micron Technology MU has outperformed the mark...\n",
       "5293    Arista Networks ANET has outperformed the mark...\n",
       "5298    Arista Networks ANET has outperformed the mark...\n",
       "5306    Arista Networks ANET has outperformed the mark...\n",
       "6286    Tesla TSLA has outperformed the market over th...\n",
       "6390    Tesla TSLA has outperformed the market over th...\n",
       "6478    Netflix NFLX has outperformed the market over ...\n",
       "7788    Shopify SHOP has outperformed the market over ...\n",
       "7862    Shopify SHOP has outperformed the market over ...\n",
       "7913    Shopify SHOP has outperformed the market over ...\n",
       "7947    Shopify SHOP has outperformed the market over ...\n",
       "8078    Shopify SHOP has outperformed the market over ...\n",
       "8139    Shopify SHOP has outperformed the market over ...\n",
       "3       Intuit INTU has outperformed the market over t...\n",
       "32      Intuit INTU has outperformed the market over t...\n",
       "12      Intuit INTU has outperformed the market over t...\n",
       "1       Intuit INTU has outperformed the market over t...\n",
       "0       Intuit INTU has outperformed the market over t...\n",
       "4       Intuit INTU has outperformed the market over t...\n",
       "15        Intuit INTU has outperformed the market over...\n",
       "6       Intuit INTU has outperformed the market over t...\n",
       "12      Dell Technologies DELL has outperformed the ma...\n",
       "76      Dell Technologies DELL has outperformed the ma...\n",
       "19      Dell Technologies DELL has outperformed the ma...\n",
       "80      Spotify Technology SPOT has outperformed the m...\n",
       "69      The Nasdaq 100 closed higher by around 0.1% du...\n",
       "Name: article, dtype: object"
      ]
     },
     "execution_count": 233,
     "metadata": {},
     "output_type": "execute_result"
    }
   ],
   "source": [
    "benzinga_df[(benzinga_df['char_count'] > 500) & (benzinga_df['char_count'] < 600)]['article']"
   ]
  },
  {
   "cell_type": "code",
   "execution_count": 234,
   "id": "3fc7c4a1",
   "metadata": {},
   "outputs": [],
   "source": [
    "benzinga_df = benzinga_df[benzinga_df['char_count'] > 400]"
   ]
  },
  {
   "cell_type": "code",
   "execution_count": 235,
   "id": "adb6537d",
   "metadata": {},
   "outputs": [],
   "source": [
    "benzinga_df.drop(columns=['article', 'char_count'], inplace=True)\n",
    "benzinga_df.rename(columns={'cut2_articles': 'article'}, inplace=True)"
   ]
  },
  {
   "cell_type": "code",
   "execution_count": 236,
   "id": "c3fd12a5",
   "metadata": {},
   "outputs": [
    {
     "data": {
      "text/plain": [
       "(4076, 10)"
      ]
     },
     "execution_count": 236,
     "metadata": {},
     "output_type": "execute_result"
    }
   ],
   "source": [
    "benzinga_df.shape"
   ]
  },
  {
   "cell_type": "markdown",
   "id": "f1ee4dc6",
   "metadata": {},
   "source": [
    "<h2> Zacks Commentary"
   ]
  },
  {
   "cell_type": "code",
   "execution_count": 237,
   "id": "0215b269",
   "metadata": {},
   "outputs": [],
   "source": [
    "zacks_df = master_df[master_df['source'] == 'Zacks Commentary']"
   ]
  },
  {
   "cell_type": "code",
   "execution_count": 238,
   "id": "89eed378",
   "metadata": {},
   "outputs": [
    {
     "data": {
      "text/plain": [
       "1     Advanced Micro Devices (AMD Quick QuoteAMD  - ...\n",
       "2     Skyworks Solutions (SWKS Quick QuoteSWKS  -  F...\n",
       "3     Advanced Energy Industries (AEIS Quick QuoteAE...\n",
       "4     Apple (AAPL Quick QuoteAAPL  -  Free Report)  ...\n",
       "5     Garmin Ltd. (GRMN Quick QuoteGRMN  -  Free Rep...\n",
       "6     PayPal Holdings, Inc. (PYPL Quick QuotePYPL  -...\n",
       "7     All eyes are on technology giant Apple (AAPL Q...\n",
       "10    Upstart Holdings (UPST Quick QuoteUPST  -  Fre...\n",
       "14    The Schwab Fundamental U.S. Broad Market ETF (...\n",
       "15    If you're interested in broad exposure to the ...\n",
       "16    The WisdomTree U.S. LargeCap Dividend ETF (DLN...\n",
       "17    Designed to provide broad exposure to the Tech...\n",
       "19    Chicago, IL – July 31, 2024 – Today, Zacks Inv...\n",
       "24    As the world’s most valuable company, markets ...\n",
       "25    IPG Photonics (IPGP Quick QuoteIPGP  -  Free R...\n",
       "27    Apple’s (AAPL Quick QuoteAAPL  -  Free Report)...\n",
       "28    ONESPAN (OSPN Quick QuoteOSPN  -  Free Report)...\n",
       "29    Mettler-Toledo International, Inc. (MTD Quick ...\n",
       "34    Twilio Inc. (TWLO Quick QuoteTWLO  -  Free Rep...\n",
       "36    Sirius XM (SIRI Quick QuoteSIRI  -  Free Repor...\n",
       "Name: article, dtype: object"
      ]
     },
     "execution_count": 238,
     "metadata": {},
     "output_type": "execute_result"
    }
   ],
   "source": [
    "zacks_df['article'].head(20)"
   ]
  },
  {
   "cell_type": "markdown",
   "id": "14e011f4",
   "metadata": {},
   "source": [
    "<h2> Motley Fool"
   ]
  },
  {
   "cell_type": "code",
   "execution_count": 239,
   "id": "f5a19bd3",
   "metadata": {},
   "outputs": [],
   "source": [
    "motley_df = master_df[master_df['source'] == 'Motley Fool']"
   ]
  },
  {
   "cell_type": "code",
   "execution_count": 240,
   "id": "9c6f6aea",
   "metadata": {},
   "outputs": [
    {
     "data": {
      "text/plain": [
       "9      The biggest companies in tech aren't going all...\n",
       "13     The Russell 2000 features approximately 2,000 ...\n",
       "18     After years of struggle, SoundHound AI (SOUN -...\n",
       "23     Nvidia (NVDA 1.72%) stock fell again in Tuesda...\n",
       "82     Fool.com contributor Parkev Tatevosian preview...\n",
       "101    In this podcast, Motley Fool analyst Jason Mos...\n",
       "102    In this podcast, Motley Fool analyst Sanmeet D...\n",
       "108    For most stocks, a trillion-dollar valuation w...\n",
       "109    The S&P 500 is widely considered the best meas...\n",
       "110    Widely followed Wall Street analyst Toni Sacco...\n",
       "126    Following a volatile start to the decade, the ...\n",
       "138    Microsoft (MSFT -1.02%) won the PC battle agai...\n",
       "144    If you're young and already investing for reti...\n",
       "145    Most investors focus on a company's growth pro...\n",
       "146    Meta Platforms (META -1.21%) has been crushing...\n",
       "148    Investors love to look at what Berkshire Hatha...\n",
       "149    ExxonMobil (XOM -0.02%) is one of the world's ...\n",
       "155    Anyone who follows Warren Buffett knows that A...\n",
       "156    Since the advent of the internet three decades...\n",
       "160    The past few weeks have been tough for Apple (...\n",
       "Name: article, dtype: object"
      ]
     },
     "execution_count": 240,
     "metadata": {},
     "output_type": "execute_result"
    }
   ],
   "source": [
    "motley_df['article'].head(20)"
   ]
  },
  {
   "cell_type": "code",
   "execution_count": 241,
   "id": "b1768a70",
   "metadata": {},
   "outputs": [
    {
     "name": "stdout",
     "output_type": "stream",
     "text": [
      "<class 'pandas.core.frame.DataFrame'>\n",
      "Index: 4076 entries, 0 to 18\n",
      "Data columns (total 10 columns):\n",
      " #   Column                   Non-Null Count  Dtype  \n",
      "---  ------                   --------------  -----  \n",
      " 0   title                    4076 non-null   object \n",
      " 1   url                      4076 non-null   object \n",
      " 2   time_published           4076 non-null   object \n",
      " 3   authors                  4076 non-null   object \n",
      " 4   source                   4076 non-null   object \n",
      " 5   source_domain            4076 non-null   object \n",
      " 6   overall_sentiment_score  4076 non-null   float64\n",
      " 7   overall_sentiment_label  4076 non-null   object \n",
      " 8   ticker                   4076 non-null   object \n",
      " 9   article                  4076 non-null   object \n",
      "dtypes: float64(1), object(9)\n",
      "memory usage: 350.3+ KB\n",
      "None\n"
     ]
    }
   ],
   "source": [
    "print(benzinga_df.info())"
   ]
  },
  {
   "cell_type": "code",
   "execution_count": 242,
   "id": "bb5b6072",
   "metadata": {},
   "outputs": [
    {
     "name": "stdout",
     "output_type": "stream",
     "text": [
      "<class 'pandas.core.frame.DataFrame'>\n",
      "Index: 3292 entries, 1 to 27\n",
      "Data columns (total 10 columns):\n",
      " #   Column                   Non-Null Count  Dtype  \n",
      "---  ------                   --------------  -----  \n",
      " 0   title                    3292 non-null   object \n",
      " 1   url                      3292 non-null   object \n",
      " 2   time_published           3292 non-null   object \n",
      " 3   authors                  3292 non-null   object \n",
      " 4   source                   3292 non-null   object \n",
      " 5   source_domain            3292 non-null   object \n",
      " 6   overall_sentiment_score  3292 non-null   float64\n",
      " 7   overall_sentiment_label  3292 non-null   object \n",
      " 8   ticker                   3292 non-null   object \n",
      " 9   article                  3292 non-null   object \n",
      "dtypes: float64(1), object(9)\n",
      "memory usage: 282.9+ KB\n",
      "None\n"
     ]
    }
   ],
   "source": [
    "print(zacks_df.info())"
   ]
  },
  {
   "cell_type": "code",
   "execution_count": 243,
   "id": "8cfd5f28",
   "metadata": {},
   "outputs": [
    {
     "name": "stdout",
     "output_type": "stream",
     "text": [
      "<class 'pandas.core.frame.DataFrame'>\n",
      "Index: 2236 entries, 9 to 29\n",
      "Data columns (total 10 columns):\n",
      " #   Column                   Non-Null Count  Dtype  \n",
      "---  ------                   --------------  -----  \n",
      " 0   title                    2236 non-null   object \n",
      " 1   url                      2236 non-null   object \n",
      " 2   time_published           2236 non-null   object \n",
      " 3   authors                  2236 non-null   object \n",
      " 4   source                   2236 non-null   object \n",
      " 5   source_domain            2236 non-null   object \n",
      " 6   overall_sentiment_score  2236 non-null   float64\n",
      " 7   overall_sentiment_label  2236 non-null   object \n",
      " 8   ticker                   2236 non-null   object \n",
      " 9   article                  2236 non-null   object \n",
      "dtypes: float64(1), object(9)\n",
      "memory usage: 192.2+ KB\n",
      "None\n"
     ]
    }
   ],
   "source": [
    "print(motley_df.info())"
   ]
  },
  {
   "cell_type": "code",
   "execution_count": 244,
   "id": "574a3957",
   "metadata": {},
   "outputs": [
    {
     "data": {
      "text/html": [
       "<div>\n",
       "<style scoped>\n",
       "    .dataframe tbody tr th:only-of-type {\n",
       "        vertical-align: middle;\n",
       "    }\n",
       "\n",
       "    .dataframe tbody tr th {\n",
       "        vertical-align: top;\n",
       "    }\n",
       "\n",
       "    .dataframe thead th {\n",
       "        text-align: right;\n",
       "    }\n",
       "</style>\n",
       "<table border=\"1\" class=\"dataframe\">\n",
       "  <thead>\n",
       "    <tr style=\"text-align: right;\">\n",
       "      <th></th>\n",
       "      <th>title</th>\n",
       "      <th>url</th>\n",
       "      <th>time_published</th>\n",
       "      <th>authors</th>\n",
       "      <th>source</th>\n",
       "      <th>source_domain</th>\n",
       "      <th>overall_sentiment_score</th>\n",
       "      <th>overall_sentiment_label</th>\n",
       "      <th>ticker</th>\n",
       "      <th>article</th>\n",
       "    </tr>\n",
       "  </thead>\n",
       "  <tbody>\n",
       "    <tr>\n",
       "      <th>0</th>\n",
       "      <td>Advanced Energy Q2 Earnings Top Estimates, Rev...</td>\n",
       "      <td>https://www.benzinga.com/news/earnings/24/07/4...</td>\n",
       "      <td>20240731T201919</td>\n",
       "      <td>['Zacks']</td>\n",
       "      <td>Benzinga</td>\n",
       "      <td>www.benzinga.com</td>\n",
       "      <td>0.126429</td>\n",
       "      <td>Neutral</td>\n",
       "      <td>AAPL</td>\n",
       "      <td>Advanced Energy Industries AEIS reported non-G...</td>\n",
       "    </tr>\n",
       "    <tr>\n",
       "      <th>1</th>\n",
       "      <td>Oversold Condition And China Loophole Overpowe...</td>\n",
       "      <td>https://www.benzinga.com/markets/asia/24/07/40...</td>\n",
       "      <td>20240731T153854</td>\n",
       "      <td>['The Arora Report']</td>\n",
       "      <td>Benzinga</td>\n",
       "      <td>www.benzinga.com</td>\n",
       "      <td>0.204111</td>\n",
       "      <td>Somewhat-Bullish</td>\n",
       "      <td>AAPL</td>\n",
       "      <td>To gain an edge, this is what you need to know...</td>\n",
       "    </tr>\n",
       "    <tr>\n",
       "      <th>2</th>\n",
       "      <td>T-Mobile's Q2 Earnings: Net Postpaid Adds, Rec...</td>\n",
       "      <td>https://www.benzinga.com/news/earnings/24/07/4...</td>\n",
       "      <td>20240731T125206</td>\n",
       "      <td>['Anusuya Lahiri']</td>\n",
       "      <td>Benzinga</td>\n",
       "      <td>www.benzinga.com</td>\n",
       "      <td>0.211757</td>\n",
       "      <td>Somewhat-Bullish</td>\n",
       "      <td>AAPL</td>\n",
       "      <td>T-Mobile US, Inc TMUS reported its second-quar...</td>\n",
       "    </tr>\n",
       "    <tr>\n",
       "      <th>3</th>\n",
       "      <td>Epic Games' Tim Sweeney Slams Apple's 'Find My...</td>\n",
       "      <td>https://www.benzinga.com/news/24/07/40066966/e...</td>\n",
       "      <td>20240731T123649</td>\n",
       "      <td>['Rounak Jain']</td>\n",
       "      <td>Benzinga</td>\n",
       "      <td>www.benzinga.com</td>\n",
       "      <td>-0.095462</td>\n",
       "      <td>Neutral</td>\n",
       "      <td>AAPL</td>\n",
       "      <td>Tim Sweeney, the CEO of Epic Games, has public...</td>\n",
       "    </tr>\n",
       "    <tr>\n",
       "      <th>4</th>\n",
       "      <td>Bitcoin, Ethereum, Dogecoin Slide As Mt. Gox M...</td>\n",
       "      <td>https://www.benzinga.com/markets/cryptocurrenc...</td>\n",
       "      <td>20240731T030145</td>\n",
       "      <td>['Aniket Verma']</td>\n",
       "      <td>Benzinga</td>\n",
       "      <td>www.benzinga.com</td>\n",
       "      <td>0.002398</td>\n",
       "      <td>Neutral</td>\n",
       "      <td>AAPL</td>\n",
       "      <td>Leading cryptocurrencies edged lower Tuesday a...</td>\n",
       "    </tr>\n",
       "  </tbody>\n",
       "</table>\n",
       "</div>"
      ],
      "text/plain": [
       "                                               title  \\\n",
       "0  Advanced Energy Q2 Earnings Top Estimates, Rev...   \n",
       "1  Oversold Condition And China Loophole Overpowe...   \n",
       "2  T-Mobile's Q2 Earnings: Net Postpaid Adds, Rec...   \n",
       "3  Epic Games' Tim Sweeney Slams Apple's 'Find My...   \n",
       "4  Bitcoin, Ethereum, Dogecoin Slide As Mt. Gox M...   \n",
       "\n",
       "                                                 url   time_published  \\\n",
       "0  https://www.benzinga.com/news/earnings/24/07/4...  20240731T201919   \n",
       "1  https://www.benzinga.com/markets/asia/24/07/40...  20240731T153854   \n",
       "2  https://www.benzinga.com/news/earnings/24/07/4...  20240731T125206   \n",
       "3  https://www.benzinga.com/news/24/07/40066966/e...  20240731T123649   \n",
       "4  https://www.benzinga.com/markets/cryptocurrenc...  20240731T030145   \n",
       "\n",
       "                authors    source     source_domain  overall_sentiment_score  \\\n",
       "0             ['Zacks']  Benzinga  www.benzinga.com                 0.126429   \n",
       "1  ['The Arora Report']  Benzinga  www.benzinga.com                 0.204111   \n",
       "2    ['Anusuya Lahiri']  Benzinga  www.benzinga.com                 0.211757   \n",
       "3       ['Rounak Jain']  Benzinga  www.benzinga.com                -0.095462   \n",
       "4      ['Aniket Verma']  Benzinga  www.benzinga.com                 0.002398   \n",
       "\n",
       "  overall_sentiment_label ticker  \\\n",
       "0                 Neutral   AAPL   \n",
       "1        Somewhat-Bullish   AAPL   \n",
       "2        Somewhat-Bullish   AAPL   \n",
       "3                 Neutral   AAPL   \n",
       "4                 Neutral   AAPL   \n",
       "\n",
       "                                             article  \n",
       "0  Advanced Energy Industries AEIS reported non-G...  \n",
       "1  To gain an edge, this is what you need to know...  \n",
       "2  T-Mobile US, Inc TMUS reported its second-quar...  \n",
       "3  Tim Sweeney, the CEO of Epic Games, has public...  \n",
       "4  Leading cryptocurrencies edged lower Tuesday a...  "
      ]
     },
     "execution_count": 244,
     "metadata": {},
     "output_type": "execute_result"
    }
   ],
   "source": [
    "new_master_df = pd.concat([benzinga_df, zacks_df, motley_df])\n",
    "new_master_df.reset_index(inplace=True, drop=True)\n",
    "# new_master_df.drop(columns=['Unnamed: 0'], inplace=True)\n",
    "new_master_df.head()"
   ]
  },
  {
   "cell_type": "code",
   "execution_count": 271,
   "id": "69adf801",
   "metadata": {},
   "outputs": [
    {
     "name": "stdout",
     "output_type": "stream",
     "text": [
      "<class 'pandas.core.frame.DataFrame'>\n",
      "RangeIndex: 9604 entries, 0 to 9603\n",
      "Data columns (total 11 columns):\n",
      " #   Column                     Non-Null Count  Dtype  \n",
      "---  ------                     --------------  -----  \n",
      " 0   title                      9604 non-null   object \n",
      " 1   url                        9604 non-null   object \n",
      " 2   time_published             9604 non-null   object \n",
      " 3   authors                    9604 non-null   object \n",
      " 4   source                     9604 non-null   object \n",
      " 5   source_domain              9604 non-null   object \n",
      " 6   overall_sentiment_score    9604 non-null   float64\n",
      " 7   overall_sentiment_label    9604 non-null   object \n",
      " 8   ticker                     9604 non-null   object \n",
      " 9   article                    9604 non-null   object \n",
      " 10  overall_cleaned_sentiment  9604 non-null   float64\n",
      "dtypes: float64(2), object(9)\n",
      "memory usage: 825.5+ KB\n"
     ]
    }
   ],
   "source": [
    "new_master_df.info()"
   ]
  },
  {
   "cell_type": "code",
   "execution_count": 94,
   "id": "f1800811",
   "metadata": {},
   "outputs": [],
   "source": [
    "#create column for articles in lower case\n",
    "# new_master_df['to_lower'] = new_master_df['article'].apply(lambda x: x.lower())"
   ]
  },
  {
   "cell_type": "code",
   "execution_count": 95,
   "id": "b7b3b8dd",
   "metadata": {},
   "outputs": [],
   "source": [
    "#create column for articles in lower and with no numbers\n",
    "# new_master_df['no_nums'] = new_master_df['to_lower'].apply(lambda x: re.sub(r'\\d+', '', x))"
   ]
  },
  {
   "cell_type": "code",
   "execution_count": 96,
   "id": "d85ca848",
   "metadata": {},
   "outputs": [],
   "source": [
    "# new_master_df['no_punc'] = new_master_df['no_nums'].apply(lambda x: x.translate(str.maketrans('', '', string.punctuation)))"
   ]
  },
  {
   "cell_type": "code",
   "execution_count": 97,
   "id": "89dd6c9b",
   "metadata": {},
   "outputs": [],
   "source": [
    "# new_master_df['final_trimmed'] = new_master_df['no_punc'].apply(lambda x: x.strip())"
   ]
  },
  {
   "cell_type": "code",
   "execution_count": 169,
   "id": "aeccae6f",
   "metadata": {},
   "outputs": [
    {
     "name": "stderr",
     "output_type": "stream",
     "text": [
      "[nltk_data] Downloading package punkt to\n",
      "[nltk_data]     /Users/matthewelmajian/nltk_data...\n",
      "[nltk_data]   Package punkt is already up-to-date!\n",
      "[nltk_data] Downloading package wordnet to\n",
      "[nltk_data]     /Users/matthewelmajian/nltk_data...\n",
      "[nltk_data]   Package wordnet is already up-to-date!\n"
     ]
    },
    {
     "data": {
      "text/plain": [
       "True"
      ]
     },
     "execution_count": 169,
     "metadata": {},
     "output_type": "execute_result"
    }
   ],
   "source": [
    "nltk.download('punkt')\n",
    "nltk.download('wordnet')"
   ]
  },
  {
   "cell_type": "code",
   "execution_count": 245,
   "id": "e110f732",
   "metadata": {},
   "outputs": [],
   "source": [
    "def preprocess_and_lemmatize(df, article_col):\n",
    "    lemmatizer = WordNetLemmatizer()\n",
    "    articles = df[article_col]\n",
    "    lower_case = [x.lower() for x in articles]\n",
    "    no_nums = [re.sub(r'\\d+', '', x) for x in lower_case]\n",
    "    no_punc = [x.translate(str.maketrans('', '', string.punctuation)) for x in no_nums]\n",
    "    no_emojis = [re.sub(r'[^a-zA-Z\\s]', '', x) for x in no_punc]\n",
    "    words = [word_tokenize(x) for x in no_emojis]\n",
    "    lemmatized_articles = [' '.join([lemmatizer.lemmatize(word) for word in article]) for article in words]\n",
    "    return lemmatized_articles"
   ]
  },
  {
   "cell_type": "code",
   "execution_count": 246,
   "id": "d4e7c621",
   "metadata": {},
   "outputs": [],
   "source": [
    "# def preprocess_and_lemmatize(text):\n",
    "#     text = re.sub(r'\\W+', ' ', text)\n",
    "#     new_text = re.sub(r'[^a-zA-Z\\s]', '', text)\n",
    "#     words = word_tokenize(new_text.lower())\n",
    "#     lemmatized_words = [lemmatizer.lemmatize(word) for word in words]\n",
    "    \n",
    "#     return ' '.join(lemmatized_words)"
   ]
  },
  {
   "cell_type": "code",
   "execution_count": 247,
   "id": "4fa75b2a",
   "metadata": {},
   "outputs": [],
   "source": [
    "lemmatized_docs = preprocess_and_lemmatize(new_master_df, 'article')"
   ]
  },
  {
   "cell_type": "code",
   "execution_count": 248,
   "id": "fa457a0b",
   "metadata": {},
   "outputs": [
    {
     "data": {
      "text/plain": [
       "9604"
      ]
     },
     "execution_count": 248,
     "metadata": {},
     "output_type": "execute_result"
    }
   ],
   "source": [
    "len(lemmatized_docs)"
   ]
  },
  {
   "cell_type": "markdown",
   "id": "98fee9d6",
   "metadata": {},
   "source": [
    "<h1> Vectorizing"
   ]
  },
  {
   "cell_type": "code",
   "execution_count": 174,
   "id": "fb019bf6",
   "metadata": {},
   "outputs": [],
   "source": [
    "from sklearn.feature_extraction.text import CountVectorizer, TfidfVectorizer\n",
    "from vaderSentiment.vaderSentiment import SentimentIntensityAnalyzer"
   ]
  },
  {
   "cell_type": "markdown",
   "id": "ccf0f621",
   "metadata": {},
   "source": [
    "<h2> CountVectorizer"
   ]
  },
  {
   "cell_type": "code",
   "execution_count": 249,
   "id": "adb4152c",
   "metadata": {},
   "outputs": [],
   "source": [
    "c_vectorizer = CountVectorizer(stop_words='english', max_features = 2500)"
   ]
  },
  {
   "cell_type": "code",
   "execution_count": 250,
   "id": "24d8353e",
   "metadata": {},
   "outputs": [],
   "source": [
    "c_X = c_vectorizer.fit_transform(lemmatized_docs)"
   ]
  },
  {
   "cell_type": "code",
   "execution_count": 251,
   "id": "e656d492",
   "metadata": {},
   "outputs": [],
   "source": [
    "c_feature_names = c_vectorizer.get_feature_names_out()"
   ]
  },
  {
   "cell_type": "code",
   "execution_count": 252,
   "id": "6aa44819",
   "metadata": {},
   "outputs": [],
   "source": [
    "c_Xdense = c_X.toarray()"
   ]
  },
  {
   "cell_type": "code",
   "execution_count": 253,
   "id": "16f4427a",
   "metadata": {},
   "outputs": [],
   "source": [
    "c_df = pd.DataFrame(c_Xdense, columns = c_feature_names)"
   ]
  },
  {
   "cell_type": "code",
   "execution_count": 254,
   "id": "173915d2",
   "metadata": {},
   "outputs": [],
   "source": [
    "sum_scores = np.sum(c_Xdense, axis=0)"
   ]
  },
  {
   "cell_type": "code",
   "execution_count": 255,
   "id": "80136a9a",
   "metadata": {},
   "outputs": [],
   "source": [
    "count_df = pd.DataFrame({'word': c_feature_names, 'sum_score': sum_scores})"
   ]
  },
  {
   "cell_type": "code",
   "execution_count": 283,
   "id": "2866a03f",
   "metadata": {
    "scrolled": true
   },
   "outputs": [
    {
     "data": {
      "text/html": [
       "<div>\n",
       "<style scoped>\n",
       "    .dataframe tbody tr th:only-of-type {\n",
       "        vertical-align: middle;\n",
       "    }\n",
       "\n",
       "    .dataframe tbody tr th {\n",
       "        vertical-align: top;\n",
       "    }\n",
       "\n",
       "    .dataframe thead th {\n",
       "        text-align: right;\n",
       "    }\n",
       "</style>\n",
       "<table border=\"1\" class=\"dataframe\">\n",
       "  <thead>\n",
       "    <tr style=\"text-align: right;\">\n",
       "      <th></th>\n",
       "      <th>word</th>\n",
       "      <th>sum_score</th>\n",
       "    </tr>\n",
       "  </thead>\n",
       "  <tbody>\n",
       "    <tr>\n",
       "      <th>425</th>\n",
       "      <td>company</td>\n",
       "      <td>43102</td>\n",
       "    </tr>\n",
       "    <tr>\n",
       "      <th>685</th>\n",
       "      <td>earnings</td>\n",
       "      <td>42532</td>\n",
       "    </tr>\n",
       "    <tr>\n",
       "      <th>2481</th>\n",
       "      <td>year</td>\n",
       "      <td>39950</td>\n",
       "    </tr>\n",
       "    <tr>\n",
       "      <th>2142</th>\n",
       "      <td>stock</td>\n",
       "      <td>37897</td>\n",
       "    </tr>\n",
       "    <tr>\n",
       "      <th>1007</th>\n",
       "      <td>ha</td>\n",
       "      <td>36109</td>\n",
       "    </tr>\n",
       "  </tbody>\n",
       "</table>\n",
       "</div>"
      ],
      "text/plain": [
       "          word  sum_score\n",
       "425    company      43102\n",
       "685   earnings      42532\n",
       "2481      year      39950\n",
       "2142     stock      37897\n",
       "1007        ha      36109"
      ]
     },
     "execution_count": 283,
     "metadata": {},
     "output_type": "execute_result"
    }
   ],
   "source": [
    "count_df = count_df.sort_values(by='sum_score', ascending=False)\n",
    "count_df.head()"
   ]
  },
  {
   "cell_type": "code",
   "execution_count": 286,
   "id": "06bd363d",
   "metadata": {},
   "outputs": [
    {
     "data": {
      "text/plain": [
       "Text(0.5, 0, 'Count')"
      ]
     },
     "execution_count": 286,
     "metadata": {},
     "output_type": "execute_result"
    },
    {
     "data": {
      "image/png": "[encoded data removed]",
      "text/plain": [
       "<Figure size 640x480 with 1 Axes>"
      ]
     },
     "metadata": {},
     "output_type": "display_data"
    }
   ],
   "source": [
    "plt.barh(count_df['word'][0:10], count_df['sum_score'][0:10])\n",
    "plt.gca().invert_yaxis()\n",
    "plt.title('Most words used')\n",
    "plt.ylabel('Words')\n",
    "plt.xlabel('Count')"
   ]
  },
  {
   "cell_type": "code",
   "execution_count": null,
   "id": "2e7e0fbc",
   "metadata": {},
   "outputs": [],
   "source": []
  },
  {
   "cell_type": "code",
   "execution_count": 118,
   "id": "7db6d70e",
   "metadata": {},
   "outputs": [],
   "source": [
    "key_words = ['buy', 'sale', 'strong', 'beat', 'higher', 'increase', 'positive', 'gain', 'lower', 'trend', \n",
    "            'big', 'bullish', 'increased', 'potential', 'valuation', 'cost', 'decline', 'good', 'bearish',\n",
    "            'sell', 'major', 'loss', 'profit', 'low', 'growing', 'indicating', 'despite', 'leading', 'momentum',\n",
    "            'exposure', 'rising', 'grow', 'rise', 'solution', 'bad', 'worse', 'negative', 'poor']"
   ]
  },
  {
   "cell_type": "code",
   "execution_count": 257,
   "id": "c7720607",
   "metadata": {},
   "outputs": [],
   "source": [
    "c_df.to_csv('count_vectorizer_matrix.csv')"
   ]
  },
  {
   "cell_type": "code",
   "execution_count": 185,
   "id": "be364ed4",
   "metadata": {},
   "outputs": [
    {
     "data": {
      "text/html": [
       "<div>\n",
       "<style scoped>\n",
       "    .dataframe tbody tr th:only-of-type {\n",
       "        vertical-align: middle;\n",
       "    }\n",
       "\n",
       "    .dataframe tbody tr th {\n",
       "        vertical-align: top;\n",
       "    }\n",
       "\n",
       "    .dataframe thead th {\n",
       "        text-align: right;\n",
       "    }\n",
       "</style>\n",
       "<table border=\"1\" class=\"dataframe\">\n",
       "  <thead>\n",
       "    <tr style=\"text-align: right;\">\n",
       "      <th>word</th>\n",
       "      <th>aapl</th>\n",
       "      <th>ability</th>\n",
       "      <th>able</th>\n",
       "      <th>abnb</th>\n",
       "      <th>abr</th>\n",
       "      <th>absolutely</th>\n",
       "      <th>accelerate</th>\n",
       "      <th>accelerated</th>\n",
       "      <th>accelerating</th>\n",
       "      <th>acceleration</th>\n",
       "      <th>...</th>\n",
       "      <th>young</th>\n",
       "      <th>youre</th>\n",
       "      <th>youtube</th>\n",
       "      <th>youve</th>\n",
       "      <th>yoy</th>\n",
       "      <th>ytd</th>\n",
       "      <th>zacks</th>\n",
       "      <th>zackscom</th>\n",
       "      <th>zero</th>\n",
       "      <th>zoom</th>\n",
       "    </tr>\n",
       "  </thead>\n",
       "  <tbody>\n",
       "    <tr>\n",
       "      <th>sum_score</th>\n",
       "      <td>1914</td>\n",
       "      <td>1458</td>\n",
       "      <td>2049</td>\n",
       "      <td>606</td>\n",
       "      <td>339</td>\n",
       "      <td>352</td>\n",
       "      <td>682</td>\n",
       "      <td>549</td>\n",
       "      <td>395</td>\n",
       "      <td>277</td>\n",
       "      <td>...</td>\n",
       "      <td>236</td>\n",
       "      <td>2877</td>\n",
       "      <td>1004</td>\n",
       "      <td>762</td>\n",
       "      <td>477</td>\n",
       "      <td>303</td>\n",
       "      <td>28940</td>\n",
       "      <td>494</td>\n",
       "      <td>587</td>\n",
       "      <td>510</td>\n",
       "    </tr>\n",
       "  </tbody>\n",
       "</table>\n",
       "<p>1 rows × 2500 columns</p>\n",
       "</div>"
      ],
      "text/plain": [
       "word       aapl  ability  able  abnb  abr  absolutely  accelerate  \\\n",
       "sum_score  1914     1458  2049   606  339         352         682   \n",
       "\n",
       "word       accelerated  accelerating  acceleration  ...  young  youre  \\\n",
       "sum_score          549           395           277  ...    236   2877   \n",
       "\n",
       "word       youtube  youve  yoy  ytd  zacks  zackscom  zero  zoom  \n",
       "sum_score     1004    762  477  303  28940       494   587   510  \n",
       "\n",
       "[1 rows x 2500 columns]"
      ]
     },
     "execution_count": 185,
     "metadata": {},
     "output_type": "execute_result"
    }
   ],
   "source": [
    "count_df.set_index('word').T"
   ]
  },
  {
   "cell_type": "code",
   "execution_count": null,
   "id": "6660ade3",
   "metadata": {},
   "outputs": [],
   "source": []
  },
  {
   "cell_type": "code",
   "execution_count": null,
   "id": "c7a2a6d8",
   "metadata": {},
   "outputs": [],
   "source": []
  },
  {
   "cell_type": "markdown",
   "id": "713b2947",
   "metadata": {},
   "source": [
    "<h2>TFIDF Vectorizer"
   ]
  },
  {
   "cell_type": "code",
   "execution_count": 258,
   "id": "28156d56",
   "metadata": {},
   "outputs": [],
   "source": [
    "t_vectorizer = TfidfVectorizer(stop_words='english', max_features=2500)"
   ]
  },
  {
   "cell_type": "code",
   "execution_count": 259,
   "id": "31d45046",
   "metadata": {},
   "outputs": [],
   "source": [
    "X = t_vectorizer.fit_transform(lemmatized_docs)"
   ]
  },
  {
   "cell_type": "code",
   "execution_count": 260,
   "id": "84468073",
   "metadata": {},
   "outputs": [],
   "source": [
    "feature_names = t_vectorizer.get_feature_names_out()"
   ]
  },
  {
   "cell_type": "code",
   "execution_count": 261,
   "id": "23bf5780",
   "metadata": {},
   "outputs": [],
   "source": [
    "X_dense = X.todense()"
   ]
  },
  {
   "cell_type": "code",
   "execution_count": 262,
   "id": "87beb9ab",
   "metadata": {},
   "outputs": [],
   "source": [
    "df = pd.DataFrame(X_dense, columns=feature_names)"
   ]
  },
  {
   "cell_type": "code",
   "execution_count": 263,
   "id": "e0719a06",
   "metadata": {},
   "outputs": [
    {
     "data": {
      "text/html": [
       "<div>\n",
       "<style scoped>\n",
       "    .dataframe tbody tr th:only-of-type {\n",
       "        vertical-align: middle;\n",
       "    }\n",
       "\n",
       "    .dataframe tbody tr th {\n",
       "        vertical-align: top;\n",
       "    }\n",
       "\n",
       "    .dataframe thead th {\n",
       "        text-align: right;\n",
       "    }\n",
       "</style>\n",
       "<table border=\"1\" class=\"dataframe\">\n",
       "  <thead>\n",
       "    <tr style=\"text-align: right;\">\n",
       "      <th></th>\n",
       "      <th>aapl</th>\n",
       "      <th>ability</th>\n",
       "      <th>able</th>\n",
       "      <th>abnb</th>\n",
       "      <th>abr</th>\n",
       "      <th>absolutely</th>\n",
       "      <th>accelerate</th>\n",
       "      <th>accelerated</th>\n",
       "      <th>accelerating</th>\n",
       "      <th>acceleration</th>\n",
       "      <th>...</th>\n",
       "      <th>young</th>\n",
       "      <th>youre</th>\n",
       "      <th>youtube</th>\n",
       "      <th>youve</th>\n",
       "      <th>yoy</th>\n",
       "      <th>ytd</th>\n",
       "      <th>zacks</th>\n",
       "      <th>zackscom</th>\n",
       "      <th>zero</th>\n",
       "      <th>zoom</th>\n",
       "    </tr>\n",
       "  </thead>\n",
       "  <tbody>\n",
       "    <tr>\n",
       "      <th>0</th>\n",
       "      <td>0.032577</td>\n",
       "      <td>0.0</td>\n",
       "      <td>0.000000</td>\n",
       "      <td>0.0</td>\n",
       "      <td>0.0</td>\n",
       "      <td>0.0</td>\n",
       "      <td>0.0</td>\n",
       "      <td>0.0455</td>\n",
       "      <td>0.0</td>\n",
       "      <td>0.0</td>\n",
       "      <td>...</td>\n",
       "      <td>0.0</td>\n",
       "      <td>0.0</td>\n",
       "      <td>0.0</td>\n",
       "      <td>0.0</td>\n",
       "      <td>0.0</td>\n",
       "      <td>0.0</td>\n",
       "      <td>0.21039</td>\n",
       "      <td>0.0</td>\n",
       "      <td>0.0</td>\n",
       "      <td>0.0</td>\n",
       "    </tr>\n",
       "    <tr>\n",
       "      <th>1</th>\n",
       "      <td>0.031085</td>\n",
       "      <td>0.0</td>\n",
       "      <td>0.000000</td>\n",
       "      <td>0.0</td>\n",
       "      <td>0.0</td>\n",
       "      <td>0.0</td>\n",
       "      <td>0.0</td>\n",
       "      <td>0.0000</td>\n",
       "      <td>0.0</td>\n",
       "      <td>0.0</td>\n",
       "      <td>...</td>\n",
       "      <td>0.0</td>\n",
       "      <td>0.0</td>\n",
       "      <td>0.0</td>\n",
       "      <td>0.0</td>\n",
       "      <td>0.0</td>\n",
       "      <td>0.0</td>\n",
       "      <td>0.00000</td>\n",
       "      <td>0.0</td>\n",
       "      <td>0.0</td>\n",
       "      <td>0.0</td>\n",
       "    </tr>\n",
       "    <tr>\n",
       "      <th>2</th>\n",
       "      <td>0.041105</td>\n",
       "      <td>0.0</td>\n",
       "      <td>0.000000</td>\n",
       "      <td>0.0</td>\n",
       "      <td>0.0</td>\n",
       "      <td>0.0</td>\n",
       "      <td>0.0</td>\n",
       "      <td>0.0000</td>\n",
       "      <td>0.0</td>\n",
       "      <td>0.0</td>\n",
       "      <td>...</td>\n",
       "      <td>0.0</td>\n",
       "      <td>0.0</td>\n",
       "      <td>0.0</td>\n",
       "      <td>0.0</td>\n",
       "      <td>0.0</td>\n",
       "      <td>0.0</td>\n",
       "      <td>0.00000</td>\n",
       "      <td>0.0</td>\n",
       "      <td>0.0</td>\n",
       "      <td>0.0</td>\n",
       "    </tr>\n",
       "    <tr>\n",
       "      <th>3</th>\n",
       "      <td>0.048799</td>\n",
       "      <td>0.0</td>\n",
       "      <td>0.050857</td>\n",
       "      <td>0.0</td>\n",
       "      <td>0.0</td>\n",
       "      <td>0.0</td>\n",
       "      <td>0.0</td>\n",
       "      <td>0.0000</td>\n",
       "      <td>0.0</td>\n",
       "      <td>0.0</td>\n",
       "      <td>...</td>\n",
       "      <td>0.0</td>\n",
       "      <td>0.0</td>\n",
       "      <td>0.0</td>\n",
       "      <td>0.0</td>\n",
       "      <td>0.0</td>\n",
       "      <td>0.0</td>\n",
       "      <td>0.00000</td>\n",
       "      <td>0.0</td>\n",
       "      <td>0.0</td>\n",
       "      <td>0.0</td>\n",
       "    </tr>\n",
       "    <tr>\n",
       "      <th>4</th>\n",
       "      <td>0.042934</td>\n",
       "      <td>0.0</td>\n",
       "      <td>0.000000</td>\n",
       "      <td>0.0</td>\n",
       "      <td>0.0</td>\n",
       "      <td>0.0</td>\n",
       "      <td>0.0</td>\n",
       "      <td>0.0000</td>\n",
       "      <td>0.0</td>\n",
       "      <td>0.0</td>\n",
       "      <td>...</td>\n",
       "      <td>0.0</td>\n",
       "      <td>0.0</td>\n",
       "      <td>0.0</td>\n",
       "      <td>0.0</td>\n",
       "      <td>0.0</td>\n",
       "      <td>0.0</td>\n",
       "      <td>0.00000</td>\n",
       "      <td>0.0</td>\n",
       "      <td>0.0</td>\n",
       "      <td>0.0</td>\n",
       "    </tr>\n",
       "  </tbody>\n",
       "</table>\n",
       "<p>5 rows × 2500 columns</p>\n",
       "</div>"
      ],
      "text/plain": [
       "       aapl  ability      able  abnb  abr  absolutely  accelerate  \\\n",
       "0  0.032577      0.0  0.000000   0.0  0.0         0.0         0.0   \n",
       "1  0.031085      0.0  0.000000   0.0  0.0         0.0         0.0   \n",
       "2  0.041105      0.0  0.000000   0.0  0.0         0.0         0.0   \n",
       "3  0.048799      0.0  0.050857   0.0  0.0         0.0         0.0   \n",
       "4  0.042934      0.0  0.000000   0.0  0.0         0.0         0.0   \n",
       "\n",
       "   accelerated  accelerating  acceleration  ...  young  youre  youtube  youve  \\\n",
       "0       0.0455           0.0           0.0  ...    0.0    0.0      0.0    0.0   \n",
       "1       0.0000           0.0           0.0  ...    0.0    0.0      0.0    0.0   \n",
       "2       0.0000           0.0           0.0  ...    0.0    0.0      0.0    0.0   \n",
       "3       0.0000           0.0           0.0  ...    0.0    0.0      0.0    0.0   \n",
       "4       0.0000           0.0           0.0  ...    0.0    0.0      0.0    0.0   \n",
       "\n",
       "   yoy  ytd    zacks  zackscom  zero  zoom  \n",
       "0  0.0  0.0  0.21039       0.0   0.0   0.0  \n",
       "1  0.0  0.0  0.00000       0.0   0.0   0.0  \n",
       "2  0.0  0.0  0.00000       0.0   0.0   0.0  \n",
       "3  0.0  0.0  0.00000       0.0   0.0   0.0  \n",
       "4  0.0  0.0  0.00000       0.0   0.0   0.0  \n",
       "\n",
       "[5 rows x 2500 columns]"
      ]
     },
     "execution_count": 263,
     "metadata": {},
     "output_type": "execute_result"
    }
   ],
   "source": [
    "df.head()"
   ]
  },
  {
   "cell_type": "code",
   "execution_count": 192,
   "id": "b79c1870",
   "metadata": {},
   "outputs": [
    {
     "data": {
      "text/html": [
       "<div>\n",
       "<style scoped>\n",
       "    .dataframe tbody tr th:only-of-type {\n",
       "        vertical-align: middle;\n",
       "    }\n",
       "\n",
       "    .dataframe tbody tr th {\n",
       "        vertical-align: top;\n",
       "    }\n",
       "\n",
       "    .dataframe thead th {\n",
       "        text-align: right;\n",
       "    }\n",
       "</style>\n",
       "<table border=\"1\" class=\"dataframe\">\n",
       "  <thead>\n",
       "    <tr style=\"text-align: right;\">\n",
       "      <th></th>\n",
       "      <th>0</th>\n",
       "    </tr>\n",
       "  </thead>\n",
       "  <tbody>\n",
       "    <tr>\n",
       "      <th>revenue</th>\n",
       "      <td>0.260513</td>\n",
       "    </tr>\n",
       "    <tr>\n",
       "      <th>million</th>\n",
       "      <td>0.255483</td>\n",
       "    </tr>\n",
       "    <tr>\n",
       "      <th>year</th>\n",
       "      <td>0.249439</td>\n",
       "    </tr>\n",
       "    <tr>\n",
       "      <th>declined</th>\n",
       "      <td>0.226630</td>\n",
       "    </tr>\n",
       "    <tr>\n",
       "      <th>energy</th>\n",
       "      <td>0.217174</td>\n",
       "    </tr>\n",
       "    <tr>\n",
       "      <th>zacks</th>\n",
       "      <td>0.209786</td>\n",
       "    </tr>\n",
       "    <tr>\n",
       "      <th>sequentially</th>\n",
       "      <td>0.209709</td>\n",
       "    </tr>\n",
       "    <tr>\n",
       "      <th>nongaap</th>\n",
       "      <td>0.204153</td>\n",
       "    </tr>\n",
       "    <tr>\n",
       "      <th>advanced</th>\n",
       "      <td>0.202925</td>\n",
       "    </tr>\n",
       "    <tr>\n",
       "      <th>consensus</th>\n",
       "      <td>0.140503</td>\n",
       "    </tr>\n",
       "    <tr>\n",
       "      <th>bps</th>\n",
       "      <td>0.138936</td>\n",
       "    </tr>\n",
       "    <tr>\n",
       "      <th>server</th>\n",
       "      <td>0.129174</td>\n",
       "    </tr>\n",
       "    <tr>\n",
       "      <th>aug</th>\n",
       "      <td>0.124488</td>\n",
       "    </tr>\n",
       "    <tr>\n",
       "      <th>figure</th>\n",
       "      <td>0.124399</td>\n",
       "    </tr>\n",
       "    <tr>\n",
       "      <th>quarter</th>\n",
       "      <td>0.111745</td>\n",
       "    </tr>\n",
       "    <tr>\n",
       "      <th>basis</th>\n",
       "      <td>0.111265</td>\n",
       "    </tr>\n",
       "    <tr>\n",
       "      <th>increased</th>\n",
       "      <td>0.110648</td>\n",
       "    </tr>\n",
       "    <tr>\n",
       "      <th>secondquarter</th>\n",
       "      <td>0.105102</td>\n",
       "    </tr>\n",
       "    <tr>\n",
       "      <th>market</th>\n",
       "      <td>0.103555</td>\n",
       "    </tr>\n",
       "    <tr>\n",
       "      <th>estimate</th>\n",
       "      <td>0.102808</td>\n",
       "    </tr>\n",
       "    <tr>\n",
       "      <th>total</th>\n",
       "      <td>0.102516</td>\n",
       "    </tr>\n",
       "    <tr>\n",
       "      <th>cent</th>\n",
       "      <td>0.101763</td>\n",
       "    </tr>\n",
       "    <tr>\n",
       "      <th>ai</th>\n",
       "      <td>0.101393</td>\n",
       "    </tr>\n",
       "    <tr>\n",
       "      <th>medical</th>\n",
       "      <td>0.098729</td>\n",
       "    </tr>\n",
       "    <tr>\n",
       "      <th>demand</th>\n",
       "      <td>0.098395</td>\n",
       "    </tr>\n",
       "    <tr>\n",
       "      <th>attributed</th>\n",
       "      <td>0.097776</td>\n",
       "    </tr>\n",
       "    <tr>\n",
       "      <th>application</th>\n",
       "      <td>0.095041</td>\n",
       "    </tr>\n",
       "    <tr>\n",
       "      <th>share</th>\n",
       "      <td>0.091720</td>\n",
       "    </tr>\n",
       "    <tr>\n",
       "      <th>date</th>\n",
       "      <td>0.090176</td>\n",
       "    </tr>\n",
       "    <tr>\n",
       "      <th>cash</th>\n",
       "      <td>0.088472</td>\n",
       "    </tr>\n",
       "  </tbody>\n",
       "</table>\n",
       "</div>"
      ],
      "text/plain": [
       "                      0\n",
       "revenue        0.260513\n",
       "million        0.255483\n",
       "year           0.249439\n",
       "declined       0.226630\n",
       "energy         0.217174\n",
       "zacks          0.209786\n",
       "sequentially   0.209709\n",
       "nongaap        0.204153\n",
       "advanced       0.202925\n",
       "consensus      0.140503\n",
       "bps            0.138936\n",
       "server         0.129174\n",
       "aug            0.124488\n",
       "figure         0.124399\n",
       "quarter        0.111745\n",
       "basis          0.111265\n",
       "increased      0.110648\n",
       "secondquarter  0.105102\n",
       "market         0.103555\n",
       "estimate       0.102808\n",
       "total          0.102516\n",
       "cent           0.101763\n",
       "ai             0.101393\n",
       "medical        0.098729\n",
       "demand         0.098395\n",
       "attributed     0.097776\n",
       "application    0.095041\n",
       "share          0.091720\n",
       "date           0.090176\n",
       "cash           0.088472"
      ]
     },
     "execution_count": 192,
     "metadata": {},
     "output_type": "execute_result"
    }
   ],
   "source": [
    "row = X[0]\n",
    "non_zero_indices = row.nonzero()[1]\n",
    "tfidf_scores = row[0, non_zero_indices]\n",
    "words_with_scores = {feature_names[idx]: tfidf_scores[0, i] for i, idx in enumerate(non_zero_indices)}\n",
    "pd.DataFrame([words_with_scores]).T.sort_values(by=0, ascending=False).head(30)"
   ]
  },
  {
   "cell_type": "code",
   "execution_count": 193,
   "id": "a774bcd1",
   "metadata": {},
   "outputs": [],
   "source": [
    "mean_tfidf_scores = np.mean(X.toarray(), axis=0)"
   ]
  },
  {
   "cell_type": "code",
   "execution_count": 194,
   "id": "2a396b71",
   "metadata": {},
   "outputs": [],
   "source": [
    "tfidf_df = pd.DataFrame({'word': feature_names, 'mean_score': mean_tfidf_scores})"
   ]
  },
  {
   "cell_type": "code",
   "execution_count": 195,
   "id": "752371cd",
   "metadata": {},
   "outputs": [],
   "source": [
    "tfidf_df = tfidf_df.sort_values('mean_score', ascending = False)"
   ]
  },
  {
   "cell_type": "code",
   "execution_count": 275,
   "id": "b2c6fa26",
   "metadata": {
    "scrolled": false
   },
   "outputs": [
    {
     "data": {
      "text/html": [
       "<div>\n",
       "<style scoped>\n",
       "    .dataframe tbody tr th:only-of-type {\n",
       "        vertical-align: middle;\n",
       "    }\n",
       "\n",
       "    .dataframe tbody tr th {\n",
       "        vertical-align: top;\n",
       "    }\n",
       "\n",
       "    .dataframe thead th {\n",
       "        text-align: right;\n",
       "    }\n",
       "</style>\n",
       "<table border=\"1\" class=\"dataframe\">\n",
       "  <thead>\n",
       "    <tr style=\"text-align: right;\">\n",
       "      <th></th>\n",
       "      <th>word</th>\n",
       "      <th>mean_score</th>\n",
       "    </tr>\n",
       "  </thead>\n",
       "  <tbody>\n",
       "    <tr>\n",
       "      <th>685</th>\n",
       "      <td>earnings</td>\n",
       "      <td>0.071928</td>\n",
       "    </tr>\n",
       "    <tr>\n",
       "      <th>2496</th>\n",
       "      <td>zacks</td>\n",
       "      <td>0.065156</td>\n",
       "    </tr>\n",
       "    <tr>\n",
       "      <th>2138</th>\n",
       "      <td>stock</td>\n",
       "      <td>0.054455</td>\n",
       "    </tr>\n",
       "    <tr>\n",
       "      <th>427</th>\n",
       "      <td>company</td>\n",
       "      <td>0.052494</td>\n",
       "    </tr>\n",
       "    <tr>\n",
       "      <th>2481</th>\n",
       "      <td>year</td>\n",
       "      <td>0.049795</td>\n",
       "    </tr>\n",
       "    <tr>\n",
       "      <th>1856</th>\n",
       "      <td>report</td>\n",
       "      <td>0.045976</td>\n",
       "    </tr>\n",
       "    <tr>\n",
       "      <th>1008</th>\n",
       "      <td>ha</td>\n",
       "      <td>0.045018</td>\n",
       "    </tr>\n",
       "    <tr>\n",
       "      <th>1346</th>\n",
       "      <td>market</td>\n",
       "      <td>0.044887</td>\n",
       "    </tr>\n",
       "    <tr>\n",
       "      <th>761</th>\n",
       "      <td>estimate</td>\n",
       "      <td>0.043932</td>\n",
       "    </tr>\n",
       "    <tr>\n",
       "      <th>1756</th>\n",
       "      <td>quarter</td>\n",
       "      <td>0.040944</td>\n",
       "    </tr>\n",
       "  </tbody>\n",
       "</table>\n",
       "</div>"
      ],
      "text/plain": [
       "          word  mean_score\n",
       "685   earnings    0.071928\n",
       "2496     zacks    0.065156\n",
       "2138     stock    0.054455\n",
       "427    company    0.052494\n",
       "2481      year    0.049795\n",
       "1856    report    0.045976\n",
       "1008        ha    0.045018\n",
       "1346    market    0.044887\n",
       "761   estimate    0.043932\n",
       "1756   quarter    0.040944"
      ]
     },
     "execution_count": 275,
     "metadata": {},
     "output_type": "execute_result"
    }
   ],
   "source": [
    "tfidf_df[0:10]"
   ]
  },
  {
   "cell_type": "code",
   "execution_count": 281,
   "id": "91ad9690",
   "metadata": {},
   "outputs": [
    {
     "data": {
      "text/plain": [
       "Text(0.5, 0, 'TFIDF Mean Score')"
      ]
     },
     "execution_count": 281,
     "metadata": {},
     "output_type": "execute_result"
    },
    {
     "data": {
      "image/png": "[encoded data removed]",
      "text/plain": [
       "<Figure size 640x480 with 1 Axes>"
      ]
     },
     "metadata": {},
     "output_type": "display_data"
    }
   ],
   "source": [
    "plt.barh(tfidf_df['word'][0:10], tfidf_df['mean_score'][0:10])\n",
    "plt.gca().invert_yaxis()\n",
    "plt.title('Top scoring TFIDF words')\n",
    "plt.ylabel('Words')\n",
    "plt.xlabel('TFIDF Mean Score')"
   ]
  },
  {
   "cell_type": "code",
   "execution_count": 264,
   "id": "c8e73f1d",
   "metadata": {},
   "outputs": [],
   "source": [
    "from vaderSentiment.vaderSentiment import SentimentIntensityAnalyzer"
   ]
  },
  {
   "cell_type": "code",
   "execution_count": 265,
   "id": "608e6354",
   "metadata": {},
   "outputs": [],
   "source": [
    "analyzer = SentimentIntensityAnalyzer()\n",
    "def get_sentiment(text):\n",
    "    return analyzer.polarity_scores(text)['compound']\n"
   ]
  },
  {
   "cell_type": "code",
   "execution_count": 266,
   "id": "71c38884",
   "metadata": {},
   "outputs": [
    {
     "name": "stderr",
     "output_type": "stream",
     "text": [
      "100%|█████████████████████████████| 9604/9604 [03:33<00:00, 45.02it/s]\n"
     ]
    }
   ],
   "source": [
    "new_master_df['overall_cleaned_sentiment'] = [get_sentiment(doc) for doc in tqdm(lemmatized_docs)]"
   ]
  },
  {
   "cell_type": "code",
   "execution_count": 79,
   "id": "b6303528",
   "metadata": {},
   "outputs": [
    {
     "name": "stderr",
     "output_type": "stream",
     "text": [
      "100%|███████████████████████████████| 8156/8156 [02:23<00:00, 56.78it/s]\n"
     ]
    }
   ],
   "source": [
    "new_master_df['uncleaned_sentiment'] = [get_sentiment(doc) for doc in tqdm(new_master_df['article'])]"
   ]
  },
  {
   "cell_type": "code",
   "execution_count": 267,
   "id": "c015e784",
   "metadata": {},
   "outputs": [
    {
     "data": {
      "text/html": [
       "<div>\n",
       "<style scoped>\n",
       "    .dataframe tbody tr th:only-of-type {\n",
       "        vertical-align: middle;\n",
       "    }\n",
       "\n",
       "    .dataframe tbody tr th {\n",
       "        vertical-align: top;\n",
       "    }\n",
       "\n",
       "    .dataframe thead th {\n",
       "        text-align: right;\n",
       "    }\n",
       "</style>\n",
       "<table border=\"1\" class=\"dataframe\">\n",
       "  <thead>\n",
       "    <tr style=\"text-align: right;\">\n",
       "      <th></th>\n",
       "      <th>title</th>\n",
       "      <th>url</th>\n",
       "      <th>time_published</th>\n",
       "      <th>authors</th>\n",
       "      <th>source</th>\n",
       "      <th>source_domain</th>\n",
       "      <th>overall_sentiment_score</th>\n",
       "      <th>overall_sentiment_label</th>\n",
       "      <th>ticker</th>\n",
       "      <th>article</th>\n",
       "      <th>overall_cleaned_sentiment</th>\n",
       "    </tr>\n",
       "  </thead>\n",
       "  <tbody>\n",
       "    <tr>\n",
       "      <th>0</th>\n",
       "      <td>Advanced Energy Q2 Earnings Top Estimates, Rev...</td>\n",
       "      <td>https://www.benzinga.com/news/earnings/24/07/4...</td>\n",
       "      <td>20240731T201919</td>\n",
       "      <td>['Zacks']</td>\n",
       "      <td>Benzinga</td>\n",
       "      <td>www.benzinga.com</td>\n",
       "      <td>0.126429</td>\n",
       "      <td>Neutral</td>\n",
       "      <td>AAPL</td>\n",
       "      <td>Advanced Energy Industries AEIS reported non-G...</td>\n",
       "      <td>0.9981</td>\n",
       "    </tr>\n",
       "    <tr>\n",
       "      <th>1</th>\n",
       "      <td>Oversold Condition And China Loophole Overpowe...</td>\n",
       "      <td>https://www.benzinga.com/markets/asia/24/07/40...</td>\n",
       "      <td>20240731T153854</td>\n",
       "      <td>['The Arora Report']</td>\n",
       "      <td>Benzinga</td>\n",
       "      <td>www.benzinga.com</td>\n",
       "      <td>0.204111</td>\n",
       "      <td>Somewhat-Bullish</td>\n",
       "      <td>AAPL</td>\n",
       "      <td>To gain an edge, this is what you need to know...</td>\n",
       "      <td>0.9464</td>\n",
       "    </tr>\n",
       "    <tr>\n",
       "      <th>2</th>\n",
       "      <td>T-Mobile's Q2 Earnings: Net Postpaid Adds, Rec...</td>\n",
       "      <td>https://www.benzinga.com/news/earnings/24/07/4...</td>\n",
       "      <td>20240731T125206</td>\n",
       "      <td>['Anusuya Lahiri']</td>\n",
       "      <td>Benzinga</td>\n",
       "      <td>www.benzinga.com</td>\n",
       "      <td>0.211757</td>\n",
       "      <td>Somewhat-Bullish</td>\n",
       "      <td>AAPL</td>\n",
       "      <td>T-Mobile US, Inc TMUS reported its second-quar...</td>\n",
       "      <td>0.9875</td>\n",
       "    </tr>\n",
       "    <tr>\n",
       "      <th>3</th>\n",
       "      <td>Epic Games' Tim Sweeney Slams Apple's 'Find My...</td>\n",
       "      <td>https://www.benzinga.com/news/24/07/40066966/e...</td>\n",
       "      <td>20240731T123649</td>\n",
       "      <td>['Rounak Jain']</td>\n",
       "      <td>Benzinga</td>\n",
       "      <td>www.benzinga.com</td>\n",
       "      <td>-0.095462</td>\n",
       "      <td>Neutral</td>\n",
       "      <td>AAPL</td>\n",
       "      <td>Tim Sweeney, the CEO of Epic Games, has public...</td>\n",
       "      <td>-0.9020</td>\n",
       "    </tr>\n",
       "    <tr>\n",
       "      <th>4</th>\n",
       "      <td>Bitcoin, Ethereum, Dogecoin Slide As Mt. Gox M...</td>\n",
       "      <td>https://www.benzinga.com/markets/cryptocurrenc...</td>\n",
       "      <td>20240731T030145</td>\n",
       "      <td>['Aniket Verma']</td>\n",
       "      <td>Benzinga</td>\n",
       "      <td>www.benzinga.com</td>\n",
       "      <td>0.002398</td>\n",
       "      <td>Neutral</td>\n",
       "      <td>AAPL</td>\n",
       "      <td>Leading cryptocurrencies edged lower Tuesday a...</td>\n",
       "      <td>0.5256</td>\n",
       "    </tr>\n",
       "  </tbody>\n",
       "</table>\n",
       "</div>"
      ],
      "text/plain": [
       "                                               title  \\\n",
       "0  Advanced Energy Q2 Earnings Top Estimates, Rev...   \n",
       "1  Oversold Condition And China Loophole Overpowe...   \n",
       "2  T-Mobile's Q2 Earnings: Net Postpaid Adds, Rec...   \n",
       "3  Epic Games' Tim Sweeney Slams Apple's 'Find My...   \n",
       "4  Bitcoin, Ethereum, Dogecoin Slide As Mt. Gox M...   \n",
       "\n",
       "                                                 url   time_published  \\\n",
       "0  https://www.benzinga.com/news/earnings/24/07/4...  20240731T201919   \n",
       "1  https://www.benzinga.com/markets/asia/24/07/40...  20240731T153854   \n",
       "2  https://www.benzinga.com/news/earnings/24/07/4...  20240731T125206   \n",
       "3  https://www.benzinga.com/news/24/07/40066966/e...  20240731T123649   \n",
       "4  https://www.benzinga.com/markets/cryptocurrenc...  20240731T030145   \n",
       "\n",
       "                authors    source     source_domain  overall_sentiment_score  \\\n",
       "0             ['Zacks']  Benzinga  www.benzinga.com                 0.126429   \n",
       "1  ['The Arora Report']  Benzinga  www.benzinga.com                 0.204111   \n",
       "2    ['Anusuya Lahiri']  Benzinga  www.benzinga.com                 0.211757   \n",
       "3       ['Rounak Jain']  Benzinga  www.benzinga.com                -0.095462   \n",
       "4      ['Aniket Verma']  Benzinga  www.benzinga.com                 0.002398   \n",
       "\n",
       "  overall_sentiment_label ticker  \\\n",
       "0                 Neutral   AAPL   \n",
       "1        Somewhat-Bullish   AAPL   \n",
       "2        Somewhat-Bullish   AAPL   \n",
       "3                 Neutral   AAPL   \n",
       "4                 Neutral   AAPL   \n",
       "\n",
       "                                             article  \\\n",
       "0  Advanced Energy Industries AEIS reported non-G...   \n",
       "1  To gain an edge, this is what you need to know...   \n",
       "2  T-Mobile US, Inc TMUS reported its second-quar...   \n",
       "3  Tim Sweeney, the CEO of Epic Games, has public...   \n",
       "4  Leading cryptocurrencies edged lower Tuesday a...   \n",
       "\n",
       "   overall_cleaned_sentiment  \n",
       "0                     0.9981  \n",
       "1                     0.9464  \n",
       "2                     0.9875  \n",
       "3                    -0.9020  \n",
       "4                     0.5256  "
      ]
     },
     "execution_count": 267,
     "metadata": {},
     "output_type": "execute_result"
    }
   ],
   "source": [
    "new_master_df.head()"
   ]
  },
  {
   "cell_type": "code",
   "execution_count": 268,
   "id": "5104ced0",
   "metadata": {},
   "outputs": [],
   "source": [
    "new_master_df.to_csv('articles_with_sentiment.csv')\n",
    "\n"
   ]
  },
  {
   "cell_type": "code",
   "execution_count": 269,
   "id": "e02dce0d",
   "metadata": {},
   "outputs": [],
   "source": [
    "df.to_csv('tfidf_sparse_matrix.csv')"
   ]
  },
  {
   "cell_type": "code",
   "execution_count": 273,
   "id": "4a987329",
   "metadata": {},
   "outputs": [
    {
     "data": {
      "text/plain": [
       "28"
      ]
     },
     "execution_count": 273,
     "metadata": {},
     "output_type": "execute_result"
    }
   ],
   "source": [
    "len(new_master_df['ticker'].unique())"
   ]
  },
  {
   "cell_type": "code",
   "execution_count": 297,
   "id": "67e614ec",
   "metadata": {},
   "outputs": [
    {
     "data": {
      "text/plain": [
       "ticker\n",
       "AAPL    35\n",
       "TSLA    34\n",
       "AMD     20\n",
       "BABA    19\n",
       "CRWD    18\n",
       "NVDA    16\n",
       "AVGO    15\n",
       "MSFT    15\n",
       "CSCO    13\n",
       "NFLX    12\n",
       "META    12\n",
       "UBER    11\n",
       "PYPL    11\n",
       "MU      10\n",
       "ABNB    10\n",
       "TSM     10\n",
       "SPOT     9\n",
       "SHOP     9\n",
       "GOOG     9\n",
       "QCOM     9\n",
       "INTU     7\n",
       "ADBE     7\n",
       "PLTR     4\n",
       "ORCL     3\n",
       "IBM      2\n",
       "ADP      2\n",
       "DELL     1\n",
       "Name: count, dtype: int64"
      ]
     },
     "execution_count": 297,
     "metadata": {},
     "output_type": "execute_result"
    }
   ],
   "source": [
    "pd.set_option('display.max_colwidth', None)\n",
    "new_master_df[new_master_df['overall_cleaned_sentiment'] < 0]['ticker'].value_counts()"
   ]
  },
  {
   "cell_type": "code",
   "execution_count": null,
   "id": "4eb36946",
   "metadata": {},
   "outputs": [],
   "source": []
  }
 ],
 "metadata": {
  "kernelspec": {
   "display_name": "Python 3 (ipykernel)",
   "language": "python",
   "name": "python3"
  },
  "language_info": {
   "codemirror_mode": {
    "name": "ipython",
    "version": 3
   },
   "file_extension": ".py",
   "mimetype": "text/x-python",
   "name": "python",
   "nbconvert_exporter": "python",
   "pygments_lexer": "ipython3",
   "version": "3.11.5"
  }
 },
 "nbformat": 4,
 "nbformat_minor": 5
}
