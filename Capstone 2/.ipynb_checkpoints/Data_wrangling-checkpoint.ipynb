{
 "cells": [
  {
   "cell_type": "code",
   "execution_count": 1,
   "id": "5e849f58",
   "metadata": {},
   "outputs": [],
   "source": [
    "import pandas as pd\n",
    "import numpy as np\n",
    "import requests\n",
    "from datetime import datetime\n",
    "import requests\n",
    "from bs4 import BeautifulSoup\n",
    "import time\n",
    "from tqdm import tqdm\n",
    "from http.client import RemoteDisconnected"
   ]
  },
  {
   "cell_type": "code",
   "execution_count": 32,
   "id": "fcacacb9",
   "metadata": {},
   "outputs": [],
   "source": [
    "class Benzinga:\n",
    "    \n",
    "    def __init__(self):\n",
    "        self.div = [\"sc-cVuPSX\", \"cwFmwT\", \"article-content-body-only\"]\n",
    "        self.soup = None\n",
    "        self.session = requests.Session()\n",
    "        self.header = {\"User-Agent\": \"Mozilla/5.0 (Windows NT 10.0; Win64; x64) AppleWebKit/537.36 (KHTML, like Gecko) Chrome/114.0.0.0 Safari/537.36\",\n",
    "    \"Accept\": \"text/html,application/xhtml+xml,application/xml;q=0.9,image/webp,*/*;q=0.8\",\n",
    "    \"Accept-Language\": \"en-US,en;q=0.5\",\n",
    "    \"Accept-Encoding\": \"gzip, deflate, br\",\n",
    "    \"Connection\": \"keep-alive\",\n",
    "    \"Upgrade-Insecure-Requests\": \"1\",\n",
    "    \"DNT\": \"1\",  # Do Not Track Request Header\n",
    "    \"Referer\": \"https://www.google.com\",  # Sometimes useful to mimic where the request is coming from\n",
    "    \"Sec-Fetch-Dest\": \"document\",\n",
    "    \"Sec-Fetch-Mode\": \"navigate\",\n",
    "    \"Sec-Fetch-Site\": \"same-origin\",\n",
    "    \"Sec-Fetch-User\": \"?1\"}\n",
    "        self.max_retries = 3\n",
    "        self.retry_delay = 20\n",
    "        \n",
    "    def create_soup(self, url):\n",
    "        retries = 0\n",
    "        while retries < self.max_retries:\n",
    "            try:\n",
    "                response = self.session.get(url, headers=self.header)\n",
    "\n",
    "                # Check for rate-limiting\n",
    "                if response.status_code == 429:\n",
    "                    print(f\"Rate limit reached. Waiting {self.retry_delay} seconds before retrying...\")\n",
    "                    self.soup = 'rate limit reached'\n",
    "                    return 'rate_limit_reached'\n",
    "                    \n",
    "                if response.status_code == 404:\n",
    "                    print('Page not found (404). Returning empty string')\n",
    "                    self.soup = ''\n",
    "                    return ''\n",
    "                \n",
    "                # Raise an exception for other status codes like 500, 404, etc.\n",
    "                response.raise_for_status()\n",
    "\n",
    "                # If successful, parse the content\n",
    "                self.soup = BeautifulSoup(response.content, 'html.parser')\n",
    "                break  # Break out of the loop after a successful request\n",
    "\n",
    "            except requests.exceptions.HTTPError as http_err:\n",
    "                print(f\"HTTP error occurred: {http_err}\")\n",
    "                retries += 1\n",
    "                if retries >= self.max_retries:\n",
    "                    print(\"Max retries reached. Exiting.\")\n",
    "                    self.soup = 'Max retries'\n",
    "                    return 'Max retries'\n",
    "            except RemoteDisconnected as rd_err:\n",
    "                print(f\"RemoteDisconnected error: {rd_err}\")\n",
    "                print(f\"Waiting {self.retry_delay} seconds before retrying...\")\n",
    "                time.sleep(self.retry_delay)  # Wait and retry\n",
    "                retries += 1\n",
    "                if retries >= self.max_retries:\n",
    "                    print(\"Max retries reached for RemoteDisconnected error. Exiting.\")\n",
    "                    self.soup = 'RemoteDisconnected'\n",
    "                    return 'RemoteDisconnected'\n",
    "            except requests.exceptions.ConnectionError as conn_err:\n",
    "                print(f\"Connection error: {conn_err}\")\n",
    "                print(f\"Waiting {self.retry_delay} seconds before retrying...\")\n",
    "                time.sleep(self.retry_delay)  # Wait and retry\n",
    "                retries += 1\n",
    "                if retries >= self.max_retries:\n",
    "                    print(\"Max retries reached for Connection error. Exiting.\")\n",
    "                    self.soup = 'connection error'\n",
    "                    return 'connection error'\n",
    "            except Exception as err:\n",
    "                print(f\"Other error occurred: {err}\")\n",
    "                raise  # Raise other exceptions immediately\n",
    "        \n",
    "    def get_article(self):\n",
    "        article = ''\n",
    "        if isinstance(self.soup, str):\n",
    "            return ''\n",
    "        div_tag = self.soup.find('div', class_ = self.div)\n",
    "        if div_tag:\n",
    "            p_tags = div_tag.find_all('p')\n",
    "            for p in p_tags:\n",
    "                article += p.get_text() + ' '\n",
    "            return article\n",
    "        else: return ''\n",
    "            \n",
    "    def fit(self, url):\n",
    "        self.create_soup(url)\n",
    "        article = self.get_article()\n",
    "        return article\n",
    "    \n",
    "class Zack:\n",
    "    \n",
    "    def __init__(self):\n",
    "        self.div = [\"commentary_body\"]\n",
    "        self.header = {\"User-Agent\": \"Mozilla/5.0 (Windows NT 10.0; Win64; x64) AppleWebKit/537.36 (KHTML, like Gecko) Chrome/114.0.0.0 Safari/537.36\",\n",
    "    \"Accept\": \"text/html,application/xhtml+xml,application/xml;q=0.9,image/webp,*/*;q=0.8\",\n",
    "    \"Accept-Language\": \"en-US,en;q=0.5\",\n",
    "    \"Accept-Encoding\": \"gzip, deflate, br\",\n",
    "    \"Connection\": \"keep-alive\",\n",
    "    \"Upgrade-Insecure-Requests\": \"1\",\n",
    "    \"DNT\": \"1\",  # Do Not Track Request Header\n",
    "    \"Referer\": \"https://www.google.com\",  # Sometimes useful to mimic where the request is coming from\n",
    "    \"Sec-Fetch-Dest\": \"document\",\n",
    "    \"Sec-Fetch-Mode\": \"navigate\",\n",
    "    \"Sec-Fetch-Site\": \"same-origin\",\n",
    "    \"Sec-Fetch-User\": \"?1\"}\n",
    "        self.soup = None\n",
    "        self.session = requests.Session()\n",
    "        self.max_retries = 3\n",
    "        self.retry_delay = 20\n",
    "        \n",
    "    def create_soup(self, url):\n",
    "        retries = 0\n",
    "        while retries < self.max_retries:\n",
    "            try:\n",
    "                response = self.session.get(url, headers = self.header)\n",
    "\n",
    "                # Check for rate-limiting\n",
    "                if response.status_code == 429:\n",
    "                    print(f\"Rate limit reached. Waiting {self.retry_delay} seconds before retrying...\")\n",
    "                    self.soup = 'rate limit reached'\n",
    "                    return 'rate_limit_reached'\n",
    "                    \n",
    "                if response.status_code == 404:\n",
    "                    print('Page not found (404). Returning empty string')\n",
    "                    self.soup = ''\n",
    "                    return ''\n",
    "                \n",
    "                # Raise an exception for other status codes like 500, 404, etc.\n",
    "                response.raise_for_status()\n",
    "\n",
    "                # If successful, parse the content\n",
    "                self.soup = BeautifulSoup(response.content, 'html.parser')\n",
    "                break  # Break out of the loop after a successful request\n",
    "\n",
    "            except requests.exceptions.HTTPError as http_err:\n",
    "                print(f\"HTTP error occurred: {http_err}\")\n",
    "                retries += 1\n",
    "                if retries >= self.max_retries:\n",
    "                    print(\"Max retries reached. Exiting.\")\n",
    "                    self.soup = 'Max retries'\n",
    "                    return 'Max retries'\n",
    "            except RemoteDisconnected as rd_err:\n",
    "                print(f\"RemoteDisconnected error: {rd_err}\")\n",
    "                print(f\"Waiting {self.retry_delay} seconds before retrying...\")\n",
    "                time.sleep(self.retry_delay)  # Wait and retry\n",
    "                retries += 1\n",
    "                if retries >= self.max_retries:\n",
    "                    print(\"Max retries reached for RemoteDisconnected error. Exiting.\")\n",
    "                    self.soup = 'RemoteDisconnected'\n",
    "                    return 'RemoteDisconnected'\n",
    "            except requests.exceptions.ConnectionError as conn_err:\n",
    "                print(f\"Connection error: {conn_err}\")\n",
    "                print(f\"Waiting {self.retry_delay} seconds before retrying...\")\n",
    "                time.sleep(self.retry_delay)  # Wait and retry\n",
    "                retries += 1\n",
    "                if retries >= self.max_retries:\n",
    "                    print(\"Max retries reached for Connection error. Exiting.\")\n",
    "                    self.soup = 'connection error'\n",
    "                    return 'connection error'\n",
    "            except Exception as err:\n",
    "                print(f\"Other error occurred: {err}\")\n",
    "                raise  # Raise other exceptions immediately\n",
    "        \n",
    "    def get_article(self):\n",
    "        article = ''\n",
    "        if isinstance(self.soup, str):\n",
    "            return ''\n",
    "        div_tag = self.soup.find('div', class_ = self.div)\n",
    "        if div_tag:\n",
    "            p_tags = div_tag.find_all('p')\n",
    "            for p in p_tags:\n",
    "                article += p.get_text() + ' '\n",
    "            return article\n",
    "        else: return ''\n",
    "            \n",
    "    def fit(self, url):\n",
    "        self.create_soup(url)\n",
    "        article = self.get_article()\n",
    "        return article\n",
    "    \n",
    "class Fool:\n",
    "    \n",
    "    def __init__(self):\n",
    "        self.div = [\"article-body\"]\n",
    "        self.soup = None\n",
    "        self.session = requests.Session()\n",
    "        self.max_retries = 3\n",
    "        self.retry_delay = 20\n",
    "        \n",
    "    def create_soup(self, url):\n",
    "        retries = 0\n",
    "        while retries < self.max_retries:\n",
    "            try:\n",
    "                response = self.session.get(url)\n",
    "\n",
    "                # Check for rate-limiting\n",
    "                if response.status_code == 429:\n",
    "                    print(f\"Rate limit reached. Waiting {self.retry_delay} seconds before retrying...\")\n",
    "                    self.soup = 'rate limit reached'\n",
    "                    return 'rate_limit_reached'\n",
    "                    \n",
    "                if response.status_code == 404:\n",
    "                    print('Page not found (404). Returning empty string')\n",
    "                    self.soup = ''\n",
    "                    return ''\n",
    "                \n",
    "                # Raise an exception for other status codes like 500, 404, etc.\n",
    "                response.raise_for_status()\n",
    "\n",
    "                # If successful, parse the content\n",
    "                self.soup = BeautifulSoup(response.content, 'html.parser')\n",
    "                break  # Break out of the loop after a successful request\n",
    "\n",
    "            except requests.exceptions.HTTPError as http_err:\n",
    "                print(f\"HTTP error occurred: {http_err}\")\n",
    "                retries += 1\n",
    "                if retries >= self.max_retries:\n",
    "                    print(\"Max retries reached. Exiting.\")\n",
    "                    self.soup = 'Max retries'\n",
    "                    return 'Max retries'\n",
    "            except RemoteDisconnected as rd_err:\n",
    "                print(f\"RemoteDisconnected error: {rd_err}\")\n",
    "                print(f\"Waiting {self.retry_delay} seconds before retrying...\")\n",
    "                time.sleep(self.retry_delay)  # Wait and retry\n",
    "                retries += 1\n",
    "                if retries >= self.max_retries:\n",
    "                    print(\"Max retries reached for RemoteDisconnected error. Exiting.\")\n",
    "                    self.soup = 'RemoteDisconnected'\n",
    "                    return 'RemoteDisconnected'\n",
    "            except requests.exceptions.ConnectionError as conn_err:\n",
    "                print(f\"Connection error: {conn_err}\")\n",
    "                print(f\"Waiting {self.retry_delay} seconds before retrying...\")\n",
    "                time.sleep(self.retry_delay)  # Wait and retry\n",
    "                retries += 1\n",
    "                if retries >= self.max_retries:\n",
    "                    print(\"Max retries reached for Connection error. Exiting.\")\n",
    "                    self.soup = 'connection error'\n",
    "                    return 'connection error'\n",
    "            except Exception as err:\n",
    "                print(f\"Other error occurred: {err}\")\n",
    "                raise  # Raise other exceptions immediately\n",
    "        \n",
    "    def get_article(self):\n",
    "        article = ''\n",
    "        if isinstance(self.soup, str):\n",
    "            return ''\n",
    "        div_tag = self.soup.find('div', class_ = self.div)\n",
    "        if div_tag:\n",
    "            p_tags = div_tag.find_all('p')\n",
    "            for p in p_tags:\n",
    "                article += p.get_text() + ' '\n",
    "            return article\n",
    "        else: return ''\n",
    "            \n",
    "    def fit(self, url):\n",
    "        self.create_soup(url)\n",
    "        article = self.get_article()\n",
    "        return article\n",
    "\n",
    "class Investor:\n",
    "    \n",
    "    def __init__(self):\n",
    "        self.div = [\"single-post-content\", \"post-content\", \"drop-cap crawler\"]\n",
    "        self.soup = None\n",
    "        self.session = requests.Session()\n",
    "        self.header = {\"User-Agent\": \"Mozilla/5.0 (Windows NT 10.0; Win64; x64) AppleWebKit/537.36 (KHTML, like Gecko) Chrome/114.0.0.0 Safari/537.36\",\n",
    "    \"Accept\": \"text/html,application/xhtml+xml,application/xml;q=0.9,image/webp,*/*;q=0.8\",\n",
    "    \"Accept-Language\": \"en-US,en;q=0.5\",\n",
    "    \"Accept-Encoding\": \"gzip, deflate, br\",\n",
    "    \"Connection\": \"keep-alive\",\n",
    "    \"Upgrade-Insecure-Requests\": \"1\",\n",
    "    \"DNT\": \"1\",  # Do Not Track Request Header\n",
    "    \"Referer\": \"https://www.google.com\",  # Sometimes useful to mimic where the request is coming from\n",
    "    \"Sec-Fetch-Dest\": \"document\",\n",
    "    \"Sec-Fetch-Mode\": \"navigate\",\n",
    "    \"Sec-Fetch-Site\": \"same-origin\",\n",
    "    \"Sec-Fetch-User\": \"?1\"}\n",
    "        self.max_retries = 3\n",
    "        self.retry_delay = 20\n",
    "        \n",
    "    def create_soup(self, url):\n",
    "        retries = 0\n",
    "        while retries < self.max_retries:\n",
    "            try:\n",
    "                response = self.session.get(url, headers=self.header)\n",
    "\n",
    "                # Check for rate-limiting\n",
    "                if response.status_code == 429:\n",
    "                    print(f\"Rate limit reached. Waiting {self.retry_delay} seconds before retrying...\")\n",
    "                    self.soup = 'rate limit reached'\n",
    "                    return 'rate_limit_reached'\n",
    "                    \n",
    "                if response.status_code == 404:\n",
    "                    print('Page not found (404). Returning empty string')\n",
    "                    self.soup = ''\n",
    "                    return ''\n",
    "                \n",
    "                # Raise an exception for other status codes like 500, 404, etc.\n",
    "                response.raise_for_status()\n",
    "\n",
    "                # If successful, parse the content\n",
    "                self.soup = BeautifulSoup(response.content, 'html.parser')\n",
    "                break  # Break out of the loop after a successful request\n",
    "\n",
    "            except requests.exceptions.HTTPError as http_err:\n",
    "                print(f\"HTTP error occurred: {http_err}\")\n",
    "                retries += 1\n",
    "                if retries >= self.max_retries:\n",
    "                    print(\"Max retries reached. Exiting.\")\n",
    "                    self.soup = 'Max retries'\n",
    "                    return 'Max retries'\n",
    "            except RemoteDisconnected as rd_err:\n",
    "                print(f\"RemoteDisconnected error: {rd_err}\")\n",
    "                print(f\"Waiting {self.retry_delay} seconds before retrying...\")\n",
    "                time.sleep(self.retry_delay)  # Wait and retry\n",
    "                retries += 1\n",
    "                if retries >= self.max_retries:\n",
    "                    print(\"Max retries reached for RemoteDisconnected error. Exiting.\")\n",
    "                    self.soup = 'RemoteDisconnected'\n",
    "                    return 'RemoteDisconnected'\n",
    "            except requests.exceptions.ConnectionError as conn_err:\n",
    "                print(f\"Connection error: {conn_err}\")\n",
    "                print(f\"Waiting {self.retry_delay} seconds before retrying...\")\n",
    "                time.sleep(self.retry_delay)  # Wait and retry\n",
    "                retries += 1\n",
    "                if retries >= self.max_retries:\n",
    "                    print(\"Max retries reached for Connection error. Exiting.\")\n",
    "                    self.soup = 'connection error'\n",
    "                    return 'connection error'\n",
    "            except Exception as err:\n",
    "                print(f\"Other error occurred: {err}\")\n",
    "                raise  # Raise other exceptions immediately\n",
    "        \n",
    "    def get_article(self):\n",
    "        article = ''\n",
    "        if isinstance(self.soup, str):\n",
    "            return ''\n",
    "        div_tag = self.soup.find('div', class_ = self.div)\n",
    "        if div_tag:\n",
    "            p_tags = div_tag.find_all('p')\n",
    "            for p in p_tags:\n",
    "                article += p.get_text() + ' '\n",
    "            return article\n",
    "        else: return ''\n",
    "            \n",
    "    def fit(self, url):\n",
    "        self.create_soup(url)\n",
    "        article = self.get_article()\n",
    "        return article\n",
    "\n",
    "# class Fool:\n",
    "    \n",
    "#     def __init__(self):\n",
    "#         self.div = [\"article-body\"]\n",
    "#         self.soup = None\n",
    "#         self.session = requests.Session()\n",
    "        \n",
    "#     def create_soup(self, url):\n",
    "#         response = self.session.get(url)\n",
    "#         self.soup = BeautifulSoup(response.content, 'html.parser')\n",
    "        \n",
    "#     def get_article(self):\n",
    "#         article = ''\n",
    "#         div_tag = self.soup.find('div', class_ = self.div)\n",
    "#         p_tags = div_tag.find_all('p')\n",
    "#         for p in p_tags:\n",
    "#             article += p.get_text() + ' '\n",
    "#         return article\n",
    "            \n",
    "#     def fit(self, url):\n",
    "#         self.create_soup(url)\n",
    "#         article = self.get_article()\n",
    "#         return article\n"
   ]
  },
  {
   "cell_type": "code",
   "execution_count": 2,
   "id": "72e82af5",
   "metadata": {},
   "outputs": [],
   "source": [
    "api_key = 'HANY5U8BK75YRY8K'"
   ]
  },
  {
   "cell_type": "code",
   "execution_count": 231,
   "id": "1a9bd7ef",
   "metadata": {},
   "outputs": [],
   "source": [
    "# url = f'https://www.alphavantage.co/query?function=EARNINGS&symbol=AAPL&apikey={api_key}'\n",
    "# r = requests.get(url)\n",
    "# e_data = r.json()"
   ]
  },
  {
   "cell_type": "code",
   "execution_count": 249,
   "id": "6bab9a23",
   "metadata": {},
   "outputs": [],
   "source": [
    "# earnings_df = pd.DataFrame(e_data['quarterlyEarnings'])\n",
    "# # earnings_df.info()\n",
    "# earnings_df['ticker'] = 'AAPL'\n",
    "# earnings_df.head()"
   ]
  },
  {
   "cell_type": "code",
   "execution_count": 16,
   "id": "6f7c1a37",
   "metadata": {},
   "outputs": [],
   "source": [
    "#15 tech companies from the top 25 according to Yahoo finance\n",
    "tech_company_tickers = ['AAPL', 'NVDA', 'MSFT', 'AVGO', 'META', 'ORCL', 'CRM', 'AMD', 'UBER', \n",
    "                        'ADBE', 'IBM', 'QCOM', 'PLTR', 'MU', 'ANET']\n",
    "added_companies = ['GOOG', 'TSM', 'TSLA', 'NFLX', 'BABA', 'CSCO', 'ORCL',\n",
    "                  'SONY', 'SHOP', 'PLTR']\n",
    "new_new = ['INTU', 'ADP', 'DELL', 'ABNB', 'SPOT', 'PYPL', 'CRWD']"
   ]
  },
  {
   "cell_type": "code",
   "execution_count": 4,
   "id": "e53e3ce8",
   "metadata": {},
   "outputs": [],
   "source": [
    "def create_dates(df):\n",
    "    df['reportedDate'] = pd.to_datetime(df['reportedDate']).dt.date\n",
    "    dates = df['reportedDate']\n",
    "    last_formatted_dates = []\n",
    "    first_formatted_dates = []\n",
    "    for date in dates:\n",
    "        prior_date = date - pd.Timedelta(days=1)\n",
    "        first_prior_date = date - pd.Timedelta(days=11)\n",
    "        last_date = str(prior_date).replace('-', '')\n",
    "        last_date_f = last_date + 'T2359'\n",
    "        first_date = str(first_prior_date).replace('-', '')\n",
    "        first_date_f = first_date + 'T0001'\n",
    "        last_formatted_dates.append(last_date_f)\n",
    "        first_formatted_dates.append(first_date_f)\n",
    "    df['lastDateFormatted'] = last_formatted_dates\n",
    "    df['firstDateFormatted'] = first_formatted_dates\n",
    "    return df"
   ]
  },
  {
   "cell_type": "code",
   "execution_count": 5,
   "id": "acf11b59",
   "metadata": {},
   "outputs": [],
   "source": [
    "def earnings_report(tickers):\n",
    "    session = requests.Session()\n",
    "    master_earnings_df = pd.DataFrame()\n",
    "    for ticker in tickers:\n",
    "        url = f'https://www.alphavantage.co/query?function=EARNINGS&symbol={ticker}&apikey={api_key}'\n",
    "        r = session.get(url)\n",
    "        data = r.json()\n",
    "        df = pd.DataFrame(data['quarterlyEarnings'])\n",
    "        df['ticker'] = ticker\n",
    "        df = df.iloc[:10]\n",
    "        master_earnings_df = pd.concat([master_earnings_df, df])\n",
    "    session.close()\n",
    "    return create_dates(master_earnings_df)\n",
    "    \n",
    "    "
   ]
  },
  {
   "cell_type": "code",
   "execution_count": 6,
   "id": "7e208905",
   "metadata": {},
   "outputs": [],
   "source": [
    "master_earnings_df = earnings_report(tech_company_tickers)"
   ]
  },
  {
   "cell_type": "code",
   "execution_count": 7,
   "id": "34af93c8",
   "metadata": {},
   "outputs": [
    {
     "data": {
      "text/plain": [
       "(150, 10)"
      ]
     },
     "execution_count": 7,
     "metadata": {},
     "output_type": "execute_result"
    }
   ],
   "source": [
    "master_earnings_df.shape"
   ]
  },
  {
   "cell_type": "code",
   "execution_count": 17,
   "id": "cb71b35e",
   "metadata": {},
   "outputs": [],
   "source": [
    "new_new_df = earnings_report(new_new)"
   ]
  },
  {
   "cell_type": "code",
   "execution_count": null,
   "id": "d12e01fc",
   "metadata": {},
   "outputs": [],
   "source": []
  },
  {
   "cell_type": "code",
   "execution_count": 8,
   "id": "266f4d10",
   "metadata": {},
   "outputs": [
    {
     "data": {
      "text/html": [
       "<div>\n",
       "<style scoped>\n",
       "    .dataframe tbody tr th:only-of-type {\n",
       "        vertical-align: middle;\n",
       "    }\n",
       "\n",
       "    .dataframe tbody tr th {\n",
       "        vertical-align: top;\n",
       "    }\n",
       "\n",
       "    .dataframe thead th {\n",
       "        text-align: right;\n",
       "    }\n",
       "</style>\n",
       "<table border=\"1\" class=\"dataframe\">\n",
       "  <thead>\n",
       "    <tr style=\"text-align: right;\">\n",
       "      <th></th>\n",
       "      <th>fiscalDateEnding</th>\n",
       "      <th>reportedDate</th>\n",
       "      <th>reportedEPS</th>\n",
       "      <th>estimatedEPS</th>\n",
       "      <th>surprise</th>\n",
       "      <th>surprisePercentage</th>\n",
       "      <th>reportTime</th>\n",
       "      <th>ticker</th>\n",
       "      <th>lastDateFormatted</th>\n",
       "      <th>firstDateFormatted</th>\n",
       "    </tr>\n",
       "  </thead>\n",
       "  <tbody>\n",
       "    <tr>\n",
       "      <th>0</th>\n",
       "      <td>2024-06-30</td>\n",
       "      <td>2024-08-01</td>\n",
       "      <td>1.4</td>\n",
       "      <td>1.35</td>\n",
       "      <td>0.05</td>\n",
       "      <td>3.7037</td>\n",
       "      <td>post-market</td>\n",
       "      <td>AAPL</td>\n",
       "      <td>20240731T2359</td>\n",
       "      <td>20240721T0001</td>\n",
       "    </tr>\n",
       "    <tr>\n",
       "      <th>1</th>\n",
       "      <td>2024-03-31</td>\n",
       "      <td>2024-05-02</td>\n",
       "      <td>1.53</td>\n",
       "      <td>1.5</td>\n",
       "      <td>0.03</td>\n",
       "      <td>2</td>\n",
       "      <td>post-market</td>\n",
       "      <td>AAPL</td>\n",
       "      <td>20240501T2359</td>\n",
       "      <td>20240421T0001</td>\n",
       "    </tr>\n",
       "    <tr>\n",
       "      <th>2</th>\n",
       "      <td>2023-12-31</td>\n",
       "      <td>2024-02-01</td>\n",
       "      <td>2.18</td>\n",
       "      <td>2.1</td>\n",
       "      <td>0.08</td>\n",
       "      <td>3.8095</td>\n",
       "      <td>post-market</td>\n",
       "      <td>AAPL</td>\n",
       "      <td>20240131T2359</td>\n",
       "      <td>20240121T0001</td>\n",
       "    </tr>\n",
       "    <tr>\n",
       "      <th>3</th>\n",
       "      <td>2023-09-30</td>\n",
       "      <td>2023-11-02</td>\n",
       "      <td>1.46</td>\n",
       "      <td>1.39</td>\n",
       "      <td>0.07</td>\n",
       "      <td>5.036</td>\n",
       "      <td>post-market</td>\n",
       "      <td>AAPL</td>\n",
       "      <td>20231101T2359</td>\n",
       "      <td>20231022T0001</td>\n",
       "    </tr>\n",
       "    <tr>\n",
       "      <th>4</th>\n",
       "      <td>2023-06-30</td>\n",
       "      <td>2023-08-03</td>\n",
       "      <td>1.26</td>\n",
       "      <td>1.19</td>\n",
       "      <td>0.07</td>\n",
       "      <td>5.8824</td>\n",
       "      <td>post-market</td>\n",
       "      <td>AAPL</td>\n",
       "      <td>20230802T2359</td>\n",
       "      <td>20230723T0001</td>\n",
       "    </tr>\n",
       "  </tbody>\n",
       "</table>\n",
       "</div>"
      ],
      "text/plain": [
       "  fiscalDateEnding reportedDate reportedEPS estimatedEPS surprise  \\\n",
       "0       2024-06-30   2024-08-01         1.4         1.35     0.05   \n",
       "1       2024-03-31   2024-05-02        1.53          1.5     0.03   \n",
       "2       2023-12-31   2024-02-01        2.18          2.1     0.08   \n",
       "3       2023-09-30   2023-11-02        1.46         1.39     0.07   \n",
       "4       2023-06-30   2023-08-03        1.26         1.19     0.07   \n",
       "\n",
       "  surprisePercentage   reportTime ticker lastDateFormatted firstDateFormatted  \n",
       "0             3.7037  post-market   AAPL     20240731T2359      20240721T0001  \n",
       "1                  2  post-market   AAPL     20240501T2359      20240421T0001  \n",
       "2             3.8095  post-market   AAPL     20240131T2359      20240121T0001  \n",
       "3              5.036  post-market   AAPL     20231101T2359      20231022T0001  \n",
       "4             5.8824  post-market   AAPL     20230802T2359      20230723T0001  "
      ]
     },
     "execution_count": 8,
     "metadata": {},
     "output_type": "execute_result"
    }
   ],
   "source": [
    "master_earnings_df.head()"
   ]
  },
  {
   "cell_type": "code",
   "execution_count": 9,
   "id": "bd80216f",
   "metadata": {},
   "outputs": [
    {
     "name": "stdout",
     "output_type": "stream",
     "text": [
      "(75, 10)\n",
      "(75, 10)\n"
     ]
    }
   ],
   "source": [
    "first_75 = master_earnings_df.iloc[:75]\n",
    "last_75 = master_earnings_df.iloc[75:]\n",
    "print(first_75.shape)\n",
    "print(last_75.shape)"
   ]
  },
  {
   "cell_type": "code",
   "execution_count": 10,
   "id": "c7b28722",
   "metadata": {},
   "outputs": [],
   "source": [
    "# date_from = first_75['firstDateFormatted']\n",
    "# date_to = first_75['lastDateFormatted']\n",
    "# tick = first_75['ticker']\n",
    "# pair_dates = list(zip(date_from, date_to, tick))\n",
    "# len(pair_dates)"
   ]
  },
  {
   "cell_type": "code",
   "execution_count": 11,
   "id": "e3d88504",
   "metadata": {},
   "outputs": [],
   "source": [
    "subsequent_earnings_df = earnings_report(added_companies)"
   ]
  },
  {
   "cell_type": "code",
   "execution_count": 12,
   "id": "d4a4f60b",
   "metadata": {},
   "outputs": [
    {
     "name": "stdout",
     "output_type": "stream",
     "text": [
      "(50, 10)\n",
      "(50, 10)\n"
     ]
    }
   ],
   "source": [
    "s_first50 = subsequent_earnings_df.iloc[:50]\n",
    "s_last50 = subsequent_earnings_df.iloc[50:]\n",
    "print(s_first50.shape)\n",
    "print(s_last50.shape)"
   ]
  },
  {
   "cell_type": "code",
   "execution_count": 20,
   "id": "3bf4c213",
   "metadata": {},
   "outputs": [],
   "source": [
    "total_earnings = pd.concat([master_earnings_df, subsequent_earnings_df, new_new_df])"
   ]
  },
  {
   "cell_type": "code",
   "execution_count": 22,
   "id": "6c4c0b2f",
   "metadata": {},
   "outputs": [],
   "source": [
    "total_earnings.shape\n",
    "total_earnings.to_csv('earnings_reports.csv')"
   ]
  },
  {
   "cell_type": "code",
   "execution_count": 65,
   "id": "52c1d94d",
   "metadata": {},
   "outputs": [
    {
     "name": "stdout",
     "output_type": "stream",
     "text": [
      "(320, 10)\n"
     ]
    },
    {
     "data": {
      "text/plain": [
       "(300, 10)"
      ]
     },
     "execution_count": 65,
     "metadata": {},
     "output_type": "execute_result"
    }
   ],
   "source": [
    "print(total_earnings.shape)\n",
    "total_earnings.head()\n",
    "total_earnings.drop_duplicates().shape"
   ]
  },
  {
   "cell_type": "code",
   "execution_count": 261,
   "id": "1804159b",
   "metadata": {},
   "outputs": [
    {
     "name": "stderr",
     "output_type": "stream",
     "text": [
      "100%|███████████████████████████████████████████████████████████████████████████████████████████| 50/50 [00:48<00:00,  1.04it/s]\n"
     ]
    }
   ],
   "source": [
    "s_article_df1 = article_df(s_first50)"
   ]
  },
  {
   "cell_type": "code",
   "execution_count": 262,
   "id": "79e74d23",
   "metadata": {},
   "outputs": [
    {
     "name": "stderr",
     "output_type": "stream",
     "text": [
      "100%|███████████████████████████████████████████████████████████████████████████████████████████| 50/50 [00:25<00:00,  1.95it/s]\n"
     ]
    }
   ],
   "source": [
    "time.sleep(60)\n",
    "s_article_df2 = article_df(s_last50)"
   ]
  },
  {
   "cell_type": "code",
   "execution_count": 263,
   "id": "f0503b61",
   "metadata": {},
   "outputs": [],
   "source": [
    "subsequent_article_df = pd.concat([s_article_df1, s_article_df2])"
   ]
  },
  {
   "cell_type": "code",
   "execution_count": 266,
   "id": "7f346bb2",
   "metadata": {},
   "outputs": [],
   "source": [
    "subsequent_article_df = subsequent_article_df[(subsequent_article_df['source'] == 'Benzinga') |\n",
    "                               (subsequent_article_df['source'] == 'Zacks Commentary') |\n",
    "                               (subsequent_article_df['source'] == 'Motley Fool')]"
   ]
  },
  {
   "cell_type": "code",
   "execution_count": 269,
   "id": "ee73d09c",
   "metadata": {},
   "outputs": [
    {
     "data": {
      "text/plain": [
       "(3142, 14)"
      ]
     },
     "execution_count": 269,
     "metadata": {},
     "output_type": "execute_result"
    }
   ],
   "source": [
    "subsequent_article_df.shape"
   ]
  },
  {
   "cell_type": "code",
   "execution_count": 271,
   "id": "f79565db",
   "metadata": {},
   "outputs": [],
   "source": [
    "sub_article1 = subsequent_article_df[:700]\n",
    "sub_article2 = subsequent_article_df[700:1400]\n",
    "sub_article3 = subsequent_article_df[1400:2100]\n",
    "sub_article4 = subsequent_article_df[2100:]"
   ]
  },
  {
   "cell_type": "code",
   "execution_count": 25,
   "id": "b70963ea",
   "metadata": {},
   "outputs": [
    {
     "name": "stderr",
     "output_type": "stream",
     "text": [
      "100%|█████████████████████████████████| 70/70 [00:24<00:00,  2.84it/s]\n"
     ]
    }
   ],
   "source": [
    "last_article_df = article_df(new_new_df)"
   ]
  },
  {
   "cell_type": "code",
   "execution_count": 26,
   "id": "1de462dd",
   "metadata": {},
   "outputs": [
    {
     "data": {
      "text/plain": [
       "(3653, 14)"
      ]
     },
     "execution_count": 26,
     "metadata": {},
     "output_type": "execute_result"
    }
   ],
   "source": [
    "last_article_df.shape"
   ]
  },
  {
   "cell_type": "code",
   "execution_count": 27,
   "id": "31902bc9",
   "metadata": {},
   "outputs": [],
   "source": [
    "last_article_df = last_article_df[(last_article_df['source'] == 'Benzinga') |\n",
    "                               (last_article_df['source'] == 'Zacks Commentary') |\n",
    "                               (last_article_df['source'] == 'Motley Fool')]"
   ]
  },
  {
   "cell_type": "code",
   "execution_count": 28,
   "id": "243224f7",
   "metadata": {},
   "outputs": [
    {
     "data": {
      "text/plain": [
       "(1838, 14)"
      ]
     },
     "execution_count": 28,
     "metadata": {},
     "output_type": "execute_result"
    }
   ],
   "source": [
    "last_article_df.shape"
   ]
  },
  {
   "cell_type": "code",
   "execution_count": 34,
   "id": "601db6dd",
   "metadata": {},
   "outputs": [],
   "source": [
    "sub_last1 = last_article_df[:700]\n",
    "sub_last2 = last_article_df[700:1400]\n",
    "sub_last3 = last_article_df[1400:]"
   ]
  },
  {
   "cell_type": "code",
   "execution_count": 35,
   "id": "e2ffffba",
   "metadata": {},
   "outputs": [
    {
     "name": "stderr",
     "output_type": "stream",
     "text": [
      "100%|███████████████████████████████| 700/700 [11:42<00:00,  1.00s/it]\n",
      "/var/folders/k7/_jdxw9bx3_7cybsnkxz0pr200000gn/T/ipykernel_50951/3386284359.py:16: SettingWithCopyWarning: \n",
      "A value is trying to be set on a copy of a slice from a DataFrame.\n",
      "Try using .loc[row_indexer,col_indexer] = value instead\n",
      "\n",
      "See the caveats in the documentation: https://pandas.pydata.org/pandas-docs/stable/user_guide/indexing.html#returning-a-view-versus-a-copy\n",
      "  df['article'] = article_list\n"
     ]
    }
   ],
   "source": [
    "grab_last1 = add_article(sub_last1)"
   ]
  },
  {
   "cell_type": "code",
   "execution_count": 36,
   "id": "379bedb6",
   "metadata": {
    "scrolled": true
   },
   "outputs": [
    {
     "name": "stderr",
     "output_type": "stream",
     "text": [
      "100%|███████████████████████████████| 700/700 [14:48<00:00,  1.27s/it]\n",
      "/var/folders/k7/_jdxw9bx3_7cybsnkxz0pr200000gn/T/ipykernel_50951/3386284359.py:16: SettingWithCopyWarning: \n",
      "A value is trying to be set on a copy of a slice from a DataFrame.\n",
      "Try using .loc[row_indexer,col_indexer] = value instead\n",
      "\n",
      "See the caveats in the documentation: https://pandas.pydata.org/pandas-docs/stable/user_guide/indexing.html#returning-a-view-versus-a-copy\n",
      "  df['article'] = article_list\n"
     ]
    }
   ],
   "source": [
    "time.sleep(60)\n",
    "grab_last2 = add_article(sub_last2)"
   ]
  },
  {
   "cell_type": "code",
   "execution_count": 37,
   "id": "6b759217",
   "metadata": {},
   "outputs": [
    {
     "name": "stderr",
     "output_type": "stream",
     "text": [
      " 19%|████████████████████                                                                                      | 83/438 [01:39<06:29,  1.10s/it]"
     ]
    },
    {
     "name": "stdout",
     "output_type": "stream",
     "text": [
      "Page not found (404). Returning empty string\n"
     ]
    },
    {
     "name": "stderr",
     "output_type": "stream",
     "text": [
      "100%|█████████████████████████████████████████████████████████████████████████████████████████████████████████| 438/438 [06:35<00:00,  1.11it/s]\n",
      "/var/folders/k7/_jdxw9bx3_7cybsnkxz0pr200000gn/T/ipykernel_50951/3386284359.py:16: SettingWithCopyWarning: \n",
      "A value is trying to be set on a copy of a slice from a DataFrame.\n",
      "Try using .loc[row_indexer,col_indexer] = value instead\n",
      "\n",
      "See the caveats in the documentation: https://pandas.pydata.org/pandas-docs/stable/user_guide/indexing.html#returning-a-view-versus-a-copy\n",
      "  df['article'] = article_list\n"
     ]
    }
   ],
   "source": [
    "time.sleep(60)\n",
    "grab_last3 = add_article(sub_last3)"
   ]
  },
  {
   "cell_type": "code",
   "execution_count": 38,
   "id": "f2e1929c",
   "metadata": {},
   "outputs": [],
   "source": [
    "final_last_articles = pd.concat([grab_last1, grab_last2, grab_last3])"
   ]
  },
  {
   "cell_type": "code",
   "execution_count": null,
   "id": "17142e69",
   "metadata": {},
   "outputs": [],
   "source": []
  },
  {
   "cell_type": "code",
   "execution_count": null,
   "id": "eea53502",
   "metadata": {},
   "outputs": [],
   "source": []
  },
  {
   "cell_type": "code",
   "execution_count": 272,
   "id": "f141d422",
   "metadata": {},
   "outputs": [
    {
     "name": "stderr",
     "output_type": "stream",
     "text": [
      " 58%|███████████████████████████████████████████████████▋                                     | 407/700 [09:29<02:54,  1.68it/s]"
     ]
    },
    {
     "name": "stdout",
     "output_type": "stream",
     "text": [
      "Connection error: ('Connection aborted.', RemoteDisconnected('Remote end closed connection without response'))\n",
      "Waiting 20 seconds before retrying...\n"
     ]
    },
    {
     "name": "stderr",
     "output_type": "stream",
     "text": [
      "100%|█████████████████████████████████████████████████████████████████████████████████████████| 700/700 [13:45<00:00,  1.18s/it]\n",
      "/var/folders/k7/_jdxw9bx3_7cybsnkxz0pr200000gn/T/ipykernel_40542/3386284359.py:16: SettingWithCopyWarning: \n",
      "A value is trying to be set on a copy of a slice from a DataFrame.\n",
      "Try using .loc[row_indexer,col_indexer] = value instead\n",
      "\n",
      "See the caveats in the documentation: https://pandas.pydata.org/pandas-docs/stable/user_guide/indexing.html#returning-a-view-versus-a-copy\n",
      "  df['article'] = article_list\n"
     ]
    }
   ],
   "source": [
    "grab_sub_articles1 = add_article(sub_article1)"
   ]
  },
  {
   "cell_type": "code",
   "execution_count": 273,
   "id": "06809505",
   "metadata": {},
   "outputs": [
    {
     "name": "stderr",
     "output_type": "stream",
     "text": [
      "100%|█████████████████████████████████████████████████████████████████████████████████████████| 700/700 [11:41<00:00,  1.00s/it]\n",
      "/var/folders/k7/_jdxw9bx3_7cybsnkxz0pr200000gn/T/ipykernel_40542/3386284359.py:16: SettingWithCopyWarning: \n",
      "A value is trying to be set on a copy of a slice from a DataFrame.\n",
      "Try using .loc[row_indexer,col_indexer] = value instead\n",
      "\n",
      "See the caveats in the documentation: https://pandas.pydata.org/pandas-docs/stable/user_guide/indexing.html#returning-a-view-versus-a-copy\n",
      "  df['article'] = article_list\n"
     ]
    }
   ],
   "source": [
    "time.sleep(120)\n",
    "grab_sub_articles2 = add_article(sub_article2)"
   ]
  },
  {
   "cell_type": "code",
   "execution_count": 274,
   "id": "2593c49a",
   "metadata": {},
   "outputs": [
    {
     "name": "stderr",
     "output_type": "stream",
     "text": [
      " 93%|██████████████████████████████████████████████████████████████████████████████████▉      | 652/700 [13:19<01:07,  1.41s/it]"
     ]
    },
    {
     "name": "stdout",
     "output_type": "stream",
     "text": [
      "Connection error: ('Connection aborted.', RemoteDisconnected('Remote end closed connection without response'))\n",
      "Waiting 20 seconds before retrying...\n"
     ]
    },
    {
     "name": "stderr",
     "output_type": "stream",
     "text": [
      " 98%|███████████████████████████████████████████████████████████████████████████████████████▍ | 688/700 [14:22<00:13,  1.16s/it]"
     ]
    },
    {
     "name": "stdout",
     "output_type": "stream",
     "text": [
      "HTTP error occurred: 500 Server Error: Internal Server Error for url: https://www.fool.com/investing/2023/02/10/the-2-dow-jones-stocks-to-watch-next-week/\n"
     ]
    },
    {
     "name": "stderr",
     "output_type": "stream",
     "text": [
      "100%|█████████████████████████████████████████████████████████████████████████████████████████| 700/700 [14:36<00:00,  1.25s/it]\n",
      "/var/folders/k7/_jdxw9bx3_7cybsnkxz0pr200000gn/T/ipykernel_40542/3386284359.py:16: SettingWithCopyWarning: \n",
      "A value is trying to be set on a copy of a slice from a DataFrame.\n",
      "Try using .loc[row_indexer,col_indexer] = value instead\n",
      "\n",
      "See the caveats in the documentation: https://pandas.pydata.org/pandas-docs/stable/user_guide/indexing.html#returning-a-view-versus-a-copy\n",
      "  df['article'] = article_list\n"
     ]
    }
   ],
   "source": [
    "time.sleep(120)\n",
    "grab_sub_articles3 = add_article(sub_article3)"
   ]
  },
  {
   "cell_type": "code",
   "execution_count": 275,
   "id": "d27e5ecb",
   "metadata": {},
   "outputs": [
    {
     "name": "stderr",
     "output_type": "stream",
     "text": [
      "100%|███████████████████████████████████████████████████████████████████████████████████████| 1042/1042 [14:23<00:00,  1.21it/s]\n",
      "/var/folders/k7/_jdxw9bx3_7cybsnkxz0pr200000gn/T/ipykernel_40542/3386284359.py:16: SettingWithCopyWarning: \n",
      "A value is trying to be set on a copy of a slice from a DataFrame.\n",
      "Try using .loc[row_indexer,col_indexer] = value instead\n",
      "\n",
      "See the caveats in the documentation: https://pandas.pydata.org/pandas-docs/stable/user_guide/indexing.html#returning-a-view-versus-a-copy\n",
      "  df['article'] = article_list\n"
     ]
    }
   ],
   "source": [
    "time.sleep(120)\n",
    "grab_sub_articles4 = add_article(sub_article4)"
   ]
  },
  {
   "cell_type": "code",
   "execution_count": 276,
   "id": "c6ff15cd",
   "metadata": {},
   "outputs": [],
   "source": [
    "master_sub_articles = pd.concat([grab_sub_articles1, grab_sub_articles2, grab_sub_articles3, grab_sub_articles4])"
   ]
  },
  {
   "cell_type": "code",
   "execution_count": 277,
   "id": "45b871d5",
   "metadata": {},
   "outputs": [
    {
     "data": {
      "text/plain": [
       "article\n",
       "© 2024 Benzinga.com. Benzinga does not provide investment advice. All rights reserved.     61\n",
       "                                                                                           15\n",
       "Name: count, dtype: int64"
      ]
     },
     "execution_count": 277,
     "metadata": {},
     "output_type": "execute_result"
    }
   ],
   "source": [
    "master_sub_articles['article'].value_counts()[:2]"
   ]
  },
  {
   "cell_type": "code",
   "execution_count": 278,
   "id": "fe0ebe6d",
   "metadata": {},
   "outputs": [
    {
     "data": {
      "text/plain": [
       "(3142, 15)"
      ]
     },
     "execution_count": 278,
     "metadata": {},
     "output_type": "execute_result"
    }
   ],
   "source": [
    "master_sub_articles.shape"
   ]
  },
  {
   "cell_type": "code",
   "execution_count": null,
   "id": "bcad8f2f",
   "metadata": {},
   "outputs": [],
   "source": []
  },
  {
   "cell_type": "code",
   "execution_count": null,
   "id": "b357e7f4",
   "metadata": {},
   "outputs": [],
   "source": []
  },
  {
   "cell_type": "code",
   "execution_count": null,
   "id": "5471d9d3",
   "metadata": {},
   "outputs": [],
   "source": []
  },
  {
   "cell_type": "code",
   "execution_count": null,
   "id": "c80c291e",
   "metadata": {},
   "outputs": [],
   "source": []
  },
  {
   "cell_type": "code",
   "execution_count": 24,
   "id": "93e57579",
   "metadata": {},
   "outputs": [],
   "source": [
    "def article_df(df):\n",
    "    master_article_df = pd.DataFrame()\n",
    "    date_from = df['firstDateFormatted']\n",
    "    date_to = df['lastDateFormatted']\n",
    "    tick = df['ticker']\n",
    "    pair_dates = list(zip(date_from, date_to, tick))\n",
    "    session = requests.Session()\n",
    "    for dates in tqdm(pair_dates):\n",
    "        url = f'https://www.alphavantage.co/query?function=NEWS_SENTIMENT&tickers={dates[2]}&topics=earnings\\\n",
    "        &time_from={dates[0]}&time_to={dates[1]}&limit=1000&apikey={api_key}'\n",
    "        r = session.get(url)\n",
    "        data = r.json()\n",
    "        df = pd.DataFrame(data['feed'])\n",
    "        if df.shape[0] >= 100:\n",
    "            df = df.iloc[:100]\n",
    "        df['ticker'] = dates[2]\n",
    "        master_article_df = pd.concat([master_article_df, df])\n",
    "    return master_article_df"
   ]
  },
  {
   "cell_type": "code",
   "execution_count": 18,
   "id": "7945715f",
   "metadata": {},
   "outputs": [
    {
     "name": "stderr",
     "output_type": "stream",
     "text": [
      "100%|███████████████████████████████████████████████████████████████████████████████████████████| 75/75 [01:05<00:00,  1.14it/s]\n"
     ]
    }
   ],
   "source": [
    "article_df1 = article_df(first_75)"
   ]
  },
  {
   "cell_type": "code",
   "execution_count": 19,
   "id": "d2c056f5",
   "metadata": {},
   "outputs": [
    {
     "name": "stderr",
     "output_type": "stream",
     "text": [
      "100%|███████████████████████████████████████████████████████████████████████████████████████████| 75/75 [00:31<00:00,  2.36it/s]\n"
     ]
    }
   ],
   "source": [
    "time.sleep(60)\n",
    "article_df2 = article_df(last_75)"
   ]
  },
  {
   "cell_type": "code",
   "execution_count": 20,
   "id": "0d9b5c39",
   "metadata": {},
   "outputs": [
    {
     "name": "stdout",
     "output_type": "stream",
     "text": [
      "(5516, 14)\n",
      "(3985, 14)\n"
     ]
    }
   ],
   "source": [
    "print(article_df1.shape)\n",
    "print(article_df2.shape)"
   ]
  },
  {
   "cell_type": "code",
   "execution_count": 21,
   "id": "a2008d74",
   "metadata": {},
   "outputs": [],
   "source": [
    "master_article_df = pd.concat([article_df1, article_df2])"
   ]
  },
  {
   "cell_type": "code",
   "execution_count": 132,
   "id": "d08a682e",
   "metadata": {},
   "outputs": [
    {
     "name": "stdout",
     "output_type": "stream",
     "text": [
      "(9501, 14)\n"
     ]
    },
    {
     "data": {
      "text/html": [
       "<div>\n",
       "<style scoped>\n",
       "    .dataframe tbody tr th:only-of-type {\n",
       "        vertical-align: middle;\n",
       "    }\n",
       "\n",
       "    .dataframe tbody tr th {\n",
       "        vertical-align: top;\n",
       "    }\n",
       "\n",
       "    .dataframe thead th {\n",
       "        text-align: right;\n",
       "    }\n",
       "</style>\n",
       "<table border=\"1\" class=\"dataframe\">\n",
       "  <thead>\n",
       "    <tr style=\"text-align: right;\">\n",
       "      <th></th>\n",
       "      <th>title</th>\n",
       "      <th>url</th>\n",
       "      <th>time_published</th>\n",
       "      <th>authors</th>\n",
       "      <th>summary</th>\n",
       "      <th>banner_image</th>\n",
       "      <th>source</th>\n",
       "      <th>category_within_source</th>\n",
       "      <th>source_domain</th>\n",
       "      <th>topics</th>\n",
       "      <th>overall_sentiment_score</th>\n",
       "      <th>overall_sentiment_label</th>\n",
       "      <th>ticker_sentiment</th>\n",
       "      <th>ticker</th>\n",
       "    </tr>\n",
       "  </thead>\n",
       "  <tbody>\n",
       "    <tr>\n",
       "      <th>0</th>\n",
       "      <td>Advanced Energy Q2 Earnings Top Estimates, Rev...</td>\n",
       "      <td>https://www.benzinga.com/news/earnings/24/07/4...</td>\n",
       "      <td>20240731T201919</td>\n",
       "      <td>[Zacks]</td>\n",
       "      <td>Advanced Energy Industries AEIS reported non-G...</td>\n",
       "      <td>https://staticx-tuner.zacks.com/images/charts/...</td>\n",
       "      <td>Benzinga</td>\n",
       "      <td>Trading</td>\n",
       "      <td>www.benzinga.com</td>\n",
       "      <td>[{'topic': 'Financial Markets', 'relevance_sco...</td>\n",
       "      <td>0.126429</td>\n",
       "      <td>Neutral</td>\n",
       "      <td>[{'ticker': 'AEIS', 'relevance_score': '0.4021...</td>\n",
       "      <td>AAPL</td>\n",
       "    </tr>\n",
       "    <tr>\n",
       "      <th>1</th>\n",
       "      <td>AMD Q2 Earnings Beat Estimates, Shares Up on S...</td>\n",
       "      <td>https://www.zacks.com/stock/news/2313423/amd-q...</td>\n",
       "      <td>20240731T181200</td>\n",
       "      <td>[Zacks Investment Research]</td>\n",
       "      <td>AMD's second-quarter 2024 results reflect robu...</td>\n",
       "      <td>https://staticx-tuner.zacks.com/images/article...</td>\n",
       "      <td>Zacks Commentary</td>\n",
       "      <td>n/a</td>\n",
       "      <td>www.zacks.com</td>\n",
       "      <td>[{'topic': 'Financial Markets', 'relevance_sco...</td>\n",
       "      <td>0.104429</td>\n",
       "      <td>Neutral</td>\n",
       "      <td>[{'ticker': 'LNVGF', 'relevance_score': '0.050...</td>\n",
       "      <td>AAPL</td>\n",
       "    </tr>\n",
       "    <tr>\n",
       "      <th>2</th>\n",
       "      <td>Skyworks  ( SWKS )  Q3 Earnings Meet Estimates...</td>\n",
       "      <td>https://www.zacks.com/stock/news/2313422/skywo...</td>\n",
       "      <td>20240731T180900</td>\n",
       "      <td>[Zacks Equity Research]</td>\n",
       "      <td>Skyworks' (SWKS) third-quarter fiscal 2024 res...</td>\n",
       "      <td>https://staticx-tuner.zacks.com/images/article...</td>\n",
       "      <td>Zacks Commentary</td>\n",
       "      <td>n/a</td>\n",
       "      <td>www.zacks.com</td>\n",
       "      <td>[{'topic': 'Financial Markets', 'relevance_sco...</td>\n",
       "      <td>0.073698</td>\n",
       "      <td>Neutral</td>\n",
       "      <td>[{'ticker': 'SHOP', 'relevance_score': '0.3317...</td>\n",
       "      <td>AAPL</td>\n",
       "    </tr>\n",
       "    <tr>\n",
       "      <th>3</th>\n",
       "      <td>Advanced Energy  ( AEIS )  Q2 Earnings Top Est...</td>\n",
       "      <td>https://www.zacks.com/stock/news/2313429/advan...</td>\n",
       "      <td>20240731T172200</td>\n",
       "      <td>[Zacks Investment Research]</td>\n",
       "      <td>Advanced Energy's (AEIS) second-quarter result...</td>\n",
       "      <td>https://staticx-tuner.zacks.com/images/article...</td>\n",
       "      <td>Zacks Commentary</td>\n",
       "      <td>n/a</td>\n",
       "      <td>www.zacks.com</td>\n",
       "      <td>[{'topic': 'Financial Markets', 'relevance_sco...</td>\n",
       "      <td>0.104916</td>\n",
       "      <td>Neutral</td>\n",
       "      <td>[{'ticker': 'AEIS', 'relevance_score': '0.4045...</td>\n",
       "      <td>AAPL</td>\n",
       "    </tr>\n",
       "    <tr>\n",
       "      <th>4</th>\n",
       "      <td>AAPL or AMZN: Which Mag 7 Stock Should You Buy...</td>\n",
       "      <td>https://www.zacks.com/stock/news/2313386/aapl-...</td>\n",
       "      <td>20240731T171100</td>\n",
       "      <td>[Aniruddha Ganguly]</td>\n",
       "      <td>Investors are eagerly awaiting results from Ap...</td>\n",
       "      <td>https://staticx-tuner.zacks.com/images/article...</td>\n",
       "      <td>Zacks Commentary</td>\n",
       "      <td>n/a</td>\n",
       "      <td>www.zacks.com</td>\n",
       "      <td>[{'topic': 'Retail &amp; Wholesale', 'relevance_sc...</td>\n",
       "      <td>0.338565</td>\n",
       "      <td>Somewhat-Bullish</td>\n",
       "      <td>[{'ticker': 'MSFT', 'relevance_score': '0.1379...</td>\n",
       "      <td>AAPL</td>\n",
       "    </tr>\n",
       "  </tbody>\n",
       "</table>\n",
       "</div>"
      ],
      "text/plain": [
       "                                               title  \\\n",
       "0  Advanced Energy Q2 Earnings Top Estimates, Rev...   \n",
       "1  AMD Q2 Earnings Beat Estimates, Shares Up on S...   \n",
       "2  Skyworks  ( SWKS )  Q3 Earnings Meet Estimates...   \n",
       "3  Advanced Energy  ( AEIS )  Q2 Earnings Top Est...   \n",
       "4  AAPL or AMZN: Which Mag 7 Stock Should You Buy...   \n",
       "\n",
       "                                                 url   time_published  \\\n",
       "0  https://www.benzinga.com/news/earnings/24/07/4...  20240731T201919   \n",
       "1  https://www.zacks.com/stock/news/2313423/amd-q...  20240731T181200   \n",
       "2  https://www.zacks.com/stock/news/2313422/skywo...  20240731T180900   \n",
       "3  https://www.zacks.com/stock/news/2313429/advan...  20240731T172200   \n",
       "4  https://www.zacks.com/stock/news/2313386/aapl-...  20240731T171100   \n",
       "\n",
       "                       authors  \\\n",
       "0                      [Zacks]   \n",
       "1  [Zacks Investment Research]   \n",
       "2      [Zacks Equity Research]   \n",
       "3  [Zacks Investment Research]   \n",
       "4          [Aniruddha Ganguly]   \n",
       "\n",
       "                                             summary  \\\n",
       "0  Advanced Energy Industries AEIS reported non-G...   \n",
       "1  AMD's second-quarter 2024 results reflect robu...   \n",
       "2  Skyworks' (SWKS) third-quarter fiscal 2024 res...   \n",
       "3  Advanced Energy's (AEIS) second-quarter result...   \n",
       "4  Investors are eagerly awaiting results from Ap...   \n",
       "\n",
       "                                        banner_image            source  \\\n",
       "0  https://staticx-tuner.zacks.com/images/charts/...          Benzinga   \n",
       "1  https://staticx-tuner.zacks.com/images/article...  Zacks Commentary   \n",
       "2  https://staticx-tuner.zacks.com/images/article...  Zacks Commentary   \n",
       "3  https://staticx-tuner.zacks.com/images/article...  Zacks Commentary   \n",
       "4  https://staticx-tuner.zacks.com/images/article...  Zacks Commentary   \n",
       "\n",
       "  category_within_source     source_domain  \\\n",
       "0                Trading  www.benzinga.com   \n",
       "1                    n/a     www.zacks.com   \n",
       "2                    n/a     www.zacks.com   \n",
       "3                    n/a     www.zacks.com   \n",
       "4                    n/a     www.zacks.com   \n",
       "\n",
       "                                              topics  overall_sentiment_score  \\\n",
       "0  [{'topic': 'Financial Markets', 'relevance_sco...                 0.126429   \n",
       "1  [{'topic': 'Financial Markets', 'relevance_sco...                 0.104429   \n",
       "2  [{'topic': 'Financial Markets', 'relevance_sco...                 0.073698   \n",
       "3  [{'topic': 'Financial Markets', 'relevance_sco...                 0.104916   \n",
       "4  [{'topic': 'Retail & Wholesale', 'relevance_sc...                 0.338565   \n",
       "\n",
       "  overall_sentiment_label                                   ticker_sentiment  \\\n",
       "0                 Neutral  [{'ticker': 'AEIS', 'relevance_score': '0.4021...   \n",
       "1                 Neutral  [{'ticker': 'LNVGF', 'relevance_score': '0.050...   \n",
       "2                 Neutral  [{'ticker': 'SHOP', 'relevance_score': '0.3317...   \n",
       "3                 Neutral  [{'ticker': 'AEIS', 'relevance_score': '0.4045...   \n",
       "4        Somewhat-Bullish  [{'ticker': 'MSFT', 'relevance_score': '0.1379...   \n",
       "\n",
       "  ticker  \n",
       "0   AAPL  \n",
       "1   AAPL  \n",
       "2   AAPL  \n",
       "3   AAPL  \n",
       "4   AAPL  "
      ]
     },
     "execution_count": 132,
     "metadata": {},
     "output_type": "execute_result"
    }
   ],
   "source": [
    "print(master_article_df.shape)\n",
    "master_article_df.head()\n",
    "pd.reset_option('display.max_colwidth')\n",
    "master_article_df.head()"
   ]
  },
  {
   "cell_type": "code",
   "execution_count": 133,
   "id": "6d966c4a",
   "metadata": {},
   "outputs": [
    {
     "data": {
      "text/plain": [
       "source\n",
       "Benzinga                    2345\n",
       "Zacks Commentary            1908\n",
       "Motley Fool                 1057\n",
       "Investors Business Daily     639\n",
       "PR Newswire                  401\n",
       "MarketWatch                  362\n",
       "Business Insider             284\n",
       "CNBC                         284\n",
       "Forbes                       282\n",
       "Barrons                      195\n",
       "Name: count, dtype: int64"
      ]
     },
     "execution_count": 133,
     "metadata": {},
     "output_type": "execute_result"
    }
   ],
   "source": [
    "master_article_df.to_csv('master_article_df.csv')\n",
    "master_article_df['source'].value_counts()[:10]\n"
   ]
  },
  {
   "cell_type": "code",
   "execution_count": 236,
   "id": "0148511b",
   "metadata": {},
   "outputs": [],
   "source": [
    "investors_df = master_article_df[master_article_df['source'] == 'Investors Business Daily']"
   ]
  },
  {
   "cell_type": "code",
   "execution_count": 243,
   "id": "231a35e2",
   "metadata": {},
   "outputs": [],
   "source": [
    "pd.set_option('display.max_colwidth', None)\n",
    "investors_df.shape\n",
    "investors_df1 = investors_df[:250]\n",
    "investors_df2 = investors_df[250:]\n",
    "pd.reset_option('display.max_colwidth')"
   ]
  },
  {
   "cell_type": "code",
   "execution_count": 249,
   "id": "3dd9d486",
   "metadata": {
    "scrolled": true
   },
   "outputs": [],
   "source": [
    "def add_article_invest(df):\n",
    "    url = df['url']\n",
    "    source = df['source']\n",
    "    pair = list(zip(url, source))\n",
    "    article_list = []\n",
    "    invest = Investor()\n",
    "    for i in tqdm(pair):\n",
    "        article_list.append(invest.fit(i[0]))\n",
    "    df['article'] = article_list\n",
    "        "
   ]
  },
  {
   "cell_type": "code",
   "execution_count": 139,
   "id": "2a7ca1f6",
   "metadata": {},
   "outputs": [
    {
     "data": {
      "text/plain": [
       "(5310, 14)"
      ]
     },
     "execution_count": 139,
     "metadata": {},
     "output_type": "execute_result"
    }
   ],
   "source": [
    "article_df1 = master_article_df[(master_article_df['source'] == 'Benzinga') |\n",
    "                               (master_article_df['source'] == 'Zacks Commentary') |\n",
    "                               (master_article_df['source'] == 'Motley Fool')]\n",
    "article_df1.head()\n",
    "article_df1.shape"
   ]
  },
  {
   "cell_type": "code",
   "execution_count": 31,
   "id": "b6d2acd6",
   "metadata": {},
   "outputs": [],
   "source": [
    "def add_article(df):\n",
    "    url = df['url']\n",
    "    source = df['source']\n",
    "    pair = list(zip(url, source))\n",
    "    article_list = []\n",
    "    benz = Benzinga()\n",
    "    fool = Fool()\n",
    "    zack = Zack()\n",
    "    for i in tqdm(pair):\n",
    "        if i[1] == 'Benzinga':\n",
    "            article_list.append(benz.fit(i[0]))\n",
    "        elif i[1] == 'Motley Fool':\n",
    "            article_list.append(fool.fit(i[0]))\n",
    "        elif i[1] == 'Zacks Commentary':\n",
    "            article_list.append(zack.fit(i[0]))\n",
    "    df['article'] = article_list\n",
    "    return df"
   ]
  },
  {
   "cell_type": "code",
   "execution_count": 162,
   "id": "7745906b",
   "metadata": {},
   "outputs": [],
   "source": [
    "split_1 = article_df1[:500]\n",
    "split_2 = article_df1[500:1000]\n",
    "split_3 = article_df1[1000:1500]\n",
    "split_4 = article_df1[1500:2000]\n",
    "split_5 = article_df1[2000:2500]\n",
    "split_6 = article_df1[2500:3000]\n",
    "split_7 = article_df1[3000:3500]\n",
    "split_8 = article_df1[3500:4000]\n",
    "split_9 = article_df1[4000:4500]\n",
    "split_10 = article_df1[4500:5000]\n",
    "split_11 = article_df1[5000:]"
   ]
  },
  {
   "cell_type": "code",
   "execution_count": 143,
   "id": "01cc08c2",
   "metadata": {},
   "outputs": [
    {
     "name": "stderr",
     "output_type": "stream",
     "text": [
      "  2%|█▊                                                                                        | 10/500 [00:03<03:29,  2.34it/s]"
     ]
    },
    {
     "name": "stdout",
     "output_type": "stream",
     "text": [
      "Rate limit reached. Waiting 20 seconds before retrying...\n"
     ]
    },
    {
     "name": "stderr",
     "output_type": "stream",
     "text": [
      "  9%|████████▎                                                                                 | 46/500 [00:16<02:31,  2.99it/s]"
     ]
    },
    {
     "name": "stdout",
     "output_type": "stream",
     "text": [
      "Rate limit reached. Waiting 20 seconds before retrying...\n"
     ]
    },
    {
     "name": "stderr",
     "output_type": "stream",
     "text": [
      " 13%|███████████▋                                                                              | 65/500 [00:22<02:02,  3.56it/s]"
     ]
    },
    {
     "name": "stdout",
     "output_type": "stream",
     "text": [
      "Rate limit reached. Waiting 20 seconds before retrying...\n"
     ]
    },
    {
     "name": "stderr",
     "output_type": "stream",
     "text": [
      " 19%|████████████████▉                                                                         | 94/500 [00:31<01:14,  5.43it/s]"
     ]
    },
    {
     "name": "stdout",
     "output_type": "stream",
     "text": [
      "Rate limit reached. Waiting 20 seconds before retrying...\n"
     ]
    },
    {
     "name": "stderr",
     "output_type": "stream",
     "text": [
      " 21%|███████████████████                                                                      | 107/500 [00:35<01:23,  4.71it/s]"
     ]
    },
    {
     "name": "stdout",
     "output_type": "stream",
     "text": [
      "Rate limit reached. Waiting 20 seconds before retrying...\n",
      "Rate limit reached. Waiting 20 seconds before retrying...\n"
     ]
    },
    {
     "name": "stderr",
     "output_type": "stream",
     "text": [
      " 24%|█████████████████████▋                                                                   | 122/500 [00:41<02:01,  3.11it/s]"
     ]
    },
    {
     "name": "stdout",
     "output_type": "stream",
     "text": [
      "Rate limit reached. Waiting 20 seconds before retrying...\n"
     ]
    },
    {
     "name": "stderr",
     "output_type": "stream",
     "text": [
      " 26%|██████████████████████▊                                                                  | 128/500 [00:42<01:00,  6.16it/s]"
     ]
    },
    {
     "name": "stdout",
     "output_type": "stream",
     "text": [
      "Rate limit reached. Waiting 20 seconds before retrying...\n"
     ]
    },
    {
     "name": "stderr",
     "output_type": "stream",
     "text": [
      " 28%|████████████████████████▋                                                                | 139/500 [00:46<01:30,  3.99it/s]"
     ]
    },
    {
     "name": "stdout",
     "output_type": "stream",
     "text": [
      "Rate limit reached. Waiting 20 seconds before retrying...\n",
      "Rate limit reached. Waiting 20 seconds before retrying...\n"
     ]
    },
    {
     "name": "stderr",
     "output_type": "stream",
     "text": [
      " 34%|██████████████████████████████▌                                                          | 172/500 [00:57<01:19,  4.11it/s]"
     ]
    },
    {
     "name": "stdout",
     "output_type": "stream",
     "text": [
      "Rate limit reached. Waiting 20 seconds before retrying...\n"
     ]
    },
    {
     "name": "stderr",
     "output_type": "stream",
     "text": [
      " 36%|████████████████████████████████                                                         | 180/500 [01:00<01:33,  3.42it/s]"
     ]
    },
    {
     "name": "stdout",
     "output_type": "stream",
     "text": [
      "Rate limit reached. Waiting 20 seconds before retrying...\n"
     ]
    },
    {
     "name": "stderr",
     "output_type": "stream",
     "text": [
      " 41%|████████████████████████████████████▋                                                    | 206/500 [01:10<01:03,  4.63it/s]"
     ]
    },
    {
     "name": "stdout",
     "output_type": "stream",
     "text": [
      "Rate limit reached. Waiting 20 seconds before retrying...\n"
     ]
    },
    {
     "name": "stderr",
     "output_type": "stream",
     "text": [
      " 44%|██████████████████████████████████████▉                                                  | 219/500 [01:14<00:50,  5.52it/s]"
     ]
    },
    {
     "name": "stdout",
     "output_type": "stream",
     "text": [
      "Rate limit reached. Waiting 20 seconds before retrying...\n",
      "Rate limit reached. Waiting 20 seconds before retrying...\n"
     ]
    },
    {
     "name": "stderr",
     "output_type": "stream",
     "text": [
      " 45%|████████████████████████████████████████▍                                                | 227/500 [01:16<00:44,  6.13it/s]"
     ]
    },
    {
     "name": "stdout",
     "output_type": "stream",
     "text": [
      "Rate limit reached. Waiting 20 seconds before retrying...\n",
      "Rate limit reached. Waiting 20 seconds before retrying...\n"
     ]
    },
    {
     "name": "stderr",
     "output_type": "stream",
     "text": [
      " 48%|██████████████████████████████████████████▋                                              | 240/500 [01:20<01:30,  2.88it/s]"
     ]
    },
    {
     "name": "stdout",
     "output_type": "stream",
     "text": [
      "Rate limit reached. Waiting 20 seconds before retrying...\n"
     ]
    },
    {
     "name": "stderr",
     "output_type": "stream",
     "text": [
      " 49%|███████████████████████████████████████████▌                                             | 245/500 [01:21<01:09,  3.67it/s]"
     ]
    },
    {
     "name": "stdout",
     "output_type": "stream",
     "text": [
      "Rate limit reached. Waiting 20 seconds before retrying...\n"
     ]
    },
    {
     "name": "stderr",
     "output_type": "stream",
     "text": [
      "\r",
      " 49%|███████████████████████████████████████████▊                                             | 246/500 [01:21<00:57,  4.41it/s]"
     ]
    },
    {
     "name": "stdout",
     "output_type": "stream",
     "text": [
      "Rate limit reached. Waiting 20 seconds before retrying...\n"
     ]
    },
    {
     "name": "stderr",
     "output_type": "stream",
     "text": [
      " 50%|████████████████████████████████████████████▎                                            | 249/500 [01:22<00:44,  5.67it/s]"
     ]
    },
    {
     "name": "stdout",
     "output_type": "stream",
     "text": [
      "Rate limit reached. Waiting 20 seconds before retrying...\n"
     ]
    },
    {
     "name": "stderr",
     "output_type": "stream",
     "text": [
      " 50%|████████████████████████████████████████████▊                                            | 252/500 [01:23<00:43,  5.71it/s]"
     ]
    },
    {
     "name": "stdout",
     "output_type": "stream",
     "text": [
      "Rate limit reached. Waiting 20 seconds before retrying...\n",
      "Rate limit reached. Waiting 20 seconds before retrying...\n"
     ]
    },
    {
     "name": "stderr",
     "output_type": "stream",
     "text": [
      " 52%|██████████████████████████████████████████████▎                                          | 260/500 [01:26<01:23,  2.87it/s]"
     ]
    },
    {
     "name": "stdout",
     "output_type": "stream",
     "text": [
      "Rate limit reached. Waiting 20 seconds before retrying...\n"
     ]
    },
    {
     "name": "stderr",
     "output_type": "stream",
     "text": [
      " 53%|██████████████████████████████████████████████▉                                          | 264/500 [01:27<01:19,  2.97it/s]"
     ]
    },
    {
     "name": "stdout",
     "output_type": "stream",
     "text": [
      "Rate limit reached. Waiting 20 seconds before retrying...\n"
     ]
    },
    {
     "name": "stderr",
     "output_type": "stream",
     "text": [
      " 54%|███████████████████████████████████████████████▋                                         | 268/500 [01:28<00:52,  4.44it/s]"
     ]
    },
    {
     "name": "stdout",
     "output_type": "stream",
     "text": [
      "Rate limit reached. Waiting 20 seconds before retrying...\n"
     ]
    },
    {
     "name": "stderr",
     "output_type": "stream",
     "text": [
      " 54%|████████████████████████████████████████████████▏                                        | 271/500 [01:29<00:50,  4.52it/s]"
     ]
    },
    {
     "name": "stdout",
     "output_type": "stream",
     "text": [
      "Rate limit reached. Waiting 20 seconds before retrying...\n"
     ]
    },
    {
     "name": "stderr",
     "output_type": "stream",
     "text": [
      " 55%|█████████████████████████████████████████████████▎                                       | 277/500 [01:30<00:29,  7.45it/s]"
     ]
    },
    {
     "name": "stdout",
     "output_type": "stream",
     "text": [
      "Rate limit reached. Waiting 20 seconds before retrying...\n"
     ]
    },
    {
     "name": "stderr",
     "output_type": "stream",
     "text": [
      " 57%|██████████████████████████████████████████████████▉                                      | 286/500 [01:33<00:48,  4.41it/s]"
     ]
    },
    {
     "name": "stdout",
     "output_type": "stream",
     "text": [
      "Rate limit reached. Waiting 20 seconds before retrying...\n"
     ]
    },
    {
     "name": "stderr",
     "output_type": "stream",
     "text": [
      " 58%|███████████████████████████████████████████████████▎                                     | 288/500 [01:33<00:36,  5.78it/s]"
     ]
    },
    {
     "name": "stdout",
     "output_type": "stream",
     "text": [
      "Rate limit reached. Waiting 20 seconds before retrying...\n",
      "Rate limit reached. Waiting 20 seconds before retrying...\n"
     ]
    },
    {
     "name": "stderr",
     "output_type": "stream",
     "text": [
      " 58%|███████████████████████████████████████████████████▊                                     | 291/500 [01:34<00:52,  3.96it/s]"
     ]
    },
    {
     "name": "stdout",
     "output_type": "stream",
     "text": [
      "Rate limit reached. Waiting 20 seconds before retrying...\n"
     ]
    },
    {
     "name": "stderr",
     "output_type": "stream",
     "text": [
      " 60%|█████████████████████████████████████████████████████                                    | 298/500 [01:36<00:47,  4.24it/s]"
     ]
    },
    {
     "name": "stdout",
     "output_type": "stream",
     "text": [
      "Rate limit reached. Waiting 20 seconds before retrying...\n"
     ]
    },
    {
     "name": "stderr",
     "output_type": "stream",
     "text": [
      " 61%|██████████████████████████████████████████████████████                                   | 304/500 [01:37<00:29,  6.55it/s]"
     ]
    },
    {
     "name": "stdout",
     "output_type": "stream",
     "text": [
      "Rate limit reached. Waiting 20 seconds before retrying...\n"
     ]
    },
    {
     "name": "stderr",
     "output_type": "stream",
     "text": [
      " 62%|██████████████████████████████████████████████████████▊                                  | 308/500 [01:38<00:41,  4.59it/s]"
     ]
    },
    {
     "name": "stdout",
     "output_type": "stream",
     "text": [
      "Rate limit reached. Waiting 20 seconds before retrying...\n"
     ]
    },
    {
     "name": "stderr",
     "output_type": "stream",
     "text": [
      " 63%|████████████████████████████████████████████████████████                                 | 315/500 [01:40<00:48,  3.85it/s]"
     ]
    },
    {
     "name": "stdout",
     "output_type": "stream",
     "text": [
      "Rate limit reached. Waiting 20 seconds before retrying...\n"
     ]
    },
    {
     "name": "stderr",
     "output_type": "stream",
     "text": [
      " 70%|██████████████████████████████████████████████████████████████▎                          | 350/500 [01:50<00:28,  5.32it/s]"
     ]
    },
    {
     "name": "stdout",
     "output_type": "stream",
     "text": [
      "Rate limit reached. Waiting 20 seconds before retrying...\n"
     ]
    },
    {
     "name": "stderr",
     "output_type": "stream",
     "text": [
      " 72%|███████████████████████████████████████████████████████████████▋                         | 358/500 [01:52<00:34,  4.10it/s]"
     ]
    },
    {
     "name": "stdout",
     "output_type": "stream",
     "text": [
      "Rate limit reached. Waiting 20 seconds before retrying...\n"
     ]
    },
    {
     "name": "stderr",
     "output_type": "stream",
     "text": [
      " 74%|█████████████████████████████████████████████████████████████████▋                       | 369/500 [01:56<00:35,  3.64it/s]"
     ]
    },
    {
     "name": "stdout",
     "output_type": "stream",
     "text": [
      "Rate limit reached. Waiting 20 seconds before retrying...\n"
     ]
    },
    {
     "name": "stderr",
     "output_type": "stream",
     "text": [
      " 76%|███████████████████████████████████████████████████████████████████▍                     | 379/500 [01:59<00:28,  4.20it/s]"
     ]
    },
    {
     "name": "stdout",
     "output_type": "stream",
     "text": [
      "Rate limit reached. Waiting 20 seconds before retrying...\n"
     ]
    },
    {
     "name": "stderr",
     "output_type": "stream",
     "text": [
      " 79%|█████████████████████████████████████████████████████████████████████▉                   | 393/500 [02:04<00:28,  3.72it/s]"
     ]
    },
    {
     "name": "stdout",
     "output_type": "stream",
     "text": [
      "Rate limit reached. Waiting 20 seconds before retrying...\n"
     ]
    },
    {
     "name": "stderr",
     "output_type": "stream",
     "text": [
      " 80%|███████████████████████████████████████████████████████████████████████▏                 | 400/500 [02:07<00:37,  2.69it/s]"
     ]
    },
    {
     "name": "stdout",
     "output_type": "stream",
     "text": [
      "Rate limit reached. Waiting 20 seconds before retrying...\n"
     ]
    },
    {
     "name": "stderr",
     "output_type": "stream",
     "text": [
      " 82%|████████████████████████████████████████████████████████████████████████▊                | 409/500 [02:11<00:24,  3.76it/s]"
     ]
    },
    {
     "name": "stdout",
     "output_type": "stream",
     "text": [
      "Rate limit reached. Waiting 20 seconds before retrying...\n"
     ]
    },
    {
     "name": "stderr",
     "output_type": "stream",
     "text": [
      " 83%|█████████████████████████████████████████████████████████████████████████▌               | 413/500 [02:12<00:20,  4.25it/s]"
     ]
    },
    {
     "name": "stdout",
     "output_type": "stream",
     "text": [
      "Rate limit reached. Waiting 20 seconds before retrying...\n"
     ]
    },
    {
     "name": "stderr",
     "output_type": "stream",
     "text": [
      " 83%|██████████████████████████████████████████████████████████████████████████               | 416/500 [02:13<00:16,  5.10it/s]"
     ]
    },
    {
     "name": "stdout",
     "output_type": "stream",
     "text": [
      "Rate limit reached. Waiting 20 seconds before retrying...\n"
     ]
    },
    {
     "name": "stderr",
     "output_type": "stream",
     "text": [
      " 85%|███████████████████████████████████████████████████████████████████████████▊             | 426/500 [02:16<00:21,  3.43it/s]"
     ]
    },
    {
     "name": "stdout",
     "output_type": "stream",
     "text": [
      "Rate limit reached. Waiting 20 seconds before retrying...\n"
     ]
    },
    {
     "name": "stderr",
     "output_type": "stream",
     "text": [
      " 87%|█████████████████████████████████████████████████████████████████████████████▍           | 435/500 [02:19<00:12,  5.06it/s]"
     ]
    },
    {
     "name": "stdout",
     "output_type": "stream",
     "text": [
      "Rate limit reached. Waiting 20 seconds before retrying...\n",
      "Rate limit reached. Waiting 20 seconds before retrying...\n"
     ]
    },
    {
     "name": "stderr",
     "output_type": "stream",
     "text": [
      " 88%|██████████████████████████████████████████████████████████████████████████████▍          | 441/500 [02:20<00:10,  5.52it/s]"
     ]
    },
    {
     "name": "stdout",
     "output_type": "stream",
     "text": [
      "Rate limit reached. Waiting 20 seconds before retrying...\n"
     ]
    },
    {
     "name": "stderr",
     "output_type": "stream",
     "text": [
      " 89%|███████████████████████████████████████████████████████████████████████████████▌         | 447/500 [02:22<00:14,  3.69it/s]"
     ]
    },
    {
     "name": "stdout",
     "output_type": "stream",
     "text": [
      "Rate limit reached. Waiting 20 seconds before retrying...\n"
     ]
    },
    {
     "name": "stderr",
     "output_type": "stream",
     "text": [
      " 92%|█████████████████████████████████████████████████████████████████████████████████▉       | 460/500 [02:27<00:15,  2.50it/s]"
     ]
    },
    {
     "name": "stdout",
     "output_type": "stream",
     "text": [
      "Rate limit reached. Waiting 20 seconds before retrying...\n"
     ]
    },
    {
     "name": "stderr",
     "output_type": "stream",
     "text": [
      " 95%|████████████████████████████████████████████████████████████████████████████████████▋    | 476/500 [02:34<00:08,  3.00it/s]"
     ]
    },
    {
     "name": "stdout",
     "output_type": "stream",
     "text": [
      "Rate limit reached. Waiting 20 seconds before retrying...\n"
     ]
    },
    {
     "name": "stderr",
     "output_type": "stream",
     "text": [
      " 97%|██████████████████████████████████████████████████████████████████████████████████████▎  | 485/500 [02:36<00:03,  4.11it/s]"
     ]
    },
    {
     "name": "stdout",
     "output_type": "stream",
     "text": [
      "Rate limit reached. Waiting 20 seconds before retrying...\n"
     ]
    },
    {
     "name": "stderr",
     "output_type": "stream",
     "text": [
      " 99%|████████████████████████████████████████████████████████████████████████████████████████ | 495/500 [02:39<00:00,  5.71it/s]"
     ]
    },
    {
     "name": "stdout",
     "output_type": "stream",
     "text": [
      "Rate limit reached. Waiting 20 seconds before retrying...\n",
      "Rate limit reached. Waiting 20 seconds before retrying...\n"
     ]
    },
    {
     "name": "stderr",
     "output_type": "stream",
     "text": [
      " 99%|████████████████████████████████████████████████████████████████████████████████████████▍| 497/500 [02:39<00:00,  6.51it/s]"
     ]
    },
    {
     "name": "stdout",
     "output_type": "stream",
     "text": [
      "Rate limit reached. Waiting 20 seconds before retrying...\n"
     ]
    },
    {
     "name": "stderr",
     "output_type": "stream",
     "text": [
      "100%|█████████████████████████████████████████████████████████████████████████████████████████| 500/500 [02:40<00:00,  3.11it/s]\n",
      "/var/folders/k7/_jdxw9bx3_7cybsnkxz0pr200000gn/T/ipykernel_40542/3386284359.py:16: SettingWithCopyWarning: \n",
      "A value is trying to be set on a copy of a slice from a DataFrame.\n",
      "Try using .loc[row_indexer,col_indexer] = value instead\n",
      "\n",
      "See the caveats in the documentation: https://pandas.pydata.org/pandas-docs/stable/user_guide/indexing.html#returning-a-view-versus-a-copy\n",
      "  df['article'] = article_list\n"
     ]
    }
   ],
   "source": [
    "art_split1 = add_article(split_1)"
   ]
  },
  {
   "cell_type": "code",
   "execution_count": 157,
   "id": "c9bb0988",
   "metadata": {},
   "outputs": [
    {
     "name": "stdout",
     "output_type": "stream",
     "text": [
      "url        https://www.benzinga.com/news/24/07/40001828/w...\n",
      "article    Chen Nanxiang, chairman of the China Semicondu...\n",
      "Name: 99, dtype: object\n"
     ]
    }
   ],
   "source": [
    "pd.set_option('display.max_colwidth', None)\n",
    "pd.reset_option('display.max_colwidth')\n",
    "print(art_split1.iloc[94][['url', 'article']])"
   ]
  },
  {
   "cell_type": "code",
   "execution_count": 161,
   "id": "b4ead9bc",
   "metadata": {},
   "outputs": [
    {
     "data": {
      "text/plain": [
       "source\n",
       "Benzinga            233\n",
       "Zacks Commentary    187\n",
       "Motley Fool          80\n",
       "Name: count, dtype: int64"
      ]
     },
     "execution_count": 161,
     "metadata": {},
     "output_type": "execute_result"
    }
   ],
   "source": [
    "art_split1[art_split1['article'] == '']\n"
   ]
  },
  {
   "cell_type": "code",
   "execution_count": 163,
   "id": "efd591e7",
   "metadata": {},
   "outputs": [
    {
     "name": "stderr",
     "output_type": "stream",
     "text": [
      " 26%|███████████████████████▍                                                                 | 132/500 [01:16<03:35,  1.71it/s]"
     ]
    },
    {
     "name": "stdout",
     "output_type": "stream",
     "text": [
      "Page not found (404). Returning empty string\n"
     ]
    },
    {
     "name": "stderr",
     "output_type": "stream",
     "text": [
      "100%|█████████████████████████████████████████████████████████████████████████████████████████| 500/500 [05:13<00:00,  1.59it/s]\n",
      "/var/folders/k7/_jdxw9bx3_7cybsnkxz0pr200000gn/T/ipykernel_40542/3386284359.py:16: SettingWithCopyWarning: \n",
      "A value is trying to be set on a copy of a slice from a DataFrame.\n",
      "Try using .loc[row_indexer,col_indexer] = value instead\n",
      "\n",
      "See the caveats in the documentation: https://pandas.pydata.org/pandas-docs/stable/user_guide/indexing.html#returning-a-view-versus-a-copy\n",
      "  df['article'] = article_list\n"
     ]
    }
   ],
   "source": [
    "art_split2 = add_article(split_2)"
   ]
  },
  {
   "cell_type": "code",
   "execution_count": 165,
   "id": "e74754d1",
   "metadata": {},
   "outputs": [
    {
     "name": "stderr",
     "output_type": "stream",
     "text": [
      "100%|█████████████████████████████████████████████████████████████████████████████████████████| 500/500 [03:12<00:00,  2.60it/s]\n",
      "/var/folders/k7/_jdxw9bx3_7cybsnkxz0pr200000gn/T/ipykernel_40542/3386284359.py:16: SettingWithCopyWarning: \n",
      "A value is trying to be set on a copy of a slice from a DataFrame.\n",
      "Try using .loc[row_indexer,col_indexer] = value instead\n",
      "\n",
      "See the caveats in the documentation: https://pandas.pydata.org/pandas-docs/stable/user_guide/indexing.html#returning-a-view-versus-a-copy\n",
      "  df['article'] = article_list\n"
     ]
    }
   ],
   "source": [
    "art_split3 = add_article(split_3)"
   ]
  },
  {
   "cell_type": "code",
   "execution_count": 170,
   "id": "287a8b25",
   "metadata": {},
   "outputs": [],
   "source": [
    "# time.sleep(300)\n",
    "# art_split4 = add_article(split_4)"
   ]
  },
  {
   "cell_type": "code",
   "execution_count": 171,
   "id": "77b05742",
   "metadata": {},
   "outputs": [
    {
     "name": "stderr",
     "output_type": "stream",
     "text": [
      " 24%|█████████████████████                                                                    | 118/500 [03:08<02:36,  2.44it/s]"
     ]
    },
    {
     "name": "stdout",
     "output_type": "stream",
     "text": [
      "Page not found (404). Returning empty string\n"
     ]
    },
    {
     "name": "stderr",
     "output_type": "stream",
     "text": [
      " 28%|█████████████████████████▎                                                               | 142/500 [03:47<05:30,  1.08it/s]"
     ]
    },
    {
     "name": "stdout",
     "output_type": "stream",
     "text": [
      "Rate limit reached. Waiting 20 seconds before retrying...\n"
     ]
    },
    {
     "name": "stderr",
     "output_type": "stream",
     "text": [
      " 29%|█████████████████████████▊                                                               | 145/500 [03:47<03:05,  1.92it/s]"
     ]
    },
    {
     "name": "stdout",
     "output_type": "stream",
     "text": [
      "Rate limit reached. Waiting 20 seconds before retrying...\n",
      "Rate limit reached. Waiting 20 seconds before retrying...\n"
     ]
    },
    {
     "name": "stderr",
     "output_type": "stream",
     "text": [
      " 30%|██████████████████████████▎                                                              | 148/500 [03:48<01:44,  3.37it/s]"
     ]
    },
    {
     "name": "stdout",
     "output_type": "stream",
     "text": [
      "Rate limit reached. Waiting 20 seconds before retrying...\n",
      "Rate limit reached. Waiting 20 seconds before retrying...\n",
      "Rate limit reached. Waiting 20 seconds before retrying...\n"
     ]
    },
    {
     "name": "stderr",
     "output_type": "stream",
     "text": [
      "\r",
      " 30%|██████████████████████████▋                                                              | 150/500 [03:48<01:17,  4.52it/s]"
     ]
    },
    {
     "name": "stdout",
     "output_type": "stream",
     "text": [
      "Rate limit reached. Waiting 20 seconds before retrying...\n",
      "Rate limit reached. Waiting 20 seconds before retrying...\n",
      "Rate limit reached. Waiting 20 seconds before retrying...\n"
     ]
    },
    {
     "name": "stderr",
     "output_type": "stream",
     "text": [
      " 31%|███████████████████████████▍                                                             | 154/500 [03:49<01:16,  4.52it/s]"
     ]
    },
    {
     "name": "stdout",
     "output_type": "stream",
     "text": [
      "Rate limit reached. Waiting 20 seconds before retrying...\n",
      "Rate limit reached. Waiting 20 seconds before retrying...\n"
     ]
    },
    {
     "name": "stderr",
     "output_type": "stream",
     "text": [
      " 32%|████████████████████████████                                                             | 158/500 [03:49<00:50,  6.79it/s]"
     ]
    },
    {
     "name": "stdout",
     "output_type": "stream",
     "text": [
      "Rate limit reached. Waiting 20 seconds before retrying...\n",
      "Rate limit reached. Waiting 20 seconds before retrying...\n",
      "Rate limit reached. Waiting 20 seconds before retrying...\n",
      "Rate limit reached. Waiting 20 seconds before retrying...\n"
     ]
    },
    {
     "name": "stderr",
     "output_type": "stream",
     "text": [
      " 32%|████████████████████████████▊                                                            | 162/500 [03:50<01:06,  5.10it/s]"
     ]
    },
    {
     "name": "stdout",
     "output_type": "stream",
     "text": [
      "Rate limit reached. Waiting 20 seconds before retrying...\n",
      "Rate limit reached. Waiting 20 seconds before retrying...\n",
      "Rate limit reached. Waiting 20 seconds before retrying...\n"
     ]
    },
    {
     "name": "stderr",
     "output_type": "stream",
     "text": [
      "\r",
      " 33%|█████████████████████████████▏                                                           | 164/500 [03:50<00:54,  6.15it/s]"
     ]
    },
    {
     "name": "stdout",
     "output_type": "stream",
     "text": [
      "Rate limit reached. Waiting 20 seconds before retrying...\n",
      "Rate limit reached. Waiting 20 seconds before retrying...\n"
     ]
    },
    {
     "name": "stderr",
     "output_type": "stream",
     "text": [
      " 34%|██████████████████████████████▎                                                          | 170/500 [03:52<01:11,  4.64it/s]"
     ]
    },
    {
     "name": "stdout",
     "output_type": "stream",
     "text": [
      "Rate limit reached. Waiting 20 seconds before retrying...\n"
     ]
    },
    {
     "name": "stderr",
     "output_type": "stream",
     "text": [
      " 35%|██████████████████████████████▉                                                          | 174/500 [03:53<01:11,  4.56it/s]"
     ]
    },
    {
     "name": "stdout",
     "output_type": "stream",
     "text": [
      "Rate limit reached. Waiting 20 seconds before retrying...\n",
      "Rate limit reached. Waiting 20 seconds before retrying...\n"
     ]
    },
    {
     "name": "stderr",
     "output_type": "stream",
     "text": [
      " 35%|███████████████████████████████▌                                                         | 177/500 [03:54<01:13,  4.42it/s]"
     ]
    },
    {
     "name": "stdout",
     "output_type": "stream",
     "text": [
      "Rate limit reached. Waiting 20 seconds before retrying...\n",
      "Rate limit reached. Waiting 20 seconds before retrying...\n",
      "Rate limit reached. Waiting 20 seconds before retrying...\n"
     ]
    },
    {
     "name": "stderr",
     "output_type": "stream",
     "text": [
      "\r",
      " 36%|███████████████████████████████▊                                                         | 179/500 [03:54<00:58,  5.51it/s]"
     ]
    },
    {
     "name": "stdout",
     "output_type": "stream",
     "text": [
      "Rate limit reached. Waiting 20 seconds before retrying...\n"
     ]
    },
    {
     "name": "stderr",
     "output_type": "stream",
     "text": [
      "\r",
      " 36%|████████████████████████████████                                                         | 180/500 [03:55<01:22,  3.90it/s]"
     ]
    },
    {
     "name": "stdout",
     "output_type": "stream",
     "text": [
      "Rate limit reached. Waiting 20 seconds before retrying...\n"
     ]
    },
    {
     "name": "stderr",
     "output_type": "stream",
     "text": [
      " 37%|████████████████████████████████▌                                                        | 183/500 [03:56<01:37,  3.24it/s]"
     ]
    },
    {
     "name": "stdout",
     "output_type": "stream",
     "text": [
      "Rate limit reached. Waiting 20 seconds before retrying...\n"
     ]
    },
    {
     "name": "stderr",
     "output_type": "stream",
     "text": [
      " 38%|█████████████████████████████████▉                                                       | 191/500 [03:59<01:29,  3.46it/s]"
     ]
    },
    {
     "name": "stdout",
     "output_type": "stream",
     "text": [
      "Rate limit reached. Waiting 20 seconds before retrying...\n"
     ]
    },
    {
     "name": "stderr",
     "output_type": "stream",
     "text": [
      " 39%|██████████████████████████████████▌                                                      | 194/500 [03:59<01:03,  4.85it/s]"
     ]
    },
    {
     "name": "stdout",
     "output_type": "stream",
     "text": [
      "Rate limit reached. Waiting 20 seconds before retrying...\n",
      "Rate limit reached. Waiting 20 seconds before retrying...\n"
     ]
    },
    {
     "name": "stderr",
     "output_type": "stream",
     "text": [
      " 39%|███████████████████████████████████                                                      | 197/500 [04:00<01:01,  4.94it/s]"
     ]
    },
    {
     "name": "stdout",
     "output_type": "stream",
     "text": [
      "Rate limit reached. Waiting 20 seconds before retrying...\n",
      "Rate limit reached. Waiting 20 seconds before retrying...\n"
     ]
    },
    {
     "name": "stderr",
     "output_type": "stream",
     "text": [
      " 40%|███████████████████████████████████▍                                                     | 199/500 [04:01<01:24,  3.56it/s]"
     ]
    },
    {
     "name": "stdout",
     "output_type": "stream",
     "text": [
      "Rate limit reached. Waiting 20 seconds before retrying...\n"
     ]
    },
    {
     "name": "stderr",
     "output_type": "stream",
     "text": [
      "\r",
      " 40%|███████████████████████████████████▊                                                     | 201/500 [04:01<01:20,  3.70it/s]"
     ]
    },
    {
     "name": "stdout",
     "output_type": "stream",
     "text": [
      "Rate limit reached. Waiting 20 seconds before retrying...\n"
     ]
    },
    {
     "name": "stderr",
     "output_type": "stream",
     "text": [
      "\r",
      " 41%|████████████████████████████████████▏                                                    | 203/500 [04:02<01:12,  4.09it/s]"
     ]
    },
    {
     "name": "stdout",
     "output_type": "stream",
     "text": [
      "Rate limit reached. Waiting 20 seconds before retrying...\n"
     ]
    },
    {
     "name": "stderr",
     "output_type": "stream",
     "text": [
      " 41%|████████████████████████████████████▊                                                    | 207/500 [04:02<01:03,  4.63it/s]"
     ]
    },
    {
     "name": "stdout",
     "output_type": "stream",
     "text": [
      "Rate limit reached. Waiting 20 seconds before retrying...\n"
     ]
    },
    {
     "name": "stderr",
     "output_type": "stream",
     "text": [
      " 42%|█████████████████████████████████████▋                                                   | 212/500 [04:03<00:46,  6.18it/s]"
     ]
    },
    {
     "name": "stdout",
     "output_type": "stream",
     "text": [
      "Rate limit reached. Waiting 20 seconds before retrying...\n",
      "Rate limit reached. Waiting 20 seconds before retrying...\n",
      "Rate limit reached. Waiting 20 seconds before retrying...\n"
     ]
    },
    {
     "name": "stderr",
     "output_type": "stream",
     "text": [
      "\r",
      " 43%|██████████████████████████████████████                                                   | 214/500 [04:03<00:40,  7.05it/s]"
     ]
    },
    {
     "name": "stdout",
     "output_type": "stream",
     "text": [
      "Rate limit reached. Waiting 20 seconds before retrying...\n",
      "Rate limit reached. Waiting 20 seconds before retrying...\n",
      "Rate limit reached. Waiting 20 seconds before retrying...\n"
     ]
    },
    {
     "name": "stderr",
     "output_type": "stream",
     "text": [
      "\r",
      " 43%|██████████████████████████████████████▍                                                  | 216/500 [04:04<00:35,  7.97it/s]"
     ]
    },
    {
     "name": "stdout",
     "output_type": "stream",
     "text": [
      "Rate limit reached. Waiting 20 seconds before retrying...\n",
      "Rate limit reached. Waiting 20 seconds before retrying...\n"
     ]
    },
    {
     "name": "stderr",
     "output_type": "stream",
     "text": [
      " 45%|███████████████████████████████████████▋                                                 | 223/500 [04:05<00:41,  6.65it/s]"
     ]
    },
    {
     "name": "stdout",
     "output_type": "stream",
     "text": [
      "Rate limit reached. Waiting 20 seconds before retrying...\n",
      "Rate limit reached. Waiting 20 seconds before retrying...\n"
     ]
    },
    {
     "name": "stderr",
     "output_type": "stream",
     "text": [
      " 45%|████████████████████████████████████████▍                                                | 227/500 [04:06<00:44,  6.12it/s]"
     ]
    },
    {
     "name": "stdout",
     "output_type": "stream",
     "text": [
      "Rate limit reached. Waiting 20 seconds before retrying...\n",
      "Rate limit reached. Waiting 20 seconds before retrying...\n",
      "Rate limit reached. Waiting 20 seconds before retrying...\n"
     ]
    },
    {
     "name": "stderr",
     "output_type": "stream",
     "text": [
      " 46%|█████████████████████████████████████████                                                | 231/500 [04:06<00:34,  7.87it/s]"
     ]
    },
    {
     "name": "stdout",
     "output_type": "stream",
     "text": [
      "Rate limit reached. Waiting 20 seconds before retrying...\n",
      "Rate limit reached. Waiting 20 seconds before retrying...\n",
      "Rate limit reached. Waiting 20 seconds before retrying...\n"
     ]
    },
    {
     "name": "stderr",
     "output_type": "stream",
     "text": [
      "\r",
      " 47%|█████████████████████████████████████████▍                                               | 233/500 [04:06<00:30,  8.81it/s]"
     ]
    },
    {
     "name": "stdout",
     "output_type": "stream",
     "text": [
      "Rate limit reached. Waiting 20 seconds before retrying...\n"
     ]
    },
    {
     "name": "stderr",
     "output_type": "stream",
     "text": [
      " 47%|██████████████████████████████████████████▏                                              | 237/500 [04:07<00:34,  7.65it/s]"
     ]
    },
    {
     "name": "stdout",
     "output_type": "stream",
     "text": [
      "Rate limit reached. Waiting 20 seconds before retrying...\n",
      "Rate limit reached. Waiting 20 seconds before retrying...\n",
      "Rate limit reached. Waiting 20 seconds before retrying...\n",
      "Rate limit reached. Waiting 20 seconds before retrying...\n"
     ]
    },
    {
     "name": "stderr",
     "output_type": "stream",
     "text": [
      " 48%|██████████████████████████████████████████▋                                              | 240/500 [04:08<01:03,  4.08it/s]"
     ]
    },
    {
     "name": "stdout",
     "output_type": "stream",
     "text": [
      "Rate limit reached. Waiting 20 seconds before retrying...\n"
     ]
    },
    {
     "name": "stderr",
     "output_type": "stream",
     "text": [
      " 49%|███████████████████████████████████████████▌                                             | 245/500 [04:10<01:15,  3.39it/s]"
     ]
    },
    {
     "name": "stdout",
     "output_type": "stream",
     "text": [
      "Rate limit reached. Waiting 20 seconds before retrying...\n",
      "Rate limit reached. Waiting 20 seconds before retrying...\n",
      "Rate limit reached. Waiting 20 seconds before retrying...\n"
     ]
    },
    {
     "name": "stderr",
     "output_type": "stream",
     "text": [
      "\r",
      " 49%|███████████████████████████████████████████▉                                             | 247/500 [04:10<00:57,  4.42it/s]"
     ]
    },
    {
     "name": "stdout",
     "output_type": "stream",
     "text": [
      "Rate limit reached. Waiting 20 seconds before retrying...\n"
     ]
    },
    {
     "name": "stderr",
     "output_type": "stream",
     "text": [
      " 50%|████████████████████████████████████████████▋                                            | 251/500 [04:12<01:12,  3.45it/s]"
     ]
    },
    {
     "name": "stdout",
     "output_type": "stream",
     "text": [
      "Rate limit reached. Waiting 20 seconds before retrying...\n",
      "Rate limit reached. Waiting 20 seconds before retrying...\n"
     ]
    },
    {
     "name": "stderr",
     "output_type": "stream",
     "text": [
      " 51%|█████████████████████████████████████████████▏                                           | 254/500 [04:12<00:51,  4.81it/s]"
     ]
    },
    {
     "name": "stdout",
     "output_type": "stream",
     "text": [
      "Rate limit reached. Waiting 20 seconds before retrying...\n"
     ]
    },
    {
     "name": "stderr",
     "output_type": "stream",
     "text": [
      " 52%|█████████████████████████████████████████████▉                                           | 258/500 [04:13<00:45,  5.29it/s]"
     ]
    },
    {
     "name": "stdout",
     "output_type": "stream",
     "text": [
      "Rate limit reached. Waiting 20 seconds before retrying...\n",
      "Rate limit reached. Waiting 20 seconds before retrying...\n"
     ]
    },
    {
     "name": "stderr",
     "output_type": "stream",
     "text": [
      "\r",
      " 52%|██████████████████████████████████████████████▎                                          | 260/500 [04:13<00:37,  6.35it/s]"
     ]
    },
    {
     "name": "stdout",
     "output_type": "stream",
     "text": [
      "Rate limit reached. Waiting 20 seconds before retrying...\n"
     ]
    },
    {
     "name": "stderr",
     "output_type": "stream",
     "text": [
      " 53%|██████████████████████████████████████████████▊                                          | 263/500 [04:14<00:43,  5.40it/s]"
     ]
    },
    {
     "name": "stdout",
     "output_type": "stream",
     "text": [
      "Rate limit reached. Waiting 20 seconds before retrying...\n",
      "Rate limit reached. Waiting 20 seconds before retrying...\n",
      "Rate limit reached. Waiting 20 seconds before retrying...\n"
     ]
    },
    {
     "name": "stderr",
     "output_type": "stream",
     "text": [
      "\r",
      " 53%|███████████████████████████████████████████████▏                                         | 265/500 [04:14<00:35,  6.63it/s]"
     ]
    },
    {
     "name": "stdout",
     "output_type": "stream",
     "text": [
      "Rate limit reached. Waiting 20 seconds before retrying...\n"
     ]
    },
    {
     "name": "stderr",
     "output_type": "stream",
     "text": [
      " 54%|███████████████████████████████████████████████▉                                         | 269/500 [04:15<00:34,  6.76it/s]"
     ]
    },
    {
     "name": "stdout",
     "output_type": "stream",
     "text": [
      "Rate limit reached. Waiting 20 seconds before retrying...\n",
      "Rate limit reached. Waiting 20 seconds before retrying...\n",
      "Rate limit reached. Waiting 20 seconds before retrying...\n"
     ]
    },
    {
     "name": "stderr",
     "output_type": "stream",
     "text": [
      " 55%|████████████████████████████████████████████████▌                                        | 273/500 [04:15<00:37,  5.99it/s]"
     ]
    },
    {
     "name": "stdout",
     "output_type": "stream",
     "text": [
      "Rate limit reached. Waiting 20 seconds before retrying...\n",
      "Rate limit reached. Waiting 20 seconds before retrying...\n"
     ]
    },
    {
     "name": "stderr",
     "output_type": "stream",
     "text": [
      " 55%|█████████████████████████████████████████████████▎                                       | 277/500 [04:16<00:27,  7.98it/s]"
     ]
    },
    {
     "name": "stdout",
     "output_type": "stream",
     "text": [
      "Rate limit reached. Waiting 20 seconds before retrying...\n",
      "Rate limit reached. Waiting 20 seconds before retrying...\n",
      "Rate limit reached. Waiting 20 seconds before retrying...\n"
     ]
    },
    {
     "name": "stderr",
     "output_type": "stream",
     "text": [
      "\r",
      " 56%|█████████████████████████████████████████████████▋                                       | 279/500 [04:16<00:25,  8.51it/s]"
     ]
    },
    {
     "name": "stdout",
     "output_type": "stream",
     "text": [
      "Rate limit reached. Waiting 20 seconds before retrying...\n",
      "Rate limit reached. Waiting 20 seconds before retrying...\n",
      "Rate limit reached. Waiting 20 seconds before retrying...\n"
     ]
    },
    {
     "name": "stderr",
     "output_type": "stream",
     "text": [
      " 57%|██████████████████████████████████████████████████▎                                      | 283/500 [04:16<00:22,  9.74it/s]"
     ]
    },
    {
     "name": "stdout",
     "output_type": "stream",
     "text": [
      "Rate limit reached. Waiting 20 seconds before retrying...\n",
      "Rate limit reached. Waiting 20 seconds before retrying...\n",
      "Rate limit reached. Waiting 20 seconds before retrying...\n"
     ]
    },
    {
     "name": "stderr",
     "output_type": "stream",
     "text": [
      "\r",
      " 57%|██████████████████████████████████████████████████▋                                      | 285/500 [04:16<00:21, 10.08it/s]"
     ]
    },
    {
     "name": "stdout",
     "output_type": "stream",
     "text": [
      "Rate limit reached. Waiting 20 seconds before retrying...\n",
      "Rate limit reached. Waiting 20 seconds before retrying...\n"
     ]
    },
    {
     "name": "stderr",
     "output_type": "stream",
     "text": [
      "\r",
      " 57%|███████████████████████████████████████████████████                                      | 287/500 [04:17<00:19, 10.92it/s]"
     ]
    },
    {
     "name": "stdout",
     "output_type": "stream",
     "text": [
      "Rate limit reached. Waiting 20 seconds before retrying...\n",
      "Rate limit reached. Waiting 20 seconds before retrying...\n"
     ]
    },
    {
     "name": "stderr",
     "output_type": "stream",
     "text": [
      " 59%|████████████████████████████████████████████████████▌                                    | 295/500 [04:19<00:36,  5.69it/s]"
     ]
    },
    {
     "name": "stdout",
     "output_type": "stream",
     "text": [
      "Rate limit reached. Waiting 20 seconds before retrying...\n",
      "Rate limit reached. Waiting 20 seconds before retrying...\n",
      "Rate limit reached. Waiting 20 seconds before retrying...\n"
     ]
    },
    {
     "name": "stderr",
     "output_type": "stream",
     "text": [
      " 60%|█████████████████████████████████████████████████████▏                                   | 299/500 [04:19<00:26,  7.66it/s]"
     ]
    },
    {
     "name": "stdout",
     "output_type": "stream",
     "text": [
      "Rate limit reached. Waiting 20 seconds before retrying...\n",
      "Rate limit reached. Waiting 20 seconds before retrying...\n"
     ]
    },
    {
     "name": "stderr",
     "output_type": "stream",
     "text": [
      "\r",
      " 60%|█████████████████████████████████████████████████████▌                                   | 301/500 [04:19<00:24,  8.13it/s]"
     ]
    },
    {
     "name": "stdout",
     "output_type": "stream",
     "text": [
      "Rate limit reached. Waiting 20 seconds before retrying...\n",
      "Rate limit reached. Waiting 20 seconds before retrying...\n"
     ]
    },
    {
     "name": "stderr",
     "output_type": "stream",
     "text": [
      " 61%|██████████████████████████████████████████████████████▎                                  | 305/500 [04:21<00:47,  4.12it/s]"
     ]
    },
    {
     "name": "stdout",
     "output_type": "stream",
     "text": [
      "Rate limit reached. Waiting 20 seconds before retrying...\n",
      "Rate limit reached. Waiting 20 seconds before retrying...\n"
     ]
    },
    {
     "name": "stderr",
     "output_type": "stream",
     "text": [
      " 62%|██████████████████████████████████████████████████████▊                                  | 308/500 [04:22<00:46,  4.12it/s]"
     ]
    },
    {
     "name": "stdout",
     "output_type": "stream",
     "text": [
      "Rate limit reached. Waiting 20 seconds before retrying...\n"
     ]
    },
    {
     "name": "stderr",
     "output_type": "stream",
     "text": [
      " 62%|███████████████████████████████████████████████████████▎                                 | 311/500 [04:23<00:40,  4.68it/s]"
     ]
    },
    {
     "name": "stdout",
     "output_type": "stream",
     "text": [
      "Rate limit reached. Waiting 20 seconds before retrying...\n",
      "Rate limit reached. Waiting 20 seconds before retrying...\n",
      "Rate limit reached. Waiting 20 seconds before retrying...\n"
     ]
    },
    {
     "name": "stderr",
     "output_type": "stream",
     "text": [
      " 63%|████████████████████████████████████████████████████████                                 | 315/500 [04:23<00:27,  6.76it/s]"
     ]
    },
    {
     "name": "stdout",
     "output_type": "stream",
     "text": [
      "Rate limit reached. Waiting 20 seconds before retrying...\n",
      "Rate limit reached. Waiting 20 seconds before retrying...\n",
      "Rate limit reached. Waiting 20 seconds before retrying...\n"
     ]
    },
    {
     "name": "stderr",
     "output_type": "stream",
     "text": [
      "\r",
      " 63%|████████████████████████████████████████████████████████▍                                | 317/500 [04:23<00:23,  7.80it/s]"
     ]
    },
    {
     "name": "stdout",
     "output_type": "stream",
     "text": [
      "Rate limit reached. Waiting 20 seconds before retrying...\n",
      "Rate limit reached. Waiting 20 seconds before retrying...\n",
      "Rate limit reached. Waiting 20 seconds before retrying...\n"
     ]
    },
    {
     "name": "stderr",
     "output_type": "stream",
     "text": [
      "\r",
      " 64%|████████████████████████████████████████████████████████▊                                | 319/500 [04:23<00:21,  8.58it/s]"
     ]
    },
    {
     "name": "stdout",
     "output_type": "stream",
     "text": [
      "Rate limit reached. Waiting 20 seconds before retrying...\n"
     ]
    },
    {
     "name": "stderr",
     "output_type": "stream",
     "text": [
      " 64%|█████████████████████████████████████████████████████████▎                               | 322/500 [04:24<00:25,  7.02it/s]"
     ]
    },
    {
     "name": "stdout",
     "output_type": "stream",
     "text": [
      "Rate limit reached. Waiting 20 seconds before retrying...\n",
      "Rate limit reached. Waiting 20 seconds before retrying...\n"
     ]
    },
    {
     "name": "stderr",
     "output_type": "stream",
     "text": [
      " 65%|██████████████████████████████████████████████████████████▏                              | 327/500 [04:26<00:45,  3.83it/s]"
     ]
    },
    {
     "name": "stdout",
     "output_type": "stream",
     "text": [
      "Rate limit reached. Waiting 20 seconds before retrying...\n",
      "Rate limit reached. Waiting 20 seconds before retrying...\n",
      "Rate limit reached. Waiting 20 seconds before retrying...\n"
     ]
    },
    {
     "name": "stderr",
     "output_type": "stream",
     "text": [
      " 66%|██████████████████████████████████████████████████████████▉                              | 331/500 [04:26<00:27,  6.18it/s]"
     ]
    },
    {
     "name": "stdout",
     "output_type": "stream",
     "text": [
      "Rate limit reached. Waiting 20 seconds before retrying...\n",
      "Rate limit reached. Waiting 20 seconds before retrying...\n",
      "Rate limit reached. Waiting 20 seconds before retrying...\n"
     ]
    },
    {
     "name": "stderr",
     "output_type": "stream",
     "text": [
      "\r",
      " 67%|███████████████████████████████████████████████████████████▎                             | 333/500 [04:26<00:23,  7.20it/s]"
     ]
    },
    {
     "name": "stdout",
     "output_type": "stream",
     "text": [
      "Rate limit reached. Waiting 20 seconds before retrying...\n",
      "Rate limit reached. Waiting 20 seconds before retrying...\n",
      "Rate limit reached. Waiting 20 seconds before retrying...\n"
     ]
    },
    {
     "name": "stderr",
     "output_type": "stream",
     "text": [
      " 67%|███████████████████████████████████████████████████████████▉                             | 337/500 [04:27<00:18,  8.80it/s]"
     ]
    },
    {
     "name": "stdout",
     "output_type": "stream",
     "text": [
      "Rate limit reached. Waiting 20 seconds before retrying...\n",
      "Rate limit reached. Waiting 20 seconds before retrying...\n",
      "Rate limit reached. Waiting 20 seconds before retrying...\n"
     ]
    },
    {
     "name": "stderr",
     "output_type": "stream",
     "text": [
      "\r",
      " 68%|████████████████████████████████████████████████████████████▎                            | 339/500 [04:27<00:17,  9.30it/s]"
     ]
    },
    {
     "name": "stdout",
     "output_type": "stream",
     "text": [
      "Rate limit reached. Waiting 20 seconds before retrying...\n",
      "Rate limit reached. Waiting 20 seconds before retrying...\n",
      "Rate limit reached. Waiting 20 seconds before retrying...\n"
     ]
    },
    {
     "name": "stderr",
     "output_type": "stream",
     "text": [
      " 69%|█████████████████████████████████████████████████████████████▍                           | 345/500 [04:28<00:24,  6.45it/s]"
     ]
    },
    {
     "name": "stdout",
     "output_type": "stream",
     "text": [
      "Rate limit reached. Waiting 20 seconds before retrying...\n",
      "Rate limit reached. Waiting 20 seconds before retrying...\n",
      "Rate limit reached. Waiting 20 seconds before retrying...\n"
     ]
    },
    {
     "name": "stderr",
     "output_type": "stream",
     "text": [
      " 70%|█████████████████████████████████████████████████████████████▉                           | 348/500 [04:28<00:19,  7.68it/s]"
     ]
    },
    {
     "name": "stdout",
     "output_type": "stream",
     "text": [
      "Rate limit reached. Waiting 20 seconds before retrying...\n",
      "Rate limit reached. Waiting 20 seconds before retrying...\n",
      "Rate limit reached. Waiting 20 seconds before retrying...\n"
     ]
    },
    {
     "name": "stderr",
     "output_type": "stream",
     "text": [
      " 70%|██████████████████████████████████████████████████████████████▍                          | 351/500 [04:29<00:17,  8.69it/s]"
     ]
    },
    {
     "name": "stdout",
     "output_type": "stream",
     "text": [
      "Rate limit reached. Waiting 20 seconds before retrying...\n",
      "Rate limit reached. Waiting 20 seconds before retrying...\n",
      "Rate limit reached. Waiting 20 seconds before retrying...\n"
     ]
    },
    {
     "name": "stderr",
     "output_type": "stream",
     "text": [
      "\r",
      " 71%|██████████████████████████████████████████████████████████████▊                          | 353/500 [04:29<00:15,  9.30it/s]"
     ]
    },
    {
     "name": "stdout",
     "output_type": "stream",
     "text": [
      "Rate limit reached. Waiting 20 seconds before retrying...\n"
     ]
    },
    {
     "name": "stderr",
     "output_type": "stream",
     "text": [
      " 71%|███████████████████████████████████████████████████████████████▎                         | 356/500 [04:30<00:22,  6.40it/s]"
     ]
    },
    {
     "name": "stdout",
     "output_type": "stream",
     "text": [
      "Rate limit reached. Waiting 20 seconds before retrying...\n",
      "Rate limit reached. Waiting 20 seconds before retrying...\n",
      "Rate limit reached. Waiting 20 seconds before retrying...\n"
     ]
    },
    {
     "name": "stderr",
     "output_type": "stream",
     "text": [
      " 72%|████████████████████████████████████████████████████████████████▎                        | 361/500 [04:31<00:42,  3.26it/s]"
     ]
    },
    {
     "name": "stdout",
     "output_type": "stream",
     "text": [
      "Rate limit reached. Waiting 20 seconds before retrying...\n"
     ]
    },
    {
     "name": "stderr",
     "output_type": "stream",
     "text": [
      " 73%|████████████████████████████████████████████████████████████████▊                        | 364/500 [04:32<00:30,  4.43it/s]"
     ]
    },
    {
     "name": "stdout",
     "output_type": "stream",
     "text": [
      "Rate limit reached. Waiting 20 seconds before retrying...\n",
      "Rate limit reached. Waiting 20 seconds before retrying...\n"
     ]
    },
    {
     "name": "stderr",
     "output_type": "stream",
     "text": [
      " 73%|█████████████████████████████████████████████████████████████████▎                       | 367/500 [04:33<00:28,  4.59it/s]"
     ]
    },
    {
     "name": "stdout",
     "output_type": "stream",
     "text": [
      "Rate limit reached. Waiting 20 seconds before retrying...\n",
      "Rate limit reached. Waiting 20 seconds before retrying...\n",
      "Rate limit reached. Waiting 20 seconds before retrying...\n"
     ]
    },
    {
     "name": "stderr",
     "output_type": "stream",
     "text": [
      " 74%|██████████████████████████████████████████████████████████████████                       | 371/500 [04:33<00:18,  6.89it/s]"
     ]
    },
    {
     "name": "stdout",
     "output_type": "stream",
     "text": [
      "Rate limit reached. Waiting 20 seconds before retrying...\n",
      "Rate limit reached. Waiting 20 seconds before retrying...\n",
      "Rate limit reached. Waiting 20 seconds before retrying...\n"
     ]
    },
    {
     "name": "stderr",
     "output_type": "stream",
     "text": [
      "\r",
      " 75%|██████████████████████████████████████████████████████████████████▍                      | 373/500 [04:33<00:16,  7.86it/s]"
     ]
    },
    {
     "name": "stdout",
     "output_type": "stream",
     "text": [
      "Rate limit reached. Waiting 20 seconds before retrying...\n",
      "Rate limit reached. Waiting 20 seconds before retrying...\n",
      "Rate limit reached. Waiting 20 seconds before retrying...\n"
     ]
    },
    {
     "name": "stderr",
     "output_type": "stream",
     "text": [
      "\r",
      " 75%|██████████████████████████████████████████████████████████████████▊                      | 375/500 [04:33<00:14,  8.57it/s]"
     ]
    },
    {
     "name": "stdout",
     "output_type": "stream",
     "text": [
      "Rate limit reached. Waiting 20 seconds before retrying...\n"
     ]
    },
    {
     "name": "stderr",
     "output_type": "stream",
     "text": [
      " 76%|███████████████████████████████████████████████████████████████████▍                     | 379/500 [04:35<00:20,  6.04it/s]"
     ]
    },
    {
     "name": "stdout",
     "output_type": "stream",
     "text": [
      "Rate limit reached. Waiting 20 seconds before retrying...\n",
      "Rate limit reached. Waiting 20 seconds before retrying...\n",
      "Rate limit reached. Waiting 20 seconds before retrying...\n"
     ]
    },
    {
     "name": "stderr",
     "output_type": "stream",
     "text": [
      " 77%|████████████████████████████████████████████████████████████████████▌                    | 385/500 [04:36<00:22,  5.22it/s]"
     ]
    },
    {
     "name": "stdout",
     "output_type": "stream",
     "text": [
      "Rate limit reached. Waiting 20 seconds before retrying...\n",
      "Rate limit reached. Waiting 20 seconds before retrying...\n",
      "Rate limit reached. Waiting 20 seconds before retrying...\n"
     ]
    },
    {
     "name": "stderr",
     "output_type": "stream",
     "text": [
      "\r",
      " 77%|████████████████████████████████████████████████████████████████████▉                    | 387/500 [04:36<00:17,  6.50it/s]"
     ]
    },
    {
     "name": "stdout",
     "output_type": "stream",
     "text": [
      "Rate limit reached. Waiting 20 seconds before retrying...\n",
      "Rate limit reached. Waiting 20 seconds before retrying...\n"
     ]
    },
    {
     "name": "stderr",
     "output_type": "stream",
     "text": [
      "\r",
      " 78%|█████████████████████████████████████████████████████████████████████▏                   | 389/500 [04:36<00:14,  7.70it/s]"
     ]
    },
    {
     "name": "stdout",
     "output_type": "stream",
     "text": [
      "Rate limit reached. Waiting 20 seconds before retrying...\n",
      "Rate limit reached. Waiting 20 seconds before retrying...\n"
     ]
    },
    {
     "name": "stderr",
     "output_type": "stream",
     "text": [
      " 79%|██████████████████████████████████████████████████████████████████████▎                  | 395/500 [04:39<00:29,  3.52it/s]"
     ]
    },
    {
     "name": "stdout",
     "output_type": "stream",
     "text": [
      "Rate limit reached. Waiting 20 seconds before retrying...\n",
      "Rate limit reached. Waiting 20 seconds before retrying...\n",
      "Rate limit reached. Waiting 20 seconds before retrying...\n"
     ]
    },
    {
     "name": "stderr",
     "output_type": "stream",
     "text": [
      " 80%|███████████████████████████████████████████████████████████████████████                  | 399/500 [04:39<00:17,  5.80it/s]"
     ]
    },
    {
     "name": "stdout",
     "output_type": "stream",
     "text": [
      "Rate limit reached. Waiting 20 seconds before retrying...\n",
      "Rate limit reached. Waiting 20 seconds before retrying...\n"
     ]
    },
    {
     "name": "stderr",
     "output_type": "stream",
     "text": [
      " 81%|███████████████████████████████████████████████████████████████████████▋                 | 403/500 [04:41<00:27,  3.48it/s]"
     ]
    },
    {
     "name": "stdout",
     "output_type": "stream",
     "text": [
      "Rate limit reached. Waiting 20 seconds before retrying...\n",
      "Rate limit reached. Waiting 20 seconds before retrying...\n",
      "Rate limit reached. Waiting 20 seconds before retrying...\n"
     ]
    },
    {
     "name": "stderr",
     "output_type": "stream",
     "text": [
      " 81%|████████████████████████████████████████████████████████████████████████▍                | 407/500 [04:42<00:16,  5.63it/s]"
     ]
    },
    {
     "name": "stdout",
     "output_type": "stream",
     "text": [
      "Rate limit reached. Waiting 20 seconds before retrying...\n",
      "Rate limit reached. Waiting 20 seconds before retrying...\n",
      "Rate limit reached. Waiting 20 seconds before retrying...\n"
     ]
    },
    {
     "name": "stderr",
     "output_type": "stream",
     "text": [
      "\r",
      " 82%|████████████████████████████████████████████████████████████████████████▌                | 408/500 [04:42<00:15,  6.12it/s]"
     ]
    },
    {
     "name": "stdout",
     "output_type": "stream",
     "text": [
      "Rate limit reached. Waiting 20 seconds before retrying...\n"
     ]
    },
    {
     "name": "stderr",
     "output_type": "stream",
     "text": [
      " 82%|█████████████████████████████████████████████████████████████████████████▏               | 411/500 [04:42<00:16,  5.39it/s]"
     ]
    },
    {
     "name": "stdout",
     "output_type": "stream",
     "text": [
      "Rate limit reached. Waiting 20 seconds before retrying...\n",
      "Rate limit reached. Waiting 20 seconds before retrying...\n"
     ]
    },
    {
     "name": "stderr",
     "output_type": "stream",
     "text": [
      " 83%|█████████████████████████████████████████████████████████████████████████▋               | 414/500 [04:43<00:18,  4.57it/s]"
     ]
    },
    {
     "name": "stdout",
     "output_type": "stream",
     "text": [
      "Rate limit reached. Waiting 20 seconds before retrying...\n",
      "Rate limit reached. Waiting 20 seconds before retrying...\n",
      "Rate limit reached. Waiting 20 seconds before retrying...\n"
     ]
    },
    {
     "name": "stderr",
     "output_type": "stream",
     "text": [
      "\r",
      " 83%|██████████████████████████████████████████████████████████████████████████               | 416/500 [04:43<00:14,  5.77it/s]"
     ]
    },
    {
     "name": "stdout",
     "output_type": "stream",
     "text": [
      "Rate limit reached. Waiting 20 seconds before retrying...\n",
      "Rate limit reached. Waiting 20 seconds before retrying...\n"
     ]
    },
    {
     "name": "stderr",
     "output_type": "stream",
     "text": [
      " 84%|██████████████████████████████████████████████████████████████████████████▌              | 419/500 [04:44<00:11,  6.76it/s]"
     ]
    },
    {
     "name": "stdout",
     "output_type": "stream",
     "text": [
      "Rate limit reached. Waiting 20 seconds before retrying...\n",
      "Rate limit reached. Waiting 20 seconds before retrying...\n"
     ]
    },
    {
     "name": "stderr",
     "output_type": "stream",
     "text": [
      " 84%|██████████████████████████████████████████████████████████████████████████▉              | 421/500 [04:44<00:16,  4.78it/s]"
     ]
    },
    {
     "name": "stdout",
     "output_type": "stream",
     "text": [
      "Rate limit reached. Waiting 20 seconds before retrying...\n",
      "Rate limit reached. Waiting 20 seconds before retrying...\n"
     ]
    },
    {
     "name": "stderr",
     "output_type": "stream",
     "text": [
      "\r",
      " 85%|███████████████████████████████████████████████████████████████████████████▎             | 423/500 [04:45<00:12,  5.96it/s]"
     ]
    },
    {
     "name": "stdout",
     "output_type": "stream",
     "text": [
      "Rate limit reached. Waiting 20 seconds before retrying...\n",
      "Rate limit reached. Waiting 20 seconds before retrying...\n"
     ]
    },
    {
     "name": "stderr",
     "output_type": "stream",
     "text": [
      " 85%|████████████████████████████████████████████████████████████████████████████             | 427/500 [04:45<00:09,  8.03it/s]"
     ]
    },
    {
     "name": "stdout",
     "output_type": "stream",
     "text": [
      "Rate limit reached. Waiting 20 seconds before retrying...\n",
      "Rate limit reached. Waiting 20 seconds before retrying...\n",
      "Rate limit reached. Waiting 20 seconds before retrying...\n"
     ]
    },
    {
     "name": "stderr",
     "output_type": "stream",
     "text": [
      " 86%|████████████████████████████████████████████████████████████████████████████▋            | 431/500 [04:45<00:07,  9.31it/s]"
     ]
    },
    {
     "name": "stdout",
     "output_type": "stream",
     "text": [
      "Rate limit reached. Waiting 20 seconds before retrying...\n",
      "Rate limit reached. Waiting 20 seconds before retrying...\n",
      "Rate limit reached. Waiting 20 seconds before retrying...\n",
      "Rate limit reached. Waiting 20 seconds before retrying...\n"
     ]
    },
    {
     "name": "stderr",
     "output_type": "stream",
     "text": [
      " 87%|█████████████████████████████████████████████████████████████████████████████▌           | 436/500 [04:46<00:07,  8.26it/s]"
     ]
    },
    {
     "name": "stdout",
     "output_type": "stream",
     "text": [
      "Rate limit reached. Waiting 20 seconds before retrying...\n",
      "Rate limit reached. Waiting 20 seconds before retrying...\n",
      "Rate limit reached. Waiting 20 seconds before retrying...\n"
     ]
    },
    {
     "name": "stderr",
     "output_type": "stream",
     "text": [
      " 88%|██████████████████████████████████████████████████████████████████████████████▎          | 440/500 [04:46<00:05, 10.82it/s]"
     ]
    },
    {
     "name": "stdout",
     "output_type": "stream",
     "text": [
      "Rate limit reached. Waiting 20 seconds before retrying...\n",
      "Rate limit reached. Waiting 20 seconds before retrying...\n",
      "Rate limit reached. Waiting 20 seconds before retrying...\n"
     ]
    },
    {
     "name": "stderr",
     "output_type": "stream",
     "text": [
      " 89%|███████████████████████████████████████████████████████████████████████████████          | 444/500 [04:47<00:05, 10.88it/s]"
     ]
    },
    {
     "name": "stdout",
     "output_type": "stream",
     "text": [
      "Rate limit reached. Waiting 20 seconds before retrying...\n",
      "Rate limit reached. Waiting 20 seconds before retrying...\n"
     ]
    },
    {
     "name": "stderr",
     "output_type": "stream",
     "text": [
      "\r",
      " 89%|███████████████████████████████████████████████████████████████████████████████▍         | 446/500 [04:47<00:05, 10.75it/s]"
     ]
    },
    {
     "name": "stdout",
     "output_type": "stream",
     "text": [
      "Rate limit reached. Waiting 20 seconds before retrying...\n",
      "Rate limit reached. Waiting 20 seconds before retrying...\n"
     ]
    },
    {
     "name": "stderr",
     "output_type": "stream",
     "text": [
      "\r",
      " 90%|███████████████████████████████████████████████████████████████████████████████▋         | 448/500 [04:48<00:07,  6.60it/s]"
     ]
    },
    {
     "name": "stdout",
     "output_type": "stream",
     "text": [
      "Rate limit reached. Waiting 20 seconds before retrying...\n",
      "Rate limit reached. Waiting 20 seconds before retrying...\n"
     ]
    },
    {
     "name": "stderr",
     "output_type": "stream",
     "text": [
      " 90%|████████████████████████████████████████████████████████████████████████████████▍        | 452/500 [04:48<00:07,  6.31it/s]"
     ]
    },
    {
     "name": "stdout",
     "output_type": "stream",
     "text": [
      "Rate limit reached. Waiting 20 seconds before retrying...\n"
     ]
    },
    {
     "name": "stderr",
     "output_type": "stream",
     "text": [
      " 91%|█████████████████████████████████████████████████████████████████████████████████▏       | 456/500 [04:49<00:06,  6.59it/s]"
     ]
    },
    {
     "name": "stdout",
     "output_type": "stream",
     "text": [
      "Rate limit reached. Waiting 20 seconds before retrying...\n",
      "Rate limit reached. Waiting 20 seconds before retrying...\n"
     ]
    },
    {
     "name": "stderr",
     "output_type": "stream",
     "text": [
      " 92%|█████████████████████████████████████████████████████████████████████████████████▉       | 460/500 [04:49<00:04,  8.60it/s]"
     ]
    },
    {
     "name": "stdout",
     "output_type": "stream",
     "text": [
      "Rate limit reached. Waiting 20 seconds before retrying...\n",
      "Rate limit reached. Waiting 20 seconds before retrying...\n"
     ]
    },
    {
     "name": "stderr",
     "output_type": "stream",
     "text": [
      "\r",
      " 92%|██████████████████████████████████████████████████████████████████████████████████▏      | 462/500 [04:49<00:04,  9.20it/s]"
     ]
    },
    {
     "name": "stdout",
     "output_type": "stream",
     "text": [
      "Rate limit reached. Waiting 20 seconds before retrying...\n",
      "Rate limit reached. Waiting 20 seconds before retrying...\n"
     ]
    },
    {
     "name": "stderr",
     "output_type": "stream",
     "text": [
      " 93%|██████████████████████████████████████████████████████████████████████████████████▉      | 466/500 [04:50<00:03, 10.43it/s]"
     ]
    },
    {
     "name": "stdout",
     "output_type": "stream",
     "text": [
      "Rate limit reached. Waiting 20 seconds before retrying...\n",
      "Rate limit reached. Waiting 20 seconds before retrying...\n"
     ]
    },
    {
     "name": "stderr",
     "output_type": "stream",
     "text": [
      " 94%|███████████████████████████████████████████████████████████████████████████████████▊     | 471/500 [04:51<00:05,  5.39it/s]"
     ]
    },
    {
     "name": "stdout",
     "output_type": "stream",
     "text": [
      "Rate limit reached. Waiting 20 seconds before retrying...\n",
      "Rate limit reached. Waiting 20 seconds before retrying...\n",
      "Rate limit reached. Waiting 20 seconds before retrying...\n"
     ]
    },
    {
     "name": "stderr",
     "output_type": "stream",
     "text": [
      "\r",
      " 95%|████████████████████████████████████████████████████████████████████████████████████▏    | 473/500 [04:51<00:04,  6.48it/s]"
     ]
    },
    {
     "name": "stdout",
     "output_type": "stream",
     "text": [
      "Rate limit reached. Waiting 20 seconds before retrying...\n",
      "Rate limit reached. Waiting 20 seconds before retrying...\n",
      "Rate limit reached. Waiting 20 seconds before retrying...\n"
     ]
    },
    {
     "name": "stderr",
     "output_type": "stream",
     "text": [
      " 95%|████████████████████████████████████████████████████████████████████████████████████▉    | 477/500 [04:52<00:02,  8.21it/s]"
     ]
    },
    {
     "name": "stdout",
     "output_type": "stream",
     "text": [
      "Rate limit reached. Waiting 20 seconds before retrying...\n",
      "Rate limit reached. Waiting 20 seconds before retrying...\n",
      "Rate limit reached. Waiting 20 seconds before retrying...\n"
     ]
    },
    {
     "name": "stderr",
     "output_type": "stream",
     "text": [
      "\r",
      " 96%|█████████████████████████████████████████████████████████████████████████████████████▎   | 479/500 [04:52<00:02,  8.89it/s]"
     ]
    },
    {
     "name": "stdout",
     "output_type": "stream",
     "text": [
      "Rate limit reached. Waiting 20 seconds before retrying...\n",
      "Rate limit reached. Waiting 20 seconds before retrying...\n",
      "Rate limit reached. Waiting 20 seconds before retrying...\n"
     ]
    },
    {
     "name": "stderr",
     "output_type": "stream",
     "text": [
      " 97%|█████████████████████████████████████████████████████████████████████████████████████▉   | 483/500 [04:52<00:01,  9.71it/s]"
     ]
    },
    {
     "name": "stdout",
     "output_type": "stream",
     "text": [
      "Rate limit reached. Waiting 20 seconds before retrying...\n",
      "Rate limit reached. Waiting 20 seconds before retrying...\n",
      "Rate limit reached. Waiting 20 seconds before retrying...\n"
     ]
    },
    {
     "name": "stderr",
     "output_type": "stream",
     "text": [
      "\r",
      " 97%|██████████████████████████████████████████████████████████████████████████████████████▎  | 485/500 [04:53<00:01, 10.02it/s]"
     ]
    },
    {
     "name": "stdout",
     "output_type": "stream",
     "text": [
      "Rate limit reached. Waiting 20 seconds before retrying...\n",
      "Rate limit reached. Waiting 20 seconds before retrying...\n",
      "Rate limit reached. Waiting 20 seconds before retrying...\n"
     ]
    },
    {
     "name": "stderr",
     "output_type": "stream",
     "text": [
      " 98%|███████████████████████████████████████████████████████████████████████████████████████  | 489/500 [04:53<00:01, 10.33it/s]"
     ]
    },
    {
     "name": "stdout",
     "output_type": "stream",
     "text": [
      "Rate limit reached. Waiting 20 seconds before retrying...\n",
      "Rate limit reached. Waiting 20 seconds before retrying...\n",
      "Rate limit reached. Waiting 20 seconds before retrying...\n"
     ]
    },
    {
     "name": "stderr",
     "output_type": "stream",
     "text": [
      "\r",
      " 98%|███████████████████████████████████████████████████████████████████████████████████████▍ | 491/500 [04:53<00:00, 10.46it/s]"
     ]
    },
    {
     "name": "stdout",
     "output_type": "stream",
     "text": [
      "Rate limit reached. Waiting 20 seconds before retrying...\n",
      "Rate limit reached. Waiting 20 seconds before retrying...\n",
      "Rate limit reached. Waiting 20 seconds before retrying...\n"
     ]
    },
    {
     "name": "stderr",
     "output_type": "stream",
     "text": [
      " 99%|████████████████████████████████████████████████████████████████████████████████████████ | 495/500 [04:54<00:00, 10.60it/s]"
     ]
    },
    {
     "name": "stdout",
     "output_type": "stream",
     "text": [
      "Rate limit reached. Waiting 20 seconds before retrying...\n",
      "Rate limit reached. Waiting 20 seconds before retrying...\n",
      "Rate limit reached. Waiting 20 seconds before retrying...\n",
      "Rate limit reached. Waiting 20 seconds before retrying...\n"
     ]
    },
    {
     "name": "stderr",
     "output_type": "stream",
     "text": [
      "100%|█████████████████████████████████████████████████████████████████████████████████████████| 500/500 [04:54<00:00,  1.70it/s]"
     ]
    },
    {
     "name": "stdout",
     "output_type": "stream",
     "text": [
      "Rate limit reached. Waiting 20 seconds before retrying...\n",
      "Rate limit reached. Waiting 20 seconds before retrying...\n"
     ]
    },
    {
     "name": "stderr",
     "output_type": "stream",
     "text": [
      "\n",
      "/var/folders/k7/_jdxw9bx3_7cybsnkxz0pr200000gn/T/ipykernel_40542/3386284359.py:16: SettingWithCopyWarning: \n",
      "A value is trying to be set on a copy of a slice from a DataFrame.\n",
      "Try using .loc[row_indexer,col_indexer] = value instead\n",
      "\n",
      "See the caveats in the documentation: https://pandas.pydata.org/pandas-docs/stable/user_guide/indexing.html#returning-a-view-versus-a-copy\n",
      "  df['article'] = article_list\n"
     ]
    }
   ],
   "source": [
    "time.sleep(60)\n",
    "art_split5 = add_article(split_5)"
   ]
  },
  {
   "cell_type": "code",
   "execution_count": 172,
   "id": "2a439572",
   "metadata": {},
   "outputs": [
    {
     "name": "stderr",
     "output_type": "stream",
     "text": [
      "  0%|▏                                                                                          | 1/500 [00:00<01:28,  5.61it/s]"
     ]
    },
    {
     "name": "stdout",
     "output_type": "stream",
     "text": [
      "Rate limit reached. Waiting 20 seconds before retrying...\n",
      "Rate limit reached. Waiting 20 seconds before retrying...\n"
     ]
    },
    {
     "name": "stderr",
     "output_type": "stream",
     "text": [
      "  1%|▋                                                                                          | 4/500 [00:10<29:24,  3.56s/it]"
     ]
    },
    {
     "name": "stdout",
     "output_type": "stream",
     "text": [
      "Rate limit reached. Waiting 20 seconds before retrying...\n"
     ]
    },
    {
     "name": "stderr",
     "output_type": "stream",
     "text": [
      "  2%|█▊                                                                                        | 10/500 [00:11<06:17,  1.30it/s]"
     ]
    },
    {
     "name": "stdout",
     "output_type": "stream",
     "text": [
      "Rate limit reached. Waiting 20 seconds before retrying...\n",
      "Rate limit reached. Waiting 20 seconds before retrying...\n"
     ]
    },
    {
     "name": "stderr",
     "output_type": "stream",
     "text": [
      "\r",
      "  2%|██▏                                                                                       | 12/500 [00:11<04:20,  1.87it/s]"
     ]
    },
    {
     "name": "stdout",
     "output_type": "stream",
     "text": [
      "Rate limit reached. Waiting 20 seconds before retrying...\n",
      "Rate limit reached. Waiting 20 seconds before retrying...\n",
      "Rate limit reached. Waiting 20 seconds before retrying...\n"
     ]
    },
    {
     "name": "stderr",
     "output_type": "stream",
     "text": [
      "  3%|██▉                                                                                       | 16/500 [00:12<02:21,  3.42it/s]"
     ]
    },
    {
     "name": "stdout",
     "output_type": "stream",
     "text": [
      "Rate limit reached. Waiting 20 seconds before retrying...\n",
      "Rate limit reached. Waiting 20 seconds before retrying...\n",
      "Rate limit reached. Waiting 20 seconds before retrying...\n"
     ]
    },
    {
     "name": "stderr",
     "output_type": "stream",
     "text": [
      "\r",
      "  4%|███▏                                                                                      | 18/500 [00:12<02:09,  3.74it/s]"
     ]
    },
    {
     "name": "stdout",
     "output_type": "stream",
     "text": [
      "Rate limit reached. Waiting 20 seconds before retrying...\n"
     ]
    },
    {
     "name": "stderr",
     "output_type": "stream",
     "text": [
      "\r",
      "  4%|███▍                                                                                      | 19/500 [00:12<02:12,  3.62it/s]"
     ]
    },
    {
     "name": "stdout",
     "output_type": "stream",
     "text": [
      "Rate limit reached. Waiting 20 seconds before retrying...\n"
     ]
    },
    {
     "name": "stderr",
     "output_type": "stream",
     "text": [
      "  5%|████▊                                                                                     | 27/500 [00:15<02:11,  3.60it/s]"
     ]
    },
    {
     "name": "stdout",
     "output_type": "stream",
     "text": [
      "Rate limit reached. Waiting 20 seconds before retrying...\n"
     ]
    },
    {
     "name": "stderr",
     "output_type": "stream",
     "text": [
      "  6%|█████▍                                                                                    | 30/500 [00:17<04:59,  1.57it/s]"
     ]
    },
    {
     "name": "stdout",
     "output_type": "stream",
     "text": [
      "Rate limit reached. Waiting 20 seconds before retrying...\n"
     ]
    },
    {
     "name": "stderr",
     "output_type": "stream",
     "text": [
      "\r",
      "  6%|█████▊                                                                                    | 32/500 [00:18<03:43,  2.09it/s]"
     ]
    },
    {
     "name": "stdout",
     "output_type": "stream",
     "text": [
      "Rate limit reached. Waiting 20 seconds before retrying...\n"
     ]
    },
    {
     "name": "stderr",
     "output_type": "stream",
     "text": [
      "  9%|███████▉                                                                                  | 44/500 [00:22<02:15,  3.36it/s]"
     ]
    },
    {
     "name": "stdout",
     "output_type": "stream",
     "text": [
      "Rate limit reached. Waiting 20 seconds before retrying...\n"
     ]
    },
    {
     "name": "stderr",
     "output_type": "stream",
     "text": [
      "  9%|████████▍                                                                                 | 47/500 [00:22<01:29,  5.08it/s]"
     ]
    },
    {
     "name": "stdout",
     "output_type": "stream",
     "text": [
      "Rate limit reached. Waiting 20 seconds before retrying...\n"
     ]
    },
    {
     "name": "stderr",
     "output_type": "stream",
     "text": [
      " 10%|█████████▎                                                                                | 52/500 [00:25<03:39,  2.04it/s]"
     ]
    },
    {
     "name": "stdout",
     "output_type": "stream",
     "text": [
      "Rate limit reached. Waiting 20 seconds before retrying...\n"
     ]
    },
    {
     "name": "stderr",
     "output_type": "stream",
     "text": [
      " 13%|████████████                                                                              | 67/500 [00:32<03:57,  1.82it/s]"
     ]
    },
    {
     "name": "stdout",
     "output_type": "stream",
     "text": [
      "Rate limit reached. Waiting 20 seconds before retrying...\n"
     ]
    },
    {
     "name": "stderr",
     "output_type": "stream",
     "text": [
      " 15%|█████████████▏                                                                            | 73/500 [00:34<02:15,  3.16it/s]"
     ]
    },
    {
     "name": "stdout",
     "output_type": "stream",
     "text": [
      "Rate limit reached. Waiting 20 seconds before retrying...\n",
      "Rate limit reached. Waiting 20 seconds before retrying...\n"
     ]
    },
    {
     "name": "stderr",
     "output_type": "stream",
     "text": [
      " 16%|██████████████                                                                            | 78/500 [00:35<01:43,  4.08it/s]"
     ]
    },
    {
     "name": "stdout",
     "output_type": "stream",
     "text": [
      "Rate limit reached. Waiting 20 seconds before retrying...\n",
      "Rate limit reached. Waiting 20 seconds before retrying...\n"
     ]
    },
    {
     "name": "stderr",
     "output_type": "stream",
     "text": [
      " 16%|██████████████▌                                                                           | 81/500 [00:36<01:35,  4.40it/s]"
     ]
    },
    {
     "name": "stdout",
     "output_type": "stream",
     "text": [
      "Rate limit reached. Waiting 20 seconds before retrying...\n",
      "Rate limit reached. Waiting 20 seconds before retrying...\n"
     ]
    },
    {
     "name": "stderr",
     "output_type": "stream",
     "text": [
      " 17%|███████████████▎                                                                          | 85/500 [00:37<01:51,  3.74it/s]"
     ]
    },
    {
     "name": "stdout",
     "output_type": "stream",
     "text": [
      "Rate limit reached. Waiting 20 seconds before retrying...\n",
      "Rate limit reached. Waiting 20 seconds before retrying...\n"
     ]
    },
    {
     "name": "stderr",
     "output_type": "stream",
     "text": [
      " 18%|████████████████                                                                          | 89/500 [00:38<01:45,  3.91it/s]"
     ]
    },
    {
     "name": "stdout",
     "output_type": "stream",
     "text": [
      "Rate limit reached. Waiting 20 seconds before retrying...\n",
      "Rate limit reached. Waiting 20 seconds before retrying...\n"
     ]
    },
    {
     "name": "stderr",
     "output_type": "stream",
     "text": [
      " 19%|█████████████████                                                                         | 95/500 [00:40<01:18,  5.18it/s]"
     ]
    },
    {
     "name": "stdout",
     "output_type": "stream",
     "text": [
      "Rate limit reached. Waiting 20 seconds before retrying...\n",
      "Rate limit reached. Waiting 20 seconds before retrying...\n"
     ]
    },
    {
     "name": "stderr",
     "output_type": "stream",
     "text": [
      " 21%|██████████████████▌                                                                      | 104/500 [00:43<01:56,  3.40it/s]"
     ]
    },
    {
     "name": "stdout",
     "output_type": "stream",
     "text": [
      "Rate limit reached. Waiting 20 seconds before retrying...\n",
      "Rate limit reached. Waiting 20 seconds before retrying...\n",
      "Rate limit reached. Waiting 20 seconds before retrying...\n"
     ]
    },
    {
     "name": "stderr",
     "output_type": "stream",
     "text": [
      " 22%|███████████████████▌                                                                     | 110/500 [00:47<04:39,  1.39it/s]"
     ]
    },
    {
     "name": "stdout",
     "output_type": "stream",
     "text": [
      "Rate limit reached. Waiting 20 seconds before retrying...\n"
     ]
    },
    {
     "name": "stderr",
     "output_type": "stream",
     "text": [
      " 25%|██████████████████████                                                                   | 124/500 [00:53<02:11,  2.86it/s]"
     ]
    },
    {
     "name": "stdout",
     "output_type": "stream",
     "text": [
      "Rate limit reached. Waiting 20 seconds before retrying...\n"
     ]
    },
    {
     "name": "stderr",
     "output_type": "stream",
     "text": [
      " 26%|███████████████████████▎                                                                 | 131/500 [00:56<02:17,  2.68it/s]"
     ]
    },
    {
     "name": "stdout",
     "output_type": "stream",
     "text": [
      "Rate limit reached. Waiting 20 seconds before retrying...\n"
     ]
    },
    {
     "name": "stderr",
     "output_type": "stream",
     "text": [
      "\r",
      " 26%|███████████████████████▍                                                                 | 132/500 [00:57<02:34,  2.38it/s]"
     ]
    },
    {
     "name": "stdout",
     "output_type": "stream",
     "text": [
      "Rate limit reached. Waiting 20 seconds before retrying...\n"
     ]
    },
    {
     "name": "stderr",
     "output_type": "stream",
     "text": [
      "\r",
      " 27%|███████████████████████▊                                                                 | 134/500 [00:57<02:08,  2.84it/s]"
     ]
    },
    {
     "name": "stdout",
     "output_type": "stream",
     "text": [
      "Rate limit reached. Waiting 20 seconds before retrying...\n"
     ]
    },
    {
     "name": "stderr",
     "output_type": "stream",
     "text": [
      " 28%|████████████████████████▉                                                                | 140/500 [00:59<01:43,  3.48it/s]"
     ]
    },
    {
     "name": "stdout",
     "output_type": "stream",
     "text": [
      "Rate limit reached. Waiting 20 seconds before retrying...\n",
      "Rate limit reached. Waiting 20 seconds before retrying...\n",
      "Rate limit reached. Waiting 20 seconds before retrying...\n"
     ]
    },
    {
     "name": "stderr",
     "output_type": "stream",
     "text": [
      "\r",
      " 28%|█████████████████████████▎                                                               | 142/500 [00:59<01:17,  4.61it/s]"
     ]
    },
    {
     "name": "stdout",
     "output_type": "stream",
     "text": [
      "Rate limit reached. Waiting 20 seconds before retrying...\n",
      "Rate limit reached. Waiting 20 seconds before retrying...\n"
     ]
    },
    {
     "name": "stderr",
     "output_type": "stream",
     "text": [
      "\r",
      " 29%|█████████████████████████▋                                                               | 144/500 [01:00<01:24,  4.22it/s]"
     ]
    },
    {
     "name": "stdout",
     "output_type": "stream",
     "text": [
      "Rate limit reached. Waiting 20 seconds before retrying...\n"
     ]
    },
    {
     "name": "stderr",
     "output_type": "stream",
     "text": [
      "\r",
      " 29%|█████████████████████████▉                                                               | 146/500 [01:00<01:27,  4.06it/s]"
     ]
    },
    {
     "name": "stdout",
     "output_type": "stream",
     "text": [
      "Rate limit reached. Waiting 20 seconds before retrying...\n"
     ]
    },
    {
     "name": "stderr",
     "output_type": "stream",
     "text": [
      " 30%|██████████████████████████▌                                                              | 149/500 [01:02<01:56,  3.01it/s]"
     ]
    },
    {
     "name": "stdout",
     "output_type": "stream",
     "text": [
      "Rate limit reached. Waiting 20 seconds before retrying...\n"
     ]
    },
    {
     "name": "stderr",
     "output_type": "stream",
     "text": [
      " 31%|███████████████████████████▍                                                             | 154/500 [01:02<01:15,  4.57it/s]"
     ]
    },
    {
     "name": "stdout",
     "output_type": "stream",
     "text": [
      "Rate limit reached. Waiting 20 seconds before retrying...\n",
      "Rate limit reached. Waiting 20 seconds before retrying...\n",
      "Rate limit reached. Waiting 20 seconds before retrying...\n"
     ]
    },
    {
     "name": "stderr",
     "output_type": "stream",
     "text": [
      " 31%|███████████████████████████▉                                                             | 157/500 [01:03<01:10,  4.85it/s]"
     ]
    },
    {
     "name": "stdout",
     "output_type": "stream",
     "text": [
      "Rate limit reached. Waiting 20 seconds before retrying...\n",
      "Rate limit reached. Waiting 20 seconds before retrying...\n"
     ]
    },
    {
     "name": "stderr",
     "output_type": "stream",
     "text": [
      "\r",
      " 32%|████████████████████████████▎                                                            | 159/500 [01:03<00:55,  6.15it/s]"
     ]
    },
    {
     "name": "stdout",
     "output_type": "stream",
     "text": [
      "Rate limit reached. Waiting 20 seconds before retrying...\n"
     ]
    },
    {
     "name": "stderr",
     "output_type": "stream",
     "text": [
      " 32%|████████████████████████████▊                                                            | 162/500 [01:05<01:27,  3.86it/s]"
     ]
    },
    {
     "name": "stdout",
     "output_type": "stream",
     "text": [
      "Rate limit reached. Waiting 20 seconds before retrying...\n",
      "Rate limit reached. Waiting 20 seconds before retrying...\n",
      "Rate limit reached. Waiting 20 seconds before retrying...\n"
     ]
    },
    {
     "name": "stderr",
     "output_type": "stream",
     "text": [
      " 33%|█████████████████████████████▋                                                           | 167/500 [01:06<01:02,  5.36it/s]"
     ]
    },
    {
     "name": "stdout",
     "output_type": "stream",
     "text": [
      "Rate limit reached. Waiting 20 seconds before retrying...\n",
      "Rate limit reached. Waiting 20 seconds before retrying...\n",
      "Rate limit reached. Waiting 20 seconds before retrying...\n"
     ]
    },
    {
     "name": "stderr",
     "output_type": "stream",
     "text": [
      " 34%|██████████████████████████████▎                                                          | 170/500 [01:06<01:05,  5.05it/s]"
     ]
    },
    {
     "name": "stdout",
     "output_type": "stream",
     "text": [
      "Rate limit reached. Waiting 20 seconds before retrying...\n",
      "Rate limit reached. Waiting 20 seconds before retrying...\n",
      "Rate limit reached. Waiting 20 seconds before retrying...\n"
     ]
    },
    {
     "name": "stderr",
     "output_type": "stream",
     "text": [
      "\r",
      " 34%|██████████████████████████████▌                                                          | 172/500 [01:06<00:52,  6.26it/s]"
     ]
    },
    {
     "name": "stdout",
     "output_type": "stream",
     "text": [
      "Rate limit reached. Waiting 20 seconds before retrying...\n"
     ]
    },
    {
     "name": "stderr",
     "output_type": "stream",
     "text": [
      " 35%|███████████████████████████████▏                                                         | 175/500 [01:07<00:54,  5.92it/s]"
     ]
    },
    {
     "name": "stdout",
     "output_type": "stream",
     "text": [
      "Rate limit reached. Waiting 20 seconds before retrying...\n",
      "Rate limit reached. Waiting 20 seconds before retrying...\n"
     ]
    },
    {
     "name": "stderr",
     "output_type": "stream",
     "text": [
      " 36%|████████████████████████████████▏                                                        | 181/500 [01:09<01:22,  3.85it/s]"
     ]
    },
    {
     "name": "stdout",
     "output_type": "stream",
     "text": [
      "Rate limit reached. Waiting 20 seconds before retrying...\n"
     ]
    },
    {
     "name": "stderr",
     "output_type": "stream",
     "text": [
      " 37%|████████████████████████████████▉                                                        | 185/500 [01:10<01:13,  4.29it/s]"
     ]
    },
    {
     "name": "stdout",
     "output_type": "stream",
     "text": [
      "Rate limit reached. Waiting 20 seconds before retrying...\n",
      "Rate limit reached. Waiting 20 seconds before retrying...\n"
     ]
    },
    {
     "name": "stderr",
     "output_type": "stream",
     "text": [
      " 38%|█████████████████████████████████▍                                                       | 188/500 [01:11<01:23,  3.74it/s]"
     ]
    },
    {
     "name": "stdout",
     "output_type": "stream",
     "text": [
      "Rate limit reached. Waiting 20 seconds before retrying...\n"
     ]
    },
    {
     "name": "stderr",
     "output_type": "stream",
     "text": [
      " 39%|██████████████████████████████████▉                                                      | 196/500 [01:13<00:57,  5.30it/s]"
     ]
    },
    {
     "name": "stdout",
     "output_type": "stream",
     "text": [
      "Rate limit reached. Waiting 20 seconds before retrying...\n",
      "Rate limit reached. Waiting 20 seconds before retrying...\n"
     ]
    },
    {
     "name": "stderr",
     "output_type": "stream",
     "text": [
      "\r",
      " 40%|███████████████████████████████████▏                                                     | 198/500 [01:13<00:47,  6.40it/s]"
     ]
    },
    {
     "name": "stdout",
     "output_type": "stream",
     "text": [
      "Rate limit reached. Waiting 20 seconds before retrying...\n",
      "Rate limit reached. Waiting 20 seconds before retrying...\n",
      "Rate limit reached. Waiting 20 seconds before retrying...\n"
     ]
    },
    {
     "name": "stderr",
     "output_type": "stream",
     "text": [
      "\r",
      " 40%|███████████████████████████████████▌                                                     | 200/500 [01:13<00:40,  7.44it/s]"
     ]
    },
    {
     "name": "stdout",
     "output_type": "stream",
     "text": [
      "Rate limit reached. Waiting 20 seconds before retrying...\n"
     ]
    },
    {
     "name": "stderr",
     "output_type": "stream",
     "text": [
      " 41%|████████████████████████████████████▊                                                    | 207/500 [01:18<02:41,  1.81it/s]"
     ]
    },
    {
     "name": "stdout",
     "output_type": "stream",
     "text": [
      "Rate limit reached. Waiting 20 seconds before retrying...\n"
     ]
    },
    {
     "name": "stderr",
     "output_type": "stream",
     "text": [
      " 42%|█████████████████████████████████████▌                                                   | 211/500 [01:19<01:34,  3.07it/s]"
     ]
    },
    {
     "name": "stdout",
     "output_type": "stream",
     "text": [
      "Rate limit reached. Waiting 20 seconds before retrying...\n"
     ]
    },
    {
     "name": "stderr",
     "output_type": "stream",
     "text": [
      " 43%|██████████████████████████████████████▎                                                  | 215/500 [01:20<01:17,  3.69it/s]"
     ]
    },
    {
     "name": "stdout",
     "output_type": "stream",
     "text": [
      "Rate limit reached. Waiting 20 seconds before retrying...\n",
      "Rate limit reached. Waiting 20 seconds before retrying...\n",
      "Rate limit reached. Waiting 20 seconds before retrying...\n"
     ]
    },
    {
     "name": "stderr",
     "output_type": "stream",
     "text": [
      " 45%|███████████████████████████████████████▋                                                 | 223/500 [01:23<01:20,  3.45it/s]"
     ]
    },
    {
     "name": "stdout",
     "output_type": "stream",
     "text": [
      "Rate limit reached. Waiting 20 seconds before retrying...\n"
     ]
    },
    {
     "name": "stderr",
     "output_type": "stream",
     "text": [
      " 45%|████████████████████████████████████████▍                                                | 227/500 [01:24<01:19,  3.45it/s]"
     ]
    },
    {
     "name": "stdout",
     "output_type": "stream",
     "text": [
      "Rate limit reached. Waiting 20 seconds before retrying...\n"
     ]
    },
    {
     "name": "stderr",
     "output_type": "stream",
     "text": [
      "\r",
      " 46%|████████████████████████████████████████▌                                                | 228/500 [01:26<02:19,  1.95it/s]"
     ]
    },
    {
     "name": "stdout",
     "output_type": "stream",
     "text": [
      "Rate limit reached. Waiting 20 seconds before retrying...\n"
     ]
    },
    {
     "name": "stderr",
     "output_type": "stream",
     "text": [
      " 46%|█████████████████████████████████████████                                                | 231/500 [01:27<02:16,  1.97it/s]"
     ]
    },
    {
     "name": "stdout",
     "output_type": "stream",
     "text": [
      "Rate limit reached. Waiting 20 seconds before retrying...\n"
     ]
    },
    {
     "name": "stderr",
     "output_type": "stream",
     "text": [
      " 47%|█████████████████████████████████████████▊                                               | 235/500 [01:28<01:20,  3.31it/s]"
     ]
    },
    {
     "name": "stdout",
     "output_type": "stream",
     "text": [
      "Rate limit reached. Waiting 20 seconds before retrying...\n"
     ]
    },
    {
     "name": "stderr",
     "output_type": "stream",
     "text": [
      " 48%|██████████████████████████████████████████▌                                              | 239/500 [01:29<01:07,  3.84it/s]"
     ]
    },
    {
     "name": "stdout",
     "output_type": "stream",
     "text": [
      "Rate limit reached. Waiting 20 seconds before retrying...\n"
     ]
    },
    {
     "name": "stderr",
     "output_type": "stream",
     "text": [
      " 49%|███████████████████████████████████████████▍                                             | 244/500 [01:30<00:47,  5.37it/s]"
     ]
    },
    {
     "name": "stdout",
     "output_type": "stream",
     "text": [
      "Rate limit reached. Waiting 20 seconds before retrying...\n",
      "Rate limit reached. Waiting 20 seconds before retrying...\n",
      "Rate limit reached. Waiting 20 seconds before retrying...\n"
     ]
    },
    {
     "name": "stderr",
     "output_type": "stream",
     "text": [
      " 50%|████████████████████████████████████████████▏                                            | 248/500 [01:31<00:51,  4.87it/s]"
     ]
    },
    {
     "name": "stdout",
     "output_type": "stream",
     "text": [
      "Rate limit reached. Waiting 20 seconds before retrying...\n",
      "Rate limit reached. Waiting 20 seconds before retrying...\n"
     ]
    },
    {
     "name": "stderr",
     "output_type": "stream",
     "text": [
      "\r",
      " 50%|████████████████████████████████████████████▌                                            | 250/500 [01:31<00:42,  5.92it/s]"
     ]
    },
    {
     "name": "stdout",
     "output_type": "stream",
     "text": [
      "Rate limit reached. Waiting 20 seconds before retrying...\n"
     ]
    },
    {
     "name": "stderr",
     "output_type": "stream",
     "text": [
      " 50%|████████████████████████████████████████████▊                                            | 252/500 [01:32<01:32,  2.68it/s]"
     ]
    },
    {
     "name": "stdout",
     "output_type": "stream",
     "text": [
      "Rate limit reached. Waiting 20 seconds before retrying...\n"
     ]
    },
    {
     "name": "stderr",
     "output_type": "stream",
     "text": [
      " 55%|█████████████████████████████████████████████████▎                                       | 277/500 [01:45<01:55,  1.94it/s]"
     ]
    },
    {
     "name": "stdout",
     "output_type": "stream",
     "text": [
      "Rate limit reached. Waiting 20 seconds before retrying...\n"
     ]
    },
    {
     "name": "stderr",
     "output_type": "stream",
     "text": [
      " 60%|█████████████████████████████████████████████████████▊                                   | 302/500 [01:55<00:56,  3.48it/s]"
     ]
    },
    {
     "name": "stdout",
     "output_type": "stream",
     "text": [
      "Rate limit reached. Waiting 20 seconds before retrying...\n",
      "Rate limit reached. Waiting 20 seconds before retrying...\n"
     ]
    },
    {
     "name": "stderr",
     "output_type": "stream",
     "text": [
      " 66%|██████████████████████████████████████████████████████████▋                              | 330/500 [02:05<00:40,  4.22it/s]"
     ]
    },
    {
     "name": "stdout",
     "output_type": "stream",
     "text": [
      "Rate limit reached. Waiting 20 seconds before retrying...\n"
     ]
    },
    {
     "name": "stderr",
     "output_type": "stream",
     "text": [
      " 76%|███████████████████████████████████████████████████████████████████▋                     | 380/500 [02:26<00:46,  2.58it/s]"
     ]
    },
    {
     "name": "stdout",
     "output_type": "stream",
     "text": [
      "Rate limit reached. Waiting 20 seconds before retrying...\n"
     ]
    },
    {
     "name": "stderr",
     "output_type": "stream",
     "text": [
      " 79%|██████████████████████████████████████████████████████████████████████▏                  | 394/500 [02:33<00:48,  2.17it/s]"
     ]
    },
    {
     "name": "stdout",
     "output_type": "stream",
     "text": [
      "Rate limit reached. Waiting 20 seconds before retrying...\n"
     ]
    },
    {
     "name": "stderr",
     "output_type": "stream",
     "text": [
      " 80%|██████████████████████████████████████████████████████████████████████▊                  | 398/500 [02:34<00:26,  3.88it/s]"
     ]
    },
    {
     "name": "stdout",
     "output_type": "stream",
     "text": [
      "Rate limit reached. Waiting 20 seconds before retrying...\n"
     ]
    },
    {
     "name": "stderr",
     "output_type": "stream",
     "text": [
      " 85%|███████████████████████████████████████████████████████████████████████████▍             | 424/500 [02:45<00:14,  5.33it/s]"
     ]
    },
    {
     "name": "stdout",
     "output_type": "stream",
     "text": [
      "Rate limit reached. Waiting 20 seconds before retrying...\n"
     ]
    },
    {
     "name": "stderr",
     "output_type": "stream",
     "text": [
      "\r",
      " 85%|███████████████████████████████████████████████████████████████████████████▊             | 426/500 [02:46<00:17,  4.32it/s]"
     ]
    },
    {
     "name": "stdout",
     "output_type": "stream",
     "text": [
      "Rate limit reached. Waiting 20 seconds before retrying...\n"
     ]
    },
    {
     "name": "stderr",
     "output_type": "stream",
     "text": [
      " 91%|████████████████████████████████████████████████████████████████████████████████▉        | 455/500 [03:01<00:20,  2.19it/s]"
     ]
    },
    {
     "name": "stdout",
     "output_type": "stream",
     "text": [
      "Rate limit reached. Waiting 20 seconds before retrying...\n"
     ]
    },
    {
     "name": "stderr",
     "output_type": "stream",
     "text": [
      " 93%|███████████████████████████████████████████████████████████████████████████████████▏     | 467/500 [03:04<00:07,  4.51it/s]"
     ]
    },
    {
     "name": "stdout",
     "output_type": "stream",
     "text": [
      "Rate limit reached. Waiting 20 seconds before retrying...\n"
     ]
    },
    {
     "name": "stderr",
     "output_type": "stream",
     "text": [
      " 97%|██████████████████████████████████████████████████████████████████████████████████████▏  | 484/500 [03:12<00:06,  2.63it/s]"
     ]
    },
    {
     "name": "stdout",
     "output_type": "stream",
     "text": [
      "Rate limit reached. Waiting 20 seconds before retrying...\n"
     ]
    },
    {
     "name": "stderr",
     "output_type": "stream",
     "text": [
      "\r",
      " 97%|██████████████████████████████████████████████████████████████████████████████████████▎  | 485/500 [03:13<00:06,  2.43it/s]"
     ]
    },
    {
     "name": "stdout",
     "output_type": "stream",
     "text": [
      "Rate limit reached. Waiting 20 seconds before retrying...\n"
     ]
    },
    {
     "name": "stderr",
     "output_type": "stream",
     "text": [
      " 98%|███████████████████████████████████████████████████████████████████████████████████████▌ | 492/500 [03:15<00:02,  3.78it/s]"
     ]
    },
    {
     "name": "stdout",
     "output_type": "stream",
     "text": [
      "Rate limit reached. Waiting 20 seconds before retrying...\n"
     ]
    },
    {
     "name": "stderr",
     "output_type": "stream",
     "text": [
      " 99%|████████████████████████████████████████████████████████████████████████████████████████▎| 496/500 [03:16<00:01,  2.82it/s]"
     ]
    },
    {
     "name": "stdout",
     "output_type": "stream",
     "text": [
      "Rate limit reached. Waiting 20 seconds before retrying...\n"
     ]
    },
    {
     "name": "stderr",
     "output_type": "stream",
     "text": [
      "100%|█████████████████████████████████████████████████████████████████████████████████████████| 500/500 [03:18<00:00,  2.52it/s]"
     ]
    },
    {
     "name": "stdout",
     "output_type": "stream",
     "text": [
      "Rate limit reached. Waiting 20 seconds before retrying...\n"
     ]
    },
    {
     "name": "stderr",
     "output_type": "stream",
     "text": [
      "\n",
      "/var/folders/k7/_jdxw9bx3_7cybsnkxz0pr200000gn/T/ipykernel_40542/3386284359.py:16: SettingWithCopyWarning: \n",
      "A value is trying to be set on a copy of a slice from a DataFrame.\n",
      "Try using .loc[row_indexer,col_indexer] = value instead\n",
      "\n",
      "See the caveats in the documentation: https://pandas.pydata.org/pandas-docs/stable/user_guide/indexing.html#returning-a-view-versus-a-copy\n",
      "  df['article'] = article_list\n"
     ]
    }
   ],
   "source": [
    "time.sleep(300)\n",
    "art_split6 = add_article(split_6)"
   ]
  },
  {
   "cell_type": "code",
   "execution_count": 173,
   "id": "ca86de5f",
   "metadata": {},
   "outputs": [
    {
     "name": "stderr",
     "output_type": "stream",
     "text": [
      "  0%|▏                                                                                          | 1/500 [00:00<01:47,  4.62it/s]"
     ]
    },
    {
     "name": "stdout",
     "output_type": "stream",
     "text": [
      "Rate limit reached. Waiting 20 seconds before retrying...\n"
     ]
    },
    {
     "name": "stderr",
     "output_type": "stream",
     "text": [
      "  2%|█▊                                                                                        | 10/500 [00:05<02:54,  2.81it/s]"
     ]
    },
    {
     "name": "stdout",
     "output_type": "stream",
     "text": [
      "Rate limit reached. Waiting 20 seconds before retrying...\n"
     ]
    },
    {
     "name": "stderr",
     "output_type": "stream",
     "text": [
      "  2%|██▏                                                                                       | 12/500 [00:06<04:02,  2.01it/s]"
     ]
    },
    {
     "name": "stdout",
     "output_type": "stream",
     "text": [
      "Rate limit reached. Waiting 20 seconds before retrying...\n"
     ]
    },
    {
     "name": "stderr",
     "output_type": "stream",
     "text": [
      "  8%|██████▊                                                                                   | 38/500 [00:15<02:26,  3.14it/s]"
     ]
    },
    {
     "name": "stdout",
     "output_type": "stream",
     "text": [
      "Rate limit reached. Waiting 20 seconds before retrying...\n"
     ]
    },
    {
     "name": "stderr",
     "output_type": "stream",
     "text": [
      "  8%|███████▌                                                                                  | 42/500 [00:17<02:38,  2.89it/s]"
     ]
    },
    {
     "name": "stdout",
     "output_type": "stream",
     "text": [
      "Rate limit reached. Waiting 20 seconds before retrying...\n"
     ]
    },
    {
     "name": "stderr",
     "output_type": "stream",
     "text": [
      "  9%|████████                                                                                  | 45/500 [00:17<01:56,  3.89it/s]"
     ]
    },
    {
     "name": "stdout",
     "output_type": "stream",
     "text": [
      "Rate limit reached. Waiting 20 seconds before retrying...\n",
      "Rate limit reached. Waiting 20 seconds before retrying...\n"
     ]
    },
    {
     "name": "stderr",
     "output_type": "stream",
     "text": [
      " 10%|████████▊                                                                                 | 49/500 [00:18<01:29,  5.07it/s]"
     ]
    },
    {
     "name": "stdout",
     "output_type": "stream",
     "text": [
      "Rate limit reached. Waiting 20 seconds before retrying...\n",
      "Rate limit reached. Waiting 20 seconds before retrying...\n",
      "Rate limit reached. Waiting 20 seconds before retrying...\n"
     ]
    },
    {
     "name": "stderr",
     "output_type": "stream",
     "text": [
      "\r",
      " 10%|█████████                                                                                 | 50/500 [00:18<01:19,  5.63it/s]"
     ]
    },
    {
     "name": "stdout",
     "output_type": "stream",
     "text": [
      "Rate limit reached. Waiting 20 seconds before retrying...\n"
     ]
    },
    {
     "name": "stderr",
     "output_type": "stream",
     "text": [
      " 13%|███████████▎                                                                              | 63/500 [00:23<01:58,  3.70it/s]"
     ]
    },
    {
     "name": "stdout",
     "output_type": "stream",
     "text": [
      "Rate limit reached. Waiting 20 seconds before retrying...\n"
     ]
    },
    {
     "name": "stderr",
     "output_type": "stream",
     "text": [
      " 13%|███████████▋                                                                              | 65/500 [00:24<01:40,  4.34it/s]"
     ]
    },
    {
     "name": "stdout",
     "output_type": "stream",
     "text": [
      "Rate limit reached. Waiting 20 seconds before retrying...\n"
     ]
    },
    {
     "name": "stderr",
     "output_type": "stream",
     "text": [
      " 14%|████████████▏                                                                             | 68/500 [00:25<02:42,  2.66it/s]"
     ]
    },
    {
     "name": "stdout",
     "output_type": "stream",
     "text": [
      "Rate limit reached. Waiting 20 seconds before retrying...\n"
     ]
    },
    {
     "name": "stderr",
     "output_type": "stream",
     "text": [
      " 18%|███████████████▊                                                                          | 88/500 [00:33<02:14,  3.07it/s]"
     ]
    },
    {
     "name": "stdout",
     "output_type": "stream",
     "text": [
      "Rate limit reached. Waiting 20 seconds before retrying...\n"
     ]
    },
    {
     "name": "stderr",
     "output_type": "stream",
     "text": [
      " 19%|████████████████▋                                                                         | 93/500 [00:34<01:22,  4.96it/s]"
     ]
    },
    {
     "name": "stdout",
     "output_type": "stream",
     "text": [
      "Rate limit reached. Waiting 20 seconds before retrying...\n",
      "Rate limit reached. Waiting 20 seconds before retrying...\n"
     ]
    },
    {
     "name": "stderr",
     "output_type": "stream",
     "text": [
      " 20%|█████████████████▋                                                                        | 98/500 [00:36<02:43,  2.46it/s]"
     ]
    },
    {
     "name": "stdout",
     "output_type": "stream",
     "text": [
      "Rate limit reached. Waiting 20 seconds before retrying...\n"
     ]
    },
    {
     "name": "stderr",
     "output_type": "stream",
     "text": [
      " 20%|█████████████████▉                                                                       | 101/500 [00:38<03:12,  2.07it/s]"
     ]
    },
    {
     "name": "stdout",
     "output_type": "stream",
     "text": [
      "Rate limit reached. Waiting 20 seconds before retrying...\n"
     ]
    },
    {
     "name": "stderr",
     "output_type": "stream",
     "text": [
      " 21%|██████████████████▌                                                                      | 104/500 [00:39<03:27,  1.91it/s]"
     ]
    },
    {
     "name": "stdout",
     "output_type": "stream",
     "text": [
      "Rate limit reached. Waiting 20 seconds before retrying...\n"
     ]
    },
    {
     "name": "stderr",
     "output_type": "stream",
     "text": [
      " 21%|███████████████████                                                                      | 107/500 [00:40<02:51,  2.29it/s]"
     ]
    },
    {
     "name": "stdout",
     "output_type": "stream",
     "text": [
      "Rate limit reached. Waiting 20 seconds before retrying...\n"
     ]
    },
    {
     "name": "stderr",
     "output_type": "stream",
     "text": [
      " 24%|█████████████████████                                                                    | 118/500 [00:45<01:47,  3.55it/s]"
     ]
    },
    {
     "name": "stdout",
     "output_type": "stream",
     "text": [
      "Rate limit reached. Waiting 20 seconds before retrying...\n"
     ]
    },
    {
     "name": "stderr",
     "output_type": "stream",
     "text": [
      " 25%|██████████████████████                                                                   | 124/500 [00:47<01:46,  3.52it/s]"
     ]
    },
    {
     "name": "stdout",
     "output_type": "stream",
     "text": [
      "Rate limit reached. Waiting 20 seconds before retrying...\n",
      "Rate limit reached. Waiting 20 seconds before retrying...\n"
     ]
    },
    {
     "name": "stderr",
     "output_type": "stream",
     "text": [
      " 27%|███████████████████████▊                                                                 | 134/500 [00:52<02:56,  2.07it/s]"
     ]
    },
    {
     "name": "stdout",
     "output_type": "stream",
     "text": [
      "Rate limit reached. Waiting 20 seconds before retrying...\n"
     ]
    },
    {
     "name": "stderr",
     "output_type": "stream",
     "text": [
      " 29%|█████████████████████████▍                                                               | 143/500 [00:55<01:56,  3.07it/s]"
     ]
    },
    {
     "name": "stdout",
     "output_type": "stream",
     "text": [
      "Rate limit reached. Waiting 20 seconds before retrying...\n"
     ]
    },
    {
     "name": "stderr",
     "output_type": "stream",
     "text": [
      " 30%|██████████████████████████▎                                                              | 148/500 [00:57<01:17,  4.53it/s]"
     ]
    },
    {
     "name": "stdout",
     "output_type": "stream",
     "text": [
      "Rate limit reached. Waiting 20 seconds before retrying...\n",
      "Rate limit reached. Waiting 20 seconds before retrying...\n"
     ]
    },
    {
     "name": "stderr",
     "output_type": "stream",
     "text": [
      " 33%|█████████████████████████████                                                            | 163/500 [01:04<02:12,  2.55it/s]"
     ]
    },
    {
     "name": "stdout",
     "output_type": "stream",
     "text": [
      "Rate limit reached. Waiting 20 seconds before retrying...\n"
     ]
    },
    {
     "name": "stderr",
     "output_type": "stream",
     "text": [
      " 34%|█████████████████████████████▉                                                           | 168/500 [01:05<01:24,  3.92it/s]"
     ]
    },
    {
     "name": "stdout",
     "output_type": "stream",
     "text": [
      "Rate limit reached. Waiting 20 seconds before retrying...\n",
      "Rate limit reached. Waiting 20 seconds before retrying...\n"
     ]
    },
    {
     "name": "stderr",
     "output_type": "stream",
     "text": [
      " 34%|██████████████████████████████▌                                                          | 172/500 [01:06<01:18,  4.17it/s]"
     ]
    },
    {
     "name": "stdout",
     "output_type": "stream",
     "text": [
      "Rate limit reached. Waiting 20 seconds before retrying...\n",
      "Rate limit reached. Waiting 20 seconds before retrying...\n"
     ]
    },
    {
     "name": "stderr",
     "output_type": "stream",
     "text": [
      " 35%|███████████████████████████████▏                                                         | 175/500 [01:07<01:12,  4.48it/s]"
     ]
    },
    {
     "name": "stdout",
     "output_type": "stream",
     "text": [
      "Rate limit reached. Waiting 20 seconds before retrying...\n",
      "Rate limit reached. Waiting 20 seconds before retrying...\n"
     ]
    },
    {
     "name": "stderr",
     "output_type": "stream",
     "text": [
      "\r",
      " 35%|███████████████████████████████▎                                                         | 176/500 [01:07<01:05,  4.91it/s]"
     ]
    },
    {
     "name": "stdout",
     "output_type": "stream",
     "text": [
      "Rate limit reached. Waiting 20 seconds before retrying...\n"
     ]
    },
    {
     "name": "stderr",
     "output_type": "stream",
     "text": [
      " 36%|████████████████████████████████▏                                                        | 181/500 [01:09<01:28,  3.61it/s]"
     ]
    },
    {
     "name": "stdout",
     "output_type": "stream",
     "text": [
      "Rate limit reached. Waiting 20 seconds before retrying...\n"
     ]
    },
    {
     "name": "stderr",
     "output_type": "stream",
     "text": [
      " 37%|████████████████████████████████▌                                                        | 183/500 [01:10<01:29,  3.53it/s]"
     ]
    },
    {
     "name": "stdout",
     "output_type": "stream",
     "text": [
      "Rate limit reached. Waiting 20 seconds before retrying...\n"
     ]
    },
    {
     "name": "stderr",
     "output_type": "stream",
     "text": [
      " 38%|█████████████████████████████████▋                                                       | 189/500 [01:12<01:35,  3.26it/s]"
     ]
    },
    {
     "name": "stdout",
     "output_type": "stream",
     "text": [
      "Rate limit reached. Waiting 20 seconds before retrying...\n"
     ]
    },
    {
     "name": "stderr",
     "output_type": "stream",
     "text": [
      " 39%|██████████████████████████████████▋                                                      | 195/500 [01:14<02:24,  2.11it/s]"
     ]
    },
    {
     "name": "stdout",
     "output_type": "stream",
     "text": [
      "Rate limit reached. Waiting 20 seconds before retrying...\n"
     ]
    },
    {
     "name": "stderr",
     "output_type": "stream",
     "text": [
      " 40%|███████████████████████████████████▌                                                     | 200/500 [01:16<01:34,  3.19it/s]"
     ]
    },
    {
     "name": "stdout",
     "output_type": "stream",
     "text": [
      "Rate limit reached. Waiting 20 seconds before retrying...\n",
      "Rate limit reached. Waiting 20 seconds before retrying...\n"
     ]
    },
    {
     "name": "stderr",
     "output_type": "stream",
     "text": [
      " 42%|█████████████████████████████████████                                                    | 208/500 [01:19<01:30,  3.21it/s]"
     ]
    },
    {
     "name": "stdout",
     "output_type": "stream",
     "text": [
      "Rate limit reached. Waiting 20 seconds before retrying...\n"
     ]
    },
    {
     "name": "stderr",
     "output_type": "stream",
     "text": [
      " 43%|██████████████████████████████████████                                                   | 214/500 [01:21<01:37,  2.94it/s]"
     ]
    },
    {
     "name": "stdout",
     "output_type": "stream",
     "text": [
      "Rate limit reached. Waiting 20 seconds before retrying...\n",
      "Rate limit reached. Waiting 20 seconds before retrying...\n"
     ]
    },
    {
     "name": "stderr",
     "output_type": "stream",
     "text": [
      " 46%|█████████████████████████████████████████                                                | 231/500 [01:30<01:40,  2.69it/s]"
     ]
    },
    {
     "name": "stdout",
     "output_type": "stream",
     "text": [
      "Rate limit reached. Waiting 20 seconds before retrying...\n",
      "Rate limit reached. Waiting 20 seconds before retrying...\n"
     ]
    },
    {
     "name": "stderr",
     "output_type": "stream",
     "text": [
      " 47%|█████████████████████████████████████████▊                                               | 235/500 [01:32<01:42,  2.60it/s]"
     ]
    },
    {
     "name": "stdout",
     "output_type": "stream",
     "text": [
      "Rate limit reached. Waiting 20 seconds before retrying...\n"
     ]
    },
    {
     "name": "stderr",
     "output_type": "stream",
     "text": [
      " 48%|██████████████████████████████████████████▋                                              | 240/500 [01:34<02:09,  2.01it/s]"
     ]
    },
    {
     "name": "stdout",
     "output_type": "stream",
     "text": [
      "Rate limit reached. Waiting 20 seconds before retrying...\n"
     ]
    },
    {
     "name": "stderr",
     "output_type": "stream",
     "text": [
      " 49%|███████████████████████████████████████████▌                                             | 245/500 [01:36<01:19,  3.20it/s]"
     ]
    },
    {
     "name": "stdout",
     "output_type": "stream",
     "text": [
      "Rate limit reached. Waiting 20 seconds before retrying...\n",
      "Rate limit reached. Waiting 20 seconds before retrying...\n"
     ]
    },
    {
     "name": "stderr",
     "output_type": "stream",
     "text": [
      " 51%|█████████████████████████████████████████████▏                                           | 254/500 [01:41<02:09,  1.89it/s]"
     ]
    },
    {
     "name": "stdout",
     "output_type": "stream",
     "text": [
      "Rate limit reached. Waiting 20 seconds before retrying...\n"
     ]
    },
    {
     "name": "stderr",
     "output_type": "stream",
     "text": [
      "\r",
      " 51%|█████████████████████████████████████████████▌                                           | 256/500 [01:41<01:45,  2.32it/s]"
     ]
    },
    {
     "name": "stdout",
     "output_type": "stream",
     "text": [
      "Rate limit reached. Waiting 20 seconds before retrying...\n"
     ]
    },
    {
     "name": "stderr",
     "output_type": "stream",
     "text": [
      " 52%|██████████████████████████████████████████████▎                                          | 260/500 [01:43<01:23,  2.89it/s]"
     ]
    },
    {
     "name": "stdout",
     "output_type": "stream",
     "text": [
      "Rate limit reached. Waiting 20 seconds before retrying...\n"
     ]
    },
    {
     "name": "stderr",
     "output_type": "stream",
     "text": [
      " 53%|██████████████████████████████████████████████▊                                          | 263/500 [01:43<01:02,  3.77it/s]"
     ]
    },
    {
     "name": "stdout",
     "output_type": "stream",
     "text": [
      "Rate limit reached. Waiting 20 seconds before retrying...\n",
      "Rate limit reached. Waiting 20 seconds before retrying...\n"
     ]
    },
    {
     "name": "stderr",
     "output_type": "stream",
     "text": [
      " 53%|███████████████████████████████████████████████▏                                         | 265/500 [01:44<00:59,  3.97it/s]"
     ]
    },
    {
     "name": "stdout",
     "output_type": "stream",
     "text": [
      "Rate limit reached. Waiting 20 seconds before retrying...\n"
     ]
    },
    {
     "name": "stderr",
     "output_type": "stream",
     "text": [
      " 54%|███████████████████████████████████████████████▋                                         | 268/500 [01:46<01:33,  2.48it/s]"
     ]
    },
    {
     "name": "stdout",
     "output_type": "stream",
     "text": [
      "Rate limit reached. Waiting 20 seconds before retrying...\n"
     ]
    },
    {
     "name": "stderr",
     "output_type": "stream",
     "text": [
      " 54%|████████████████████████████████████████████████▍                                        | 272/500 [01:47<01:27,  2.59it/s]"
     ]
    },
    {
     "name": "stdout",
     "output_type": "stream",
     "text": [
      "Rate limit reached. Waiting 20 seconds before retrying...\n"
     ]
    },
    {
     "name": "stderr",
     "output_type": "stream",
     "text": [
      " 55%|█████████████████████████████████████████████████▏                                       | 276/500 [01:49<01:16,  2.93it/s]"
     ]
    },
    {
     "name": "stdout",
     "output_type": "stream",
     "text": [
      "Rate limit reached. Waiting 20 seconds before retrying...\n",
      "Rate limit reached. Waiting 20 seconds before retrying...\n"
     ]
    },
    {
     "name": "stderr",
     "output_type": "stream",
     "text": [
      " 57%|██████████████████████████████████████████████████▋                                      | 285/500 [01:51<00:50,  4.29it/s]"
     ]
    },
    {
     "name": "stdout",
     "output_type": "stream",
     "text": [
      "Rate limit reached. Waiting 20 seconds before retrying...\n",
      "Rate limit reached. Waiting 20 seconds before retrying...\n"
     ]
    },
    {
     "name": "stderr",
     "output_type": "stream",
     "text": [
      " 57%|███████████████████████████████████████████████████                                      | 287/500 [01:52<00:57,  3.73it/s]"
     ]
    },
    {
     "name": "stdout",
     "output_type": "stream",
     "text": [
      "Rate limit reached. Waiting 20 seconds before retrying...\n"
     ]
    },
    {
     "name": "stderr",
     "output_type": "stream",
     "text": [
      " 58%|███████████████████████████████████████████████████▉                                     | 292/500 [01:54<01:19,  2.62it/s]"
     ]
    },
    {
     "name": "stdout",
     "output_type": "stream",
     "text": [
      "Rate limit reached. Waiting 20 seconds before retrying...\n",
      "Rate limit reached. Waiting 20 seconds before retrying...\n"
     ]
    },
    {
     "name": "stderr",
     "output_type": "stream",
     "text": [
      "\r",
      " 59%|████████████████████████████████████████████████████▏                                    | 293/500 [01:55<01:05,  3.17it/s]"
     ]
    },
    {
     "name": "stdout",
     "output_type": "stream",
     "text": [
      "Rate limit reached. Waiting 20 seconds before retrying...\n"
     ]
    },
    {
     "name": "stderr",
     "output_type": "stream",
     "text": [
      " 60%|█████████████████████████████████████████████████████▍                                   | 300/500 [01:57<00:57,  3.47it/s]"
     ]
    },
    {
     "name": "stdout",
     "output_type": "stream",
     "text": [
      "Rate limit reached. Waiting 20 seconds before retrying...\n",
      "Rate limit reached. Waiting 20 seconds before retrying...\n"
     ]
    },
    {
     "name": "stderr",
     "output_type": "stream",
     "text": [
      " 62%|███████████████████████████████████████████████████████▎                                 | 311/500 [02:04<01:55,  1.64it/s]"
     ]
    },
    {
     "name": "stdout",
     "output_type": "stream",
     "text": [
      "Rate limit reached. Waiting 20 seconds before retrying...\n"
     ]
    },
    {
     "name": "stderr",
     "output_type": "stream",
     "text": [
      " 65%|█████████████████████████████████████████████████████████▊                               | 325/500 [02:11<01:05,  2.69it/s]"
     ]
    },
    {
     "name": "stdout",
     "output_type": "stream",
     "text": [
      "Rate limit reached. Waiting 20 seconds before retrying...\n",
      "Rate limit reached. Waiting 20 seconds before retrying...\n"
     ]
    },
    {
     "name": "stderr",
     "output_type": "stream",
     "text": [
      " 66%|██████████████████████████████████████████████████████████▌                              | 329/500 [02:11<00:34,  4.97it/s]"
     ]
    },
    {
     "name": "stdout",
     "output_type": "stream",
     "text": [
      "Rate limit reached. Waiting 20 seconds before retrying...\n",
      "Rate limit reached. Waiting 20 seconds before retrying...\n"
     ]
    },
    {
     "name": "stderr",
     "output_type": "stream",
     "text": [
      " 66%|███████████████████████████████████████████████████████████                              | 332/500 [02:13<00:52,  3.21it/s]"
     ]
    },
    {
     "name": "stdout",
     "output_type": "stream",
     "text": [
      "Rate limit reached. Waiting 20 seconds before retrying...\n"
     ]
    },
    {
     "name": "stderr",
     "output_type": "stream",
     "text": [
      " 67%|███████████████████████████████████████████████████████████▊                             | 336/500 [02:14<00:53,  3.08it/s]"
     ]
    },
    {
     "name": "stdout",
     "output_type": "stream",
     "text": [
      "Rate limit reached. Waiting 20 seconds before retrying...\n"
     ]
    },
    {
     "name": "stderr",
     "output_type": "stream",
     "text": [
      " 68%|████████████████████████████████████████████████████████████▎                            | 339/500 [02:15<00:40,  3.93it/s]"
     ]
    },
    {
     "name": "stdout",
     "output_type": "stream",
     "text": [
      "Rate limit reached. Waiting 20 seconds before retrying...\n",
      "Rate limit reached. Waiting 20 seconds before retrying...\n"
     ]
    },
    {
     "name": "stderr",
     "output_type": "stream",
     "text": [
      "\r",
      " 68%|████████████████████████████████████████████████████████████▌                            | 340/500 [02:15<00:34,  4.65it/s]"
     ]
    },
    {
     "name": "stdout",
     "output_type": "stream",
     "text": [
      "Rate limit reached. Waiting 20 seconds before retrying...\n"
     ]
    },
    {
     "name": "stderr",
     "output_type": "stream",
     "text": [
      " 69%|█████████████████████████████████████████████████████████████▍                           | 345/500 [02:17<00:44,  3.45it/s]"
     ]
    },
    {
     "name": "stdout",
     "output_type": "stream",
     "text": [
      "Rate limit reached. Waiting 20 seconds before retrying...\n",
      "Rate limit reached. Waiting 20 seconds before retrying...\n"
     ]
    },
    {
     "name": "stderr",
     "output_type": "stream",
     "text": [
      " 69%|█████████████████████████████████████████████████████████████▊                           | 347/500 [02:18<00:29,  5.12it/s]"
     ]
    },
    {
     "name": "stdout",
     "output_type": "stream",
     "text": [
      "Rate limit reached. Waiting 20 seconds before retrying...\n",
      "Rate limit reached. Waiting 20 seconds before retrying...\n"
     ]
    },
    {
     "name": "stderr",
     "output_type": "stream",
     "text": [
      " 70%|██████████████████████████████████████████████████████████████▎                          | 350/500 [02:18<00:28,  5.31it/s]"
     ]
    },
    {
     "name": "stdout",
     "output_type": "stream",
     "text": [
      "Rate limit reached. Waiting 20 seconds before retrying...\n"
     ]
    },
    {
     "name": "stderr",
     "output_type": "stream",
     "text": [
      " 71%|███████████████████████████████████████████████████████████████▏                         | 355/500 [02:20<00:36,  3.94it/s]"
     ]
    },
    {
     "name": "stdout",
     "output_type": "stream",
     "text": [
      "Rate limit reached. Waiting 20 seconds before retrying...\n",
      "Rate limit reached. Waiting 20 seconds before retrying...\n"
     ]
    },
    {
     "name": "stderr",
     "output_type": "stream",
     "text": [
      " 72%|████████████████████████████████████████████████████████████████▎                        | 361/500 [02:21<00:21,  6.48it/s]"
     ]
    },
    {
     "name": "stdout",
     "output_type": "stream",
     "text": [
      "Rate limit reached. Waiting 20 seconds before retrying...\n"
     ]
    },
    {
     "name": "stderr",
     "output_type": "stream",
     "text": [
      " 73%|████████████████████████████████████████████████████████████████▌                        | 363/500 [02:22<00:30,  4.44it/s]"
     ]
    },
    {
     "name": "stdout",
     "output_type": "stream",
     "text": [
      "Rate limit reached. Waiting 20 seconds before retrying...\n"
     ]
    },
    {
     "name": "stderr",
     "output_type": "stream",
     "text": [
      " 74%|██████████████████████████████████████████████████████████████████                       | 371/500 [02:25<00:48,  2.64it/s]"
     ]
    },
    {
     "name": "stdout",
     "output_type": "stream",
     "text": [
      "Rate limit reached. Waiting 20 seconds before retrying...\n"
     ]
    },
    {
     "name": "stderr",
     "output_type": "stream",
     "text": [
      " 75%|██████████████████████████████████████████████████████████████████▊                      | 375/500 [02:27<00:42,  2.94it/s]"
     ]
    },
    {
     "name": "stdout",
     "output_type": "stream",
     "text": [
      "Rate limit reached. Waiting 20 seconds before retrying...\n"
     ]
    },
    {
     "name": "stderr",
     "output_type": "stream",
     "text": [
      " 76%|███████████████████████████████████████████████████████████████████▎                     | 378/500 [02:27<00:32,  3.75it/s]"
     ]
    },
    {
     "name": "stdout",
     "output_type": "stream",
     "text": [
      "Rate limit reached. Waiting 20 seconds before retrying...\n"
     ]
    },
    {
     "name": "stderr",
     "output_type": "stream",
     "text": [
      " 77%|████████████████████████████████████████████████████████████████████▋                    | 386/500 [02:30<00:33,  3.39it/s]"
     ]
    },
    {
     "name": "stdout",
     "output_type": "stream",
     "text": [
      "Rate limit reached. Waiting 20 seconds before retrying...\n",
      "Rate limit reached. Waiting 20 seconds before retrying...\n"
     ]
    },
    {
     "name": "stderr",
     "output_type": "stream",
     "text": [
      " 78%|█████████████████████████████████████████████████████████████████████▍                   | 390/500 [02:31<00:32,  3.35it/s]"
     ]
    },
    {
     "name": "stdout",
     "output_type": "stream",
     "text": [
      "Rate limit reached. Waiting 20 seconds before retrying...\n"
     ]
    },
    {
     "name": "stderr",
     "output_type": "stream",
     "text": [
      " 79%|██████████████████████████████████████████████████████████████████████▋                  | 397/500 [02:37<00:43,  2.36it/s]"
     ]
    },
    {
     "name": "stdout",
     "output_type": "stream",
     "text": [
      "Rate limit reached. Waiting 20 seconds before retrying...\n"
     ]
    },
    {
     "name": "stderr",
     "output_type": "stream",
     "text": [
      " 80%|███████████████████████████████████████████████████████████████████████▍                 | 401/500 [02:38<00:25,  3.88it/s]"
     ]
    },
    {
     "name": "stdout",
     "output_type": "stream",
     "text": [
      "Rate limit reached. Waiting 20 seconds before retrying...\n"
     ]
    },
    {
     "name": "stderr",
     "output_type": "stream",
     "text": [
      "\r",
      " 81%|███████████████████████████████████████████████████████████████████████▋                 | 403/500 [02:38<00:19,  4.95it/s]"
     ]
    },
    {
     "name": "stdout",
     "output_type": "stream",
     "text": [
      "Rate limit reached. Waiting 20 seconds before retrying...\n",
      "Rate limit reached. Waiting 20 seconds before retrying...\n"
     ]
    },
    {
     "name": "stderr",
     "output_type": "stream",
     "text": [
      " 81%|████████████████████████████████████████████████████████████████████████                 | 405/500 [02:39<00:20,  4.70it/s]"
     ]
    },
    {
     "name": "stdout",
     "output_type": "stream",
     "text": [
      "Rate limit reached. Waiting 20 seconds before retrying...\n"
     ]
    },
    {
     "name": "stderr",
     "output_type": "stream",
     "text": [
      " 81%|████████████████████████████████████████████████████████████████████████▍                | 407/500 [02:39<00:23,  3.89it/s]"
     ]
    },
    {
     "name": "stdout",
     "output_type": "stream",
     "text": [
      "Rate limit reached. Waiting 20 seconds before retrying...\n"
     ]
    },
    {
     "name": "stderr",
     "output_type": "stream",
     "text": [
      " 82%|█████████████████████████████████████████████████████████████████████████▏               | 411/500 [02:42<00:34,  2.57it/s]"
     ]
    },
    {
     "name": "stdout",
     "output_type": "stream",
     "text": [
      "Rate limit reached. Waiting 20 seconds before retrying...\n"
     ]
    },
    {
     "name": "stderr",
     "output_type": "stream",
     "text": [
      " 83%|█████████████████████████████████████████████████████████████████████████▋               | 414/500 [02:44<00:38,  2.25it/s]"
     ]
    },
    {
     "name": "stdout",
     "output_type": "stream",
     "text": [
      "Rate limit reached. Waiting 20 seconds before retrying...\n",
      "Rate limit reached. Waiting 20 seconds before retrying...\n"
     ]
    },
    {
     "name": "stderr",
     "output_type": "stream",
     "text": [
      " 83%|██████████████████████████████████████████████████████████████████████████▏              | 417/500 [02:44<00:22,  3.73it/s]"
     ]
    },
    {
     "name": "stdout",
     "output_type": "stream",
     "text": [
      "Rate limit reached. Waiting 20 seconds before retrying...\n",
      "Rate limit reached. Waiting 20 seconds before retrying...\n"
     ]
    },
    {
     "name": "stderr",
     "output_type": "stream",
     "text": [
      " 84%|██████████████████████████████████████████████████████████████████████████▌              | 419/500 [02:44<00:15,  5.33it/s]"
     ]
    },
    {
     "name": "stdout",
     "output_type": "stream",
     "text": [
      "Rate limit reached. Waiting 20 seconds before retrying...\n",
      "Rate limit reached. Waiting 20 seconds before retrying...\n"
     ]
    },
    {
     "name": "stderr",
     "output_type": "stream",
     "text": [
      " 84%|██████████████████████████████████████████████████████████████████████████▉              | 421/500 [02:45<00:12,  6.24it/s]"
     ]
    },
    {
     "name": "stdout",
     "output_type": "stream",
     "text": [
      "Rate limit reached. Waiting 20 seconds before retrying...\n"
     ]
    },
    {
     "name": "stderr",
     "output_type": "stream",
     "text": [
      " 85%|███████████████████████████████████████████████████████████████████████████▋             | 425/500 [02:46<00:23,  3.17it/s]"
     ]
    },
    {
     "name": "stdout",
     "output_type": "stream",
     "text": [
      "Rate limit reached. Waiting 20 seconds before retrying...\n"
     ]
    },
    {
     "name": "stderr",
     "output_type": "stream",
     "text": [
      " 86%|████████████████████████████████████████████████████████████████████████████▏            | 428/500 [02:48<00:26,  2.68it/s]"
     ]
    },
    {
     "name": "stdout",
     "output_type": "stream",
     "text": [
      "Rate limit reached. Waiting 20 seconds before retrying...\n",
      "Rate limit reached. Waiting 20 seconds before retrying...\n"
     ]
    },
    {
     "name": "stderr",
     "output_type": "stream",
     "text": [
      " 86%|████████████████████████████████████████████████████████████████████████████▋            | 431/500 [02:49<00:19,  3.48it/s]"
     ]
    },
    {
     "name": "stdout",
     "output_type": "stream",
     "text": [
      "Rate limit reached. Waiting 20 seconds before retrying...\n"
     ]
    },
    {
     "name": "stderr",
     "output_type": "stream",
     "text": [
      " 87%|█████████████████████████████████████████████████████████████████████████████▌           | 436/500 [02:50<00:21,  2.99it/s]"
     ]
    },
    {
     "name": "stdout",
     "output_type": "stream",
     "text": [
      "Rate limit reached. Waiting 20 seconds before retrying...\n"
     ]
    },
    {
     "name": "stderr",
     "output_type": "stream",
     "text": [
      " 90%|███████████████████████████████████████████████████████████████████████████████▋         | 448/500 [02:57<00:20,  2.59it/s]"
     ]
    },
    {
     "name": "stdout",
     "output_type": "stream",
     "text": [
      "Rate limit reached. Waiting 20 seconds before retrying...\n"
     ]
    },
    {
     "name": "stderr",
     "output_type": "stream",
     "text": [
      " 91%|████████████████████████████████████████████████████████████████████████████████▊        | 454/500 [02:59<00:14,  3.11it/s]"
     ]
    },
    {
     "name": "stdout",
     "output_type": "stream",
     "text": [
      "Rate limit reached. Waiting 20 seconds before retrying...\n",
      "Rate limit reached. Waiting 20 seconds before retrying...\n"
     ]
    },
    {
     "name": "stderr",
     "output_type": "stream",
     "text": [
      " 92%|██████████████████████████████████████████████████████████████████████████████████       | 461/500 [03:02<00:11,  3.41it/s]"
     ]
    },
    {
     "name": "stdout",
     "output_type": "stream",
     "text": [
      "Rate limit reached. Waiting 20 seconds before retrying...\n",
      "Rate limit reached. Waiting 20 seconds before retrying...\n"
     ]
    },
    {
     "name": "stderr",
     "output_type": "stream",
     "text": [
      " 96%|█████████████████████████████████████████████████████████████████████████████████████▎   | 479/500 [03:08<00:05,  3.81it/s]"
     ]
    },
    {
     "name": "stdout",
     "output_type": "stream",
     "text": [
      "Rate limit reached. Waiting 20 seconds before retrying...\n"
     ]
    },
    {
     "name": "stderr",
     "output_type": "stream",
     "text": [
      " 96%|█████████████████████████████████████████████████████████████████████████████████████▌   | 481/500 [03:08<00:04,  3.84it/s]"
     ]
    },
    {
     "name": "stdout",
     "output_type": "stream",
     "text": [
      "Rate limit reached. Waiting 20 seconds before retrying...\n"
     ]
    },
    {
     "name": "stderr",
     "output_type": "stream",
     "text": [
      " 97%|██████████████████████████████████████████████████████████████████████████████████████▏  | 484/500 [03:10<00:08,  1.91it/s]"
     ]
    },
    {
     "name": "stdout",
     "output_type": "stream",
     "text": [
      "Rate limit reached. Waiting 20 seconds before retrying...\n"
     ]
    },
    {
     "name": "stderr",
     "output_type": "stream",
     "text": [
      " 98%|███████████████████████████████████████████████████████████████████████████████████████▏ | 490/500 [03:12<00:02,  3.41it/s]"
     ]
    },
    {
     "name": "stdout",
     "output_type": "stream",
     "text": [
      "Rate limit reached. Waiting 20 seconds before retrying...\n"
     ]
    },
    {
     "name": "stderr",
     "output_type": "stream",
     "text": [
      " 99%|████████████████████████████████████████████████████████████████████████████████████████▎| 496/500 [03:14<00:01,  3.57it/s]"
     ]
    },
    {
     "name": "stdout",
     "output_type": "stream",
     "text": [
      "Rate limit reached. Waiting 20 seconds before retrying...\n",
      "Rate limit reached. Waiting 20 seconds before retrying...\n"
     ]
    },
    {
     "name": "stderr",
     "output_type": "stream",
     "text": [
      "100%|████████████████████████████████████████████████████████████████████████████████████████▋| 498/500 [03:14<00:00,  5.09it/s]"
     ]
    },
    {
     "name": "stdout",
     "output_type": "stream",
     "text": [
      "Rate limit reached. Waiting 20 seconds before retrying...\n",
      "Rate limit reached. Waiting 20 seconds before retrying...\n"
     ]
    },
    {
     "name": "stderr",
     "output_type": "stream",
     "text": [
      "100%|█████████████████████████████████████████████████████████████████████████████████████████| 500/500 [03:14<00:00,  2.57it/s]"
     ]
    },
    {
     "name": "stdout",
     "output_type": "stream",
     "text": [
      "Rate limit reached. Waiting 20 seconds before retrying...\n",
      "Rate limit reached. Waiting 20 seconds before retrying...\n"
     ]
    },
    {
     "name": "stderr",
     "output_type": "stream",
     "text": [
      "\n",
      "/var/folders/k7/_jdxw9bx3_7cybsnkxz0pr200000gn/T/ipykernel_40542/3386284359.py:16: SettingWithCopyWarning: \n",
      "A value is trying to be set on a copy of a slice from a DataFrame.\n",
      "Try using .loc[row_indexer,col_indexer] = value instead\n",
      "\n",
      "See the caveats in the documentation: https://pandas.pydata.org/pandas-docs/stable/user_guide/indexing.html#returning-a-view-versus-a-copy\n",
      "  df['article'] = article_list\n"
     ]
    }
   ],
   "source": [
    "time.sleep(300)\n",
    "art_split7 = add_article(split_7)"
   ]
  },
  {
   "cell_type": "code",
   "execution_count": 174,
   "id": "1b32818f",
   "metadata": {},
   "outputs": [
    {
     "name": "stderr",
     "output_type": "stream",
     "text": [
      "  0%|▏                                                                                          | 1/500 [00:00<01:22,  6.08it/s]"
     ]
    },
    {
     "name": "stdout",
     "output_type": "stream",
     "text": [
      "Rate limit reached. Waiting 20 seconds before retrying...\n"
     ]
    },
    {
     "name": "stderr",
     "output_type": "stream",
     "text": [
      "  2%|██▏                                                                                       | 12/500 [00:02<01:25,  5.74it/s]"
     ]
    },
    {
     "name": "stdout",
     "output_type": "stream",
     "text": [
      "Rate limit reached. Waiting 20 seconds before retrying...\n",
      "Rate limit reached. Waiting 20 seconds before retrying...\n",
      "Rate limit reached. Waiting 20 seconds before retrying...\n"
     ]
    },
    {
     "name": "stderr",
     "output_type": "stream",
     "text": [
      "  4%|███▉                                                                                      | 22/500 [00:06<03:11,  2.50it/s]"
     ]
    },
    {
     "name": "stdout",
     "output_type": "stream",
     "text": [
      "Rate limit reached. Waiting 20 seconds before retrying...\n"
     ]
    },
    {
     "name": "stderr",
     "output_type": "stream",
     "text": [
      "  5%|████▌                                                                                     | 25/500 [00:07<02:55,  2.70it/s]"
     ]
    },
    {
     "name": "stdout",
     "output_type": "stream",
     "text": [
      "Rate limit reached. Waiting 20 seconds before retrying...\n"
     ]
    },
    {
     "name": "stderr",
     "output_type": "stream",
     "text": [
      "  6%|█████▍                                                                                    | 30/500 [00:09<03:06,  2.52it/s]"
     ]
    },
    {
     "name": "stdout",
     "output_type": "stream",
     "text": [
      "Rate limit reached. Waiting 20 seconds before retrying...\n"
     ]
    },
    {
     "name": "stderr",
     "output_type": "stream",
     "text": [
      "  7%|██████                                                                                    | 34/500 [00:10<02:26,  3.18it/s]"
     ]
    },
    {
     "name": "stdout",
     "output_type": "stream",
     "text": [
      "Rate limit reached. Waiting 20 seconds before retrying...\n",
      "Rate limit reached. Waiting 20 seconds before retrying...\n"
     ]
    },
    {
     "name": "stderr",
     "output_type": "stream",
     "text": [
      "  7%|██████▋                                                                                   | 37/500 [00:11<01:48,  4.26it/s]"
     ]
    },
    {
     "name": "stdout",
     "output_type": "stream",
     "text": [
      "Rate limit reached. Waiting 20 seconds before retrying...\n",
      "Rate limit reached. Waiting 20 seconds before retrying...\n"
     ]
    },
    {
     "name": "stderr",
     "output_type": "stream",
     "text": [
      "\r",
      "  8%|███████                                                                                   | 39/500 [00:11<01:23,  5.49it/s]"
     ]
    },
    {
     "name": "stdout",
     "output_type": "stream",
     "text": [
      "Rate limit reached. Waiting 20 seconds before retrying...\n"
     ]
    },
    {
     "name": "stderr",
     "output_type": "stream",
     "text": [
      "  9%|████████                                                                                  | 45/500 [00:12<01:23,  5.46it/s]"
     ]
    },
    {
     "name": "stdout",
     "output_type": "stream",
     "text": [
      "Rate limit reached. Waiting 20 seconds before retrying...\n",
      "Rate limit reached. Waiting 20 seconds before retrying...\n"
     ]
    },
    {
     "name": "stderr",
     "output_type": "stream",
     "text": [
      " 10%|████████▊                                                                                 | 49/500 [00:13<01:24,  5.35it/s]"
     ]
    },
    {
     "name": "stdout",
     "output_type": "stream",
     "text": [
      "Rate limit reached. Waiting 20 seconds before retrying...\n",
      "Rate limit reached. Waiting 20 seconds before retrying...\n"
     ]
    },
    {
     "name": "stderr",
     "output_type": "stream",
     "text": [
      " 11%|█████████▌                                                                                | 53/500 [00:14<01:33,  4.76it/s]"
     ]
    },
    {
     "name": "stdout",
     "output_type": "stream",
     "text": [
      "Rate limit reached. Waiting 20 seconds before retrying...\n",
      "Rate limit reached. Waiting 20 seconds before retrying...\n",
      "Rate limit reached. Waiting 20 seconds before retrying...\n"
     ]
    },
    {
     "name": "stderr",
     "output_type": "stream",
     "text": [
      " 11%|██████████▎                                                                               | 57/500 [00:15<01:31,  4.86it/s]"
     ]
    },
    {
     "name": "stdout",
     "output_type": "stream",
     "text": [
      "Rate limit reached. Waiting 20 seconds before retrying...\n",
      "Rate limit reached. Waiting 20 seconds before retrying...\n"
     ]
    },
    {
     "name": "stderr",
     "output_type": "stream",
     "text": [
      " 12%|██████████▉                                                                               | 61/500 [00:16<01:41,  4.31it/s]"
     ]
    },
    {
     "name": "stdout",
     "output_type": "stream",
     "text": [
      "Rate limit reached. Waiting 20 seconds before retrying...\n"
     ]
    },
    {
     "name": "stderr",
     "output_type": "stream",
     "text": [
      " 14%|████████████▌                                                                             | 70/500 [00:19<01:40,  4.28it/s]"
     ]
    },
    {
     "name": "stdout",
     "output_type": "stream",
     "text": [
      "Rate limit reached. Waiting 20 seconds before retrying...\n"
     ]
    },
    {
     "name": "stderr",
     "output_type": "stream",
     "text": [
      " 15%|█████████████▊                                                                            | 77/500 [00:21<01:54,  3.70it/s]"
     ]
    },
    {
     "name": "stdout",
     "output_type": "stream",
     "text": [
      "Rate limit reached. Waiting 20 seconds before retrying...\n"
     ]
    },
    {
     "name": "stderr",
     "output_type": "stream",
     "text": [
      " 17%|███████████████▎                                                                          | 85/500 [00:25<01:59,  3.48it/s]"
     ]
    },
    {
     "name": "stdout",
     "output_type": "stream",
     "text": [
      "Rate limit reached. Waiting 20 seconds before retrying...\n"
     ]
    },
    {
     "name": "stderr",
     "output_type": "stream",
     "text": [
      " 18%|████████████████                                                                          | 89/500 [00:26<01:51,  3.68it/s]"
     ]
    },
    {
     "name": "stdout",
     "output_type": "stream",
     "text": [
      "Rate limit reached. Waiting 20 seconds before retrying...\n",
      "Rate limit reached. Waiting 20 seconds before retrying...\n"
     ]
    },
    {
     "name": "stderr",
     "output_type": "stream",
     "text": [
      " 19%|█████████████████                                                                         | 95/500 [00:27<00:57,  7.03it/s]"
     ]
    },
    {
     "name": "stdout",
     "output_type": "stream",
     "text": [
      "Rate limit reached. Waiting 20 seconds before retrying...\n",
      "Rate limit reached. Waiting 20 seconds before retrying...\n"
     ]
    },
    {
     "name": "stderr",
     "output_type": "stream",
     "text": [
      "\r",
      " 19%|█████████████████▍                                                                        | 97/500 [00:27<00:50,  8.00it/s]"
     ]
    },
    {
     "name": "stdout",
     "output_type": "stream",
     "text": [
      "Rate limit reached. Waiting 20 seconds before retrying...\n",
      "Rate limit reached. Waiting 20 seconds before retrying...\n"
     ]
    },
    {
     "name": "stderr",
     "output_type": "stream",
     "text": [
      "\r",
      " 20%|█████████████████▊                                                                        | 99/500 [00:27<01:09,  5.76it/s]"
     ]
    },
    {
     "name": "stdout",
     "output_type": "stream",
     "text": [
      "Rate limit reached. Waiting 20 seconds before retrying...\n"
     ]
    },
    {
     "name": "stderr",
     "output_type": "stream",
     "text": [
      " 20%|██████████████████▏                                                                      | 102/500 [00:34<06:31,  1.02it/s]"
     ]
    },
    {
     "name": "stdout",
     "output_type": "stream",
     "text": [
      "Rate limit reached. Waiting 20 seconds before retrying...\n"
     ]
    },
    {
     "name": "stderr",
     "output_type": "stream",
     "text": [
      " 21%|██████████████████▊                                                                      | 106/500 [01:04<25:45,  3.92s/it]"
     ]
    },
    {
     "name": "stdout",
     "output_type": "stream",
     "text": [
      "Rate limit reached. Waiting 20 seconds before retrying...\n",
      "Rate limit reached. Waiting 20 seconds before retrying...\n"
     ]
    },
    {
     "name": "stderr",
     "output_type": "stream",
     "text": [
      "\r",
      " 22%|███████████████████▏                                                                     | 108/500 [01:05<17:40,  2.71s/it]"
     ]
    },
    {
     "name": "stdout",
     "output_type": "stream",
     "text": [
      "Rate limit reached. Waiting 20 seconds before retrying...\n",
      "Rate limit reached. Waiting 20 seconds before retrying...\n"
     ]
    },
    {
     "name": "stderr",
     "output_type": "stream",
     "text": [
      " 22%|███████████████████▉                                                                     | 112/500 [01:06<08:39,  1.34s/it]"
     ]
    },
    {
     "name": "stdout",
     "output_type": "stream",
     "text": [
      "Rate limit reached. Waiting 20 seconds before retrying...\n"
     ]
    },
    {
     "name": "stderr",
     "output_type": "stream",
     "text": [
      " 23%|████████████████████▋                                                                    | 116/500 [01:08<05:27,  1.17it/s]"
     ]
    },
    {
     "name": "stdout",
     "output_type": "stream",
     "text": [
      "Rate limit reached. Waiting 20 seconds before retrying...\n"
     ]
    },
    {
     "name": "stderr",
     "output_type": "stream",
     "text": [
      " 24%|█████████████████████▋                                                                   | 122/500 [01:11<03:25,  1.84it/s]"
     ]
    },
    {
     "name": "stdout",
     "output_type": "stream",
     "text": [
      "Rate limit reached. Waiting 20 seconds before retrying...\n"
     ]
    },
    {
     "name": "stderr",
     "output_type": "stream",
     "text": [
      "\r",
      " 25%|██████████████████████                                                                   | 124/500 [01:11<02:44,  2.28it/s]"
     ]
    },
    {
     "name": "stdout",
     "output_type": "stream",
     "text": [
      "Rate limit reached. Waiting 20 seconds before retrying...\n"
     ]
    },
    {
     "name": "stderr",
     "output_type": "stream",
     "text": [
      " 26%|██████████████████████▊                                                                  | 128/500 [01:12<01:47,  3.45it/s]"
     ]
    },
    {
     "name": "stdout",
     "output_type": "stream",
     "text": [
      "Rate limit reached. Waiting 20 seconds before retrying...\n",
      "Rate limit reached. Waiting 20 seconds before retrying...\n",
      "Rate limit reached. Waiting 20 seconds before retrying...\n"
     ]
    },
    {
     "name": "stderr",
     "output_type": "stream",
     "text": [
      " 26%|███████████████████████▍                                                                 | 132/500 [01:12<01:05,  5.61it/s]"
     ]
    },
    {
     "name": "stdout",
     "output_type": "stream",
     "text": [
      "Rate limit reached. Waiting 20 seconds before retrying...\n",
      "Rate limit reached. Waiting 20 seconds before retrying...\n",
      "Rate limit reached. Waiting 20 seconds before retrying...\n"
     ]
    },
    {
     "name": "stderr",
     "output_type": "stream",
     "text": [
      " 27%|████████████████████████▍                                                                | 137/500 [01:13<00:57,  6.32it/s]"
     ]
    },
    {
     "name": "stdout",
     "output_type": "stream",
     "text": [
      "Rate limit reached. Waiting 20 seconds before retrying...\n",
      "Rate limit reached. Waiting 20 seconds before retrying...\n",
      "Rate limit reached. Waiting 20 seconds before retrying...\n"
     ]
    },
    {
     "name": "stderr",
     "output_type": "stream",
     "text": [
      " 28%|████████████████████████▉                                                                | 140/500 [01:14<01:01,  5.90it/s]"
     ]
    },
    {
     "name": "stdout",
     "output_type": "stream",
     "text": [
      "Rate limit reached. Waiting 20 seconds before retrying...\n",
      "Rate limit reached. Waiting 20 seconds before retrying...\n"
     ]
    },
    {
     "name": "stderr",
     "output_type": "stream",
     "text": [
      " 29%|█████████████████████████▉                                                               | 146/500 [01:16<01:18,  4.52it/s]"
     ]
    },
    {
     "name": "stdout",
     "output_type": "stream",
     "text": [
      "Rate limit reached. Waiting 20 seconds before retrying...\n",
      "Rate limit reached. Waiting 20 seconds before retrying...\n",
      "Rate limit reached. Waiting 20 seconds before retrying...\n"
     ]
    },
    {
     "name": "stderr",
     "output_type": "stream",
     "text": [
      " 30%|███████████████████████████                                                              | 152/500 [01:17<01:05,  5.34it/s]"
     ]
    },
    {
     "name": "stdout",
     "output_type": "stream",
     "text": [
      "Rate limit reached. Waiting 20 seconds before retrying...\n",
      "Rate limit reached. Waiting 20 seconds before retrying...\n"
     ]
    },
    {
     "name": "stderr",
     "output_type": "stream",
     "text": [
      " 31%|███████████████████████████▌                                                             | 155/500 [01:18<01:34,  3.66it/s]"
     ]
    },
    {
     "name": "stdout",
     "output_type": "stream",
     "text": [
      "Rate limit reached. Waiting 20 seconds before retrying...\n",
      "Rate limit reached. Waiting 20 seconds before retrying...\n"
     ]
    },
    {
     "name": "stderr",
     "output_type": "stream",
     "text": [
      " 32%|████████████████████████████                                                             | 158/500 [01:19<01:30,  3.76it/s]"
     ]
    },
    {
     "name": "stdout",
     "output_type": "stream",
     "text": [
      "Rate limit reached. Waiting 20 seconds before retrying...\n",
      "Rate limit reached. Waiting 20 seconds before retrying...\n"
     ]
    },
    {
     "name": "stderr",
     "output_type": "stream",
     "text": [
      " 32%|████████████████████████████▊                                                            | 162/500 [01:21<01:30,  3.73it/s]"
     ]
    },
    {
     "name": "stdout",
     "output_type": "stream",
     "text": [
      "Rate limit reached. Waiting 20 seconds before retrying...\n",
      "Rate limit reached. Waiting 20 seconds before retrying...\n",
      "Rate limit reached. Waiting 20 seconds before retrying...\n"
     ]
    },
    {
     "name": "stderr",
     "output_type": "stream",
     "text": [
      " 33%|█████████████████████████████▌                                                           | 166/500 [01:21<01:07,  4.92it/s]"
     ]
    },
    {
     "name": "stdout",
     "output_type": "stream",
     "text": [
      "Rate limit reached. Waiting 20 seconds before retrying...\n",
      "Rate limit reached. Waiting 20 seconds before retrying...\n"
     ]
    },
    {
     "name": "stderr",
     "output_type": "stream",
     "text": [
      "\r",
      " 34%|█████████████████████████████▉                                                           | 168/500 [01:21<00:53,  6.16it/s]"
     ]
    },
    {
     "name": "stdout",
     "output_type": "stream",
     "text": [
      "Rate limit reached. Waiting 20 seconds before retrying...\n"
     ]
    },
    {
     "name": "stderr",
     "output_type": "stream",
     "text": [
      " 34%|██████████████████████████████▌                                                          | 172/500 [01:23<01:18,  4.20it/s]"
     ]
    },
    {
     "name": "stdout",
     "output_type": "stream",
     "text": [
      "Rate limit reached. Waiting 20 seconds before retrying...\n"
     ]
    },
    {
     "name": "stderr",
     "output_type": "stream",
     "text": [
      " 39%|███████████████████████████████████                                                      | 197/500 [01:33<02:53,  1.74it/s]"
     ]
    },
    {
     "name": "stdout",
     "output_type": "stream",
     "text": [
      "Rate limit reached. Waiting 20 seconds before retrying...\n"
     ]
    },
    {
     "name": "stderr",
     "output_type": "stream",
     "text": [
      " 41%|████████████████████████████████████▏                                                    | 203/500 [01:35<01:58,  2.50it/s]"
     ]
    },
    {
     "name": "stdout",
     "output_type": "stream",
     "text": [
      "Rate limit reached. Waiting 20 seconds before retrying...\n"
     ]
    },
    {
     "name": "stderr",
     "output_type": "stream",
     "text": [
      " 41%|████████████████████████████████████▊                                                    | 207/500 [01:37<01:50,  2.66it/s]"
     ]
    },
    {
     "name": "stdout",
     "output_type": "stream",
     "text": [
      "Rate limit reached. Waiting 20 seconds before retrying...\n"
     ]
    },
    {
     "name": "stderr",
     "output_type": "stream",
     "text": [
      " 43%|██████████████████████████████████████                                                   | 214/500 [01:40<01:44,  2.74it/s]"
     ]
    },
    {
     "name": "stdout",
     "output_type": "stream",
     "text": [
      "Rate limit reached. Waiting 20 seconds before retrying...\n"
     ]
    },
    {
     "name": "stderr",
     "output_type": "stream",
     "text": [
      " 45%|███████████████████████████████████████▋                                                 | 223/500 [01:42<01:32,  2.99it/s]"
     ]
    },
    {
     "name": "stdout",
     "output_type": "stream",
     "text": [
      "Rate limit reached. Waiting 20 seconds before retrying...\n"
     ]
    },
    {
     "name": "stderr",
     "output_type": "stream",
     "text": [
      " 47%|█████████████████████████████████████████▊                                               | 235/500 [01:47<01:44,  2.54it/s]"
     ]
    },
    {
     "name": "stdout",
     "output_type": "stream",
     "text": [
      "Rate limit reached. Waiting 20 seconds before retrying...\n"
     ]
    },
    {
     "name": "stderr",
     "output_type": "stream",
     "text": [
      " 50%|████████████████████████████████████████████▎                                            | 249/500 [01:52<01:43,  2.43it/s]"
     ]
    },
    {
     "name": "stdout",
     "output_type": "stream",
     "text": [
      "Rate limit reached. Waiting 20 seconds before retrying...\n"
     ]
    },
    {
     "name": "stderr",
     "output_type": "stream",
     "text": [
      " 51%|█████████████████████████████████████████████▍                                           | 255/500 [01:56<02:00,  2.04it/s]"
     ]
    },
    {
     "name": "stdout",
     "output_type": "stream",
     "text": [
      "Rate limit reached. Waiting 20 seconds before retrying...\n"
     ]
    },
    {
     "name": "stderr",
     "output_type": "stream",
     "text": [
      " 52%|█████████████████████████████████████████████▉                                           | 258/500 [01:57<01:48,  2.24it/s]"
     ]
    },
    {
     "name": "stdout",
     "output_type": "stream",
     "text": [
      "Rate limit reached. Waiting 20 seconds before retrying...\n"
     ]
    },
    {
     "name": "stderr",
     "output_type": "stream",
     "text": [
      " 53%|██████████████████████████████████████████████▊                                          | 263/500 [01:58<01:04,  3.69it/s]"
     ]
    },
    {
     "name": "stdout",
     "output_type": "stream",
     "text": [
      "Rate limit reached. Waiting 20 seconds before retrying...\n",
      "Rate limit reached. Waiting 20 seconds before retrying...\n",
      "Rate limit reached. Waiting 20 seconds before retrying...\n"
     ]
    },
    {
     "name": "stderr",
     "output_type": "stream",
     "text": [
      " 54%|███████████████████████████████████████████████▉                                         | 269/500 [02:01<01:45,  2.20it/s]"
     ]
    },
    {
     "name": "stdout",
     "output_type": "stream",
     "text": [
      "Rate limit reached. Waiting 20 seconds before retrying...\n"
     ]
    },
    {
     "name": "stderr",
     "output_type": "stream",
     "text": [
      " 55%|████████████████████████████████████████████████▌                                        | 273/500 [02:03<01:54,  1.98it/s]"
     ]
    },
    {
     "name": "stdout",
     "output_type": "stream",
     "text": [
      "Rate limit reached. Waiting 20 seconds before retrying...\n"
     ]
    },
    {
     "name": "stderr",
     "output_type": "stream",
     "text": [
      " 55%|█████████████████████████████████████████████████▏                                       | 276/500 [02:04<01:49,  2.05it/s]"
     ]
    },
    {
     "name": "stdout",
     "output_type": "stream",
     "text": [
      "Rate limit reached. Waiting 20 seconds before retrying...\n"
     ]
    },
    {
     "name": "stderr",
     "output_type": "stream",
     "text": [
      " 57%|███████████████████████████████████████████████████                                      | 287/500 [02:08<01:03,  3.35it/s]"
     ]
    },
    {
     "name": "stdout",
     "output_type": "stream",
     "text": [
      "Rate limit reached. Waiting 20 seconds before retrying...\n",
      "Rate limit reached. Waiting 20 seconds before retrying...\n"
     ]
    },
    {
     "name": "stderr",
     "output_type": "stream",
     "text": [
      " 58%|███████████████████████████████████████████████████▍                                     | 289/500 [02:10<01:23,  2.51it/s]"
     ]
    },
    {
     "name": "stdout",
     "output_type": "stream",
     "text": [
      "Rate limit reached. Waiting 20 seconds before retrying...\n"
     ]
    },
    {
     "name": "stderr",
     "output_type": "stream",
     "text": [
      " 59%|████████████████████████████████████████████████████▏                                    | 293/500 [02:11<01:28,  2.35it/s]"
     ]
    },
    {
     "name": "stdout",
     "output_type": "stream",
     "text": [
      "Rate limit reached. Waiting 20 seconds before retrying...\n"
     ]
    },
    {
     "name": "stderr",
     "output_type": "stream",
     "text": [
      "\r",
      " 59%|████████████████████████████████████████████████████▌                                    | 295/500 [02:12<01:18,  2.60it/s]"
     ]
    },
    {
     "name": "stdout",
     "output_type": "stream",
     "text": [
      "Rate limit reached. Waiting 20 seconds before retrying...\n"
     ]
    },
    {
     "name": "stderr",
     "output_type": "stream",
     "text": [
      " 60%|█████████████████████████████████████████████████████▌                                   | 301/500 [02:13<00:57,  3.48it/s]"
     ]
    },
    {
     "name": "stdout",
     "output_type": "stream",
     "text": [
      "Rate limit reached. Waiting 20 seconds before retrying...\n",
      "Rate limit reached. Waiting 20 seconds before retrying...\n",
      "Rate limit reached. Waiting 20 seconds before retrying...\n"
     ]
    },
    {
     "name": "stderr",
     "output_type": "stream",
     "text": [
      "\r",
      " 61%|█████████████████████████████████████████████████████▉                                   | 303/500 [02:14<00:56,  3.51it/s]"
     ]
    },
    {
     "name": "stdout",
     "output_type": "stream",
     "text": [
      "Rate limit reached. Waiting 20 seconds before retrying...\n"
     ]
    },
    {
     "name": "stderr",
     "output_type": "stream",
     "text": [
      " 61%|██████████████████████████████████████████████████████▍                                  | 306/500 [02:15<01:07,  2.86it/s]"
     ]
    },
    {
     "name": "stdout",
     "output_type": "stream",
     "text": [
      "Rate limit reached. Waiting 20 seconds before retrying...\n"
     ]
    },
    {
     "name": "stderr",
     "output_type": "stream",
     "text": [
      " 62%|███████████████████████████████████████████████████████▎                                 | 311/500 [02:17<00:51,  3.65it/s]"
     ]
    },
    {
     "name": "stdout",
     "output_type": "stream",
     "text": [
      "Rate limit reached. Waiting 20 seconds before retrying...\n",
      "Rate limit reached. Waiting 20 seconds before retrying...\n"
     ]
    },
    {
     "name": "stderr",
     "output_type": "stream",
     "text": [
      " 64%|█████████████████████████████████████████████████████████▎                               | 322/500 [02:20<00:39,  4.51it/s]"
     ]
    },
    {
     "name": "stdout",
     "output_type": "stream",
     "text": [
      "Rate limit reached. Waiting 20 seconds before retrying...\n"
     ]
    },
    {
     "name": "stderr",
     "output_type": "stream",
     "text": [
      " 65%|██████████████████████████████████████████████████████████▏                              | 327/500 [02:22<00:43,  4.01it/s]"
     ]
    },
    {
     "name": "stdout",
     "output_type": "stream",
     "text": [
      "Rate limit reached. Waiting 20 seconds before retrying...\n"
     ]
    },
    {
     "name": "stderr",
     "output_type": "stream",
     "text": [
      " 68%|████████████████████████████████████████████████████████████▋                            | 341/500 [02:25<00:18,  8.45it/s]"
     ]
    },
    {
     "name": "stdout",
     "output_type": "stream",
     "text": [
      "Rate limit reached. Waiting 20 seconds before retrying...\n"
     ]
    },
    {
     "name": "stderr",
     "output_type": "stream",
     "text": [
      " 73%|█████████████████████████████████████████████████████████████████▏                       | 366/500 [02:37<01:17,  1.72it/s]"
     ]
    },
    {
     "name": "stdout",
     "output_type": "stream",
     "text": [
      "Rate limit reached. Waiting 20 seconds before retrying...\n"
     ]
    },
    {
     "name": "stderr",
     "output_type": "stream",
     "text": [
      " 75%|██████████████████████████████████████████████████████████████████▊                      | 375/500 [02:41<01:02,  2.01it/s]"
     ]
    },
    {
     "name": "stdout",
     "output_type": "stream",
     "text": [
      "Rate limit reached. Waiting 20 seconds before retrying...\n"
     ]
    },
    {
     "name": "stderr",
     "output_type": "stream",
     "text": [
      " 77%|████████████████████████████████████████████████████████████████████▏                    | 383/500 [02:44<00:37,  3.16it/s]"
     ]
    },
    {
     "name": "stdout",
     "output_type": "stream",
     "text": [
      "Rate limit reached. Waiting 20 seconds before retrying...\n",
      "Rate limit reached. Waiting 20 seconds before retrying...\n"
     ]
    },
    {
     "name": "stderr",
     "output_type": "stream",
     "text": [
      " 80%|███████████████████████████████████████████████████████████████████████▏                 | 400/500 [02:52<00:33,  3.01it/s]"
     ]
    },
    {
     "name": "stdout",
     "output_type": "stream",
     "text": [
      "Rate limit reached. Waiting 20 seconds before retrying...\n",
      "Rate limit reached. Waiting 20 seconds before retrying...\n"
     ]
    },
    {
     "name": "stderr",
     "output_type": "stream",
     "text": [
      " 81%|████████████████████████████████████████████████████████████████████████▎                | 406/500 [02:53<00:20,  4.70it/s]"
     ]
    },
    {
     "name": "stdout",
     "output_type": "stream",
     "text": [
      "Rate limit reached. Waiting 20 seconds before retrying...\n",
      "Rate limit reached. Waiting 20 seconds before retrying...\n"
     ]
    },
    {
     "name": "stderr",
     "output_type": "stream",
     "text": [
      " 82%|████████████████████████████████████████████████████████████████████████▉                | 410/500 [02:53<00:12,  7.01it/s]"
     ]
    },
    {
     "name": "stdout",
     "output_type": "stream",
     "text": [
      "Rate limit reached. Waiting 20 seconds before retrying...\n",
      "Rate limit reached. Waiting 20 seconds before retrying...\n"
     ]
    },
    {
     "name": "stderr",
     "output_type": "stream",
     "text": [
      "\r",
      " 82%|█████████████████████████████████████████████████████████████████████████▎               | 412/500 [02:54<00:20,  4.21it/s]"
     ]
    },
    {
     "name": "stdout",
     "output_type": "stream",
     "text": [
      "Rate limit reached. Waiting 20 seconds before retrying...\n"
     ]
    },
    {
     "name": "stderr",
     "output_type": "stream",
     "text": [
      " 84%|██████████████████████████████████████████████████████████████████████████▍              | 418/500 [02:55<00:13,  6.19it/s]"
     ]
    },
    {
     "name": "stdout",
     "output_type": "stream",
     "text": [
      "Rate limit reached. Waiting 20 seconds before retrying...\n",
      "Rate limit reached. Waiting 20 seconds before retrying...\n",
      "Rate limit reached. Waiting 20 seconds before retrying...\n"
     ]
    },
    {
     "name": "stderr",
     "output_type": "stream",
     "text": [
      " 85%|███████████████████████████████████████████████████████████████████████████▋             | 425/500 [02:58<00:21,  3.55it/s]"
     ]
    },
    {
     "name": "stdout",
     "output_type": "stream",
     "text": [
      "Rate limit reached. Waiting 20 seconds before retrying...\n",
      "Rate limit reached. Waiting 20 seconds before retrying...\n"
     ]
    },
    {
     "name": "stderr",
     "output_type": "stream",
     "text": [
      " 88%|█████████████████████████████████████████████████████████████████████████████▉           | 438/500 [03:04<00:22,  2.78it/s]"
     ]
    },
    {
     "name": "stdout",
     "output_type": "stream",
     "text": [
      "Rate limit reached. Waiting 20 seconds before retrying...\n",
      "Rate limit reached. Waiting 20 seconds before retrying...\n"
     ]
    },
    {
     "name": "stderr",
     "output_type": "stream",
     "text": [
      " 88%|██████████████████████████████████████████████████████████████████████████████▍          | 441/500 [03:05<00:15,  3.89it/s]"
     ]
    },
    {
     "name": "stdout",
     "output_type": "stream",
     "text": [
      "Rate limit reached. Waiting 20 seconds before retrying...\n",
      "Rate limit reached. Waiting 20 seconds before retrying...\n"
     ]
    },
    {
     "name": "stderr",
     "output_type": "stream",
     "text": [
      " 89%|███████████████████████████████████████████████████████████████████████████████▏         | 445/500 [03:06<00:10,  5.13it/s]"
     ]
    },
    {
     "name": "stdout",
     "output_type": "stream",
     "text": [
      "Rate limit reached. Waiting 20 seconds before retrying...\n"
     ]
    },
    {
     "name": "stderr",
     "output_type": "stream",
     "text": [
      " 91%|████████████████████████████████████████████████████████████████████████████████▋        | 453/500 [03:08<00:09,  4.90it/s]"
     ]
    },
    {
     "name": "stdout",
     "output_type": "stream",
     "text": [
      "Rate limit reached. Waiting 20 seconds before retrying...\n",
      "Rate limit reached. Waiting 20 seconds before retrying...\n"
     ]
    },
    {
     "name": "stderr",
     "output_type": "stream",
     "text": [
      " 92%|█████████████████████████████████████████████████████████████████████████████████▌       | 458/500 [03:09<00:09,  4.57it/s]"
     ]
    },
    {
     "name": "stdout",
     "output_type": "stream",
     "text": [
      "Rate limit reached. Waiting 20 seconds before retrying...\n"
     ]
    },
    {
     "name": "stderr",
     "output_type": "stream",
     "text": [
      " 92%|██████████████████████████████████████████████████████████████████████████████████▏      | 462/500 [03:11<00:11,  3.36it/s]"
     ]
    },
    {
     "name": "stdout",
     "output_type": "stream",
     "text": [
      "Rate limit reached. Waiting 20 seconds before retrying...\n",
      "Rate limit reached. Waiting 20 seconds before retrying...\n",
      "Rate limit reached. Waiting 20 seconds before retrying...\n"
     ]
    },
    {
     "name": "stderr",
     "output_type": "stream",
     "text": [
      " 93%|██████████████████████████████████████████████████████████████████████████████████▉      | 466/500 [03:11<00:05,  5.81it/s]"
     ]
    },
    {
     "name": "stdout",
     "output_type": "stream",
     "text": [
      "Rate limit reached. Waiting 20 seconds before retrying...\n",
      "Rate limit reached. Waiting 20 seconds before retrying...\n"
     ]
    },
    {
     "name": "stderr",
     "output_type": "stream",
     "text": [
      " 95%|████████████████████████████████████████████████████████████████████████████████████▏    | 473/500 [03:13<00:04,  5.64it/s]"
     ]
    },
    {
     "name": "stdout",
     "output_type": "stream",
     "text": [
      "Rate limit reached. Waiting 20 seconds before retrying...\n",
      "Rate limit reached. Waiting 20 seconds before retrying...\n"
     ]
    },
    {
     "name": "stderr",
     "output_type": "stream",
     "text": [
      " 95%|████████████████████████████████████████████████████████████████████████████████████▋    | 476/500 [03:14<00:04,  4.95it/s]"
     ]
    },
    {
     "name": "stdout",
     "output_type": "stream",
     "text": [
      "Rate limit reached. Waiting 20 seconds before retrying...\n",
      "Rate limit reached. Waiting 20 seconds before retrying...\n"
     ]
    },
    {
     "name": "stderr",
     "output_type": "stream",
     "text": [
      " 96%|█████████████████████████████████████████████████████████████████████████████████████▌   | 481/500 [03:16<00:05,  3.31it/s]"
     ]
    },
    {
     "name": "stdout",
     "output_type": "stream",
     "text": [
      "Rate limit reached. Waiting 20 seconds before retrying...\n"
     ]
    },
    {
     "name": "stderr",
     "output_type": "stream",
     "text": [
      " 97%|██████████████████████████████████████████████████████████████████████████████████████▋  | 487/500 [03:17<00:03,  4.01it/s]"
     ]
    },
    {
     "name": "stdout",
     "output_type": "stream",
     "text": [
      "Rate limit reached. Waiting 20 seconds before retrying...\n"
     ]
    },
    {
     "name": "stderr",
     "output_type": "stream",
     "text": [
      " 98%|███████████████████████████████████████████████████████████████████████████████████████▍ | 491/500 [03:18<00:01,  5.26it/s]"
     ]
    },
    {
     "name": "stdout",
     "output_type": "stream",
     "text": [
      "Rate limit reached. Waiting 20 seconds before retrying...\n",
      "Rate limit reached. Waiting 20 seconds before retrying...\n",
      "Rate limit reached. Waiting 20 seconds before retrying...\n"
     ]
    },
    {
     "name": "stderr",
     "output_type": "stream",
     "text": [
      " 99%|████████████████████████████████████████████████████████████████████████████████████████ | 495/500 [03:19<00:00,  6.25it/s]"
     ]
    },
    {
     "name": "stdout",
     "output_type": "stream",
     "text": [
      "Rate limit reached. Waiting 20 seconds before retrying...\n"
     ]
    },
    {
     "name": "stderr",
     "output_type": "stream",
     "text": [
      "100%|█████████████████████████████████████████████████████████████████████████████████████████| 500/500 [03:21<00:00,  2.48it/s]"
     ]
    },
    {
     "name": "stdout",
     "output_type": "stream",
     "text": [
      "Rate limit reached. Waiting 20 seconds before retrying...\n"
     ]
    },
    {
     "name": "stderr",
     "output_type": "stream",
     "text": [
      "\n",
      "/var/folders/k7/_jdxw9bx3_7cybsnkxz0pr200000gn/T/ipykernel_40542/3386284359.py:16: SettingWithCopyWarning: \n",
      "A value is trying to be set on a copy of a slice from a DataFrame.\n",
      "Try using .loc[row_indexer,col_indexer] = value instead\n",
      "\n",
      "See the caveats in the documentation: https://pandas.pydata.org/pandas-docs/stable/user_guide/indexing.html#returning-a-view-versus-a-copy\n",
      "  df['article'] = article_list\n"
     ]
    }
   ],
   "source": [
    "time.sleep(300)\n",
    "art_split8 = add_article(split_8)"
   ]
  },
  {
   "cell_type": "code",
   "execution_count": 175,
   "id": "de349385",
   "metadata": {
    "scrolled": true
   },
   "outputs": [
    {
     "name": "stderr",
     "output_type": "stream",
     "text": [
      "  0%|▎                                                                                          | 2/500 [00:00<01:12,  6.83it/s]"
     ]
    },
    {
     "name": "stdout",
     "output_type": "stream",
     "text": [
      "Rate limit reached. Waiting 20 seconds before retrying...\n",
      "Rate limit reached. Waiting 20 seconds before retrying...\n"
     ]
    },
    {
     "name": "stderr",
     "output_type": "stream",
     "text": [
      "\r",
      "  1%|▌                                                                                          | 3/500 [00:00<02:27,  3.36it/s]"
     ]
    },
    {
     "name": "stdout",
     "output_type": "stream",
     "text": [
      "Rate limit reached. Waiting 20 seconds before retrying...\n"
     ]
    },
    {
     "name": "stderr",
     "output_type": "stream",
     "text": [
      "  1%|█▎                                                                                         | 7/500 [00:01<02:00,  4.11it/s]"
     ]
    },
    {
     "name": "stdout",
     "output_type": "stream",
     "text": [
      "Rate limit reached. Waiting 20 seconds before retrying...\n",
      "Rate limit reached. Waiting 20 seconds before retrying...\n"
     ]
    },
    {
     "name": "stderr",
     "output_type": "stream",
     "text": [
      "  3%|██▎                                                                                       | 13/500 [00:03<02:05,  3.88it/s]"
     ]
    },
    {
     "name": "stdout",
     "output_type": "stream",
     "text": [
      "Rate limit reached. Waiting 20 seconds before retrying...\n",
      "Rate limit reached. Waiting 20 seconds before retrying...\n"
     ]
    },
    {
     "name": "stderr",
     "output_type": "stream",
     "text": [
      "  3%|██▋                                                                                       | 15/500 [00:04<01:29,  5.40it/s]"
     ]
    },
    {
     "name": "stdout",
     "output_type": "stream",
     "text": [
      "Rate limit reached. Waiting 20 seconds before retrying...\n",
      "Rate limit reached. Waiting 20 seconds before retrying...\n"
     ]
    },
    {
     "name": "stderr",
     "output_type": "stream",
     "text": [
      "  4%|███▍                                                                                      | 19/500 [00:05<01:35,  5.05it/s]"
     ]
    },
    {
     "name": "stdout",
     "output_type": "stream",
     "text": [
      "Rate limit reached. Waiting 20 seconds before retrying...\n",
      "Rate limit reached. Waiting 20 seconds before retrying...\n"
     ]
    },
    {
     "name": "stderr",
     "output_type": "stream",
     "text": [
      "  4%|███▊                                                                                      | 21/500 [00:05<02:00,  3.98it/s]"
     ]
    },
    {
     "name": "stdout",
     "output_type": "stream",
     "text": [
      "Rate limit reached. Waiting 20 seconds before retrying...\n"
     ]
    },
    {
     "name": "stderr",
     "output_type": "stream",
     "text": [
      "\r",
      "  4%|███▉                                                                                      | 22/500 [00:06<04:19,  1.84it/s]"
     ]
    },
    {
     "name": "stdout",
     "output_type": "stream",
     "text": [
      "Rate limit reached. Waiting 20 seconds before retrying...\n"
     ]
    },
    {
     "name": "stderr",
     "output_type": "stream",
     "text": [
      "  5%|████▋                                                                                     | 26/500 [00:09<04:26,  1.78it/s]"
     ]
    },
    {
     "name": "stdout",
     "output_type": "stream",
     "text": [
      "Rate limit reached. Waiting 20 seconds before retrying...\n"
     ]
    },
    {
     "name": "stderr",
     "output_type": "stream",
     "text": [
      "  7%|██████▎                                                                                   | 35/500 [00:11<02:02,  3.78it/s]"
     ]
    },
    {
     "name": "stdout",
     "output_type": "stream",
     "text": [
      "Rate limit reached. Waiting 20 seconds before retrying...\n"
     ]
    },
    {
     "name": "stderr",
     "output_type": "stream",
     "text": [
      "  7%|██████▋                                                                                   | 37/500 [00:12<02:09,  3.57it/s]"
     ]
    },
    {
     "name": "stdout",
     "output_type": "stream",
     "text": [
      "Rate limit reached. Waiting 20 seconds before retrying...\n"
     ]
    },
    {
     "name": "stderr",
     "output_type": "stream",
     "text": [
      "  8%|███████▏                                                                                  | 40/500 [00:13<01:52,  4.10it/s]"
     ]
    },
    {
     "name": "stdout",
     "output_type": "stream",
     "text": [
      "Rate limit reached. Waiting 20 seconds before retrying...\n",
      "Rate limit reached. Waiting 20 seconds before retrying...\n"
     ]
    },
    {
     "name": "stderr",
     "output_type": "stream",
     "text": [
      " 12%|██████████▊                                                                               | 60/500 [00:25<03:04,  2.38it/s]"
     ]
    },
    {
     "name": "stdout",
     "output_type": "stream",
     "text": [
      "Rate limit reached. Waiting 20 seconds before retrying...\n"
     ]
    },
    {
     "name": "stderr",
     "output_type": "stream",
     "text": [
      " 13%|███████████▎                                                                              | 63/500 [00:27<02:47,  2.61it/s]"
     ]
    },
    {
     "name": "stdout",
     "output_type": "stream",
     "text": [
      "Rate limit reached. Waiting 20 seconds before retrying...\n"
     ]
    },
    {
     "name": "stderr",
     "output_type": "stream",
     "text": [
      " 13%|███████████▉                                                                              | 66/500 [00:28<02:11,  3.30it/s]"
     ]
    },
    {
     "name": "stdout",
     "output_type": "stream",
     "text": [
      "Rate limit reached. Waiting 20 seconds before retrying...\n",
      "Rate limit reached. Waiting 20 seconds before retrying...\n"
     ]
    },
    {
     "name": "stderr",
     "output_type": "stream",
     "text": [
      "\r",
      " 13%|████████████                                                                              | 67/500 [00:28<01:52,  3.84it/s]"
     ]
    },
    {
     "name": "stdout",
     "output_type": "stream",
     "text": [
      "Rate limit reached. Waiting 20 seconds before retrying...\n"
     ]
    },
    {
     "name": "stderr",
     "output_type": "stream",
     "text": [
      " 14%|████████████▌                                                                             | 70/500 [00:29<01:59,  3.59it/s]"
     ]
    },
    {
     "name": "stdout",
     "output_type": "stream",
     "text": [
      "Rate limit reached. Waiting 20 seconds before retrying...\n"
     ]
    },
    {
     "name": "stderr",
     "output_type": "stream",
     "text": [
      " 15%|█████████████▌                                                                            | 75/500 [00:30<01:53,  3.74it/s]"
     ]
    },
    {
     "name": "stdout",
     "output_type": "stream",
     "text": [
      "Rate limit reached. Waiting 20 seconds before retrying...\n"
     ]
    },
    {
     "name": "stderr",
     "output_type": "stream",
     "text": [
      " 16%|██████████████                                                                            | 78/500 [00:31<02:13,  3.16it/s]"
     ]
    },
    {
     "name": "stdout",
     "output_type": "stream",
     "text": [
      "Rate limit reached. Waiting 20 seconds before retrying...\n"
     ]
    },
    {
     "name": "stderr",
     "output_type": "stream",
     "text": [
      " 17%|███████████████▎                                                                          | 85/500 [00:35<02:36,  2.65it/s]"
     ]
    },
    {
     "name": "stdout",
     "output_type": "stream",
     "text": [
      "Rate limit reached. Waiting 20 seconds before retrying...\n"
     ]
    },
    {
     "name": "stderr",
     "output_type": "stream",
     "text": [
      " 20%|█████████████████▊                                                                        | 99/500 [00:41<02:42,  2.47it/s]"
     ]
    },
    {
     "name": "stdout",
     "output_type": "stream",
     "text": [
      "Rate limit reached. Waiting 20 seconds before retrying...\n"
     ]
    },
    {
     "name": "stderr",
     "output_type": "stream",
     "text": [
      " 21%|██████████████████▎                                                                      | 103/500 [00:43<03:15,  2.03it/s]"
     ]
    },
    {
     "name": "stdout",
     "output_type": "stream",
     "text": [
      "Rate limit reached. Waiting 20 seconds before retrying...\n",
      "Rate limit reached. Waiting 20 seconds before retrying...\n"
     ]
    },
    {
     "name": "stderr",
     "output_type": "stream",
     "text": [
      "\r",
      " 21%|██████████████████▌                                                                      | 104/500 [00:43<02:37,  2.52it/s]"
     ]
    },
    {
     "name": "stdout",
     "output_type": "stream",
     "text": [
      "Rate limit reached. Waiting 20 seconds before retrying...\n"
     ]
    },
    {
     "name": "stderr",
     "output_type": "stream",
     "text": [
      " 22%|███████████████████▌                                                                     | 110/500 [00:46<02:32,  2.55it/s]"
     ]
    },
    {
     "name": "stdout",
     "output_type": "stream",
     "text": [
      "Rate limit reached. Waiting 20 seconds before retrying...\n"
     ]
    },
    {
     "name": "stderr",
     "output_type": "stream",
     "text": [
      "\r",
      " 22%|███████████████████▉                                                                     | 112/500 [00:47<02:30,  2.57it/s]"
     ]
    },
    {
     "name": "stdout",
     "output_type": "stream",
     "text": [
      "Rate limit reached. Waiting 20 seconds before retrying...\n"
     ]
    },
    {
     "name": "stderr",
     "output_type": "stream",
     "text": [
      " 24%|█████████████████████▌                                                                   | 121/500 [00:51<02:21,  2.67it/s]"
     ]
    },
    {
     "name": "stdout",
     "output_type": "stream",
     "text": [
      "Rate limit reached. Waiting 20 seconds before retrying...\n"
     ]
    },
    {
     "name": "stderr",
     "output_type": "stream",
     "text": [
      " 25%|█████████████████████▉                                                                   | 123/500 [00:51<02:16,  2.77it/s]"
     ]
    },
    {
     "name": "stdout",
     "output_type": "stream",
     "text": [
      "Rate limit reached. Waiting 20 seconds before retrying...\n"
     ]
    },
    {
     "name": "stderr",
     "output_type": "stream",
     "text": [
      " 26%|██████████████████████▊                                                                  | 128/500 [00:54<03:12,  1.94it/s]"
     ]
    },
    {
     "name": "stdout",
     "output_type": "stream",
     "text": [
      "Rate limit reached. Waiting 20 seconds before retrying...\n"
     ]
    },
    {
     "name": "stderr",
     "output_type": "stream",
     "text": [
      " 26%|███████████████████████▍                                                                 | 132/500 [00:55<02:11,  2.79it/s]"
     ]
    },
    {
     "name": "stdout",
     "output_type": "stream",
     "text": [
      "Rate limit reached. Waiting 20 seconds before retrying...\n"
     ]
    },
    {
     "name": "stderr",
     "output_type": "stream",
     "text": [
      " 27%|███████████████████████▊                                                                 | 134/500 [00:56<01:59,  3.07it/s]"
     ]
    },
    {
     "name": "stdout",
     "output_type": "stream",
     "text": [
      "Rate limit reached. Waiting 20 seconds before retrying...\n"
     ]
    },
    {
     "name": "stderr",
     "output_type": "stream",
     "text": [
      " 27%|████████████████████████▍                                                                | 137/500 [00:57<02:10,  2.78it/s]"
     ]
    },
    {
     "name": "stdout",
     "output_type": "stream",
     "text": [
      "Rate limit reached. Waiting 20 seconds before retrying...\n"
     ]
    },
    {
     "name": "stderr",
     "output_type": "stream",
     "text": [
      " 28%|█████████████████████████                                                                | 141/500 [01:00<02:55,  2.04it/s]"
     ]
    },
    {
     "name": "stdout",
     "output_type": "stream",
     "text": [
      "Rate limit reached. Waiting 20 seconds before retrying...\n"
     ]
    },
    {
     "name": "stderr",
     "output_type": "stream",
     "text": [
      " 30%|██████████████████████████▎                                                              | 148/500 [01:03<01:42,  3.45it/s]"
     ]
    },
    {
     "name": "stdout",
     "output_type": "stream",
     "text": [
      "Rate limit reached. Waiting 20 seconds before retrying...\n",
      "Rate limit reached. Waiting 20 seconds before retrying...\n"
     ]
    },
    {
     "name": "stderr",
     "output_type": "stream",
     "text": [
      " 30%|██████████████████████████▋                                                              | 150/500 [01:03<01:14,  4.73it/s]"
     ]
    },
    {
     "name": "stdout",
     "output_type": "stream",
     "text": [
      "Rate limit reached. Waiting 20 seconds before retrying...\n",
      "Rate limit reached. Waiting 20 seconds before retrying...\n"
     ]
    },
    {
     "name": "stderr",
     "output_type": "stream",
     "text": [
      " 31%|███████████████████████████▏                                                             | 153/500 [01:04<01:13,  4.75it/s]"
     ]
    },
    {
     "name": "stdout",
     "output_type": "stream",
     "text": [
      "Rate limit reached. Waiting 20 seconds before retrying...\n"
     ]
    },
    {
     "name": "stderr",
     "output_type": "stream",
     "text": [
      "\r",
      " 31%|███████████████████████████▍                                                             | 154/500 [01:04<01:46,  3.24it/s]"
     ]
    },
    {
     "name": "stdout",
     "output_type": "stream",
     "text": [
      "Rate limit reached. Waiting 20 seconds before retrying...\n"
     ]
    },
    {
     "name": "stderr",
     "output_type": "stream",
     "text": [
      " 31%|███████████████████████████▉                                                             | 157/500 [01:05<01:37,  3.52it/s]"
     ]
    },
    {
     "name": "stdout",
     "output_type": "stream",
     "text": [
      "Rate limit reached. Waiting 20 seconds before retrying...\n"
     ]
    },
    {
     "name": "stderr",
     "output_type": "stream",
     "text": [
      " 32%|████████████████████████████▍                                                            | 160/500 [01:06<01:25,  3.99it/s]"
     ]
    },
    {
     "name": "stdout",
     "output_type": "stream",
     "text": [
      "Rate limit reached. Waiting 20 seconds before retrying...\n"
     ]
    },
    {
     "name": "stderr",
     "output_type": "stream",
     "text": [
      " 32%|████████████████████████████▊                                                            | 162/500 [01:07<02:05,  2.69it/s]"
     ]
    },
    {
     "name": "stdout",
     "output_type": "stream",
     "text": [
      "Rate limit reached. Waiting 20 seconds before retrying...\n"
     ]
    },
    {
     "name": "stderr",
     "output_type": "stream",
     "text": [
      " 34%|██████████████████████████████▎                                                          | 170/500 [01:10<02:07,  2.58it/s]"
     ]
    },
    {
     "name": "stdout",
     "output_type": "stream",
     "text": [
      "Rate limit reached. Waiting 20 seconds before retrying...\n"
     ]
    },
    {
     "name": "stderr",
     "output_type": "stream",
     "text": [
      " 35%|███████████████████████████████▏                                                         | 175/500 [01:12<01:43,  3.14it/s]"
     ]
    },
    {
     "name": "stdout",
     "output_type": "stream",
     "text": [
      "Rate limit reached. Waiting 20 seconds before retrying...\n"
     ]
    },
    {
     "name": "stderr",
     "output_type": "stream",
     "text": [
      " 37%|█████████████████████████████████                                                        | 186/500 [01:14<01:17,  4.07it/s]"
     ]
    },
    {
     "name": "stdout",
     "output_type": "stream",
     "text": [
      "Rate limit reached. Waiting 20 seconds before retrying...\n"
     ]
    },
    {
     "name": "stderr",
     "output_type": "stream",
     "text": [
      " 38%|█████████████████████████████████▋                                                       | 189/500 [01:16<02:16,  2.28it/s]"
     ]
    },
    {
     "name": "stdout",
     "output_type": "stream",
     "text": [
      "Rate limit reached. Waiting 20 seconds before retrying...\n"
     ]
    },
    {
     "name": "stderr",
     "output_type": "stream",
     "text": [
      " 38%|██████████████████████████████████▏                                                      | 192/500 [01:17<01:59,  2.58it/s]"
     ]
    },
    {
     "name": "stdout",
     "output_type": "stream",
     "text": [
      "Rate limit reached. Waiting 20 seconds before retrying...\n"
     ]
    },
    {
     "name": "stderr",
     "output_type": "stream",
     "text": [
      " 40%|███████████████████████████████████▍                                                     | 199/500 [01:21<01:46,  2.83it/s]"
     ]
    },
    {
     "name": "stdout",
     "output_type": "stream",
     "text": [
      "Rate limit reached. Waiting 20 seconds before retrying...\n"
     ]
    },
    {
     "name": "stderr",
     "output_type": "stream",
     "text": [
      " 45%|████████████████████████████████████████                                                 | 225/500 [01:35<02:01,  2.26it/s]"
     ]
    },
    {
     "name": "stdout",
     "output_type": "stream",
     "text": [
      "Rate limit reached. Waiting 20 seconds before retrying...\n"
     ]
    },
    {
     "name": "stderr",
     "output_type": "stream",
     "text": [
      " 47%|█████████████████████████████████████████▍                                               | 233/500 [01:39<01:37,  2.74it/s]"
     ]
    },
    {
     "name": "stdout",
     "output_type": "stream",
     "text": [
      "Rate limit reached. Waiting 20 seconds before retrying...\n"
     ]
    },
    {
     "name": "stderr",
     "output_type": "stream",
     "text": [
      " 49%|███████████████████████████████████████████▎                                             | 243/500 [01:43<01:09,  3.68it/s]"
     ]
    },
    {
     "name": "stdout",
     "output_type": "stream",
     "text": [
      "Rate limit reached. Waiting 20 seconds before retrying...\n",
      "Rate limit reached. Waiting 20 seconds before retrying...\n"
     ]
    },
    {
     "name": "stderr",
     "output_type": "stream",
     "text": [
      "\r",
      " 49%|███████████████████████████████████████████▍                                             | 244/500 [01:43<00:59,  4.34it/s]"
     ]
    },
    {
     "name": "stdout",
     "output_type": "stream",
     "text": [
      "Rate limit reached. Waiting 20 seconds before retrying...\n"
     ]
    },
    {
     "name": "stderr",
     "output_type": "stream",
     "text": [
      " 52%|██████████████████████████████████████████████                                           | 259/500 [01:49<01:09,  3.47it/s]"
     ]
    },
    {
     "name": "stdout",
     "output_type": "stream",
     "text": [
      "Rate limit reached. Waiting 20 seconds before retrying...\n"
     ]
    },
    {
     "name": "stderr",
     "output_type": "stream",
     "text": [
      " 53%|██████████████████████████████████████████████▊                                          | 263/500 [01:50<00:59,  3.99it/s]"
     ]
    },
    {
     "name": "stdout",
     "output_type": "stream",
     "text": [
      "Rate limit reached. Waiting 20 seconds before retrying...\n"
     ]
    },
    {
     "name": "stderr",
     "output_type": "stream",
     "text": [
      " 54%|███████████████████████████████████████████████▉                                         | 269/500 [01:53<01:12,  3.17it/s]"
     ]
    },
    {
     "name": "stdout",
     "output_type": "stream",
     "text": [
      "Rate limit reached. Waiting 20 seconds before retrying...\n"
     ]
    },
    {
     "name": "stderr",
     "output_type": "stream",
     "text": [
      " 54%|████████████████████████████████████████████████▍                                        | 272/500 [01:54<01:23,  2.72it/s]"
     ]
    },
    {
     "name": "stdout",
     "output_type": "stream",
     "text": [
      "Rate limit reached. Waiting 20 seconds before retrying...\n"
     ]
    },
    {
     "name": "stderr",
     "output_type": "stream",
     "text": [
      " 55%|████████████████████████████████████████████████▊                                        | 274/500 [01:55<01:11,  3.15it/s]"
     ]
    },
    {
     "name": "stdout",
     "output_type": "stream",
     "text": [
      "Rate limit reached. Waiting 20 seconds before retrying...\n"
     ]
    },
    {
     "name": "stderr",
     "output_type": "stream",
     "text": [
      " 57%|███████████████████████████████████████████████████                                      | 287/500 [01:58<00:41,  5.11it/s]"
     ]
    },
    {
     "name": "stdout",
     "output_type": "stream",
     "text": [
      "Rate limit reached. Waiting 20 seconds before retrying...\n",
      "Rate limit reached. Waiting 20 seconds before retrying...\n"
     ]
    },
    {
     "name": "stderr",
     "output_type": "stream",
     "text": [
      " 58%|███████████████████████████████████████████████████▊                                     | 291/500 [01:59<00:33,  6.17it/s]"
     ]
    },
    {
     "name": "stdout",
     "output_type": "stream",
     "text": [
      "Rate limit reached. Waiting 20 seconds before retrying...\n",
      "Rate limit reached. Waiting 20 seconds before retrying...\n"
     ]
    },
    {
     "name": "stderr",
     "output_type": "stream",
     "text": [
      " 59%|████████████████████████████████████████████████████▎                                    | 294/500 [01:59<00:36,  5.70it/s]"
     ]
    },
    {
     "name": "stdout",
     "output_type": "stream",
     "text": [
      "Rate limit reached. Waiting 20 seconds before retrying...\n",
      "Rate limit reached. Waiting 20 seconds before retrying...\n"
     ]
    },
    {
     "name": "stderr",
     "output_type": "stream",
     "text": [
      " 60%|█████████████████████████████████████████████████████                                    | 298/500 [02:01<00:55,  3.61it/s]"
     ]
    },
    {
     "name": "stdout",
     "output_type": "stream",
     "text": [
      "Rate limit reached. Waiting 20 seconds before retrying...\n"
     ]
    },
    {
     "name": "stderr",
     "output_type": "stream",
     "text": [
      " 61%|██████████████████████████████████████████████████████                                   | 304/500 [02:03<00:55,  3.51it/s]"
     ]
    },
    {
     "name": "stdout",
     "output_type": "stream",
     "text": [
      "Rate limit reached. Waiting 20 seconds before retrying...\n",
      "Rate limit reached. Waiting 20 seconds before retrying...\n"
     ]
    },
    {
     "name": "stderr",
     "output_type": "stream",
     "text": [
      " 61%|██████████████████████████████████████████████████████▍                                  | 306/500 [02:04<00:41,  4.68it/s]"
     ]
    },
    {
     "name": "stdout",
     "output_type": "stream",
     "text": [
      "Rate limit reached. Waiting 20 seconds before retrying...\n"
     ]
    },
    {
     "name": "stderr",
     "output_type": "stream",
     "text": [
      " 62%|███████████████████████████████████████████████████████                                  | 309/500 [02:04<00:29,  6.53it/s]"
     ]
    },
    {
     "name": "stdout",
     "output_type": "stream",
     "text": [
      "Rate limit reached. Waiting 20 seconds before retrying...\n",
      "Rate limit reached. Waiting 20 seconds before retrying...\n"
     ]
    },
    {
     "name": "stderr",
     "output_type": "stream",
     "text": [
      " 62%|███████████████████████████████████████████████████████▌                                 | 312/500 [02:05<00:37,  5.03it/s]"
     ]
    },
    {
     "name": "stdout",
     "output_type": "stream",
     "text": [
      "Rate limit reached. Waiting 20 seconds before retrying...\n"
     ]
    },
    {
     "name": "stderr",
     "output_type": "stream",
     "text": [
      " 63%|████████████████████████████████████████████████████████                                 | 315/500 [02:06<00:54,  3.42it/s]"
     ]
    },
    {
     "name": "stdout",
     "output_type": "stream",
     "text": [
      "Rate limit reached. Waiting 20 seconds before retrying...\n"
     ]
    },
    {
     "name": "stderr",
     "output_type": "stream",
     "text": [
      " 63%|████████████████████████████████████████████████████████▍                                | 317/500 [02:08<02:03,  1.48it/s]"
     ]
    },
    {
     "name": "stdout",
     "output_type": "stream",
     "text": [
      "Rate limit reached. Waiting 20 seconds before retrying...\n"
     ]
    },
    {
     "name": "stderr",
     "output_type": "stream",
     "text": [
      " 65%|█████████████████████████████████████████████████████████▍                               | 323/500 [02:10<01:01,  2.88it/s]"
     ]
    },
    {
     "name": "stdout",
     "output_type": "stream",
     "text": [
      "Rate limit reached. Waiting 20 seconds before retrying...\n",
      "Rate limit reached. Waiting 20 seconds before retrying...\n"
     ]
    },
    {
     "name": "stderr",
     "output_type": "stream",
     "text": [
      " 65%|█████████████████████████████████████████████████████████▊                               | 325/500 [02:10<00:40,  4.37it/s]"
     ]
    },
    {
     "name": "stdout",
     "output_type": "stream",
     "text": [
      "Rate limit reached. Waiting 20 seconds before retrying...\n",
      "Rate limit reached. Waiting 20 seconds before retrying...\n"
     ]
    },
    {
     "name": "stderr",
     "output_type": "stream",
     "text": [
      "\r",
      " 65%|██████████████████████████████████████████████████████████                               | 326/500 [02:10<00:34,  5.05it/s]"
     ]
    },
    {
     "name": "stdout",
     "output_type": "stream",
     "text": [
      "Rate limit reached. Waiting 20 seconds before retrying...\n"
     ]
    },
    {
     "name": "stderr",
     "output_type": "stream",
     "text": [
      " 66%|██████████████████████████████████████████████████████████▋                              | 330/500 [02:12<00:40,  4.17it/s]"
     ]
    },
    {
     "name": "stdout",
     "output_type": "stream",
     "text": [
      "Rate limit reached. Waiting 20 seconds before retrying...\n"
     ]
    },
    {
     "name": "stderr",
     "output_type": "stream",
     "text": [
      " 66%|███████████████████████████████████████████████████████████                              | 332/500 [02:12<00:47,  3.56it/s]"
     ]
    },
    {
     "name": "stdout",
     "output_type": "stream",
     "text": [
      "Rate limit reached. Waiting 20 seconds before retrying...\n"
     ]
    },
    {
     "name": "stderr",
     "output_type": "stream",
     "text": [
      " 67%|███████████████████████████████████████████████████████████▋                             | 335/500 [02:14<01:04,  2.54it/s]"
     ]
    },
    {
     "name": "stdout",
     "output_type": "stream",
     "text": [
      "Rate limit reached. Waiting 20 seconds before retrying...\n"
     ]
    },
    {
     "name": "stderr",
     "output_type": "stream",
     "text": [
      " 68%|████████████████████████████████████████████████████████████▌                            | 340/500 [02:15<00:37,  4.28it/s]"
     ]
    },
    {
     "name": "stdout",
     "output_type": "stream",
     "text": [
      "Rate limit reached. Waiting 20 seconds before retrying...\n",
      "Rate limit reached. Waiting 20 seconds before retrying...\n"
     ]
    },
    {
     "name": "stderr",
     "output_type": "stream",
     "text": [
      " 69%|█████████████████████████████████████████████████████████████                            | 343/500 [02:16<00:31,  4.95it/s]"
     ]
    },
    {
     "name": "stdout",
     "output_type": "stream",
     "text": [
      "Rate limit reached. Waiting 20 seconds before retrying...\n",
      "Rate limit reached. Waiting 20 seconds before retrying...\n"
     ]
    },
    {
     "name": "stderr",
     "output_type": "stream",
     "text": [
      " 69%|█████████████████████████████████████████████████████████████▍                           | 345/500 [02:16<00:24,  6.45it/s]"
     ]
    },
    {
     "name": "stdout",
     "output_type": "stream",
     "text": [
      "Rate limit reached. Waiting 20 seconds before retrying...\n",
      "Rate limit reached. Waiting 20 seconds before retrying...\n"
     ]
    },
    {
     "name": "stderr",
     "output_type": "stream",
     "text": [
      " 70%|█████████████████████████████████████████████████████████████▉                           | 348/500 [02:17<00:29,  5.09it/s]"
     ]
    },
    {
     "name": "stdout",
     "output_type": "stream",
     "text": [
      "Rate limit reached. Waiting 20 seconds before retrying...\n"
     ]
    },
    {
     "name": "stderr",
     "output_type": "stream",
     "text": [
      " 74%|█████████████████████████████████████████████████████████████████▋                       | 369/500 [02:24<00:39,  3.34it/s]"
     ]
    },
    {
     "name": "stdout",
     "output_type": "stream",
     "text": [
      "Rate limit reached. Waiting 20 seconds before retrying...\n",
      "Rate limit reached. Waiting 20 seconds before retrying...\n"
     ]
    },
    {
     "name": "stderr",
     "output_type": "stream",
     "text": [
      " 75%|███████████████████████████████████████████████████████████████████                      | 377/500 [02:27<00:28,  4.27it/s]"
     ]
    },
    {
     "name": "stdout",
     "output_type": "stream",
     "text": [
      "Rate limit reached. Waiting 20 seconds before retrying...\n",
      "Rate limit reached. Waiting 20 seconds before retrying...\n"
     ]
    },
    {
     "name": "stderr",
     "output_type": "stream",
     "text": [
      " 77%|████████████████████████████████████████████████████████████████████▏                    | 383/500 [02:29<00:24,  4.81it/s]"
     ]
    },
    {
     "name": "stdout",
     "output_type": "stream",
     "text": [
      "Rate limit reached. Waiting 20 seconds before retrying...\n",
      "Rate limit reached. Waiting 20 seconds before retrying...\n"
     ]
    },
    {
     "name": "stderr",
     "output_type": "stream",
     "text": [
      "\r",
      " 77%|████████████████████████████████████████████████████████████████████▎                    | 384/500 [02:29<00:20,  5.65it/s]"
     ]
    },
    {
     "name": "stdout",
     "output_type": "stream",
     "text": [
      "Rate limit reached. Waiting 20 seconds before retrying...\n"
     ]
    },
    {
     "name": "stderr",
     "output_type": "stream",
     "text": [
      " 78%|█████████████████████████████████████████████████████████████████████▏                   | 389/500 [02:32<00:45,  2.43it/s]"
     ]
    },
    {
     "name": "stdout",
     "output_type": "stream",
     "text": [
      "Rate limit reached. Waiting 20 seconds before retrying...\n"
     ]
    },
    {
     "name": "stderr",
     "output_type": "stream",
     "text": [
      " 79%|█████████████████████████████████████████████████████████████████████▉                   | 393/500 [02:33<00:23,  4.51it/s]"
     ]
    },
    {
     "name": "stdout",
     "output_type": "stream",
     "text": [
      "Rate limit reached. Waiting 20 seconds before retrying...\n"
     ]
    },
    {
     "name": "stderr",
     "output_type": "stream",
     "text": [
      " 81%|████████████████████████████████████████████████████████████████████████                 | 405/500 [02:37<00:32,  2.93it/s]"
     ]
    },
    {
     "name": "stdout",
     "output_type": "stream",
     "text": [
      "Rate limit reached. Waiting 20 seconds before retrying...\n"
     ]
    },
    {
     "name": "stderr",
     "output_type": "stream",
     "text": [
      "\r",
      " 81%|████████████████████████████████████████████████████████████████████████▍                | 407/500 [02:38<00:26,  3.48it/s]"
     ]
    },
    {
     "name": "stdout",
     "output_type": "stream",
     "text": [
      "Rate limit reached. Waiting 20 seconds before retrying...\n"
     ]
    },
    {
     "name": "stderr",
     "output_type": "stream",
     "text": [
      " 82%|█████████████████████████████████████████████████████████████████████████▎               | 412/500 [02:38<00:17,  5.10it/s]"
     ]
    },
    {
     "name": "stdout",
     "output_type": "stream",
     "text": [
      "Rate limit reached. Waiting 20 seconds before retrying...\n",
      "Rate limit reached. Waiting 20 seconds before retrying...\n"
     ]
    },
    {
     "name": "stderr",
     "output_type": "stream",
     "text": [
      "\r",
      " 83%|█████████████████████████████████████████████████████████████████████████▌               | 413/500 [02:39<00:15,  5.65it/s]"
     ]
    },
    {
     "name": "stdout",
     "output_type": "stream",
     "text": [
      "Rate limit reached. Waiting 20 seconds before retrying...\n",
      "Rate limit reached. Waiting 20 seconds before retrying...\n"
     ]
    },
    {
     "name": "stderr",
     "output_type": "stream",
     "text": [
      "\r",
      " 83%|█████████████████████████████████████████████████████████████████████████▊               | 415/500 [02:39<00:12,  6.71it/s]"
     ]
    },
    {
     "name": "stdout",
     "output_type": "stream",
     "text": [
      "Rate limit reached. Waiting 20 seconds before retrying...\n"
     ]
    },
    {
     "name": "stderr",
     "output_type": "stream",
     "text": [
      " 85%|███████████████████████████████████████████████████████████████████████████▍             | 424/500 [02:43<00:26,  2.85it/s]"
     ]
    },
    {
     "name": "stdout",
     "output_type": "stream",
     "text": [
      "Rate limit reached. Waiting 20 seconds before retrying...\n",
      "Rate limit reached. Waiting 20 seconds before retrying...\n"
     ]
    },
    {
     "name": "stderr",
     "output_type": "stream",
     "text": [
      " 85%|████████████████████████████████████████████████████████████████████████████             | 427/500 [02:44<00:16,  4.55it/s]"
     ]
    },
    {
     "name": "stdout",
     "output_type": "stream",
     "text": [
      "Rate limit reached. Waiting 20 seconds before retrying...\n",
      "Rate limit reached. Waiting 20 seconds before retrying...\n"
     ]
    },
    {
     "name": "stderr",
     "output_type": "stream",
     "text": [
      " 87%|█████████████████████████████████████████████████████████████████████████████            | 433/500 [02:46<00:27,  2.44it/s]"
     ]
    },
    {
     "name": "stdout",
     "output_type": "stream",
     "text": [
      "Rate limit reached. Waiting 20 seconds before retrying...\n"
     ]
    },
    {
     "name": "stderr",
     "output_type": "stream",
     "text": [
      " 89%|███████████████████████████████████████████████████████████████████████████████▌         | 447/500 [02:52<00:13,  3.81it/s]"
     ]
    },
    {
     "name": "stdout",
     "output_type": "stream",
     "text": [
      "Rate limit reached. Waiting 20 seconds before retrying...\n",
      "Rate limit reached. Waiting 20 seconds before retrying...\n"
     ]
    },
    {
     "name": "stderr",
     "output_type": "stream",
     "text": [
      "\r",
      " 90%|███████████████████████████████████████████████████████████████████████████████▋         | 448/500 [02:52<00:11,  4.61it/s]"
     ]
    },
    {
     "name": "stdout",
     "output_type": "stream",
     "text": [
      "Rate limit reached. Waiting 20 seconds before retrying...\n"
     ]
    },
    {
     "name": "stderr",
     "output_type": "stream",
     "text": [
      "\r",
      " 90%|███████████████████████████████████████████████████████████████████████████████▉         | 449/500 [02:52<00:15,  3.22it/s]"
     ]
    },
    {
     "name": "stdout",
     "output_type": "stream",
     "text": [
      "Rate limit reached. Waiting 20 seconds before retrying...\n"
     ]
    },
    {
     "name": "stderr",
     "output_type": "stream",
     "text": [
      " 91%|████████████████████████████████████████████████████████████████████████████████▋        | 453/500 [02:53<00:10,  4.43it/s]"
     ]
    },
    {
     "name": "stdout",
     "output_type": "stream",
     "text": [
      "Rate limit reached. Waiting 20 seconds before retrying...\n",
      "Rate limit reached. Waiting 20 seconds before retrying...\n"
     ]
    },
    {
     "name": "stderr",
     "output_type": "stream",
     "text": [
      "\r",
      " 91%|████████████████████████████████████████████████████████████████████████████████▊        | 454/500 [02:53<00:09,  5.01it/s]"
     ]
    },
    {
     "name": "stdout",
     "output_type": "stream",
     "text": [
      "Rate limit reached. Waiting 20 seconds before retrying...\n"
     ]
    },
    {
     "name": "stderr",
     "output_type": "stream",
     "text": [
      " 92%|█████████████████████████████████████████████████████████████████████████████████▌       | 458/500 [02:54<00:09,  4.50it/s]"
     ]
    },
    {
     "name": "stdout",
     "output_type": "stream",
     "text": [
      "Rate limit reached. Waiting 20 seconds before retrying...\n",
      "Rate limit reached. Waiting 20 seconds before retrying...\n"
     ]
    },
    {
     "name": "stderr",
     "output_type": "stream",
     "text": [
      " 93%|██████████████████████████████████████████████████████████████████████████████████▊      | 465/500 [02:55<00:05,  6.92it/s]"
     ]
    },
    {
     "name": "stdout",
     "output_type": "stream",
     "text": [
      "Rate limit reached. Waiting 20 seconds before retrying...\n",
      "Rate limit reached. Waiting 20 seconds before retrying...\n"
     ]
    },
    {
     "name": "stderr",
     "output_type": "stream",
     "text": [
      " 93%|███████████████████████████████████████████████████████████████████████████████████▏     | 467/500 [02:56<00:04,  7.62it/s]"
     ]
    },
    {
     "name": "stdout",
     "output_type": "stream",
     "text": [
      "Rate limit reached. Waiting 20 seconds before retrying...\n",
      "Rate limit reached. Waiting 20 seconds before retrying...\n"
     ]
    },
    {
     "name": "stderr",
     "output_type": "stream",
     "text": [
      " 94%|███████████████████████████████████████████████████████████████████████████████████▋     | 470/500 [02:56<00:03,  8.28it/s]"
     ]
    },
    {
     "name": "stdout",
     "output_type": "stream",
     "text": [
      "Rate limit reached. Waiting 20 seconds before retrying...\n"
     ]
    },
    {
     "name": "stderr",
     "output_type": "stream",
     "text": [
      " 95%|████████████████████████████████████████████████████████████████████████████████████▋    | 476/500 [02:59<00:07,  3.09it/s]"
     ]
    },
    {
     "name": "stdout",
     "output_type": "stream",
     "text": [
      "Rate limit reached. Waiting 20 seconds before retrying...\n"
     ]
    },
    {
     "name": "stderr",
     "output_type": "stream",
     "text": [
      " 96%|█████████████████████████████████████████████████████████████████████████████████████▍   | 480/500 [03:01<00:06,  2.98it/s]"
     ]
    },
    {
     "name": "stdout",
     "output_type": "stream",
     "text": [
      "Rate limit reached. Waiting 20 seconds before retrying...\n",
      "Rate limit reached. Waiting 20 seconds before retrying...\n"
     ]
    },
    {
     "name": "stderr",
     "output_type": "stream",
     "text": [
      " 97%|█████████████████████████████████████████████████████████████████████████████████████▉   | 483/500 [03:01<00:04,  3.64it/s]"
     ]
    },
    {
     "name": "stdout",
     "output_type": "stream",
     "text": [
      "Rate limit reached. Waiting 20 seconds before retrying...\n",
      "Rate limit reached. Waiting 20 seconds before retrying...\n"
     ]
    },
    {
     "name": "stderr",
     "output_type": "stream",
     "text": [
      " 97%|██████████████████████████████████████████████████████████████████████████████████████▎  | 485/500 [03:02<00:02,  5.08it/s]"
     ]
    },
    {
     "name": "stdout",
     "output_type": "stream",
     "text": [
      "Rate limit reached. Waiting 20 seconds before retrying...\n",
      "Rate limit reached. Waiting 20 seconds before retrying...\n"
     ]
    },
    {
     "name": "stderr",
     "output_type": "stream",
     "text": [
      " 98%|███████████████████████████████████████████████████████████████████████████████████████▏ | 490/500 [03:03<00:02,  4.76it/s]"
     ]
    },
    {
     "name": "stdout",
     "output_type": "stream",
     "text": [
      "Rate limit reached. Waiting 20 seconds before retrying...\n",
      "Rate limit reached. Waiting 20 seconds before retrying...\n",
      "Rate limit reached. Waiting 20 seconds before retrying...\n"
     ]
    },
    {
     "name": "stderr",
     "output_type": "stream",
     "text": [
      "\r",
      " 98%|███████████████████████████████████████████████████████████████████████████████████████▍ | 491/500 [03:03<00:01,  5.37it/s]"
     ]
    },
    {
     "name": "stdout",
     "output_type": "stream",
     "text": [
      "Rate limit reached. Waiting 20 seconds before retrying...\n"
     ]
    },
    {
     "name": "stderr",
     "output_type": "stream",
     "text": [
      " 99%|███████████████████████████████████████████████████████████████████████████████████████▉ | 494/500 [03:04<00:01,  5.14it/s]"
     ]
    },
    {
     "name": "stdout",
     "output_type": "stream",
     "text": [
      "Rate limit reached. Waiting 20 seconds before retrying...\n",
      "Rate limit reached. Waiting 20 seconds before retrying...\n"
     ]
    },
    {
     "name": "stderr",
     "output_type": "stream",
     "text": [
      "100%|████████████████████████████████████████████████████████████████████████████████████████▊| 499/500 [03:06<00:00,  3.81it/s]"
     ]
    },
    {
     "name": "stdout",
     "output_type": "stream",
     "text": [
      "Rate limit reached. Waiting 20 seconds before retrying...\n"
     ]
    },
    {
     "name": "stderr",
     "output_type": "stream",
     "text": [
      "100%|█████████████████████████████████████████████████████████████████████████████████████████| 500/500 [03:06<00:00,  2.68it/s]\n",
      "/var/folders/k7/_jdxw9bx3_7cybsnkxz0pr200000gn/T/ipykernel_40542/3386284359.py:16: SettingWithCopyWarning: \n",
      "A value is trying to be set on a copy of a slice from a DataFrame.\n",
      "Try using .loc[row_indexer,col_indexer] = value instead\n",
      "\n",
      "See the caveats in the documentation: https://pandas.pydata.org/pandas-docs/stable/user_guide/indexing.html#returning-a-view-versus-a-copy\n",
      "  df['article'] = article_list\n"
     ]
    }
   ],
   "source": [
    "# time.sleep(300)\n",
    "art_split9 = add_article(split_9)"
   ]
  },
  {
   "cell_type": "code",
   "execution_count": 176,
   "id": "d650ea62",
   "metadata": {},
   "outputs": [
    {
     "name": "stderr",
     "output_type": "stream",
     "text": [
      "  0%|▎                                                                                          | 2/500 [00:00<03:37,  2.29it/s]"
     ]
    },
    {
     "name": "stdout",
     "output_type": "stream",
     "text": [
      "Rate limit reached. Waiting 20 seconds before retrying...\n"
     ]
    },
    {
     "name": "stderr",
     "output_type": "stream",
     "text": [
      "  1%|█                                                                                          | 6/500 [00:02<02:31,  3.27it/s]"
     ]
    },
    {
     "name": "stdout",
     "output_type": "stream",
     "text": [
      "Rate limit reached. Waiting 20 seconds before retrying...\n",
      "Rate limit reached. Waiting 20 seconds before retrying...\n"
     ]
    },
    {
     "name": "stderr",
     "output_type": "stream",
     "text": [
      "  2%|█▋                                                                                         | 9/500 [00:03<01:58,  4.14it/s]"
     ]
    },
    {
     "name": "stdout",
     "output_type": "stream",
     "text": [
      "Rate limit reached. Waiting 20 seconds before retrying...\n",
      "Rate limit reached. Waiting 20 seconds before retrying...\n"
     ]
    },
    {
     "name": "stderr",
     "output_type": "stream",
     "text": [
      "  2%|██▏                                                                                       | 12/500 [00:04<01:57,  4.17it/s]"
     ]
    },
    {
     "name": "stdout",
     "output_type": "stream",
     "text": [
      "Rate limit reached. Waiting 20 seconds before retrying...\n",
      "Rate limit reached. Waiting 20 seconds before retrying...\n"
     ]
    },
    {
     "name": "stderr",
     "output_type": "stream",
     "text": [
      "  4%|███▍                                                                                      | 19/500 [00:06<01:58,  4.07it/s]"
     ]
    },
    {
     "name": "stdout",
     "output_type": "stream",
     "text": [
      "Rate limit reached. Waiting 20 seconds before retrying...\n",
      "Rate limit reached. Waiting 20 seconds before retrying...\n"
     ]
    },
    {
     "name": "stderr",
     "output_type": "stream",
     "text": [
      "\r",
      "  4%|███▌                                                                                      | 20/500 [00:06<01:38,  4.87it/s]"
     ]
    },
    {
     "name": "stdout",
     "output_type": "stream",
     "text": [
      "Rate limit reached. Waiting 20 seconds before retrying...\n"
     ]
    },
    {
     "name": "stderr",
     "output_type": "stream",
     "text": [
      "  5%|████▎                                                                                     | 24/500 [00:07<01:51,  4.26it/s]"
     ]
    },
    {
     "name": "stdout",
     "output_type": "stream",
     "text": [
      "Rate limit reached. Waiting 20 seconds before retrying...\n",
      "Rate limit reached. Waiting 20 seconds before retrying...\n"
     ]
    },
    {
     "name": "stderr",
     "output_type": "stream",
     "text": [
      "  5%|████▊                                                                                     | 27/500 [00:08<01:39,  4.75it/s]"
     ]
    },
    {
     "name": "stdout",
     "output_type": "stream",
     "text": [
      "Rate limit reached. Waiting 20 seconds before retrying...\n",
      "Rate limit reached. Waiting 20 seconds before retrying...\n"
     ]
    },
    {
     "name": "stderr",
     "output_type": "stream",
     "text": [
      "  6%|█████▌                                                                                    | 31/500 [00:09<02:01,  3.85it/s]"
     ]
    },
    {
     "name": "stdout",
     "output_type": "stream",
     "text": [
      "Rate limit reached. Waiting 20 seconds before retrying...\n"
     ]
    },
    {
     "name": "stderr",
     "output_type": "stream",
     "text": [
      "\r",
      "  7%|█████▉                                                                                    | 33/500 [00:10<01:33,  5.02it/s]"
     ]
    },
    {
     "name": "stdout",
     "output_type": "stream",
     "text": [
      "Rate limit reached. Waiting 20 seconds before retrying...\n"
     ]
    },
    {
     "name": "stderr",
     "output_type": "stream",
     "text": [
      "  7%|██████▋                                                                                   | 37/500 [00:11<02:05,  3.68it/s]"
     ]
    },
    {
     "name": "stdout",
     "output_type": "stream",
     "text": [
      "Rate limit reached. Waiting 20 seconds before retrying...\n"
     ]
    },
    {
     "name": "stderr",
     "output_type": "stream",
     "text": [
      "  8%|███████▍                                                                                  | 41/500 [00:12<01:44,  4.39it/s]"
     ]
    },
    {
     "name": "stdout",
     "output_type": "stream",
     "text": [
      "Rate limit reached. Waiting 20 seconds before retrying...\n"
     ]
    },
    {
     "name": "stderr",
     "output_type": "stream",
     "text": [
      "  9%|████████                                                                                  | 45/500 [00:13<01:29,  5.09it/s]"
     ]
    },
    {
     "name": "stdout",
     "output_type": "stream",
     "text": [
      "Rate limit reached. Waiting 20 seconds before retrying...\n"
     ]
    },
    {
     "name": "stderr",
     "output_type": "stream",
     "text": [
      " 10%|████████▊                                                                                 | 49/500 [00:15<02:19,  3.22it/s]"
     ]
    },
    {
     "name": "stdout",
     "output_type": "stream",
     "text": [
      "Rate limit reached. Waiting 20 seconds before retrying...\n"
     ]
    },
    {
     "name": "stderr",
     "output_type": "stream",
     "text": [
      " 10%|█████████▎                                                                                | 52/500 [00:15<01:55,  3.88it/s]"
     ]
    },
    {
     "name": "stdout",
     "output_type": "stream",
     "text": [
      "Rate limit reached. Waiting 20 seconds before retrying...\n",
      "Rate limit reached. Waiting 20 seconds before retrying...\n"
     ]
    },
    {
     "name": "stderr",
     "output_type": "stream",
     "text": [
      " 11%|██████████                                                                                | 56/500 [00:16<01:40,  4.41it/s]"
     ]
    },
    {
     "name": "stdout",
     "output_type": "stream",
     "text": [
      "Rate limit reached. Waiting 20 seconds before retrying...\n"
     ]
    },
    {
     "name": "stderr",
     "output_type": "stream",
     "text": [
      " 12%|███████████▏                                                                              | 62/500 [00:20<03:20,  2.18it/s]"
     ]
    },
    {
     "name": "stdout",
     "output_type": "stream",
     "text": [
      "Rate limit reached. Waiting 20 seconds before retrying...\n"
     ]
    },
    {
     "name": "stderr",
     "output_type": "stream",
     "text": [
      " 13%|███████████▋                                                                              | 65/500 [00:21<03:17,  2.20it/s]"
     ]
    },
    {
     "name": "stdout",
     "output_type": "stream",
     "text": [
      "Rate limit reached. Waiting 20 seconds before retrying...\n"
     ]
    },
    {
     "name": "stderr",
     "output_type": "stream",
     "text": [
      " 18%|████████████████                                                                          | 89/500 [00:30<01:43,  3.99it/s]"
     ]
    },
    {
     "name": "stdout",
     "output_type": "stream",
     "text": [
      "Rate limit reached. Waiting 20 seconds before retrying...\n"
     ]
    },
    {
     "name": "stderr",
     "output_type": "stream",
     "text": [
      " 19%|█████████████████▎                                                                        | 96/500 [00:33<03:04,  2.18it/s]"
     ]
    },
    {
     "name": "stdout",
     "output_type": "stream",
     "text": [
      "Rate limit reached. Waiting 20 seconds before retrying...\n"
     ]
    },
    {
     "name": "stderr",
     "output_type": "stream",
     "text": [
      " 21%|███████████████████                                                                      | 107/500 [00:38<01:58,  3.31it/s]"
     ]
    },
    {
     "name": "stdout",
     "output_type": "stream",
     "text": [
      "Rate limit reached. Waiting 20 seconds before retrying...\n",
      "Rate limit reached. Waiting 20 seconds before retrying...\n",
      "Rate limit reached. Waiting 20 seconds before retrying...\n"
     ]
    },
    {
     "name": "stderr",
     "output_type": "stream",
     "text": [
      " 22%|███████████████████▌                                                                     | 110/500 [00:39<02:10,  3.00it/s]"
     ]
    },
    {
     "name": "stdout",
     "output_type": "stream",
     "text": [
      "Rate limit reached. Waiting 20 seconds before retrying...\n"
     ]
    },
    {
     "name": "stderr",
     "output_type": "stream",
     "text": [
      " 24%|█████████████████████                                                                    | 118/500 [00:43<02:07,  3.00it/s]"
     ]
    },
    {
     "name": "stdout",
     "output_type": "stream",
     "text": [
      "Rate limit reached. Waiting 20 seconds before retrying...\n"
     ]
    },
    {
     "name": "stderr",
     "output_type": "stream",
     "text": [
      " 24%|█████████████████████▌                                                                   | 121/500 [00:44<01:57,  3.22it/s]"
     ]
    },
    {
     "name": "stdout",
     "output_type": "stream",
     "text": [
      "Rate limit reached. Waiting 20 seconds before retrying...\n"
     ]
    },
    {
     "name": "stderr",
     "output_type": "stream",
     "text": [
      " 25%|██████████████████████▎                                                                  | 125/500 [00:46<02:20,  2.67it/s]"
     ]
    },
    {
     "name": "stdout",
     "output_type": "stream",
     "text": [
      "Rate limit reached. Waiting 20 seconds before retrying...\n"
     ]
    },
    {
     "name": "stderr",
     "output_type": "stream",
     "text": [
      " 28%|████████████████████████▋                                                                | 139/500 [00:53<02:40,  2.25it/s]"
     ]
    },
    {
     "name": "stdout",
     "output_type": "stream",
     "text": [
      "Rate limit reached. Waiting 20 seconds before retrying...\n"
     ]
    },
    {
     "name": "stderr",
     "output_type": "stream",
     "text": [
      " 29%|█████████████████████████▉                                                               | 146/500 [00:55<01:36,  3.68it/s]"
     ]
    },
    {
     "name": "stdout",
     "output_type": "stream",
     "text": [
      "Rate limit reached. Waiting 20 seconds before retrying...\n"
     ]
    },
    {
     "name": "stderr",
     "output_type": "stream",
     "text": [
      " 30%|███████████████████████████                                                              | 152/500 [00:56<01:19,  4.37it/s]"
     ]
    },
    {
     "name": "stdout",
     "output_type": "stream",
     "text": [
      "Rate limit reached. Waiting 20 seconds before retrying...\n"
     ]
    },
    {
     "name": "stderr",
     "output_type": "stream",
     "text": [
      " 33%|█████████████████████████████▏                                                           | 164/500 [00:59<01:04,  5.23it/s]"
     ]
    },
    {
     "name": "stdout",
     "output_type": "stream",
     "text": [
      "Rate limit reached. Waiting 20 seconds before retrying...\n",
      "Rate limit reached. Waiting 20 seconds before retrying...\n"
     ]
    },
    {
     "name": "stderr",
     "output_type": "stream",
     "text": [
      " 34%|██████████████████████████████                                                           | 169/500 [01:01<02:05,  2.64it/s]"
     ]
    },
    {
     "name": "stdout",
     "output_type": "stream",
     "text": [
      "Rate limit reached. Waiting 20 seconds before retrying...\n"
     ]
    },
    {
     "name": "stderr",
     "output_type": "stream",
     "text": [
      " 36%|███████████████████████████████▋                                                         | 178/500 [01:04<01:27,  3.67it/s]"
     ]
    },
    {
     "name": "stdout",
     "output_type": "stream",
     "text": [
      "Rate limit reached. Waiting 20 seconds before retrying...\n",
      "Rate limit reached. Waiting 20 seconds before retrying...\n"
     ]
    },
    {
     "name": "stderr",
     "output_type": "stream",
     "text": [
      " 36%|████████████████████████████████                                                         | 180/500 [01:04<01:05,  4.87it/s]"
     ]
    },
    {
     "name": "stdout",
     "output_type": "stream",
     "text": [
      "Rate limit reached. Waiting 20 seconds before retrying...\n"
     ]
    },
    {
     "name": "stderr",
     "output_type": "stream",
     "text": [
      " 37%|████████████████████████████████▉                                                        | 185/500 [01:06<01:43,  3.03it/s]"
     ]
    },
    {
     "name": "stdout",
     "output_type": "stream",
     "text": [
      "Rate limit reached. Waiting 20 seconds before retrying...\n"
     ]
    },
    {
     "name": "stderr",
     "output_type": "stream",
     "text": [
      " 38%|█████████████████████████████████▉                                                       | 191/500 [01:09<01:52,  2.75it/s]"
     ]
    },
    {
     "name": "stdout",
     "output_type": "stream",
     "text": [
      "Rate limit reached. Waiting 20 seconds before retrying...\n"
     ]
    },
    {
     "name": "stderr",
     "output_type": "stream",
     "text": [
      " 39%|██████████████████████████████████▎                                                      | 193/500 [01:09<01:38,  3.11it/s]"
     ]
    },
    {
     "name": "stdout",
     "output_type": "stream",
     "text": [
      "Rate limit reached. Waiting 20 seconds before retrying...\n"
     ]
    },
    {
     "name": "stderr",
     "output_type": "stream",
     "text": [
      " 39%|██████████████████████████████████▉                                                      | 196/500 [01:10<01:18,  3.88it/s]"
     ]
    },
    {
     "name": "stdout",
     "output_type": "stream",
     "text": [
      "Rate limit reached. Waiting 20 seconds before retrying...\n",
      "Rate limit reached. Waiting 20 seconds before retrying...\n"
     ]
    },
    {
     "name": "stderr",
     "output_type": "stream",
     "text": [
      " 40%|███████████████████████████████████▏                                                     | 198/500 [01:10<00:54,  5.51it/s]"
     ]
    },
    {
     "name": "stdout",
     "output_type": "stream",
     "text": [
      "Rate limit reached. Waiting 20 seconds before retrying...\n",
      "Rate limit reached. Waiting 20 seconds before retrying...\n"
     ]
    },
    {
     "name": "stderr",
     "output_type": "stream",
     "text": [
      " 40%|███████████████████████████████████▌                                                     | 200/500 [01:11<00:44,  6.79it/s]"
     ]
    },
    {
     "name": "stdout",
     "output_type": "stream",
     "text": [
      "Rate limit reached. Waiting 20 seconds before retrying...\n",
      "Rate limit reached. Waiting 20 seconds before retrying...\n"
     ]
    },
    {
     "name": "stderr",
     "output_type": "stream",
     "text": [
      "\r",
      " 40%|███████████████████████████████████▉                                                     | 202/500 [01:11<00:36,  8.06it/s]"
     ]
    },
    {
     "name": "stdout",
     "output_type": "stream",
     "text": [
      "Rate limit reached. Waiting 20 seconds before retrying...\n",
      "Rate limit reached. Waiting 20 seconds before retrying...\n"
     ]
    },
    {
     "name": "stderr",
     "output_type": "stream",
     "text": [
      " 41%|████████████████████████████████████▎                                                    | 204/500 [01:11<00:34,  8.57it/s]"
     ]
    },
    {
     "name": "stdout",
     "output_type": "stream",
     "text": [
      "Rate limit reached. Waiting 20 seconds before retrying...\n",
      "Rate limit reached. Waiting 20 seconds before retrying...\n"
     ]
    },
    {
     "name": "stderr",
     "output_type": "stream",
     "text": [
      "\r",
      " 41%|████████████████████████████████████▍                                                    | 205/500 [01:11<00:33,  8.84it/s]"
     ]
    },
    {
     "name": "stdout",
     "output_type": "stream",
     "text": [
      "Rate limit reached. Waiting 20 seconds before retrying...\n"
     ]
    },
    {
     "name": "stderr",
     "output_type": "stream",
     "text": [
      " 42%|█████████████████████████████████████▏                                                   | 209/500 [01:12<01:02,  4.66it/s]"
     ]
    },
    {
     "name": "stdout",
     "output_type": "stream",
     "text": [
      "Rate limit reached. Waiting 20 seconds before retrying...\n"
     ]
    },
    {
     "name": "stderr",
     "output_type": "stream",
     "text": [
      " 42%|█████████████████████████████████████▌                                                   | 211/500 [01:13<01:40,  2.89it/s]"
     ]
    },
    {
     "name": "stdout",
     "output_type": "stream",
     "text": [
      "Rate limit reached. Waiting 20 seconds before retrying...\n"
     ]
    },
    {
     "name": "stderr",
     "output_type": "stream",
     "text": [
      " 43%|██████████████████████████████████████                                                   | 214/500 [01:14<01:14,  3.84it/s]"
     ]
    },
    {
     "name": "stdout",
     "output_type": "stream",
     "text": [
      "Rate limit reached. Waiting 20 seconds before retrying...\n"
     ]
    },
    {
     "name": "stderr",
     "output_type": "stream",
     "text": [
      " 44%|██████████████████████████████████████▉                                                  | 219/500 [01:16<01:07,  4.18it/s]"
     ]
    },
    {
     "name": "stdout",
     "output_type": "stream",
     "text": [
      "Rate limit reached. Waiting 20 seconds before retrying...\n",
      "Rate limit reached. Waiting 20 seconds before retrying...\n"
     ]
    },
    {
     "name": "stderr",
     "output_type": "stream",
     "text": [
      "\r",
      " 44%|███████████████████████████████████████▏                                                 | 220/500 [01:16<00:56,  4.97it/s]"
     ]
    },
    {
     "name": "stdout",
     "output_type": "stream",
     "text": [
      "Rate limit reached. Waiting 20 seconds before retrying...\n",
      "Rate limit reached. Waiting 20 seconds before retrying...\n"
     ]
    },
    {
     "name": "stderr",
     "output_type": "stream",
     "text": [
      " 45%|████████████████████████████████████████                                                 | 225/500 [01:17<01:10,  3.91it/s]"
     ]
    },
    {
     "name": "stdout",
     "output_type": "stream",
     "text": [
      "Rate limit reached. Waiting 20 seconds before retrying...\n",
      "Rate limit reached. Waiting 20 seconds before retrying...\n"
     ]
    },
    {
     "name": "stderr",
     "output_type": "stream",
     "text": [
      " 50%|████████████████████████████████████████████▎                                            | 249/500 [01:25<00:59,  4.23it/s]"
     ]
    },
    {
     "name": "stdout",
     "output_type": "stream",
     "text": [
      "Rate limit reached. Waiting 20 seconds before retrying...\n"
     ]
    },
    {
     "name": "stderr",
     "output_type": "stream",
     "text": [
      " 53%|██████████████████████████████████████████████▊                                          | 263/500 [01:30<00:49,  4.77it/s]"
     ]
    },
    {
     "name": "stdout",
     "output_type": "stream",
     "text": [
      "Rate limit reached. Waiting 20 seconds before retrying...\n"
     ]
    },
    {
     "name": "stderr",
     "output_type": "stream",
     "text": [
      " 53%|███████████████████████████████████████████████▎                                         | 266/500 [01:31<01:12,  3.25it/s]"
     ]
    },
    {
     "name": "stdout",
     "output_type": "stream",
     "text": [
      "Rate limit reached. Waiting 20 seconds before retrying...\n"
     ]
    },
    {
     "name": "stderr",
     "output_type": "stream",
     "text": [
      " 58%|███████████████████████████████████████████████████▉                                     | 292/500 [01:40<00:49,  4.24it/s]"
     ]
    },
    {
     "name": "stdout",
     "output_type": "stream",
     "text": [
      "Rate limit reached. Waiting 20 seconds before retrying...\n"
     ]
    },
    {
     "name": "stderr",
     "output_type": "stream",
     "text": [
      " 59%|████████████████████████████████████████████████████▊                                    | 297/500 [01:42<01:11,  2.84it/s]"
     ]
    },
    {
     "name": "stdout",
     "output_type": "stream",
     "text": [
      "Rate limit reached. Waiting 20 seconds before retrying...\n"
     ]
    },
    {
     "name": "stderr",
     "output_type": "stream",
     "text": [
      " 60%|█████████████████████████████████████████████████████▌                                   | 301/500 [01:46<02:09,  1.54it/s]"
     ]
    },
    {
     "name": "stdout",
     "output_type": "stream",
     "text": [
      "Rate limit reached. Waiting 20 seconds before retrying...\n"
     ]
    },
    {
     "name": "stderr",
     "output_type": "stream",
     "text": [
      "\r",
      " 61%|█████████████████████████████████████████████████████▉                                   | 303/500 [01:46<01:32,  2.13it/s]"
     ]
    },
    {
     "name": "stdout",
     "output_type": "stream",
     "text": [
      "Rate limit reached. Waiting 20 seconds before retrying...\n"
     ]
    },
    {
     "name": "stderr",
     "output_type": "stream",
     "text": [
      " 61%|██████████████████████████████████████████████████████▍                                  | 306/500 [01:47<01:08,  2.82it/s]"
     ]
    },
    {
     "name": "stdout",
     "output_type": "stream",
     "text": [
      "Rate limit reached. Waiting 20 seconds before retrying...\n"
     ]
    },
    {
     "name": "stderr",
     "output_type": "stream",
     "text": [
      " 62%|██████████████████████████████████████████████████████▊                                  | 308/500 [01:48<00:59,  3.24it/s]"
     ]
    },
    {
     "name": "stdout",
     "output_type": "stream",
     "text": [
      "Rate limit reached. Waiting 20 seconds before retrying...\n"
     ]
    },
    {
     "name": "stderr",
     "output_type": "stream",
     "text": [
      " 62%|███████████████████████████████████████████████████████▌                                 | 312/500 [01:49<01:06,  2.83it/s]"
     ]
    },
    {
     "name": "stdout",
     "output_type": "stream",
     "text": [
      "Rate limit reached. Waiting 20 seconds before retrying...\n"
     ]
    },
    {
     "name": "stderr",
     "output_type": "stream",
     "text": [
      " 63%|████████████████████████████████████████████████████████▍                                | 317/500 [01:51<00:53,  3.42it/s]"
     ]
    },
    {
     "name": "stdout",
     "output_type": "stream",
     "text": [
      "Rate limit reached. Waiting 20 seconds before retrying...\n",
      "Rate limit reached. Waiting 20 seconds before retrying...\n"
     ]
    },
    {
     "name": "stderr",
     "output_type": "stream",
     "text": [
      " 64%|████████████████████████████████████████████████████████▉                                | 320/500 [01:52<00:48,  3.72it/s]"
     ]
    },
    {
     "name": "stdout",
     "output_type": "stream",
     "text": [
      "Rate limit reached. Waiting 20 seconds before retrying...\n"
     ]
    },
    {
     "name": "stderr",
     "output_type": "stream",
     "text": [
      " 65%|██████████████████████████████████████████████████████████                               | 326/500 [01:54<00:49,  3.50it/s]"
     ]
    },
    {
     "name": "stdout",
     "output_type": "stream",
     "text": [
      "Rate limit reached. Waiting 20 seconds before retrying...\n"
     ]
    },
    {
     "name": "stderr",
     "output_type": "stream",
     "text": [
      " 67%|███████████████████████████████████████████████████████████▎                             | 333/500 [01:56<00:37,  4.43it/s]"
     ]
    },
    {
     "name": "stdout",
     "output_type": "stream",
     "text": [
      "Rate limit reached. Waiting 20 seconds before retrying...\n",
      "Rate limit reached. Waiting 20 seconds before retrying...\n"
     ]
    },
    {
     "name": "stderr",
     "output_type": "stream",
     "text": [
      "\r",
      " 67%|███████████████████████████████████████████████████████████▍                             | 334/500 [01:56<00:32,  5.07it/s]"
     ]
    },
    {
     "name": "stdout",
     "output_type": "stream",
     "text": [
      "Rate limit reached. Waiting 20 seconds before retrying...\n"
     ]
    },
    {
     "name": "stderr",
     "output_type": "stream",
     "text": [
      "\r",
      " 67%|███████████████████████████████████████████████████████████▋                             | 335/500 [01:57<00:33,  4.91it/s]"
     ]
    },
    {
     "name": "stdout",
     "output_type": "stream",
     "text": [
      "Rate limit reached. Waiting 20 seconds before retrying...\n"
     ]
    },
    {
     "name": "stderr",
     "output_type": "stream",
     "text": [
      " 68%|████████████████████████████████████████████████████████████▋                            | 341/500 [02:00<01:03,  2.49it/s]"
     ]
    },
    {
     "name": "stdout",
     "output_type": "stream",
     "text": [
      "Rate limit reached. Waiting 20 seconds before retrying...\n",
      "Rate limit reached. Waiting 20 seconds before retrying...\n"
     ]
    },
    {
     "name": "stderr",
     "output_type": "stream",
     "text": [
      "\r",
      " 69%|█████████████████████████████████████████████████████████████                            | 343/500 [02:00<00:42,  3.68it/s]"
     ]
    },
    {
     "name": "stdout",
     "output_type": "stream",
     "text": [
      "Rate limit reached. Waiting 20 seconds before retrying...\n",
      "Rate limit reached. Waiting 20 seconds before retrying...\n"
     ]
    },
    {
     "name": "stderr",
     "output_type": "stream",
     "text": [
      " 69%|█████████████████████████████████████████████████████████████▍                           | 345/500 [02:01<00:31,  4.98it/s]"
     ]
    },
    {
     "name": "stdout",
     "output_type": "stream",
     "text": [
      "Rate limit reached. Waiting 20 seconds before retrying...\n",
      "Rate limit reached. Waiting 20 seconds before retrying...\n"
     ]
    },
    {
     "name": "stderr",
     "output_type": "stream",
     "text": [
      " 70%|█████████████████████████████████████████████████████████████▉                           | 348/500 [02:01<00:21,  7.07it/s]"
     ]
    },
    {
     "name": "stdout",
     "output_type": "stream",
     "text": [
      "Rate limit reached. Waiting 20 seconds before retrying...\n",
      "Rate limit reached. Waiting 20 seconds before retrying...\n"
     ]
    },
    {
     "name": "stderr",
     "output_type": "stream",
     "text": [
      " 70%|██████████████████████████████████████████████████████████████▎                          | 350/500 [02:01<00:22,  6.72it/s]"
     ]
    },
    {
     "name": "stdout",
     "output_type": "stream",
     "text": [
      "Rate limit reached. Waiting 20 seconds before retrying...\n",
      "Rate limit reached. Waiting 20 seconds before retrying...\n"
     ]
    },
    {
     "name": "stderr",
     "output_type": "stream",
     "text": [
      " 70%|██████████████████████████████████████████████████████████████▋                          | 352/500 [02:02<00:21,  6.81it/s]"
     ]
    },
    {
     "name": "stdout",
     "output_type": "stream",
     "text": [
      "Rate limit reached. Waiting 20 seconds before retrying...\n"
     ]
    },
    {
     "name": "stderr",
     "output_type": "stream",
     "text": [
      " 71%|███████████████████████████████████████████████████████████████▌                         | 357/500 [02:03<00:34,  4.11it/s]"
     ]
    },
    {
     "name": "stdout",
     "output_type": "stream",
     "text": [
      "Rate limit reached. Waiting 20 seconds before retrying...\n",
      "Rate limit reached. Waiting 20 seconds before retrying...\n"
     ]
    },
    {
     "name": "stderr",
     "output_type": "stream",
     "text": [
      " 72%|███████████████████████████████████████████████████████████████▉                         | 359/500 [02:03<00:26,  5.41it/s]"
     ]
    },
    {
     "name": "stdout",
     "output_type": "stream",
     "text": [
      "Rate limit reached. Waiting 20 seconds before retrying...\n",
      "Rate limit reached. Waiting 20 seconds before retrying...\n"
     ]
    },
    {
     "name": "stderr",
     "output_type": "stream",
     "text": [
      " 72%|████████████████████████████████████████████████████████████████▍                        | 362/500 [02:04<00:27,  4.98it/s]"
     ]
    },
    {
     "name": "stdout",
     "output_type": "stream",
     "text": [
      "Rate limit reached. Waiting 20 seconds before retrying...\n",
      "Rate limit reached. Waiting 20 seconds before retrying...\n"
     ]
    },
    {
     "name": "stderr",
     "output_type": "stream",
     "text": [
      " 74%|█████████████████████████████████████████████████████████████████▌                       | 368/500 [02:05<00:24,  5.47it/s]"
     ]
    },
    {
     "name": "stdout",
     "output_type": "stream",
     "text": [
      "Rate limit reached. Waiting 20 seconds before retrying...\n",
      "Rate limit reached. Waiting 20 seconds before retrying...\n"
     ]
    },
    {
     "name": "stderr",
     "output_type": "stream",
     "text": [
      " 74%|█████████████████████████████████████████████████████████████████▊                       | 370/500 [02:06<00:19,  6.73it/s]"
     ]
    },
    {
     "name": "stdout",
     "output_type": "stream",
     "text": [
      "Rate limit reached. Waiting 20 seconds before retrying...\n",
      "Rate limit reached. Waiting 20 seconds before retrying...\n"
     ]
    },
    {
     "name": "stderr",
     "output_type": "stream",
     "text": [
      " 74%|██████████████████████████████████████████████████████████████████▏                      | 372/500 [02:06<00:25,  5.04it/s]"
     ]
    },
    {
     "name": "stdout",
     "output_type": "stream",
     "text": [
      "Rate limit reached. Waiting 20 seconds before retrying...\n"
     ]
    },
    {
     "name": "stderr",
     "output_type": "stream",
     "text": [
      " 75%|██████████████████████████████████████████████████████████████████▉                      | 376/500 [02:08<00:33,  3.74it/s]"
     ]
    },
    {
     "name": "stdout",
     "output_type": "stream",
     "text": [
      "Rate limit reached. Waiting 20 seconds before retrying...\n",
      "Rate limit reached. Waiting 20 seconds before retrying...\n"
     ]
    },
    {
     "name": "stderr",
     "output_type": "stream",
     "text": [
      " 76%|███████████████████████████████████████████████████████████████████▍                     | 379/500 [02:09<00:34,  3.53it/s]"
     ]
    },
    {
     "name": "stdout",
     "output_type": "stream",
     "text": [
      "Rate limit reached. Waiting 20 seconds before retrying...\n"
     ]
    },
    {
     "name": "stderr",
     "output_type": "stream",
     "text": [
      " 77%|████████████████████████████████████████████████████████████████████▎                    | 384/500 [02:10<00:30,  3.76it/s]"
     ]
    },
    {
     "name": "stdout",
     "output_type": "stream",
     "text": [
      "Rate limit reached. Waiting 20 seconds before retrying...\n",
      "Rate limit reached. Waiting 20 seconds before retrying...\n"
     ]
    },
    {
     "name": "stderr",
     "output_type": "stream",
     "text": [
      " 78%|█████████████████████████████████████████████████████████████████████▌                   | 391/500 [02:12<00:24,  4.48it/s]"
     ]
    },
    {
     "name": "stdout",
     "output_type": "stream",
     "text": [
      "Rate limit reached. Waiting 20 seconds before retrying...\n"
     ]
    },
    {
     "name": "stderr",
     "output_type": "stream",
     "text": [
      "\r",
      " 78%|█████████████████████████████████████████████████████████████████████▊                   | 392/500 [02:13<00:30,  3.50it/s]"
     ]
    },
    {
     "name": "stdout",
     "output_type": "stream",
     "text": [
      "Rate limit reached. Waiting 20 seconds before retrying...\n"
     ]
    },
    {
     "name": "stderr",
     "output_type": "stream",
     "text": [
      " 79%|██████████████████████████████████████████████████████████████████████▋                  | 397/500 [02:15<00:43,  2.39it/s]"
     ]
    },
    {
     "name": "stdout",
     "output_type": "stream",
     "text": [
      "Rate limit reached. Waiting 20 seconds before retrying...\n"
     ]
    },
    {
     "name": "stderr",
     "output_type": "stream",
     "text": [
      " 80%|███████████████████████████████████████████████████████████████████████▍                 | 401/500 [02:16<00:23,  4.15it/s]"
     ]
    },
    {
     "name": "stdout",
     "output_type": "stream",
     "text": [
      "Rate limit reached. Waiting 20 seconds before retrying...\n"
     ]
    },
    {
     "name": "stderr",
     "output_type": "stream",
     "text": [
      " 81%|███████████████████████████████████████████████████████████████████████▋                 | 403/500 [02:16<00:17,  5.70it/s]"
     ]
    },
    {
     "name": "stdout",
     "output_type": "stream",
     "text": [
      "Rate limit reached. Waiting 20 seconds before retrying...\n",
      "Rate limit reached. Waiting 20 seconds before retrying...\n"
     ]
    },
    {
     "name": "stderr",
     "output_type": "stream",
     "text": [
      " 81%|████████████████████████████████████████████████████████████████████████                 | 405/500 [02:16<00:13,  7.06it/s]"
     ]
    },
    {
     "name": "stdout",
     "output_type": "stream",
     "text": [
      "Rate limit reached. Waiting 20 seconds before retrying...\n",
      "Rate limit reached. Waiting 20 seconds before retrying...\n"
     ]
    },
    {
     "name": "stderr",
     "output_type": "stream",
     "text": [
      " 82%|████████████████████████████████████████████████████████████████████████▌                | 408/500 [02:17<00:11,  7.90it/s]"
     ]
    },
    {
     "name": "stdout",
     "output_type": "stream",
     "text": [
      "Rate limit reached. Waiting 20 seconds before retrying...\n",
      "Rate limit reached. Waiting 20 seconds before retrying...\n"
     ]
    },
    {
     "name": "stderr",
     "output_type": "stream",
     "text": [
      " 82%|█████████████████████████████████████████████████████████████████████████▏               | 411/500 [02:18<00:29,  2.97it/s]"
     ]
    },
    {
     "name": "stdout",
     "output_type": "stream",
     "text": [
      "Rate limit reached. Waiting 20 seconds before retrying...\n"
     ]
    },
    {
     "name": "stderr",
     "output_type": "stream",
     "text": [
      " 83%|██████████████████████████████████████████████████████████████████████████               | 416/500 [02:24<01:14,  1.13it/s]"
     ]
    },
    {
     "name": "stdout",
     "output_type": "stream",
     "text": [
      "Rate limit reached. Waiting 20 seconds before retrying...\n"
     ]
    },
    {
     "name": "stderr",
     "output_type": "stream",
     "text": [
      " 84%|██████████████████████████████████████████████████████████████████████████▍              | 418/500 [02:24<00:46,  1.75it/s]"
     ]
    },
    {
     "name": "stdout",
     "output_type": "stream",
     "text": [
      "Rate limit reached. Waiting 20 seconds before retrying...\n"
     ]
    },
    {
     "name": "stderr",
     "output_type": "stream",
     "text": [
      " 84%|██████████████████████████████████████████████████████████████████████████▊              | 420/500 [02:25<00:31,  2.55it/s]"
     ]
    },
    {
     "name": "stdout",
     "output_type": "stream",
     "text": [
      "Rate limit reached. Waiting 20 seconds before retrying...\n"
     ]
    },
    {
     "name": "stderr",
     "output_type": "stream",
     "text": [
      " 86%|████████████████████████████████████████████████████████████████████████████▌            | 430/500 [02:29<00:22,  3.16it/s]"
     ]
    },
    {
     "name": "stdout",
     "output_type": "stream",
     "text": [
      "Rate limit reached. Waiting 20 seconds before retrying...\n"
     ]
    },
    {
     "name": "stderr",
     "output_type": "stream",
     "text": [
      " 87%|█████████████████████████████████████████████████████████████████████████████            | 433/500 [02:30<00:18,  3.70it/s]"
     ]
    },
    {
     "name": "stdout",
     "output_type": "stream",
     "text": [
      "Rate limit reached. Waiting 20 seconds before retrying...\n"
     ]
    },
    {
     "name": "stderr",
     "output_type": "stream",
     "text": [
      " 92%|██████████████████████████████████████████████████████████████████████████████████       | 461/500 [02:45<00:14,  2.67it/s]"
     ]
    },
    {
     "name": "stdout",
     "output_type": "stream",
     "text": [
      "Rate limit reached. Waiting 20 seconds before retrying...\n"
     ]
    },
    {
     "name": "stderr",
     "output_type": "stream",
     "text": [
      " 95%|████████████████████████████████████████████████████████████████████████████████████▌    | 475/500 [02:51<00:07,  3.32it/s]"
     ]
    },
    {
     "name": "stdout",
     "output_type": "stream",
     "text": [
      "Rate limit reached. Waiting 20 seconds before retrying...\n",
      "Rate limit reached. Waiting 20 seconds before retrying...\n"
     ]
    },
    {
     "name": "stderr",
     "output_type": "stream",
     "text": [
      " 97%|██████████████████████████████████████████████████████████████████████████████████████▋  | 487/500 [02:56<00:04,  2.73it/s]"
     ]
    },
    {
     "name": "stdout",
     "output_type": "stream",
     "text": [
      "Rate limit reached. Waiting 20 seconds before retrying...\n"
     ]
    },
    {
     "name": "stderr",
     "output_type": "stream",
     "text": [
      "100%|█████████████████████████████████████████████████████████████████████████████████████████| 500/500 [03:02<00:00,  2.73it/s]\n",
      "/var/folders/k7/_jdxw9bx3_7cybsnkxz0pr200000gn/T/ipykernel_40542/3386284359.py:16: SettingWithCopyWarning: \n",
      "A value is trying to be set on a copy of a slice from a DataFrame.\n",
      "Try using .loc[row_indexer,col_indexer] = value instead\n",
      "\n",
      "See the caveats in the documentation: https://pandas.pydata.org/pandas-docs/stable/user_guide/indexing.html#returning-a-view-versus-a-copy\n",
      "  df['article'] = article_list\n"
     ]
    }
   ],
   "source": [
    "# time.sleep(300)\n",
    "art_split10 = add_article(split_10)"
   ]
  },
  {
   "cell_type": "code",
   "execution_count": 177,
   "id": "02a74eae",
   "metadata": {
    "scrolled": true
   },
   "outputs": [
    {
     "name": "stderr",
     "output_type": "stream",
     "text": [
      " 25%|██████████████████████                                                                    | 76/310 [00:33<01:43,  2.27it/s]"
     ]
    },
    {
     "name": "stdout",
     "output_type": "stream",
     "text": [
      "Rate limit reached. Waiting 20 seconds before retrying...\n"
     ]
    },
    {
     "name": "stderr",
     "output_type": "stream",
     "text": [
      " 29%|██████████████████████████▏                                                               | 90/310 [00:40<01:47,  2.04it/s]"
     ]
    },
    {
     "name": "stdout",
     "output_type": "stream",
     "text": [
      "Rate limit reached. Waiting 20 seconds before retrying...\n"
     ]
    },
    {
     "name": "stderr",
     "output_type": "stream",
     "text": [
      " 35%|███████████████████████████████▎                                                         | 109/310 [00:49<01:30,  2.22it/s]"
     ]
    },
    {
     "name": "stdout",
     "output_type": "stream",
     "text": [
      "Rate limit reached. Waiting 20 seconds before retrying...\n"
     ]
    },
    {
     "name": "stderr",
     "output_type": "stream",
     "text": [
      " 42%|█████████████████████████████████████                                                    | 129/310 [00:58<01:24,  2.15it/s]"
     ]
    },
    {
     "name": "stdout",
     "output_type": "stream",
     "text": [
      "Rate limit reached. Waiting 20 seconds before retrying...\n"
     ]
    },
    {
     "name": "stderr",
     "output_type": "stream",
     "text": [
      " 49%|███████████████████████████████████████████▋                                             | 152/310 [01:07<01:07,  2.34it/s]"
     ]
    },
    {
     "name": "stdout",
     "output_type": "stream",
     "text": [
      "Rate limit reached. Waiting 20 seconds before retrying...\n"
     ]
    },
    {
     "name": "stderr",
     "output_type": "stream",
     "text": [
      " 73%|████████████████████████████████████████████████████████████████▉                        | 226/310 [01:39<00:26,  3.12it/s]"
     ]
    },
    {
     "name": "stdout",
     "output_type": "stream",
     "text": [
      "Rate limit reached. Waiting 20 seconds before retrying...\n"
     ]
    },
    {
     "name": "stderr",
     "output_type": "stream",
     "text": [
      " 91%|████████████████████████████████████████████████████████████████████████████████▋        | 281/310 [02:06<00:12,  2.30it/s]"
     ]
    },
    {
     "name": "stdout",
     "output_type": "stream",
     "text": [
      "Rate limit reached. Waiting 20 seconds before retrying...\n"
     ]
    },
    {
     "name": "stderr",
     "output_type": "stream",
     "text": [
      " 95%|████████████████████████████████████████████████████████████████████████████████████     | 293/310 [02:10<00:06,  2.77it/s]"
     ]
    },
    {
     "name": "stdout",
     "output_type": "stream",
     "text": [
      "Rate limit reached. Waiting 20 seconds before retrying...\n"
     ]
    },
    {
     "name": "stderr",
     "output_type": "stream",
     "text": [
      " 95%|████████████████████████████████████████████████████████████████████████████████████▉    | 296/310 [02:11<00:04,  3.15it/s]"
     ]
    },
    {
     "name": "stdout",
     "output_type": "stream",
     "text": [
      "Rate limit reached. Waiting 20 seconds before retrying...\n"
     ]
    },
    {
     "name": "stderr",
     "output_type": "stream",
     "text": [
      "\r",
      " 96%|█████████████████████████████████████████████████████████████████████████████████████▌   | 298/310 [02:11<00:03,  3.57it/s]"
     ]
    },
    {
     "name": "stdout",
     "output_type": "stream",
     "text": [
      "Rate limit reached. Waiting 20 seconds before retrying...\n"
     ]
    },
    {
     "name": "stderr",
     "output_type": "stream",
     "text": [
      " 97%|██████████████████████████████████████████████████████████████████████████████████████▋  | 302/310 [02:12<00:01,  4.74it/s]"
     ]
    },
    {
     "name": "stdout",
     "output_type": "stream",
     "text": [
      "Rate limit reached. Waiting 20 seconds before retrying...\n",
      "Rate limit reached. Waiting 20 seconds before retrying...\n"
     ]
    },
    {
     "name": "stderr",
     "output_type": "stream",
     "text": [
      " 99%|███████████████████████████████████████████████████████████████████████████████████████▊ | 306/310 [02:15<00:01,  2.14it/s]"
     ]
    },
    {
     "name": "stdout",
     "output_type": "stream",
     "text": [
      "Rate limit reached. Waiting 20 seconds before retrying...\n"
     ]
    },
    {
     "name": "stderr",
     "output_type": "stream",
     "text": [
      "100%|█████████████████████████████████████████████████████████████████████████████████████████| 310/310 [02:16<00:00,  2.27it/s]\n",
      "/var/folders/k7/_jdxw9bx3_7cybsnkxz0pr200000gn/T/ipykernel_40542/3386284359.py:16: SettingWithCopyWarning: \n",
      "A value is trying to be set on a copy of a slice from a DataFrame.\n",
      "Try using .loc[row_indexer,col_indexer] = value instead\n",
      "\n",
      "See the caveats in the documentation: https://pandas.pydata.org/pandas-docs/stable/user_guide/indexing.html#returning-a-view-versus-a-copy\n",
      "  df['article'] = article_list\n"
     ]
    }
   ],
   "source": [
    "time.sleep(60)\n",
    "art_split11 = add_article(split_11)"
   ]
  },
  {
   "cell_type": "code",
   "execution_count": 186,
   "id": "3109f187",
   "metadata": {},
   "outputs": [],
   "source": [
    "articles_combined_df = pd.concat([art_split1, art_split2, art_split3, art_split4, art_split5, art_split6,\n",
    "                                 art_split7, art_split8, art_split9, art_split10, art_split11])"
   ]
  },
  {
   "cell_type": "code",
   "execution_count": 187,
   "id": "32e8d08c",
   "metadata": {},
   "outputs": [
    {
     "data": {
      "text/html": [
       "<div>\n",
       "<style scoped>\n",
       "    .dataframe tbody tr th:only-of-type {\n",
       "        vertical-align: middle;\n",
       "    }\n",
       "\n",
       "    .dataframe tbody tr th {\n",
       "        vertical-align: top;\n",
       "    }\n",
       "\n",
       "    .dataframe thead th {\n",
       "        text-align: right;\n",
       "    }\n",
       "</style>\n",
       "<table border=\"1\" class=\"dataframe\">\n",
       "  <thead>\n",
       "    <tr style=\"text-align: right;\">\n",
       "      <th></th>\n",
       "      <th>title</th>\n",
       "      <th>url</th>\n",
       "      <th>time_published</th>\n",
       "      <th>authors</th>\n",
       "      <th>summary</th>\n",
       "      <th>banner_image</th>\n",
       "      <th>source</th>\n",
       "      <th>category_within_source</th>\n",
       "      <th>source_domain</th>\n",
       "      <th>topics</th>\n",
       "      <th>overall_sentiment_score</th>\n",
       "      <th>overall_sentiment_label</th>\n",
       "      <th>ticker_sentiment</th>\n",
       "      <th>ticker</th>\n",
       "      <th>article</th>\n",
       "    </tr>\n",
       "  </thead>\n",
       "  <tbody>\n",
       "    <tr>\n",
       "      <th>0</th>\n",
       "      <td>Advanced Energy Q2 Earnings Top Estimates, Rev...</td>\n",
       "      <td>https://www.benzinga.com/news/earnings/24/07/4...</td>\n",
       "      <td>20240731T201919</td>\n",
       "      <td>[Zacks]</td>\n",
       "      <td>Advanced Energy Industries AEIS reported non-G...</td>\n",
       "      <td>https://staticx-tuner.zacks.com/images/charts/...</td>\n",
       "      <td>Benzinga</td>\n",
       "      <td>Trading</td>\n",
       "      <td>www.benzinga.com</td>\n",
       "      <td>[{'topic': 'Financial Markets', 'relevance_sco...</td>\n",
       "      <td>0.126429</td>\n",
       "      <td>Neutral</td>\n",
       "      <td>[{'ticker': 'AEIS', 'relevance_score': '0.4021...</td>\n",
       "      <td>AAPL</td>\n",
       "      <td>Advanced Energy Industries AEIS reported non-G...</td>\n",
       "    </tr>\n",
       "    <tr>\n",
       "      <th>1</th>\n",
       "      <td>AMD Q2 Earnings Beat Estimates, Shares Up on S...</td>\n",
       "      <td>https://www.zacks.com/stock/news/2313423/amd-q...</td>\n",
       "      <td>20240731T181200</td>\n",
       "      <td>[Zacks Investment Research]</td>\n",
       "      <td>AMD's second-quarter 2024 results reflect robu...</td>\n",
       "      <td>https://staticx-tuner.zacks.com/images/article...</td>\n",
       "      <td>Zacks Commentary</td>\n",
       "      <td>n/a</td>\n",
       "      <td>www.zacks.com</td>\n",
       "      <td>[{'topic': 'Financial Markets', 'relevance_sco...</td>\n",
       "      <td>0.104429</td>\n",
       "      <td>Neutral</td>\n",
       "      <td>[{'ticker': 'LNVGF', 'relevance_score': '0.050...</td>\n",
       "      <td>AAPL</td>\n",
       "      <td>Advanced Micro Devices (AMD Quick QuoteAMD  - ...</td>\n",
       "    </tr>\n",
       "    <tr>\n",
       "      <th>2</th>\n",
       "      <td>Skyworks  ( SWKS )  Q3 Earnings Meet Estimates...</td>\n",
       "      <td>https://www.zacks.com/stock/news/2313422/skywo...</td>\n",
       "      <td>20240731T180900</td>\n",
       "      <td>[Zacks Equity Research]</td>\n",
       "      <td>Skyworks' (SWKS) third-quarter fiscal 2024 res...</td>\n",
       "      <td>https://staticx-tuner.zacks.com/images/article...</td>\n",
       "      <td>Zacks Commentary</td>\n",
       "      <td>n/a</td>\n",
       "      <td>www.zacks.com</td>\n",
       "      <td>[{'topic': 'Financial Markets', 'relevance_sco...</td>\n",
       "      <td>0.073698</td>\n",
       "      <td>Neutral</td>\n",
       "      <td>[{'ticker': 'SHOP', 'relevance_score': '0.3317...</td>\n",
       "      <td>AAPL</td>\n",
       "      <td>Skyworks Solutions (SWKS Quick QuoteSWKS  -  F...</td>\n",
       "    </tr>\n",
       "    <tr>\n",
       "      <th>3</th>\n",
       "      <td>Advanced Energy  ( AEIS )  Q2 Earnings Top Est...</td>\n",
       "      <td>https://www.zacks.com/stock/news/2313429/advan...</td>\n",
       "      <td>20240731T172200</td>\n",
       "      <td>[Zacks Investment Research]</td>\n",
       "      <td>Advanced Energy's (AEIS) second-quarter result...</td>\n",
       "      <td>https://staticx-tuner.zacks.com/images/article...</td>\n",
       "      <td>Zacks Commentary</td>\n",
       "      <td>n/a</td>\n",
       "      <td>www.zacks.com</td>\n",
       "      <td>[{'topic': 'Financial Markets', 'relevance_sco...</td>\n",
       "      <td>0.104916</td>\n",
       "      <td>Neutral</td>\n",
       "      <td>[{'ticker': 'AEIS', 'relevance_score': '0.4045...</td>\n",
       "      <td>AAPL</td>\n",
       "      <td>Advanced Energy Industries (AEIS Quick QuoteAE...</td>\n",
       "    </tr>\n",
       "    <tr>\n",
       "      <th>4</th>\n",
       "      <td>AAPL or AMZN: Which Mag 7 Stock Should You Buy...</td>\n",
       "      <td>https://www.zacks.com/stock/news/2313386/aapl-...</td>\n",
       "      <td>20240731T171100</td>\n",
       "      <td>[Aniruddha Ganguly]</td>\n",
       "      <td>Investors are eagerly awaiting results from Ap...</td>\n",
       "      <td>https://staticx-tuner.zacks.com/images/article...</td>\n",
       "      <td>Zacks Commentary</td>\n",
       "      <td>n/a</td>\n",
       "      <td>www.zacks.com</td>\n",
       "      <td>[{'topic': 'Retail &amp; Wholesale', 'relevance_sc...</td>\n",
       "      <td>0.338565</td>\n",
       "      <td>Somewhat-Bullish</td>\n",
       "      <td>[{'ticker': 'MSFT', 'relevance_score': '0.1379...</td>\n",
       "      <td>AAPL</td>\n",
       "      <td>Apple (AAPL Quick QuoteAAPL  -  Free Report)  ...</td>\n",
       "    </tr>\n",
       "  </tbody>\n",
       "</table>\n",
       "</div>"
      ],
      "text/plain": [
       "                                               title  \\\n",
       "0  Advanced Energy Q2 Earnings Top Estimates, Rev...   \n",
       "1  AMD Q2 Earnings Beat Estimates, Shares Up on S...   \n",
       "2  Skyworks  ( SWKS )  Q3 Earnings Meet Estimates...   \n",
       "3  Advanced Energy  ( AEIS )  Q2 Earnings Top Est...   \n",
       "4  AAPL or AMZN: Which Mag 7 Stock Should You Buy...   \n",
       "\n",
       "                                                 url   time_published  \\\n",
       "0  https://www.benzinga.com/news/earnings/24/07/4...  20240731T201919   \n",
       "1  https://www.zacks.com/stock/news/2313423/amd-q...  20240731T181200   \n",
       "2  https://www.zacks.com/stock/news/2313422/skywo...  20240731T180900   \n",
       "3  https://www.zacks.com/stock/news/2313429/advan...  20240731T172200   \n",
       "4  https://www.zacks.com/stock/news/2313386/aapl-...  20240731T171100   \n",
       "\n",
       "                       authors  \\\n",
       "0                      [Zacks]   \n",
       "1  [Zacks Investment Research]   \n",
       "2      [Zacks Equity Research]   \n",
       "3  [Zacks Investment Research]   \n",
       "4          [Aniruddha Ganguly]   \n",
       "\n",
       "                                             summary  \\\n",
       "0  Advanced Energy Industries AEIS reported non-G...   \n",
       "1  AMD's second-quarter 2024 results reflect robu...   \n",
       "2  Skyworks' (SWKS) third-quarter fiscal 2024 res...   \n",
       "3  Advanced Energy's (AEIS) second-quarter result...   \n",
       "4  Investors are eagerly awaiting results from Ap...   \n",
       "\n",
       "                                        banner_image            source  \\\n",
       "0  https://staticx-tuner.zacks.com/images/charts/...          Benzinga   \n",
       "1  https://staticx-tuner.zacks.com/images/article...  Zacks Commentary   \n",
       "2  https://staticx-tuner.zacks.com/images/article...  Zacks Commentary   \n",
       "3  https://staticx-tuner.zacks.com/images/article...  Zacks Commentary   \n",
       "4  https://staticx-tuner.zacks.com/images/article...  Zacks Commentary   \n",
       "\n",
       "  category_within_source     source_domain  \\\n",
       "0                Trading  www.benzinga.com   \n",
       "1                    n/a     www.zacks.com   \n",
       "2                    n/a     www.zacks.com   \n",
       "3                    n/a     www.zacks.com   \n",
       "4                    n/a     www.zacks.com   \n",
       "\n",
       "                                              topics  overall_sentiment_score  \\\n",
       "0  [{'topic': 'Financial Markets', 'relevance_sco...                 0.126429   \n",
       "1  [{'topic': 'Financial Markets', 'relevance_sco...                 0.104429   \n",
       "2  [{'topic': 'Financial Markets', 'relevance_sco...                 0.073698   \n",
       "3  [{'topic': 'Financial Markets', 'relevance_sco...                 0.104916   \n",
       "4  [{'topic': 'Retail & Wholesale', 'relevance_sc...                 0.338565   \n",
       "\n",
       "  overall_sentiment_label                                   ticker_sentiment  \\\n",
       "0                 Neutral  [{'ticker': 'AEIS', 'relevance_score': '0.4021...   \n",
       "1                 Neutral  [{'ticker': 'LNVGF', 'relevance_score': '0.050...   \n",
       "2                 Neutral  [{'ticker': 'SHOP', 'relevance_score': '0.3317...   \n",
       "3                 Neutral  [{'ticker': 'AEIS', 'relevance_score': '0.4045...   \n",
       "4        Somewhat-Bullish  [{'ticker': 'MSFT', 'relevance_score': '0.1379...   \n",
       "\n",
       "  ticker                                            article  \n",
       "0   AAPL  Advanced Energy Industries AEIS reported non-G...  \n",
       "1   AAPL  Advanced Micro Devices (AMD Quick QuoteAMD  - ...  \n",
       "2   AAPL  Skyworks Solutions (SWKS Quick QuoteSWKS  -  F...  \n",
       "3   AAPL  Advanced Energy Industries (AEIS Quick QuoteAE...  \n",
       "4   AAPL  Apple (AAPL Quick QuoteAAPL  -  Free Report)  ...  "
      ]
     },
     "execution_count": 187,
     "metadata": {},
     "output_type": "execute_result"
    }
   ],
   "source": [
    "articles_combined_df.head()"
   ]
  },
  {
   "cell_type": "code",
   "execution_count": 189,
   "id": "b70d9f2e",
   "metadata": {
    "scrolled": true
   },
   "outputs": [
    {
     "data": {
      "text/plain": [
       "article\n",
       "                                                                                                                                                                                                                                                                                                                                                                                                                                                                                                                                                                                                                                                                                                                                                                                                                                                                                                                                                                                                                                                                                                                                                                                                                                                                                                                                                                                                                                                                                                                                                                                                                                                                                                                                                                                                                                                                                                                                                                                                                                                                                                                                                                                                                                                                                                                                                                                                                                                                                                                                                                                                                                                                                                                                                                                                                                                                                                                                                                                                                                                                                                                                                                                                                                                                                                                                                                                                                                                                                                                                                                                                                                                                                                                                                                                                                                                                                                                                                                                                                                                                                                                                                                                                                                                                                                                                                                                                                                                                                                                                                                                                                                                                                                                                                                                                                                                                                                                                                                                                                                                                                                                                                                                                                                                                                                                                                                                                                                                                                                                                                                                                                                                                                                                                                                                                                                                                                                                                                                                                                                                                                                                                                                                                                                                                                                                                                                                                                                                                                                                                                                                                                                                                                                                                                                                                                                                                                                                                                                                                                                                                                                                                                                                                                                                                                                                                                                                                                                                                                                                                                                                                                                                                                                                                                                                                                                                                                                                                                                                                                                                                                                                                                                                                                                                                                                                                                                                                                                                                                                                                                                                                                                                                                                                                                                                                                                                                                                                                                                                                                                                                                                                                                                                                                                                                                                                                                                                                                                                                                                                                                                                                                                                                                                                                                                                                                                                                                                                                                                                                                                                                                                                                                                                                                                                                                                                                                                                                                                                                                                                                                                                                                                                                                                                                                                                                                                                                                                                                                                                                                                                                                                                                                                                                                                                                                                                                                                                                                                                                                                                                                                                                                                                                                                                                                                                                                                                                                                                                                                                                                                                                                                                                                                                                                                                                                                                                                                                                                                                                                                                                                                                                                                                                                                                                                                                                                                                                                                                                                                                                                                                                                                                                                                                                                                                                                                                                                                                                                                                                                                                                                                                                                                                                                                                                                                                                                                                                                                                                                                                                                                                                                                                                                                                                                                                                                                                                                                                                                                                                                                                                                                                                                                                                                                                                                                                                                                                                                                                                                                                                                                                                                                                                                                                                                                                                                                                                                                                                                                                                                                                                                                                                                                                                                                                                                                                                                                                                                                                                                                                                                                                                                                                                                                                                                                                                                                                                                                                                                                                                                                                                                                                                                                                                                                                                                                                                                                                                                                                                                                                1079\n",
       "© 2024 Benzinga.com. Benzinga does not provide investment advice. All rights reserved.                                                                                                                                                                                                                                                                                                                                                                                                                                                                                                                                                                                                                                                                                                                                                                                                                                                                                                                                                                                                                                                                                                                                                                                                                                                                                                                                                                                                                                                                                                                                                                                                                                                                                                                                                                                                                                                                                                                                                                                                                                                                                                                                                                                                                                                                                                                                                                                                                                                                                                                                                                                                                                                                                                                                                                                                                                                                                                                                                                                                                                                                                                                                                                                                                                                                                                                                                                                                                                                                                                                                                                                                                                                                                                                                                                                                                                                                                                                                                                                                                                                                                                                                                                                                                                                                                                                                                                                                                                                                                                                                                                                                                                                                                                                                                                                                                                                                                                                                                                                                                                                                                                                                                                                                                                                                                                                                                                                                                                                                                                                                                                                                                                                                                                                                                                                                                                                                                                                                                                                                                                                                                                                                                                                                                                                                                                                                                                                                                                                                                                                                                                                                                                                                                                                                                                                                                                                                                                                                                                                                                                                                                                                                                                                                                                                                                                                                                                                                                                                                                                                                                                                                                                                                                                                                                                                                                                                                                                                                                                                                                                                                                                                                                                                                                                                                                                                                                                                                                                                                                                                                                                                                                                                                                                                                                                                                                                                                                                                                                                                                                                                                                                                                                                                                                                                                                                                                                                                                                                                                                                                                                                                                                                                                                                                                                                                                                                                                                                                                                                                                                                                                                                                                                                                                                                                                                                                                                                                                                                                                                                                                                                                                                                                                                                                                                                                                                                                                                                                                                                                                                                                                                                                                                                                                                                                                                                                                                                                                                                                                                                                                                                                                                                                                                                                                                                                                                                                                                                                                                                                                                                                                                                                                                                                                                                                                                                                                                                                                                                                                                                                                                                                                                                                                                                                                                                                                                                                                                                                                                                                                                                                                                                                                                                                                                                                                                                                                                                                                                                                                                                                                                                                                                                                                                                                                                                                                                                                                                                                                                                                                                                                                                                                                                                                                                                                                                                                                                                                                                                                                                                                                                                                                                                                                                                                                                                                                                                                                                                                                                                                                                                                                                                                                                                                                                                                                                                                                                                                                                                                                                                                                                                                                                                                                                                                                                                                                                                                                                                                                                                                                                                                                                                                                                                                                                                                                                                                                                                                                                                                                                                                                                                                                                                                                                                                                                                                                                                                                                            48\n",
       "The earnings reports of last week were a mixed bag, with some Tesla, Inc. TSLA, Alphabet, Inc. GOOGL GOOG and STMicroelectronics N.V. STM, among companies disappointing to the downside. As the focus shifts to the unfolding week, more tech companies are lined up to disclose their quarterly results, potentially offering cues regarding the health of the sector. The Week That Was: Most on Wall Street viewed Tesla’s earnings as lacking quality because a significant portion of them came from one-time regulatory credits. On the other hand, Google-parent Alphabet alienated investors by flagging higher capex that will likely weigh down on margins and in turn the bottom line. Franco-Italian chipmaker, which is a key supplier to the automotive market, cut its full-year guidance. But not all tech tidings were received with pessimism. International Business Machines Co. IBM rose as investors cheered the company’s strong artificial intelligence bookings.  Healthy Trend: Data from financial data analytics company FactSet showed that about 14% of the S&P 500 companies have reported their quarterly results so far. The percentage of S&P 500 names that reported upside earnings surprise is 80%, above the one-year average (78%), five-year average (77%), and 10-year average (74%). But the percentage of upside was sub-part at 5.5%, below the one-year average (+6.5%), five-year average (+8.6%), and 10-year average (+6.8%). The blended earnings of S&P 500 companies are expected to grow by 9.7%, the fastest pace since the fourth quarter of 2021. Eight of the 11 S&P 500 companies are on track to report year-over-year earnings growth for the June quarter, with communication Services, healthcare, IT, and financials likely reporting double-digit growth. On the other hand, the materials space is expected to witness the steepest earnings decline. See Also: Best Tech Stocks Right Now The Week Ahead: According to FactSet, this week will feature earnings reports from 138 S&P 500 companies, including seven components of the Dow 30. Some heavily-weighted companies such as Apple, Inc. AAPL, Microsoft Corp. MSFT and Meta Platforms, Inc. META are all in the mix. Meta is expected to be the largest contributor to earnings per share growth, given the consensus models nearly 60% increase. After last week’s brutal tech sell-off, a bullish analyst is optimistic concerning the the sector, its prospects and the stock trajectory. “We believe the tech sell-off seen last week will be short-lived as the Street better digests results and commentary from the broader tech sector over the coming weeks during 2Q earnings season,” Wedbush’s Daniel Ives said in a note published Sunday. “This is the start….not the end of this tech bull run we expect the next few years,” he said, adding that companies, utilities,governments will spend over $1 trillion combined in AI capex over the coming years fueling this AI Revolution. The analyst said investors will likely look for clues around the pace of AI revolution from the earnings reports of  Microsoft, Amazon, Inc. AMZN, Meta and Apple and others. Tech stocks extended their weekly declines in the week ended July 26 amid the disappointment from early tech reporters. The Invesco QQQ Trust QQQ, an index that tracks the performance of the Nasdaq 100 Index, ended Friday’s session down 1.03% to $462.97, according to Benzinga Pro data. The ETF is trading off its record close of $502.96 reached on July 10. The SPDR S&P 500 ETF Trust SPY climbed 1.12% on Friday before closing at $5544.44. The QQQ and SPY climbed 0.48% and 0.25%, respectively, in premarket trading Monday. Notable among the companies reporting this week are: Monday Before market open: After close: Tuesday Before market open: After close: Wednesday Before market open: After close: Thursday Before market open: After close: Friday Before market open: After close: Read Next: Image via Shutterstock © 2024 Benzinga.com. Benzinga does not provide investment advice. All rights reserved.                                                                                                                                                                                                                                                                                                                                                                                                                                                                                                                                                                                                                                                                                                                                                                                                                                                                                                                                                                                                                                                                                                                                                                                                                                                                                                                                                                                                                                                                                                                                                                                                                                                                                                                                                                                                                                                                                                                                                                                                                                                                                                                                                                                                                                                                                                                                                                                                                                                                                                                                                                                                                                                                                                                                                                                                                                                                                                                                                                                                                                                                                                                                                                                                                                                                                                                                                                                                                                                                                                                                                                                                                                                                                                                                                                                                                                                                                                                                                                                                                                                                                                                                                                                                                                                                                                                                                                                                                                                                                                                                                                                                                                                                                                                                                                                                                                                                                                                                                                                                                                                                                                                                                                                                                                                                                                                                                                                                                                                                                                                                                                                                                                                                                                                                                                                                                                                                                                                                                                                                                                                                                                                                                                                                                                                                                                                                                                                                                                                                                                                                                                                                                                                                                                                                                                                                                                                                                                                                                                                                                                                                                                                                                                                                                                                                                                                                                                                                                                                                                                                                                                                                                                                                                                                                                                                                                                                                                                                                                                                                                                                                                                                                                                                                                                                                                                                                                                                                                                                                                                                                                                                                                                                                                                                                                                                                                                                                                                                                                                                                                                                                                                                                                                                                                                                                                                                                                                                                                                                                                                                                                                                                                                                                                                                                                                                                                                                                                                                                                                                                                                                                                                                                                                                                                                                                                                                                                                                                                                                                                                                                                                                                                                                                                                                                                                                                                                                                                                                                                                                                                                                                                                                                                                                                                                                                                                                                                                                                                                                                                                                                                                                                                                                                                                                                                                                                                                                                                                                                                                                                                                                                                                                                                                                                                                                                                                                                                                                                                                                                                                                                                                                                                                                                                                                                                                                                                           5\n",
       "(Tuesday Market Open) The sound you hear is fingers tapping as investors await critical earnings from info tech giants over the next three days, starting with Microsoft MSFT and Alphabet GOOGL this afternoon. Meta Platforms META reports tomorrow afternoon, followed by Apple AAPL and Amazon AMZN on Thursday. These five mega-caps, sometimes called the “FAANGs plus MSFT” command enough of a combined market capitalization to drive the overall market in one direction or another depending on their actual results and future guidance. That’s why it could be a bit of a waiting game today for the markets before these particular numbers start filtering in. Yesterday’s rally seemed related to some weak PMI data early in the day along with talk that the Federal Reserve might moderate its rate-hike regime late next year. Expectations of a late-2023 Fed pullback seem a bit lower this morning. This afternoon, MSFT and GOOGL earnings should provide insight into the health of the cloud computing businesses after a June quarter that showed strength but at a slower rate from the start of the year. Cloud revenue is a good barometer of global business activity, so earnings reports from these two mega-cap clo According to a recently published press release, Hexens, a blockchain and web 3.0 security company, has raised a whopping $4.2 million in seed funding. Led by prominent web 3.0 VC firm IOSG Ventures and other investors such as Hash Capital, Delta Blockchain Fund, Tenzor Capital, angel investors from Polygon, ImToken Ventures, and Chapter One, this seed fund will help Hexens grow horizontally, increasing its security coverage.  Hexens will aim to create and subsequently release innovative products capable of positively impacting the blockchain cybersecurity industry. Since its launch a year ago, Hexens has been committed to securing digital assets and investors beyond expectations. The novel blockchain security company seeks to deliver a nonpareil experience regarding the security of projects. The Hexens team deploys an array of customized approaches to meet the needs of projects while providing ordinarily unachievable results in the ecosystem.  Hexens combines novel ideas with a comprehensive web 3.0 market vision as it seeks to scale upwards. The team hopes to launch new and innovative products in 2023.  With over $2 billion lost to malicious hackers in 2022, the need for a customer-focused security company with the right product intensifies, Hexens understands the market demand and has designed a set of innovative products possessing the capacity to rid off these hacks. Speaking about the partnership with Hexens, Queenie Wu, partner at IOSG Ventures, reveals that Hexens’ undisputable expertise in ZK technology solidifies their stance as the company to lead the next wave of innovations in the blockchain cybersecurity ecosystem.  “... The team's expertise in ZK technology positions them well to ensure the next wave of industry innovations. Moreover, products being built by Hexens have the potential to become a standard toolkit for each developer and security researcher in the blockchain space,” Queenie Wu stated.  As revealed by the company CEO, Sipan Vardanyan, the tech space is at risk of distrust if cybersecurity threats are not mitigated expeditiously. The Hexens team understands this and works to dispel all existing threats innovatively and appropriately. “Our unique methodologies and techniques that we have sharpened over a decade of business in cybersecurity enable us to see what the premature blockchain market needs. We will soon release our first products to help builders, security engineers, projects, companies, and whole blockchains and ecosystems have peace of mind and stay safe. Today, many businesses face a single point of failure while depending on technologies that store assets on-chain. Our main goal is to set new standards and raise the expectations of what cybersecurity solutions could do,” he added.  In addition to security audit services, Hexens, according to the press release, investigates and immediately responds to several security incidents. And the investigation department comprises past OSINT competition winners who combine off and on-chain expertise to provide verified, accurate, and well-investigated cybercrime reports. Unprecedentedly, the department has identified, and de-anonymized hackers and have returned millions of USD worth of assets to their legitimate owners—an unparalleled feat in the cybersecurity industry.  ud giants and AMZN later in the week should be an important bellwether to watch.   The two mega-caps reporting later today have businesses that reach far beyond the cloud, of course. Internet advertising will be a prime search target as investors pore over the GOOGL results and earnings call. And with MSFT, one question is whether crumbling personal computer sales might slice demand for many of the firm’s benchmark software products. Both companies could be under pressure from currency issues, considering their huge overseas exposure. The greenback dominance this year hasn’t been friendly to the multinationals. Speaking of which, the U.S. Dollar Index ($DXY) traded flat this morning near 112. A slight pullback from recent highs seems to be helping the stock market the last couple sessions. Two top Generals led the earnings march this morning as General Motors (GM) and General Electric (GE) released quarterly results. GM’s results were generally nice, beating on earnings per share but coming up a bit short on revenue. This has been a trend for the company since the pandemic, CNBC noted, because tight vehicle supplies have led to lower sales but the vehicles people are driving away in tend to be higher-priced ones like SUVs and pick-ups. GM kept its guidance unchanged, which seemed to cheer investors. Another cheerful component was GM announcing it had cleared up a major clog in its supply chain. Earlier this year GM said it had 95,000 cars sitting around waiting for parts. This morning it announced it had cleared 75,000 of those vehicles. It should be interesting to see if Ford (F) also improves on the supply-chain front when it reports. Shares of GM rose more than 3% ahead of the opening bell. GE’s earnings were generally good. Earnings per share fell but revenue was a bit higher and they were able to maintain their revenue growth outlook. Unfortunately their guidance was otherwise a bit mixed, but shares rose ahead of the opening bell. In other earnings news today Coca Cola (KO) looked good as the company’s been able to pass along costs, but 3M (MMM) cut its outlook, citing currency issues. United Parcel Service (UPS) was able to beat on EPS despite revenue missing analyst estimates, and noted that a drop in volumes was offset by higher prices.  While the news for the company seems to be well received by markets, with shares of the logistics company trading higher, the drop in volume seems to indicate a slowdown at the macro level. Overall, guidance from big companies so far has been a mixed bag, but that’s not necessarily a bad thing. People came into earnings season expecting gloom and doom across the board with lots of guidance cuts, but that hasn’t been the case. The earnings “beat” rate is down, but the focus is really on guidance and will probably continue to be. Some important data hits the wires soon after the market opens today, including consumer confidence for October. Last month’s headline figure was a solid 108, up for the second month in a row and bolstered by strong jobs and wage growth. The Wall Street consensus for October’s headline consumer confidence is 105.5. Investors worried about Fed hawkishness would probably be cheered if the data came in worse than this. A better-than-expected reading might hurt the market. This hasn’t been a good stretch for people who get seasick. The major indexes continue to regularly swing 2% a day one direction or the other, as you’d expect when the Cboe Volatility Index® (VIX) stays stubbornly above 30 as it has most of the last month. It did drop below 30 early Tuesday but not by much. Unfortunately, the waves aren’t likely to calm much in the weeks ahead with next week’s Federal Open Market Committee (FOMC) meeting looming. At least now it’s the “quiet” period ahead of that meeting. Over the past several weeks, Fed speakers have driven at least some of the market’s up-and-down whiplashes. For the next week, at least, investors won’t have the Fed to kick around, to paraphrase a former U.S. president. However, the European Central Bank might be on investors’ minds later this week when it meets. The market has priced in a 75-basis-point hike. Speaking of rate hikes, BlackRock (BLK) issued a note to investors Monday saying it expects the Fed’s hikes to push the economy into recession. If this message grows louder, BLK said it could stamp out any potential positive market impact from Election Day, adding that it expects inflation to come down but to remain above the Fed’s target of 2%. Recession remains a popular topic, but the Treasury market could be sending a conflicting signal. The inversion of the 2-year and 10-year Treasury yields (in which the 2-year yield tops the 10-year yield, an unusual situation that’s been associated with past recessions) is narrowing. As of late Monday, the 2-year had only about a 20-basis-point premium to the 10-year, down from well above 40 a week ago. This could be temporary or could be a trend, but it bears watching. Why the narrowing? It’s mainly a drop in 2-year yields, which are more sensitive to Fed policy. Just in the last day or two, there’s been a shift in sentiment about where longer-term rates might go. The Fed isn’t exactly saying “uncle” yet, but some market participants are getting a bit more optimistic that a Fed pause followed by cuts might occur by late next year. The yield gap rose again to 30 early Tuesday as a seven-basis point drop in the 10-year yield down to 4.16% compared with just a 2-point drop in the 2-year yield to 4.46%. It’s unclear if the buying in Treasuries this week is the start of a trend or just another slight pause in the sell-off. There is a 2-year note auction today. On Monday, the S&P 500® index (SPX) climbed 44 points, or 1.19%, to 3,797.34, while the Dow Jones Industrial Average ($DJI) rose 417 points, or 1.3%, to 31,499.62. The SPX is now nearly 9% above its mid-October low, but we’ve seen this movie before. The technical charts remain bearish for the SPX, and analysts will likely call this a “bear market rally” unless the SPX can push past the summer highs The Nasdaq-100® (NDX) lagged the others with about a 1% gain, and the Russell 2000® (RUT) was far behind everyone, rising only 0.35%. Weaker-than-expected preliminary Manufacturing and Services PMI from IHS Markit could explain some of the market’s resilience Monday, according to Briefing.com. At this point, any soft data goes into the positive column as far as Fed worries are concerned. Treasury yields, which had firmed early in Monday’s session, stepped back slightly after that data. Mega consumer names helped lead the way Monday, with Disney (DIS), Home Depot (HD), Walmart (WMT), and Nike (NKE) recording solid gains. Stocks with exposure to China, however, showed signs of weakness after the country’s party conference ended with signals pointing to a continuation of its zero-COVID policy. CHART OF THE DAY: ANOTHER CURVE? This chart (T10Y3M: FRED—blue) represents the 3-month Treasury  versus the 10-year interest rate ratio, also known as the yield curve. Wait. Not the one you’re thinking of? Good point. The most popular is the 2s10s, which combines the 2-year and 10-year. However, some analysts believe that the 3-month and 10-year tend to invert closer to the actual recession. The fact that this ratio is now below zero suggests that a recession is going to happen soon. FRED® is a registered trademark of the Federal Reserve Bank of St. Louis. The Federal Reserve Bank of St. Louis does not sponsor or endorse and is not affiliated with TD Ameritrade. Data Source: Cboe. Chart source: The thinkorswim® platform. For illustrative purposes only. Past performance does not guarantee future results. On the QT: Raising rates is only one Fed tool to slow economic growth. There’s also quantitative tightening (QT), which the Fed is already doing but could speed up if it sees the need. Two years of so-called quantitative easing (QE) doubled the central bank’s balance sheet to $9 trillion by mid-2022 as it tried to stimulate the economy by purchasing bonds. In June, the Fed slammed on the brakes by allowing up to $30 billion of Treasuries and $17.5 billion of mortgage-backed securities to mature without reinvesting them. That rose to $60 billion and $35 billion, respectively, last month, so it’s unlikely the Fed would decide to ramp up QT anytime soon given that doubling. Instead, the Fed is likely to continue at the current pace at least in the near term to watch for any impact. But if inflation stays stubborn, a more aggressive QT might be in the Fed’s toolkit, so tune in to Fed Chair Jerome Powell’s next press conference November 2 for any possible clues. Stealth Rate Hikes: Investors focusing on interest rates may not be paying enough attention to the additional impact of QT. Consider it the Fed’s stealth option for slowing things down if its higher-profile rate hikes don’t work. Powell has implied QT could continue about 2.5 years, ultimately shrinking the Fed’s balance sheet by about $2.5 trillion. The current QT is $95 billion per month, but the Fed would need to remove about $3.9 trillion from its balance sheet to shrink inflation back to its 2% target, one analyst told Barron’s recently. That amount of QT would be the equivalent of adding around 400 basis points in additional rate hikes, though it might not get the headlines you’d see if rates themselves climbed 400 basis points to 7.5% from the current 3% to 3.5% range. The Fed’s latest dot plot only envisions the benchmark rate rising to 4.6%. Where’s PE Going in China? As China’s Communist Party Congress wrapped up over the weekend with what looked very much like the exit of the old guard, PitchBook wonders whether a potentially more insular, state-driven economy could be “a worrying development” for private equity (PE) investors. The publication noted Friday that “significantly fewer executives from private groups were invited” to this congress than in previous years. PitchBook reported that China’s public/private “government guidance funds” now account for a “significant chunk of private markets activity,” and cited figures from The Economist that 2,000 of these funds collectively raised nearly $1 trillion between 2015 and 2021. Oct. 26: September New Home Sales and earnings from Boeing (BA), Boston Scientific (BSX), Kraft Heinz (KHC), and Waste Management (WM) Oct. 27: Q3 gross domestic product, September Durable Goods, and earnings from Apple (AAPL), McDonald’s (MCD), Caterpillar (CAT), MasterCard (MA), Southwest (LUV), Merck (MRK), and Altria (MO) Oct. 28: September Personal Income, Personal Spending, Personal Consumption Expenditure (PCE) prices, October Consumer Sentiment, and earnings from AbbVie (ABBV), Aon (AON), Chevron (CVX), and ExxonMobil (XOM) Oct. 31: Happy Halloween! October Chicago PMI and earnings from CNA Financial (CNA), Goodyear Tire (GT), and Stryker (SYK) Nov. 1: Start of the FOMC meeting, September Construction Spending, the October ISM Manufacturing Index, and earnings from Abiomed (ABMD), DuPont (DD), Eli Lilly (LLY), Pfizer (PFE), Uber (UBER), Advanced Micro Devices (AMD), and Under Armour (UAA) Nov. 2: FOMC rate decision and earnings from Allstate (ALL), CVS Health (CVS), Yum Brands (YUM), and Zimmer Biomet (ZBH) Nov. 3: September Trade Balance and Factory Orders and earnings from Exelon (EXC), Hyatt Hotels (H), Illumina (ILMN), Kellogg (K), Penn Entertainment (PENN), and Marriott (MAR) TD Ameritrade® commentary for educational purposes only. Member SIPC. Image sourced from Shutterstock This post contains sponsored advertising content. This content is for informational purposes only and not intended to be investing advice. © 2024 Benzinga.com. Benzinga does not provide investment advice. All rights reserved.        4\n",
       "Wall Street witnessed slight gains at midday on Monday, with investors eagerly awaiting a series of critical earnings reports, the Federal Reserve’s meeting on Wednesday and the much-anticipated job market report this Friday. This week’s significant tech earnings include reports from Microsoft Corp. MSFT, Alphabet Inc. GOOGL GOOG and Advanced Micro Devices Inc. AMD on Tuesday, followed by Qualcomm Inc. QCOM on Wednesday, and Apple Inc. AAPL and Amazon.com Inc. AMZN on Thursday. Both the S&P 500 and Nasdaq 100 saw modest increases, rising by 0.1% and 0.3%, respectively, while the Dow Jones Industrial Average remained broadly steady. Small-cap stocks outperformed their large-cap counterparts, with the Russell 2000 Index climbing 0.5%. Tesla Inc. TSLA emerged as a notable performer among mega-cap stocks, rebounding 2.4% after a 12% decline last week. In the bond market, Treasury yields slightly decreased, leading to gains in fixed-income securities. The iShares 20+ Year Treasury Bond ETF TLT experienced a 0.8% increase. In commodities, gold prices, as tracked by the SPDR Gold Trust GLD, rose by 0.5%. Crude oil prices fell by 1.6% despite escalating tensions in the Middle East, following a statement from the White House regarding Iran-backed militants’ attack on U.S. troops in Jordan, with President Joe Biden vowing a response. Bitcoin BTC/USD experienced a notable surge, rising 2.3% to reach $43,000. The SPDR S&P 500 ETF Trust SPY was 0.1% higher to $487.95, the SPDR Dow Jones Industrial Average DIA edged 0.1% lower to $380.73 and the tech-heavy Invesco QQQ Trust QQQ rose 0.3% to $424.06, according to Benzinga Pro data.  Sector-wise, the Consumer Discretionary Select Sector Fund XLY outperformed, up 0.7%, aided by Tesla. The Energy Select Sector Fund XLE underperformed, down 1.1%.  Read now: iRobot Hit By Regulatory Hangover: Amazon Merger Collapse Triggers Stock Plunge, Restructuring Efforts Photo via Shutterstock. © 2024 Benzinga.com. Benzinga does not provide investment advice. All rights reserved.                                                                                                                                                                                                                                                                                                                                                                                                                                                                                                                                                                                                                                                                                                                                                                                                                                                                                                                                                                                                                                                                                                                                                                                                                                                                                                                                                                                                                                                                                                                                                                                                                                                                                                                                                                                                                                                                                                                                                                                                                                                                                                                                                                                                                                                                                                                                                                                                                                                                                                                                                                                                                                                                                                                                                                                                                                                                                                                                                                                                                                                                                                                                                                                                                                                                                                                                                                                                                                                                                                                                                                                                                                                                                                                                                                                                                                                                                                                                                                                                                                                                                                                                                                                                                                                                                                                                                                                                                                                                                                                                                                                                                                                                                                                                                                                                                                                                                                                                                                                                                                                                                                                                                                                                                                                                                                                                                                                                                                                                                                                                                                                                                                                                                                                                                                                                                                                                                                                                                                                                                                                                                                                                                                                                                                                                                                                                                                                                                                                                                                                                                                                                                                                                                                                                                                                                                                                                                                                                                                                                                                                                                                                                                                                                                                                                                                                                                                                                                                                                                                                                                                                                                                                                                                                                                                                                                                                                                                                                                                                                                                                                                                                                                                                                                                                                                                                                                                                                                                                                                                                                                                                                                                                                                                                                                                                                                                                                                                                                                                                                                                                                                                                                                                                                                                                                                                                                                                                                                                                                                                                                                                                                                                                                                                                                                                                                                                                                                                                                                                                                                                                                                                                                                                                                                                                                                                                                                                                                                                                                                                                                                                                                                                                                                                                                                                                                                                                                                                                                                                                                                                                                                                                                                                                                                                                                                                                                                                                                                                                                                                                                                                                                                                                                                                                                                                                                                                                                                                                                                                                                                                                                                                                                                                                                                                                                                                                                                                                                                                                                                                                                                                                                                                                                                                                                                                                                                                                                                                                                                                                                                                                                                                                                                                                                                                                                                                                                                                                                                                                                                                                                                                                                                                                                                                                                                                                                                                                                                                                                                                                                                                                                                                                                                                                                                                                                                                                                                                                                                                                                                                                                                                                                                                                                                                                                                                                                                                                                  4\n",
       "Name: count, dtype: int64"
      ]
     },
     "execution_count": 189,
     "metadata": {},
     "output_type": "execute_result"
    }
   ],
   "source": [
    "articles_combined_df['article'].value_counts()[:5]"
   ]
  },
  {
   "cell_type": "code",
   "execution_count": 191,
   "id": "31c5c7e3",
   "metadata": {},
   "outputs": [
    {
     "data": {
      "text/plain": [
       "title\n",
       "What's Going On With AMD Shares - Advanced Micro Devices  ( NASDAQ:AMD )                                                                                           10\n",
       "How to Boost Your Portfolio with Top Computer and Technology Stocks Set to Beat Earnings                                                                            5\n",
       "Apple, Amazon, Microsoft, Meta Lead The Charge As Investors Bank On Tech Cheer For Rally's Reacceleration: Week Ahead In Earnings - SPDR S&P 500  ( ARCA:SPY )      5\n",
       "Where Will AMD Stock Be in 3 Years?                                                                                                                                 4\n",
       "Advanced Micro Devices  ( AMD )  Stock Sinks As Market Gains: What You Should Know                                                                                  4\n",
       "Name: count, dtype: int64"
      ]
     },
     "execution_count": 191,
     "metadata": {},
     "output_type": "execute_result"
    }
   ],
   "source": [
    "articles_combined_df['title'].value_counts()[:5]"
   ]
  },
  {
   "cell_type": "code",
   "execution_count": 192,
   "id": "713572f5",
   "metadata": {},
   "outputs": [],
   "source": [
    "articles_combined_df.to_csv('articles_export.csv')"
   ]
  },
  {
   "cell_type": "code",
   "execution_count": 193,
   "id": "7b2b4612",
   "metadata": {},
   "outputs": [
    {
     "name": "stdout",
     "output_type": "stream",
     "text": [
      "<class 'pandas.core.frame.DataFrame'>\n",
      "Index: 5310 entries, 0 to 8\n",
      "Data columns (total 15 columns):\n",
      " #   Column                   Non-Null Count  Dtype  \n",
      "---  ------                   --------------  -----  \n",
      " 0   title                    5310 non-null   object \n",
      " 1   url                      5310 non-null   object \n",
      " 2   time_published           5310 non-null   object \n",
      " 3   authors                  5310 non-null   object \n",
      " 4   summary                  5310 non-null   object \n",
      " 5   banner_image             5310 non-null   object \n",
      " 6   source                   5310 non-null   object \n",
      " 7   category_within_source   5310 non-null   object \n",
      " 8   source_domain            5310 non-null   object \n",
      " 9   topics                   5310 non-null   object \n",
      " 10  overall_sentiment_score  5310 non-null   float64\n",
      " 11  overall_sentiment_label  5310 non-null   object \n",
      " 12  ticker_sentiment         5310 non-null   object \n",
      " 13  ticker                   5310 non-null   object \n",
      " 14  article                  5310 non-null   object \n",
      "dtypes: float64(1), object(14)\n",
      "memory usage: 663.8+ KB\n"
     ]
    }
   ],
   "source": [
    "articles_combined_df.info()"
   ]
  },
  {
   "cell_type": "code",
   "execution_count": 230,
   "id": "ffbb2cc9",
   "metadata": {},
   "outputs": [],
   "source": [
    "articles_combined_no_missing = articles_combined_df[articles_combined_df['article'] != '']"
   ]
  },
  {
   "cell_type": "code",
   "execution_count": 231,
   "id": "8bf07735",
   "metadata": {},
   "outputs": [
    {
     "data": {
      "text/plain": [
       "(4231, 15)"
      ]
     },
     "execution_count": 231,
     "metadata": {},
     "output_type": "execute_result"
    }
   ],
   "source": [
    "articles_combined_no_missing.shape"
   ]
  },
  {
   "cell_type": "code",
   "execution_count": 195,
   "id": "d5af0ac5",
   "metadata": {},
   "outputs": [],
   "source": [
    "missing_articles = articles_combined_df[articles_combined_df['article'] == '']"
   ]
  },
  {
   "cell_type": "code",
   "execution_count": 203,
   "id": "cc0f2a90",
   "metadata": {},
   "outputs": [],
   "source": [
    "missing_articles_split1 = missing_articles[:250]\n",
    "missing_articles_split2 = missing_articles[250:350]\n",
    "missing_articles_split3 = missing_articles[350:450]\n",
    "missing_articles_split4 = missing_articles[450:550]\n",
    "missing_articles_split5 = missing_articles[550:650]\n",
    "missing_articles_split6 = missing_articles[650:750]\n",
    "missing_articles_split7 = missing_articles[750:850]\n",
    "missing_articles_split8 = missing_articles[850:950]\n",
    "missing_articles_split9 = missing_articles[950:]"
   ]
  },
  {
   "cell_type": "code",
   "execution_count": 223,
   "id": "c84e6078",
   "metadata": {},
   "outputs": [
    {
     "name": "stderr",
     "output_type": "stream",
     "text": [
      " 24%|█████████████████████▉                                                                    | 61/250 [00:05<00:15, 12.52it/s]"
     ]
    },
    {
     "name": "stdout",
     "output_type": "stream",
     "text": [
      "Page not found (404). Returning empty string\n"
     ]
    },
    {
     "name": "stderr",
     "output_type": "stream",
     "text": [
      " 60%|█████████████████████████████████████████████████████▍                                   | 150/250 [00:24<01:14,  1.34it/s]"
     ]
    },
    {
     "name": "stdout",
     "output_type": "stream",
     "text": [
      "Page not found (404). Returning empty string\n"
     ]
    },
    {
     "name": "stderr",
     "output_type": "stream",
     "text": [
      "100%|█████████████████████████████████████████████████████████████████████████████████████████| 250/250 [04:31<00:00,  1.09s/it]\n",
      "/var/folders/k7/_jdxw9bx3_7cybsnkxz0pr200000gn/T/ipykernel_40542/3386284359.py:16: SettingWithCopyWarning: \n",
      "A value is trying to be set on a copy of a slice from a DataFrame.\n",
      "Try using .loc[row_indexer,col_indexer] = value instead\n",
      "\n",
      "See the caveats in the documentation: https://pandas.pydata.org/pandas-docs/stable/user_guide/indexing.html#returning-a-view-versus-a-copy\n",
      "  df['article'] = article_list\n"
     ]
    }
   ],
   "source": [
    "missing_articles1 = add_article(missing_articles_split1)"
   ]
  },
  {
   "cell_type": "code",
   "execution_count": 224,
   "id": "0b6c9c83",
   "metadata": {},
   "outputs": [
    {
     "data": {
      "text/plain": [
       "source\n",
       "Zacks Commentary    13\n",
       "Motley Fool          3\n",
       "Benzinga             2\n",
       "Name: count, dtype: int64"
      ]
     },
     "execution_count": 224,
     "metadata": {},
     "output_type": "execute_result"
    }
   ],
   "source": [
    "missing_articles1[missing_articles1['article'] == '']['source'].value_counts()"
   ]
  },
  {
   "cell_type": "code",
   "execution_count": 225,
   "id": "41db4c9f",
   "metadata": {
    "scrolled": true
   },
   "outputs": [
    {
     "name": "stderr",
     "output_type": "stream",
     "text": [
      "100%|█████████████████████████████████████████████████████████████████████████████████████████| 100/100 [01:43<00:00,  1.04s/it]\n",
      "/var/folders/k7/_jdxw9bx3_7cybsnkxz0pr200000gn/T/ipykernel_40542/3386284359.py:16: SettingWithCopyWarning: \n",
      "A value is trying to be set on a copy of a slice from a DataFrame.\n",
      "Try using .loc[row_indexer,col_indexer] = value instead\n",
      "\n",
      "See the caveats in the documentation: https://pandas.pydata.org/pandas-docs/stable/user_guide/indexing.html#returning-a-view-versus-a-copy\n",
      "  df['article'] = article_list\n"
     ]
    }
   ],
   "source": [
    "missing_articles2 = add_article(missing_articles_split2)"
   ]
  },
  {
   "cell_type": "code",
   "execution_count": 226,
   "id": "f1ac8511",
   "metadata": {},
   "outputs": [
    {
     "data": {
      "text/plain": [
       "source\n",
       "Zacks Commentary    1\n",
       "Name: count, dtype: int64"
      ]
     },
     "execution_count": 226,
     "metadata": {},
     "output_type": "execute_result"
    }
   ],
   "source": [
    "missing_articles2[missing_articles2['article'] == '']['source'].value_counts()"
   ]
  },
  {
   "cell_type": "code",
   "execution_count": 211,
   "id": "18cd9081",
   "metadata": {},
   "outputs": [
    {
     "name": "stderr",
     "output_type": "stream",
     "text": [
      "100%|█████████████████████████████████████████████████████████████████████████████████████████| 100/100 [04:38<00:00,  2.79s/it]\n",
      "/var/folders/k7/_jdxw9bx3_7cybsnkxz0pr200000gn/T/ipykernel_40542/3386284359.py:16: SettingWithCopyWarning: \n",
      "A value is trying to be set on a copy of a slice from a DataFrame.\n",
      "Try using .loc[row_indexer,col_indexer] = value instead\n",
      "\n",
      "See the caveats in the documentation: https://pandas.pydata.org/pandas-docs/stable/user_guide/indexing.html#returning-a-view-versus-a-copy\n",
      "  df['article'] = article_list\n"
     ]
    }
   ],
   "source": [
    "missing_articles3 = add_article(missing_articles_split3)"
   ]
  },
  {
   "cell_type": "code",
   "execution_count": 215,
   "id": "0a28835b",
   "metadata": {},
   "outputs": [
    {
     "data": {
      "text/plain": [
       "source\n",
       "Benzinga            97\n",
       "Zacks Commentary     3\n",
       "Name: count, dtype: int64"
      ]
     },
     "execution_count": 215,
     "metadata": {},
     "output_type": "execute_result"
    }
   ],
   "source": [
    "missing_articles3['source'].value_counts()"
   ]
  },
  {
   "cell_type": "code",
   "execution_count": 216,
   "id": "fd66ff2d",
   "metadata": {},
   "outputs": [
    {
     "name": "stderr",
     "output_type": "stream",
     "text": [
      "100%|█████████████████████████████████████████████████████████████████████████████████████████| 100/100 [04:06<00:00,  2.47s/it]\n",
      "/var/folders/k7/_jdxw9bx3_7cybsnkxz0pr200000gn/T/ipykernel_40542/3386284359.py:16: SettingWithCopyWarning: \n",
      "A value is trying to be set on a copy of a slice from a DataFrame.\n",
      "Try using .loc[row_indexer,col_indexer] = value instead\n",
      "\n",
      "See the caveats in the documentation: https://pandas.pydata.org/pandas-docs/stable/user_guide/indexing.html#returning-a-view-versus-a-copy\n",
      "  df['article'] = article_list\n"
     ]
    }
   ],
   "source": [
    "missing_articles4 = add_article(missing_articles_split4)"
   ]
  },
  {
   "cell_type": "code",
   "execution_count": 217,
   "id": "a657cc92",
   "metadata": {},
   "outputs": [
    {
     "name": "stderr",
     "output_type": "stream",
     "text": [
      "100%|█████████████████████████████████████████████████████████████████████████████████████████| 100/100 [03:55<00:00,  2.36s/it]\n",
      "/var/folders/k7/_jdxw9bx3_7cybsnkxz0pr200000gn/T/ipykernel_40542/3386284359.py:16: SettingWithCopyWarning: \n",
      "A value is trying to be set on a copy of a slice from a DataFrame.\n",
      "Try using .loc[row_indexer,col_indexer] = value instead\n",
      "\n",
      "See the caveats in the documentation: https://pandas.pydata.org/pandas-docs/stable/user_guide/indexing.html#returning-a-view-versus-a-copy\n",
      "  df['article'] = article_list\n"
     ]
    }
   ],
   "source": [
    "missing_articles5 = add_article(missing_articles_split5)"
   ]
  },
  {
   "cell_type": "code",
   "execution_count": 219,
   "id": "8993d0fb",
   "metadata": {},
   "outputs": [
    {
     "name": "stderr",
     "output_type": "stream",
     "text": [
      "100%|█████████████████████████████████████████████████████████████████████████████████████████| 100/100 [04:00<00:00,  2.40s/it]\n",
      "/var/folders/k7/_jdxw9bx3_7cybsnkxz0pr200000gn/T/ipykernel_40542/3386284359.py:16: SettingWithCopyWarning: \n",
      "A value is trying to be set on a copy of a slice from a DataFrame.\n",
      "Try using .loc[row_indexer,col_indexer] = value instead\n",
      "\n",
      "See the caveats in the documentation: https://pandas.pydata.org/pandas-docs/stable/user_guide/indexing.html#returning-a-view-versus-a-copy\n",
      "  df['article'] = article_list\n"
     ]
    }
   ],
   "source": [
    "missing_articles6 = add_article(missing_articles_split6)"
   ]
  },
  {
   "cell_type": "code",
   "execution_count": 220,
   "id": "2213d5f9",
   "metadata": {},
   "outputs": [
    {
     "name": "stderr",
     "output_type": "stream",
     "text": [
      " 83%|██████████████████████████████████████████████████████████████████████████▋               | 83/100 [02:52<00:32,  1.90s/it]"
     ]
    },
    {
     "name": "stdout",
     "output_type": "stream",
     "text": [
      "Page not found (404). Returning empty string\n"
     ]
    },
    {
     "name": "stderr",
     "output_type": "stream",
     "text": [
      "100%|█████████████████████████████████████████████████████████████████████████████████████████| 100/100 [03:20<00:00,  2.01s/it]\n",
      "/var/folders/k7/_jdxw9bx3_7cybsnkxz0pr200000gn/T/ipykernel_40542/3386284359.py:16: SettingWithCopyWarning: \n",
      "A value is trying to be set on a copy of a slice from a DataFrame.\n",
      "Try using .loc[row_indexer,col_indexer] = value instead\n",
      "\n",
      "See the caveats in the documentation: https://pandas.pydata.org/pandas-docs/stable/user_guide/indexing.html#returning-a-view-versus-a-copy\n",
      "  df['article'] = article_list\n"
     ]
    }
   ],
   "source": [
    "missing_articles7 = add_article(missing_articles_split7)"
   ]
  },
  {
   "cell_type": "code",
   "execution_count": 221,
   "id": "f83b5b62",
   "metadata": {},
   "outputs": [
    {
     "name": "stderr",
     "output_type": "stream",
     "text": [
      "100%|█████████████████████████████████████████████████████████████████████████████████████████| 100/100 [02:53<00:00,  1.73s/it]\n",
      "/var/folders/k7/_jdxw9bx3_7cybsnkxz0pr200000gn/T/ipykernel_40542/3386284359.py:16: SettingWithCopyWarning: \n",
      "A value is trying to be set on a copy of a slice from a DataFrame.\n",
      "Try using .loc[row_indexer,col_indexer] = value instead\n",
      "\n",
      "See the caveats in the documentation: https://pandas.pydata.org/pandas-docs/stable/user_guide/indexing.html#returning-a-view-versus-a-copy\n",
      "  df['article'] = article_list\n"
     ]
    }
   ],
   "source": [
    "missing_articles8 = add_article(missing_articles_split8)"
   ]
  },
  {
   "cell_type": "code",
   "execution_count": 222,
   "id": "dd2ef6e7",
   "metadata": {},
   "outputs": [
    {
     "name": "stderr",
     "output_type": "stream",
     "text": [
      "100%|█████████████████████████████████████████████████████████████████████████████████████████| 129/129 [04:08<00:00,  1.93s/it]\n",
      "/var/folders/k7/_jdxw9bx3_7cybsnkxz0pr200000gn/T/ipykernel_40542/3386284359.py:16: SettingWithCopyWarning: \n",
      "A value is trying to be set on a copy of a slice from a DataFrame.\n",
      "Try using .loc[row_indexer,col_indexer] = value instead\n",
      "\n",
      "See the caveats in the documentation: https://pandas.pydata.org/pandas-docs/stable/user_guide/indexing.html#returning-a-view-versus-a-copy\n",
      "  df['article'] = article_list\n"
     ]
    }
   ],
   "source": [
    "missing_articles9 = add_article(missing_articles_split9)"
   ]
  },
  {
   "cell_type": "code",
   "execution_count": 227,
   "id": "d91f9606",
   "metadata": {},
   "outputs": [],
   "source": [
    "total_missing_arts = pd.concat([missing_articles1, missing_articles2, missing_articles3, missing_articles4, \n",
    "                               missing_articles5, missing_articles6, missing_articles7, missing_articles8, \n",
    "                               missing_articles9])"
   ]
  },
  {
   "cell_type": "code",
   "execution_count": 228,
   "id": "3c307a1a",
   "metadata": {},
   "outputs": [
    {
     "data": {
      "text/plain": [
       "(1079, 15)"
      ]
     },
     "execution_count": 228,
     "metadata": {},
     "output_type": "execute_result"
    }
   ],
   "source": [
    "total_missing_arts.shape"
   ]
  },
  {
   "cell_type": "code",
   "execution_count": 229,
   "id": "1db89dd4",
   "metadata": {},
   "outputs": [
    {
     "data": {
      "text/plain": [
       "(1079, 15)"
      ]
     },
     "execution_count": 229,
     "metadata": {},
     "output_type": "execute_result"
    }
   ],
   "source": [
    "missing_articles.shape"
   ]
  },
  {
   "cell_type": "code",
   "execution_count": 232,
   "id": "ec1d5d9c",
   "metadata": {},
   "outputs": [],
   "source": [
    "articles_combined_df_new = pd.concat([articles_combined_no_missing, total_missing_arts])"
   ]
  },
  {
   "cell_type": "code",
   "execution_count": 233,
   "id": "6a244e08",
   "metadata": {},
   "outputs": [
    {
     "data": {
      "text/plain": [
       "(5310, 15)"
      ]
     },
     "execution_count": 233,
     "metadata": {},
     "output_type": "execute_result"
    }
   ],
   "source": [
    "articles_combined_df_new.shape"
   ]
  },
  {
   "cell_type": "code",
   "execution_count": 235,
   "id": "7eb524e9",
   "metadata": {},
   "outputs": [],
   "source": [
    "articles_combined_df_new.to_csv('articles_export.csv')"
   ]
  },
  {
   "cell_type": "code",
   "execution_count": 39,
   "id": "73edc183",
   "metadata": {},
   "outputs": [
    {
     "ename": "NameError",
     "evalue": "name 'articles_combined_df_new' is not defined",
     "output_type": "error",
     "traceback": [
      "\u001b[0;31m---------------------------------------------------------------------------\u001b[0m",
      "\u001b[0;31mNameError\u001b[0m                                 Traceback (most recent call last)",
      "Cell \u001b[0;32mIn[39], line 1\u001b[0m\n\u001b[0;32m----> 1\u001b[0m total_articles_combined \u001b[38;5;241m=\u001b[39m pd\u001b[38;5;241m.\u001b[39mconcat([articles_combined_df_new, master_sub_articles, final_last_articles])\n",
      "\u001b[0;31mNameError\u001b[0m: name 'articles_combined_df_new' is not defined"
     ]
    }
   ],
   "source": [
    "total_articles_combined = pd.concat([articles_combined_df_new, master_sub_articles, final_last_articles])"
   ]
  },
  {
   "cell_type": "code",
   "execution_count": 60,
   "id": "2f364bbc",
   "metadata": {},
   "outputs": [
    {
     "name": "stdout",
     "output_type": "stream",
     "text": [
      "<class 'pandas.core.frame.DataFrame'>\n",
      "Index: 10290 entries, 0 to 29\n",
      "Data columns (total 15 columns):\n",
      " #   Column                   Non-Null Count  Dtype  \n",
      "---  ------                   --------------  -----  \n",
      " 0   title                    10290 non-null  object \n",
      " 1   url                      10290 non-null  object \n",
      " 2   time_published           10290 non-null  object \n",
      " 3   authors                  10290 non-null  object \n",
      " 4   summary                  10290 non-null  object \n",
      " 5   banner_image             9921 non-null   object \n",
      " 6   source                   10290 non-null  object \n",
      " 7   category_within_source   4560 non-null   object \n",
      " 8   source_domain            10290 non-null  object \n",
      " 9   topics                   10290 non-null  object \n",
      " 10  overall_sentiment_score  10290 non-null  float64\n",
      " 11  overall_sentiment_label  10290 non-null  object \n",
      " 12  ticker_sentiment         10290 non-null  object \n",
      " 13  ticker                   10290 non-null  object \n",
      " 14  article                  10231 non-null  object \n",
      "dtypes: float64(1), object(14)\n",
      "memory usage: 1.3+ MB\n"
     ]
    }
   ],
   "source": [
    "# imported_df = pd.read_csv('articles_export.csv', index_col=0)\n",
    "imported_df.drop(columns=['Unnamed: 0'], inplace=True)\n",
    "imported_df.info()"
   ]
  },
  {
   "cell_type": "code",
   "execution_count": 61,
   "id": "e106992f",
   "metadata": {},
   "outputs": [],
   "source": [
    "total_articles_combined2 = pd.concat([imported_df, final_last_articles])"
   ]
  },
  {
   "cell_type": "code",
   "execution_count": 62,
   "id": "7de995e8",
   "metadata": {},
   "outputs": [
    {
     "data": {
      "text/plain": [
       "(12128, 15)"
      ]
     },
     "execution_count": 62,
     "metadata": {},
     "output_type": "execute_result"
    }
   ],
   "source": [
    "total_articles_combined2.shape"
   ]
  },
  {
   "cell_type": "code",
   "execution_count": 63,
   "id": "7a26fde7",
   "metadata": {
    "scrolled": false
   },
   "outputs": [
    {
     "ename": "TypeError",
     "evalue": "unhashable type: 'list'",
     "output_type": "error",
     "traceback": [
      "\u001b[0;31m---------------------------------------------------------------------------\u001b[0m",
      "\u001b[0;31mTypeError\u001b[0m                                 Traceback (most recent call last)",
      "Cell \u001b[0;32mIn[63], line 1\u001b[0m\n\u001b[0;32m----> 1\u001b[0m total_articles_combined2\u001b[38;5;241m.\u001b[39mdrop_duplicates()\n",
      "File \u001b[0;32m~/anaconda3/lib/python3.11/site-packages/pandas/core/frame.py:6522\u001b[0m, in \u001b[0;36mDataFrame.drop_duplicates\u001b[0;34m(self, subset, keep, inplace, ignore_index)\u001b[0m\n\u001b[1;32m   6519\u001b[0m inplace \u001b[38;5;241m=\u001b[39m validate_bool_kwarg(inplace, \u001b[38;5;124m\"\u001b[39m\u001b[38;5;124minplace\u001b[39m\u001b[38;5;124m\"\u001b[39m)\n\u001b[1;32m   6520\u001b[0m ignore_index \u001b[38;5;241m=\u001b[39m validate_bool_kwarg(ignore_index, \u001b[38;5;124m\"\u001b[39m\u001b[38;5;124mignore_index\u001b[39m\u001b[38;5;124m\"\u001b[39m)\n\u001b[0;32m-> 6522\u001b[0m result \u001b[38;5;241m=\u001b[39m \u001b[38;5;28mself\u001b[39m[\u001b[38;5;241m-\u001b[39m\u001b[38;5;28mself\u001b[39m\u001b[38;5;241m.\u001b[39mduplicated(subset, keep\u001b[38;5;241m=\u001b[39mkeep)]\n\u001b[1;32m   6523\u001b[0m \u001b[38;5;28;01mif\u001b[39;00m ignore_index:\n\u001b[1;32m   6524\u001b[0m     result\u001b[38;5;241m.\u001b[39mindex \u001b[38;5;241m=\u001b[39m default_index(\u001b[38;5;28mlen\u001b[39m(result))\n",
      "File \u001b[0;32m~/anaconda3/lib/python3.11/site-packages/pandas/core/frame.py:6662\u001b[0m, in \u001b[0;36mDataFrame.duplicated\u001b[0;34m(self, subset, keep)\u001b[0m\n\u001b[1;32m   6660\u001b[0m \u001b[38;5;28;01melse\u001b[39;00m:\n\u001b[1;32m   6661\u001b[0m     vals \u001b[38;5;241m=\u001b[39m (col\u001b[38;5;241m.\u001b[39mvalues \u001b[38;5;28;01mfor\u001b[39;00m name, col \u001b[38;5;129;01min\u001b[39;00m \u001b[38;5;28mself\u001b[39m\u001b[38;5;241m.\u001b[39mitems() \u001b[38;5;28;01mif\u001b[39;00m name \u001b[38;5;129;01min\u001b[39;00m subset)\n\u001b[0;32m-> 6662\u001b[0m     labels, shape \u001b[38;5;241m=\u001b[39m \u001b[38;5;28mmap\u001b[39m(\u001b[38;5;28mlist\u001b[39m, \u001b[38;5;28mzip\u001b[39m(\u001b[38;5;241m*\u001b[39m\u001b[38;5;28mmap\u001b[39m(f, vals)))\n\u001b[1;32m   6664\u001b[0m     ids \u001b[38;5;241m=\u001b[39m get_group_index(\n\u001b[1;32m   6665\u001b[0m         labels,\n\u001b[1;32m   6666\u001b[0m         \u001b[38;5;66;03m# error: Argument 1 to \"tuple\" has incompatible type \"List[_T]\";\u001b[39;00m\n\u001b[0;32m   (...)\u001b[0m\n\u001b[1;32m   6670\u001b[0m         xnull\u001b[38;5;241m=\u001b[39m\u001b[38;5;28;01mFalse\u001b[39;00m,\n\u001b[1;32m   6671\u001b[0m     )\n\u001b[1;32m   6672\u001b[0m     result \u001b[38;5;241m=\u001b[39m \u001b[38;5;28mself\u001b[39m\u001b[38;5;241m.\u001b[39m_constructor_sliced(duplicated(ids, keep), index\u001b[38;5;241m=\u001b[39m\u001b[38;5;28mself\u001b[39m\u001b[38;5;241m.\u001b[39mindex)\n",
      "File \u001b[0;32m~/anaconda3/lib/python3.11/site-packages/pandas/core/frame.py:6630\u001b[0m, in \u001b[0;36mDataFrame.duplicated.<locals>.f\u001b[0;34m(vals)\u001b[0m\n\u001b[1;32m   6629\u001b[0m \u001b[38;5;28;01mdef\u001b[39;00m \u001b[38;5;21mf\u001b[39m(vals) \u001b[38;5;241m-\u001b[39m\u001b[38;5;241m>\u001b[39m \u001b[38;5;28mtuple\u001b[39m[np\u001b[38;5;241m.\u001b[39mndarray, \u001b[38;5;28mint\u001b[39m]:\n\u001b[0;32m-> 6630\u001b[0m     labels, shape \u001b[38;5;241m=\u001b[39m algorithms\u001b[38;5;241m.\u001b[39mfactorize(vals, size_hint\u001b[38;5;241m=\u001b[39m\u001b[38;5;28mlen\u001b[39m(\u001b[38;5;28mself\u001b[39m))\n\u001b[1;32m   6631\u001b[0m     \u001b[38;5;28;01mreturn\u001b[39;00m labels\u001b[38;5;241m.\u001b[39mastype(\u001b[38;5;124m\"\u001b[39m\u001b[38;5;124mi8\u001b[39m\u001b[38;5;124m\"\u001b[39m, copy\u001b[38;5;241m=\u001b[39m\u001b[38;5;28;01mFalse\u001b[39;00m), \u001b[38;5;28mlen\u001b[39m(shape)\n",
      "File \u001b[0;32m~/anaconda3/lib/python3.11/site-packages/pandas/core/algorithms.py:780\u001b[0m, in \u001b[0;36mfactorize\u001b[0;34m(values, sort, use_na_sentinel, size_hint)\u001b[0m\n\u001b[1;32m    777\u001b[0m             \u001b[38;5;66;03m# Don't modify (potentially user-provided) array\u001b[39;00m\n\u001b[1;32m    778\u001b[0m             values \u001b[38;5;241m=\u001b[39m np\u001b[38;5;241m.\u001b[39mwhere(null_mask, na_value, values)\n\u001b[0;32m--> 780\u001b[0m     codes, uniques \u001b[38;5;241m=\u001b[39m factorize_array(\n\u001b[1;32m    781\u001b[0m         values,\n\u001b[1;32m    782\u001b[0m         use_na_sentinel\u001b[38;5;241m=\u001b[39muse_na_sentinel,\n\u001b[1;32m    783\u001b[0m         size_hint\u001b[38;5;241m=\u001b[39msize_hint,\n\u001b[1;32m    784\u001b[0m     )\n\u001b[1;32m    786\u001b[0m \u001b[38;5;28;01mif\u001b[39;00m sort \u001b[38;5;129;01mand\u001b[39;00m \u001b[38;5;28mlen\u001b[39m(uniques) \u001b[38;5;241m>\u001b[39m \u001b[38;5;241m0\u001b[39m:\n\u001b[1;32m    787\u001b[0m     uniques, codes \u001b[38;5;241m=\u001b[39m safe_sort(\n\u001b[1;32m    788\u001b[0m         uniques,\n\u001b[1;32m    789\u001b[0m         codes,\n\u001b[0;32m   (...)\u001b[0m\n\u001b[1;32m    792\u001b[0m         verify\u001b[38;5;241m=\u001b[39m\u001b[38;5;28;01mFalse\u001b[39;00m,\n\u001b[1;32m    793\u001b[0m     )\n",
      "File \u001b[0;32m~/anaconda3/lib/python3.11/site-packages/pandas/core/algorithms.py:581\u001b[0m, in \u001b[0;36mfactorize_array\u001b[0;34m(values, use_na_sentinel, size_hint, na_value, mask)\u001b[0m\n\u001b[1;32m    578\u001b[0m hash_klass, values \u001b[38;5;241m=\u001b[39m _get_hashtable_algo(values)\n\u001b[1;32m    580\u001b[0m table \u001b[38;5;241m=\u001b[39m hash_klass(size_hint \u001b[38;5;129;01mor\u001b[39;00m \u001b[38;5;28mlen\u001b[39m(values))\n\u001b[0;32m--> 581\u001b[0m uniques, codes \u001b[38;5;241m=\u001b[39m table\u001b[38;5;241m.\u001b[39mfactorize(\n\u001b[1;32m    582\u001b[0m     values,\n\u001b[1;32m    583\u001b[0m     na_sentinel\u001b[38;5;241m=\u001b[39m\u001b[38;5;241m-\u001b[39m\u001b[38;5;241m1\u001b[39m,\n\u001b[1;32m    584\u001b[0m     na_value\u001b[38;5;241m=\u001b[39mna_value,\n\u001b[1;32m    585\u001b[0m     mask\u001b[38;5;241m=\u001b[39mmask,\n\u001b[1;32m    586\u001b[0m     ignore_na\u001b[38;5;241m=\u001b[39muse_na_sentinel,\n\u001b[1;32m    587\u001b[0m )\n\u001b[1;32m    589\u001b[0m \u001b[38;5;66;03m# re-cast e.g. i8->dt64/td64, uint8->bool\u001b[39;00m\n\u001b[1;32m    590\u001b[0m uniques \u001b[38;5;241m=\u001b[39m _reconstruct_data(uniques, original\u001b[38;5;241m.\u001b[39mdtype, original)\n",
      "File \u001b[0;32mpandas/_libs/hashtable_class_helper.pxi:7280\u001b[0m, in \u001b[0;36mpandas._libs.hashtable.PyObjectHashTable.factorize\u001b[0;34m()\u001b[0m\n",
      "File \u001b[0;32mpandas/_libs/hashtable_class_helper.pxi:7194\u001b[0m, in \u001b[0;36mpandas._libs.hashtable.PyObjectHashTable._unique\u001b[0;34m()\u001b[0m\n",
      "\u001b[0;31mTypeError\u001b[0m: unhashable type: 'list'"
     ]
    }
   ],
   "source": [
    "total_articles_combined2.drop_duplicates()"
   ]
  },
  {
   "cell_type": "code",
   "execution_count": 50,
   "id": "c4864e1a",
   "metadata": {},
   "outputs": [
    {
     "ename": "NameError",
     "evalue": "name 'total_articles_combined' is not defined",
     "output_type": "error",
     "traceback": [
      "\u001b[0;31m---------------------------------------------------------------------------\u001b[0m",
      "\u001b[0;31mNameError\u001b[0m                                 Traceback (most recent call last)",
      "Cell \u001b[0;32mIn[50], line 1\u001b[0m\n\u001b[0;32m----> 1\u001b[0m total_articles_combined\u001b[38;5;241m.\u001b[39mshape\n",
      "\u001b[0;31mNameError\u001b[0m: name 'total_articles_combined' is not defined"
     ]
    }
   ],
   "source": [
    "total_articles_combined.shape"
   ]
  },
  {
   "cell_type": "code",
   "execution_count": 56,
   "id": "0b1a4e8c",
   "metadata": {},
   "outputs": [],
   "source": [
    "total_articles_combined2.to_csv('articles_export.csv')"
   ]
  },
  {
   "cell_type": "code",
   "execution_count": null,
   "id": "0c3000ff",
   "metadata": {},
   "outputs": [],
   "source": []
  }
 ],
 "metadata": {
  "kernelspec": {
   "display_name": "Python 3 (ipykernel)",
   "language": "python",
   "name": "python3"
  },
  "language_info": {
   "codemirror_mode": {
    "name": "ipython",
    "version": 3
   },
   "file_extension": ".py",
   "mimetype": "text/x-python",
   "name": "python",
   "nbconvert_exporter": "python",
   "pygments_lexer": "ipython3",
   "version": "3.11.5"
  }
 },
 "nbformat": 4,
 "nbformat_minor": 5
}
