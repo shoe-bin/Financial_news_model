{
 "cells": [
  {
   "cell_type": "code",
   "execution_count": 22,
   "id": "8ce52705",
   "metadata": {},
   "outputs": [],
   "source": [
    "# !conda install langdetect\n",
    "import requests\n",
    "import pandas as pd\n",
    "import numpy as np\n",
    "from bs4 import BeautifulSoup\n",
    "from functools import reduce\n",
    "import re\n",
    "import string\n",
    "from langdetect import detect_langs\n",
    "from nltk.stem import WordNetLemmatizer\n",
    "from nltk.tokenize import word_tokenize\n",
    "import nltk\n",
    "from tqdm import tqdm\n",
    "import matplotlib.pyplot as plt\n",
    "from sklearn.model_selection import train_test_split"
   ]
  },
  {
   "cell_type": "code",
   "execution_count": 4,
   "id": "8e76bf76",
   "metadata": {},
   "outputs": [],
   "source": [
    "master_df = pd.read_csv('articles_with_sentiment.csv', index_col=0)"
   ]
  },
  {
   "cell_type": "code",
   "execution_count": 4,
   "id": "ee226519",
   "metadata": {},
   "outputs": [],
   "source": [
    "pd.reset_option('display.max_colwidth')"
   ]
  },
  {
   "cell_type": "code",
   "execution_count": 5,
   "id": "09f5d427",
   "metadata": {},
   "outputs": [
    {
     "name": "stdout",
     "output_type": "stream",
     "text": [
      "<class 'pandas.core.frame.DataFrame'>\n",
      "Index: 9604 entries, 0 to 9603\n",
      "Data columns (total 11 columns):\n",
      " #   Column                     Non-Null Count  Dtype  \n",
      "---  ------                     --------------  -----  \n",
      " 0   title                      9604 non-null   object \n",
      " 1   url                        9604 non-null   object \n",
      " 2   time_published             9604 non-null   object \n",
      " 3   authors                    9604 non-null   object \n",
      " 4   source                     9604 non-null   object \n",
      " 5   source_domain              9604 non-null   object \n",
      " 6   overall_sentiment_score    9604 non-null   float64\n",
      " 7   overall_sentiment_label    9604 non-null   object \n",
      " 8   ticker                     9604 non-null   object \n",
      " 9   article                    9604 non-null   object \n",
      " 10  overall_cleaned_sentiment  9604 non-null   float64\n",
      "dtypes: float64(2), object(9)\n",
      "memory usage: 900.4+ KB\n"
     ]
    }
   ],
   "source": [
    "# master_df = master_df.drop_duplicates()\n",
    "master_df.info()\n",
    "# master_df.drop(columns=['Unnamed: 0'], inplace=True)\n",
    "# master_df.info()"
   ]
  },
  {
   "cell_type": "code",
   "execution_count": 206,
   "id": "95381bac",
   "metadata": {},
   "outputs": [
    {
     "data": {
      "text/plain": [
       "source\n",
       "Benzinga            4560\n",
       "Zacks Commentary    3478\n",
       "Motley Fool         2252\n",
       "Name: count, dtype: int64"
      ]
     },
     "execution_count": 206,
     "metadata": {},
     "output_type": "execute_result"
    }
   ],
   "source": [
    "master_df['source'].value_counts()"
   ]
  },
  {
   "cell_type": "code",
   "execution_count": 207,
   "id": "2de585f5",
   "metadata": {},
   "outputs": [
    {
     "data": {
      "text/plain": [
       "(59, 15)"
      ]
     },
     "execution_count": 207,
     "metadata": {},
     "output_type": "execute_result"
    }
   ],
   "source": [
    "articles_missing = master_df[master_df['article'].isna()]\n",
    "articles_missing.shape"
   ]
  },
  {
   "cell_type": "code",
   "execution_count": 208,
   "id": "6ffac518",
   "metadata": {},
   "outputs": [],
   "source": [
    "master_df.drop(columns=['summary', 'banner_image', 'category_within_source', 'topics', 'ticker_sentiment'], inplace=True)"
   ]
  },
  {
   "cell_type": "code",
   "execution_count": 209,
   "id": "22731ecf",
   "metadata": {},
   "outputs": [
    {
     "name": "stdout",
     "output_type": "stream",
     "text": [
      "<class 'pandas.core.frame.DataFrame'>\n",
      "Index: 10231 entries, 0 to 29\n",
      "Data columns (total 10 columns):\n",
      " #   Column                   Non-Null Count  Dtype  \n",
      "---  ------                   --------------  -----  \n",
      " 0   title                    10231 non-null  object \n",
      " 1   url                      10231 non-null  object \n",
      " 2   time_published           10231 non-null  object \n",
      " 3   authors                  10231 non-null  object \n",
      " 4   source                   10231 non-null  object \n",
      " 5   source_domain            10231 non-null  object \n",
      " 6   overall_sentiment_score  10231 non-null  float64\n",
      " 7   overall_sentiment_label  10231 non-null  object \n",
      " 8   ticker                   10231 non-null  object \n",
      " 9   article                  10231 non-null  object \n",
      "dtypes: float64(1), object(9)\n",
      "memory usage: 879.2+ KB\n"
     ]
    }
   ],
   "source": [
    "master_df = master_df.dropna()\n",
    "master_df.info()"
   ]
  },
  {
   "cell_type": "code",
   "execution_count": 211,
   "id": "e1c6493b",
   "metadata": {},
   "outputs": [],
   "source": [
    "master_df = master_df.drop_duplicates()"
   ]
  },
  {
   "cell_type": "code",
   "execution_count": 212,
   "id": "3ca1ba2f",
   "metadata": {},
   "outputs": [
    {
     "data": {
      "text/plain": [
       "ticker\n",
       "AAPL    647\n",
       "ABNB    340\n",
       "ADBE    347\n",
       "ADP      71\n",
       "AMD     544\n",
       "ANET    386\n",
       "AVGO    430\n",
       "BABA    348\n",
       "CRWD    353\n",
       "CSCO    315\n",
       "DELL    234\n",
       "GOOG    326\n",
       "IBM     135\n",
       "INTU    168\n",
       "META    455\n",
       "MSFT    428\n",
       "MU      193\n",
       "NFLX    421\n",
       "NVDA    540\n",
       "ORCL    259\n",
       "PLTR    249\n",
       "PYPL    366\n",
       "QCOM    374\n",
       "SHOP    480\n",
       "SPOT    297\n",
       "TSLA    447\n",
       "TSM     363\n",
       "UBER    369\n",
       "Name: article, dtype: int64"
      ]
     },
     "execution_count": 212,
     "metadata": {},
     "output_type": "execute_result"
    }
   ],
   "source": [
    "master_df.groupby('ticker').count()['article']\n"
   ]
  },
  {
   "cell_type": "code",
   "execution_count": 1,
   "id": "fadc2e3d",
   "metadata": {},
   "outputs": [
    {
     "ename": "NameError",
     "evalue": "name 'master_df' is not defined",
     "output_type": "error",
     "traceback": [
      "\u001b[0;31m---------------------------------------------------------------------------\u001b[0m",
      "\u001b[0;31mNameError\u001b[0m                                 Traceback (most recent call last)",
      "Cell \u001b[0;32mIn[1], line 1\u001b[0m\n\u001b[0;32m----> 1\u001b[0m master_df[\u001b[38;5;124m'\u001b[39m\u001b[38;5;124marticle\u001b[39m\u001b[38;5;124m'\u001b[39m]\u001b[38;5;241m.\u001b[39mnunique()\n",
      "\u001b[0;31mNameError\u001b[0m: name 'master_df' is not defined"
     ]
    }
   ],
   "source": [
    "master_df['article'].nunique()"
   ]
  },
  {
   "cell_type": "markdown",
   "id": "2e8a4f07",
   "metadata": {},
   "source": [
    "<h2> Benzinga Clean Up"
   ]
  },
  {
   "cell_type": "code",
   "execution_count": 214,
   "id": "221aecc5",
   "metadata": {},
   "outputs": [],
   "source": [
    "benzinga_df = master_df[master_df['source'] == 'Benzinga']"
   ]
  },
  {
   "cell_type": "code",
   "execution_count": 215,
   "id": "41d307c9",
   "metadata": {},
   "outputs": [
    {
     "data": {
      "text/plain": [
       "(4357, 10)"
      ]
     },
     "execution_count": 215,
     "metadata": {},
     "output_type": "execute_result"
    }
   ],
   "source": [
    "benzinga_df.shape"
   ]
  },
  {
   "cell_type": "code",
   "execution_count": 216,
   "id": "5e75f8eb",
   "metadata": {},
   "outputs": [],
   "source": [
    "common_keywords = ['To read this article', 'Please click here to sign up', 'Photo by',\n",
    "                   'This story was generated', 'Photo via', 'Check out more of Benzinga',\n",
    "                   'Photo courtesy:', 'This article is from an unpaid external', '©', 'This article was generated by']"
   ]
  },
  {
   "cell_type": "code",
   "execution_count": 217,
   "id": "121e680c",
   "metadata": {
    "scrolled": true
   },
   "outputs": [],
   "source": [
    "# pd.reset_option('display.max_colwidth')\n",
    "# benzinga_df['cut1_article'] = benzinga_df['article'].apply(lambda x: x[-350:])\n",
    "# pd.set_option('display.max_colwidth', None)\n",
    "# benzinga_df['cut1_article'][:25]"
   ]
  },
  {
   "cell_type": "code",
   "execution_count": 218,
   "id": "2a0cf776",
   "metadata": {},
   "outputs": [],
   "source": [
    "def trim_by_keyword(article, keyword):\n",
    "    return article.split(keyword)[0]\n",
    "\n",
    "def trim_articles(articles, keywords):\n",
    "    return [reduce(trim_by_keyword, keywords, article) for article in articles]\n",
    "\n"
   ]
  },
  {
   "cell_type": "code",
   "execution_count": 219,
   "id": "74804a96",
   "metadata": {},
   "outputs": [
    {
     "name": "stderr",
     "output_type": "stream",
     "text": [
      "/var/folders/k7/_jdxw9bx3_7cybsnkxz0pr200000gn/T/ipykernel_50579/1812483282.py:1: SettingWithCopyWarning: \n",
      "A value is trying to be set on a copy of a slice from a DataFrame.\n",
      "Try using .loc[row_indexer,col_indexer] = value instead\n",
      "\n",
      "See the caveats in the documentation: https://pandas.pydata.org/pandas-docs/stable/user_guide/indexing.html#returning-a-view-versus-a-copy\n",
      "  benzinga_df['cut2_articles'] = trim_articles(benzinga_df['article'], common_keywords)\n"
     ]
    }
   ],
   "source": [
    "benzinga_df['cut2_articles'] = trim_articles(benzinga_df['article'], common_keywords)"
   ]
  },
  {
   "cell_type": "code",
   "execution_count": 220,
   "id": "b4bc8b51",
   "metadata": {},
   "outputs": [
    {
     "data": {
      "text/plain": [
       "(4357, 11)"
      ]
     },
     "execution_count": 220,
     "metadata": {},
     "output_type": "execute_result"
    }
   ],
   "source": [
    "benzinga_df.shape"
   ]
  },
  {
   "cell_type": "code",
   "execution_count": 221,
   "id": "7ebd88b5",
   "metadata": {},
   "outputs": [
    {
     "data": {
      "text/plain": [
       "0     Advanced Energy Industries AEIS reported non-G...\n",
       "8     To gain an edge, this is what you need to know...\n",
       "11    T-Mobile US, Inc TMUS reported its second-quar...\n",
       "12    Tim Sweeney, the CEO of Epic Games, has public...\n",
       "20    Leading cryptocurrencies edged lower Tuesday a...\n",
       "                            ...                        \n",
       "5     Someone with a lot of money to spend has taken...\n",
       "7     Image sourced from Unsplash This post contains...\n",
       "9     Image sourced from Unsplash This post contains...\n",
       "18    This post contains sponsored advertising conte...\n",
       "24    © 2024 Benzinga.com. Benzinga does not provide...\n",
       "Name: article, Length: 4357, dtype: object"
      ]
     },
     "execution_count": 221,
     "metadata": {},
     "output_type": "execute_result"
    }
   ],
   "source": [
    "benzinga_df['article']"
   ]
  },
  {
   "cell_type": "code",
   "execution_count": 222,
   "id": "940d5b3a",
   "metadata": {},
   "outputs": [
    {
     "data": {
      "text/plain": [
       "0     Advanced Energy Industries AEIS reported non-G...\n",
       "8     To gain an edge, this is what you need to know...\n",
       "11    T-Mobile US, Inc TMUS reported its second-quar...\n",
       "12    Tim Sweeney, the CEO of Epic Games, has public...\n",
       "20    Leading cryptocurrencies edged lower Tuesday a...\n",
       "                            ...                        \n",
       "5     Someone with a lot of money to spend has taken...\n",
       "7     Image sourced from Unsplash This post contains...\n",
       "9     Image sourced from Unsplash This post contains...\n",
       "18    This post contains sponsored advertising conte...\n",
       "24                                                     \n",
       "Name: cut2_articles, Length: 4357, dtype: object"
      ]
     },
     "execution_count": 222,
     "metadata": {},
     "output_type": "execute_result"
    }
   ],
   "source": [
    "benzinga_df['cut2_articles']"
   ]
  },
  {
   "cell_type": "code",
   "execution_count": 223,
   "id": "15f07bdd",
   "metadata": {},
   "outputs": [
    {
     "name": "stderr",
     "output_type": "stream",
     "text": [
      "/var/folders/k7/_jdxw9bx3_7cybsnkxz0pr200000gn/T/ipykernel_50579/2557628087.py:1: SettingWithCopyWarning: \n",
      "A value is trying to be set on a copy of a slice from a DataFrame.\n",
      "Try using .loc[row_indexer,col_indexer] = value instead\n",
      "\n",
      "See the caveats in the documentation: https://pandas.pydata.org/pandas-docs/stable/user_guide/indexing.html#returning-a-view-versus-a-copy\n",
      "  benzinga_df['char_count'] = benzinga_df['cut2_articles'].apply(lambda x: len(x))\n"
     ]
    }
   ],
   "source": [
    "benzinga_df['char_count'] = benzinga_df['cut2_articles'].apply(lambda x: len(x))"
   ]
  },
  {
   "cell_type": "code",
   "execution_count": 224,
   "id": "15449dc3",
   "metadata": {},
   "outputs": [
    {
     "data": {
      "text/plain": [
       "(4357, 12)"
      ]
     },
     "execution_count": 224,
     "metadata": {},
     "output_type": "execute_result"
    }
   ],
   "source": [
    "benzinga_df.shape"
   ]
  },
  {
   "cell_type": "code",
   "execution_count": null,
   "id": "6da8e836",
   "metadata": {},
   "outputs": [],
   "source": []
  },
  {
   "cell_type": "code",
   "execution_count": 225,
   "id": "602594fa",
   "metadata": {},
   "outputs": [
    {
     "data": {
      "text/plain": [
       "5505      0\n",
       "1798      0\n",
       "6373      0\n",
       "5224      0\n",
       "5176      0\n",
       "5219      0\n",
       "5270      0\n",
       "5177      0\n",
       "1773      0\n",
       "5173      0\n",
       "1797      0\n",
       "5274      0\n",
       "5170      0\n",
       "31        2\n",
       "3         2\n",
       "8182      2\n",
       "2900      2\n",
       "5930      2\n",
       "4912      2\n",
       "1509      2\n",
       "49       15\n",
       "1896     58\n",
       "3583     58\n",
       "5178     59\n",
       "5275     62\n",
       "971      63\n",
       "4767     69\n",
       "77       74\n",
       "2188     76\n",
       "3149     76\n",
       "354      76\n",
       "8066     76\n",
       "3096     79\n",
       "1416     82\n",
       "4973     86\n",
       "8026     88\n",
       "3153     88\n",
       "2183     89\n",
       "5249     89\n",
       "4279     90\n",
       "6742     93\n",
       "5256     95\n",
       "6        99\n",
       "2599    100\n",
       "1899    100\n",
       "931     101\n",
       "8       104\n",
       "1719    105\n",
       "1842    106\n",
       "60      114\n",
       "Name: char_count, dtype: int64"
      ]
     },
     "execution_count": 225,
     "metadata": {},
     "output_type": "execute_result"
    }
   ],
   "source": [
    "benzinga_df['char_count'].sort_values()[150:200]"
   ]
  },
  {
   "cell_type": "code",
   "execution_count": 226,
   "id": "578c2cd4",
   "metadata": {
    "scrolled": true
   },
   "outputs": [],
   "source": [
    "# pd.set_option('display.max_colwidth', None)\n",
    "# benzinga_df[benzinga_df['char_count'] == 668]['cut2_articles']"
   ]
  },
  {
   "cell_type": "code",
   "execution_count": 227,
   "id": "8ccfab8e",
   "metadata": {
    "scrolled": true
   },
   "outputs": [],
   "source": [
    "# benzinga_df[benzinga_df['char_count'] == 668]['article']"
   ]
  },
  {
   "cell_type": "code",
   "execution_count": 228,
   "id": "3d64b0de",
   "metadata": {},
   "outputs": [
    {
     "data": {
      "text/plain": [
       "4357"
      ]
     },
     "execution_count": 228,
     "metadata": {},
     "output_type": "execute_result"
    }
   ],
   "source": [
    "benzinga_df['char_count'].count()"
   ]
  },
  {
   "cell_type": "code",
   "execution_count": 229,
   "id": "f9d38ee1",
   "metadata": {},
   "outputs": [],
   "source": [
    "benzinga_df = benzinga_df[benzinga_df['char_count'] > 10]"
   ]
  },
  {
   "cell_type": "code",
   "execution_count": 230,
   "id": "49a25698",
   "metadata": {},
   "outputs": [
    {
     "data": {
      "text/plain": [
       "(4187, 12)"
      ]
     },
     "execution_count": 230,
     "metadata": {},
     "output_type": "execute_result"
    }
   ],
   "source": [
    "benzinga_df.shape"
   ]
  },
  {
   "cell_type": "code",
   "execution_count": 231,
   "id": "4c8ea8c4",
   "metadata": {},
   "outputs": [
    {
     "data": {
      "text/plain": [
       "49       15\n",
       "3583     58\n",
       "1896     58\n",
       "5178     59\n",
       "5275     62\n",
       "971      63\n",
       "4767     69\n",
       "77       74\n",
       "2188     76\n",
       "3149     76\n",
       "354      76\n",
       "8066     76\n",
       "3096     79\n",
       "1416     82\n",
       "4973     86\n",
       "8026     88\n",
       "3153     88\n",
       "5249     89\n",
       "2183     89\n",
       "4279     90\n",
       "6742     93\n",
       "5256     95\n",
       "6        99\n",
       "1899    100\n",
       "2599    100\n",
       "931     101\n",
       "8       104\n",
       "1719    105\n",
       "1842    106\n",
       "60      114\n",
       "3845    116\n",
       "74      116\n",
       "2857    117\n",
       "2834    123\n",
       "3782    125\n",
       "5       126\n",
       "49      126\n",
       "26      129\n",
       "6024    132\n",
       "3195    132\n",
       "5000    134\n",
       "5054    134\n",
       "6156    135\n",
       "25      136\n",
       "26      136\n",
       "2009    136\n",
       "4642    137\n",
       "6665    137\n",
       "6201    137\n",
       "1276    139\n",
       "Name: char_count, dtype: int64"
      ]
     },
     "execution_count": 231,
     "metadata": {},
     "output_type": "execute_result"
    }
   ],
   "source": [
    "benzinga_df['char_count'].sort_values()[0:50]"
   ]
  },
  {
   "cell_type": "code",
   "execution_count": 232,
   "id": "2b0bafd1",
   "metadata": {},
   "outputs": [
    {
     "data": {
      "text/plain": [
       "1101    NVIDIA NVDA has outperformed the market over t...\n",
       "1473    On CNBC’s “The Final Call,” Carter Worth said,...\n",
       "1857    Broadcom AVGO has outperformed the market over...\n",
       "1879    Broadcom AVGO has outperformed the market over...\n",
       "3754    Micron Technology MU has outperformed the mark...\n",
       "3789    U.S. stocks were slightly higher, with the Dow...\n",
       "4313    Broadcom AVGO has outperformed the market over...\n",
       "4320    Broadcom AVGO has outperformed the market over...\n",
       "4335    Broadcom AVGO has outperformed the market over...\n",
       "4361    Broadcom AVGO has outperformed the market over...\n",
       "4409    Meta Platforms META has outperformed the marke...\n",
       "4458    Meta Platforms META has outperformed the marke...\n",
       "4651    Oracle ORCL has outperformed the market over t...\n",
       "4666    Oracle ORCL has outperformed the market over t...\n",
       "4702    Oracle ORCL has outperformed the market over t...\n",
       "4729    Oracle ORCL has outperformed the market over t...\n",
       "4738    Advanced Micro Devices AMD has outperformed th...\n",
       "4772    Advanced Micro Devices AMD has outperformed th...\n",
       "4948    Adobe ADBE has outperformed the market over th...\n",
       "4950    Adobe ADBE has outperformed the market over th...\n",
       "4960    Adobe ADBE has outperformed the market over th...\n",
       "4987    Adobe ADBE has outperformed the market over th...\n",
       "4997    Adobe ADBE has outperformed the market over th...\n",
       "5022    Adobe ADBE has outperformed the market over th...\n",
       "5087    Qualcomm QCOM has outperformed the market over...\n",
       "5160    Qualcomm QCOM has outperformed the market over...\n",
       "5239    Micron Technology MU has outperformed the mark...\n",
       "5251    Micron Technology MU has outperformed the mark...\n",
       "5260    Micron Technology MU has outperformed the mark...\n",
       "5293    Arista Networks ANET has outperformed the mark...\n",
       "5298    Arista Networks ANET has outperformed the mark...\n",
       "5306    Arista Networks ANET has outperformed the mark...\n",
       "6286    Tesla TSLA has outperformed the market over th...\n",
       "6390    Tesla TSLA has outperformed the market over th...\n",
       "6478    Netflix NFLX has outperformed the market over ...\n",
       "7788    Shopify SHOP has outperformed the market over ...\n",
       "7862    Shopify SHOP has outperformed the market over ...\n",
       "7913    Shopify SHOP has outperformed the market over ...\n",
       "7947    Shopify SHOP has outperformed the market over ...\n",
       "8078    Shopify SHOP has outperformed the market over ...\n",
       "8139    Shopify SHOP has outperformed the market over ...\n",
       "3       Intuit INTU has outperformed the market over t...\n",
       "32      Intuit INTU has outperformed the market over t...\n",
       "12      Intuit INTU has outperformed the market over t...\n",
       "1       Intuit INTU has outperformed the market over t...\n",
       "0       Intuit INTU has outperformed the market over t...\n",
       "4       Intuit INTU has outperformed the market over t...\n",
       "15        Intuit INTU has outperformed the market over...\n",
       "6       Intuit INTU has outperformed the market over t...\n",
       "12      Dell Technologies DELL has outperformed the ma...\n",
       "76      Dell Technologies DELL has outperformed the ma...\n",
       "19      Dell Technologies DELL has outperformed the ma...\n",
       "80      Spotify Technology SPOT has outperformed the m...\n",
       "69      The Nasdaq 100 closed higher by around 0.1% du...\n",
       "Name: cut2_articles, dtype: object"
      ]
     },
     "execution_count": 232,
     "metadata": {},
     "output_type": "execute_result"
    }
   ],
   "source": [
    "benzinga_df[(benzinga_df['char_count'] > 500) & (benzinga_df['char_count'] < 600)]['cut2_articles']"
   ]
  },
  {
   "cell_type": "code",
   "execution_count": 233,
   "id": "82cbf4d0",
   "metadata": {},
   "outputs": [
    {
     "data": {
      "text/plain": [
       "1101    NVIDIA NVDA has outperformed the market over t...\n",
       "1473    On CNBC’s “The Final Call,” Carter Worth said,...\n",
       "1857    Broadcom AVGO has outperformed the market over...\n",
       "1879    Broadcom AVGO has outperformed the market over...\n",
       "3754    Micron Technology MU has outperformed the mark...\n",
       "3789    U.S. stocks were slightly higher, with the Dow...\n",
       "4313    Broadcom AVGO has outperformed the market over...\n",
       "4320    Broadcom AVGO has outperformed the market over...\n",
       "4335    Broadcom AVGO has outperformed the market over...\n",
       "4361    Broadcom AVGO has outperformed the market over...\n",
       "4409    Meta Platforms META has outperformed the marke...\n",
       "4458    Meta Platforms META has outperformed the marke...\n",
       "4651    Oracle ORCL has outperformed the market over t...\n",
       "4666    Oracle ORCL has outperformed the market over t...\n",
       "4702    Oracle ORCL has outperformed the market over t...\n",
       "4729    Oracle ORCL has outperformed the market over t...\n",
       "4738    Advanced Micro Devices AMD has outperformed th...\n",
       "4772    Advanced Micro Devices AMD has outperformed th...\n",
       "4948    Adobe ADBE has outperformed the market over th...\n",
       "4950    Adobe ADBE has outperformed the market over th...\n",
       "4960    Adobe ADBE has outperformed the market over th...\n",
       "4987    Adobe ADBE has outperformed the market over th...\n",
       "4997    Adobe ADBE has outperformed the market over th...\n",
       "5022    Adobe ADBE has outperformed the market over th...\n",
       "5087    Qualcomm QCOM has outperformed the market over...\n",
       "5160    Qualcomm QCOM has outperformed the market over...\n",
       "5239    Micron Technology MU has outperformed the mark...\n",
       "5251    Micron Technology MU has outperformed the mark...\n",
       "5260    Micron Technology MU has outperformed the mark...\n",
       "5293    Arista Networks ANET has outperformed the mark...\n",
       "5298    Arista Networks ANET has outperformed the mark...\n",
       "5306    Arista Networks ANET has outperformed the mark...\n",
       "6286    Tesla TSLA has outperformed the market over th...\n",
       "6390    Tesla TSLA has outperformed the market over th...\n",
       "6478    Netflix NFLX has outperformed the market over ...\n",
       "7788    Shopify SHOP has outperformed the market over ...\n",
       "7862    Shopify SHOP has outperformed the market over ...\n",
       "7913    Shopify SHOP has outperformed the market over ...\n",
       "7947    Shopify SHOP has outperformed the market over ...\n",
       "8078    Shopify SHOP has outperformed the market over ...\n",
       "8139    Shopify SHOP has outperformed the market over ...\n",
       "3       Intuit INTU has outperformed the market over t...\n",
       "32      Intuit INTU has outperformed the market over t...\n",
       "12      Intuit INTU has outperformed the market over t...\n",
       "1       Intuit INTU has outperformed the market over t...\n",
       "0       Intuit INTU has outperformed the market over t...\n",
       "4       Intuit INTU has outperformed the market over t...\n",
       "15        Intuit INTU has outperformed the market over...\n",
       "6       Intuit INTU has outperformed the market over t...\n",
       "12      Dell Technologies DELL has outperformed the ma...\n",
       "76      Dell Technologies DELL has outperformed the ma...\n",
       "19      Dell Technologies DELL has outperformed the ma...\n",
       "80      Spotify Technology SPOT has outperformed the m...\n",
       "69      The Nasdaq 100 closed higher by around 0.1% du...\n",
       "Name: article, dtype: object"
      ]
     },
     "execution_count": 233,
     "metadata": {},
     "output_type": "execute_result"
    }
   ],
   "source": [
    "benzinga_df[(benzinga_df['char_count'] > 500) & (benzinga_df['char_count'] < 600)]['article']"
   ]
  },
  {
   "cell_type": "code",
   "execution_count": 234,
   "id": "3fc7c4a1",
   "metadata": {},
   "outputs": [],
   "source": [
    "benzinga_df = benzinga_df[benzinga_df['char_count'] > 400]"
   ]
  },
  {
   "cell_type": "code",
   "execution_count": 235,
   "id": "adb6537d",
   "metadata": {},
   "outputs": [],
   "source": [
    "benzinga_df.drop(columns=['article', 'char_count'], inplace=True)\n",
    "benzinga_df.rename(columns={'cut2_articles': 'article'}, inplace=True)"
   ]
  },
  {
   "cell_type": "code",
   "execution_count": 236,
   "id": "c3fd12a5",
   "metadata": {},
   "outputs": [
    {
     "data": {
      "text/plain": [
       "(4076, 10)"
      ]
     },
     "execution_count": 236,
     "metadata": {},
     "output_type": "execute_result"
    }
   ],
   "source": [
    "benzinga_df.shape"
   ]
  },
  {
   "cell_type": "markdown",
   "id": "f1ee4dc6",
   "metadata": {},
   "source": [
    "<h2> Zacks Commentary"
   ]
  },
  {
   "cell_type": "code",
   "execution_count": 237,
   "id": "0215b269",
   "metadata": {},
   "outputs": [],
   "source": [
    "zacks_df = master_df[master_df['source'] == 'Zacks Commentary']"
   ]
  },
  {
   "cell_type": "code",
   "execution_count": 238,
   "id": "89eed378",
   "metadata": {},
   "outputs": [
    {
     "data": {
      "text/plain": [
       "1     Advanced Micro Devices (AMD Quick QuoteAMD  - ...\n",
       "2     Skyworks Solutions (SWKS Quick QuoteSWKS  -  F...\n",
       "3     Advanced Energy Industries (AEIS Quick QuoteAE...\n",
       "4     Apple (AAPL Quick QuoteAAPL  -  Free Report)  ...\n",
       "5     Garmin Ltd. (GRMN Quick QuoteGRMN  -  Free Rep...\n",
       "6     PayPal Holdings, Inc. (PYPL Quick QuotePYPL  -...\n",
       "7     All eyes are on technology giant Apple (AAPL Q...\n",
       "10    Upstart Holdings (UPST Quick QuoteUPST  -  Fre...\n",
       "14    The Schwab Fundamental U.S. Broad Market ETF (...\n",
       "15    If you're interested in broad exposure to the ...\n",
       "16    The WisdomTree U.S. LargeCap Dividend ETF (DLN...\n",
       "17    Designed to provide broad exposure to the Tech...\n",
       "19    Chicago, IL – July 31, 2024 – Today, Zacks Inv...\n",
       "24    As the world’s most valuable company, markets ...\n",
       "25    IPG Photonics (IPGP Quick QuoteIPGP  -  Free R...\n",
       "27    Apple’s (AAPL Quick QuoteAAPL  -  Free Report)...\n",
       "28    ONESPAN (OSPN Quick QuoteOSPN  -  Free Report)...\n",
       "29    Mettler-Toledo International, Inc. (MTD Quick ...\n",
       "34    Twilio Inc. (TWLO Quick QuoteTWLO  -  Free Rep...\n",
       "36    Sirius XM (SIRI Quick QuoteSIRI  -  Free Repor...\n",
       "Name: article, dtype: object"
      ]
     },
     "execution_count": 238,
     "metadata": {},
     "output_type": "execute_result"
    }
   ],
   "source": [
    "zacks_df['article'].head(20)"
   ]
  },
  {
   "cell_type": "markdown",
   "id": "14e011f4",
   "metadata": {},
   "source": [
    "<h2> Motley Fool"
   ]
  },
  {
   "cell_type": "code",
   "execution_count": 239,
   "id": "f5a19bd3",
   "metadata": {},
   "outputs": [],
   "source": [
    "motley_df = master_df[master_df['source'] == 'Motley Fool']"
   ]
  },
  {
   "cell_type": "code",
   "execution_count": 240,
   "id": "9c6f6aea",
   "metadata": {},
   "outputs": [
    {
     "data": {
      "text/plain": [
       "9      The biggest companies in tech aren't going all...\n",
       "13     The Russell 2000 features approximately 2,000 ...\n",
       "18     After years of struggle, SoundHound AI (SOUN -...\n",
       "23     Nvidia (NVDA 1.72%) stock fell again in Tuesda...\n",
       "82     Fool.com contributor Parkev Tatevosian preview...\n",
       "101    In this podcast, Motley Fool analyst Jason Mos...\n",
       "102    In this podcast, Motley Fool analyst Sanmeet D...\n",
       "108    For most stocks, a trillion-dollar valuation w...\n",
       "109    The S&P 500 is widely considered the best meas...\n",
       "110    Widely followed Wall Street analyst Toni Sacco...\n",
       "126    Following a volatile start to the decade, the ...\n",
       "138    Microsoft (MSFT -1.02%) won the PC battle agai...\n",
       "144    If you're young and already investing for reti...\n",
       "145    Most investors focus on a company's growth pro...\n",
       "146    Meta Platforms (META -1.21%) has been crushing...\n",
       "148    Investors love to look at what Berkshire Hatha...\n",
       "149    ExxonMobil (XOM -0.02%) is one of the world's ...\n",
       "155    Anyone who follows Warren Buffett knows that A...\n",
       "156    Since the advent of the internet three decades...\n",
       "160    The past few weeks have been tough for Apple (...\n",
       "Name: article, dtype: object"
      ]
     },
     "execution_count": 240,
     "metadata": {},
     "output_type": "execute_result"
    }
   ],
   "source": [
    "motley_df['article'].head(20)"
   ]
  },
  {
   "cell_type": "code",
   "execution_count": 241,
   "id": "b1768a70",
   "metadata": {},
   "outputs": [
    {
     "name": "stdout",
     "output_type": "stream",
     "text": [
      "<class 'pandas.core.frame.DataFrame'>\n",
      "Index: 4076 entries, 0 to 18\n",
      "Data columns (total 10 columns):\n",
      " #   Column                   Non-Null Count  Dtype  \n",
      "---  ------                   --------------  -----  \n",
      " 0   title                    4076 non-null   object \n",
      " 1   url                      4076 non-null   object \n",
      " 2   time_published           4076 non-null   object \n",
      " 3   authors                  4076 non-null   object \n",
      " 4   source                   4076 non-null   object \n",
      " 5   source_domain            4076 non-null   object \n",
      " 6   overall_sentiment_score  4076 non-null   float64\n",
      " 7   overall_sentiment_label  4076 non-null   object \n",
      " 8   ticker                   4076 non-null   object \n",
      " 9   article                  4076 non-null   object \n",
      "dtypes: float64(1), object(9)\n",
      "memory usage: 350.3+ KB\n",
      "None\n"
     ]
    }
   ],
   "source": [
    "print(benzinga_df.info())"
   ]
  },
  {
   "cell_type": "code",
   "execution_count": 242,
   "id": "bb5b6072",
   "metadata": {},
   "outputs": [
    {
     "name": "stdout",
     "output_type": "stream",
     "text": [
      "<class 'pandas.core.frame.DataFrame'>\n",
      "Index: 3292 entries, 1 to 27\n",
      "Data columns (total 10 columns):\n",
      " #   Column                   Non-Null Count  Dtype  \n",
      "---  ------                   --------------  -----  \n",
      " 0   title                    3292 non-null   object \n",
      " 1   url                      3292 non-null   object \n",
      " 2   time_published           3292 non-null   object \n",
      " 3   authors                  3292 non-null   object \n",
      " 4   source                   3292 non-null   object \n",
      " 5   source_domain            3292 non-null   object \n",
      " 6   overall_sentiment_score  3292 non-null   float64\n",
      " 7   overall_sentiment_label  3292 non-null   object \n",
      " 8   ticker                   3292 non-null   object \n",
      " 9   article                  3292 non-null   object \n",
      "dtypes: float64(1), object(9)\n",
      "memory usage: 282.9+ KB\n",
      "None\n"
     ]
    }
   ],
   "source": [
    "print(zacks_df.info())"
   ]
  },
  {
   "cell_type": "code",
   "execution_count": 243,
   "id": "8cfd5f28",
   "metadata": {},
   "outputs": [
    {
     "name": "stdout",
     "output_type": "stream",
     "text": [
      "<class 'pandas.core.frame.DataFrame'>\n",
      "Index: 2236 entries, 9 to 29\n",
      "Data columns (total 10 columns):\n",
      " #   Column                   Non-Null Count  Dtype  \n",
      "---  ------                   --------------  -----  \n",
      " 0   title                    2236 non-null   object \n",
      " 1   url                      2236 non-null   object \n",
      " 2   time_published           2236 non-null   object \n",
      " 3   authors                  2236 non-null   object \n",
      " 4   source                   2236 non-null   object \n",
      " 5   source_domain            2236 non-null   object \n",
      " 6   overall_sentiment_score  2236 non-null   float64\n",
      " 7   overall_sentiment_label  2236 non-null   object \n",
      " 8   ticker                   2236 non-null   object \n",
      " 9   article                  2236 non-null   object \n",
      "dtypes: float64(1), object(9)\n",
      "memory usage: 192.2+ KB\n",
      "None\n"
     ]
    }
   ],
   "source": [
    "print(motley_df.info())"
   ]
  },
  {
   "cell_type": "code",
   "execution_count": 244,
   "id": "574a3957",
   "metadata": {},
   "outputs": [
    {
     "data": {
      "text/html": [
       "<div>\n",
       "<style scoped>\n",
       "    .dataframe tbody tr th:only-of-type {\n",
       "        vertical-align: middle;\n",
       "    }\n",
       "\n",
       "    .dataframe tbody tr th {\n",
       "        vertical-align: top;\n",
       "    }\n",
       "\n",
       "    .dataframe thead th {\n",
       "        text-align: right;\n",
       "    }\n",
       "</style>\n",
       "<table border=\"1\" class=\"dataframe\">\n",
       "  <thead>\n",
       "    <tr style=\"text-align: right;\">\n",
       "      <th></th>\n",
       "      <th>title</th>\n",
       "      <th>url</th>\n",
       "      <th>time_published</th>\n",
       "      <th>authors</th>\n",
       "      <th>source</th>\n",
       "      <th>source_domain</th>\n",
       "      <th>overall_sentiment_score</th>\n",
       "      <th>overall_sentiment_label</th>\n",
       "      <th>ticker</th>\n",
       "      <th>article</th>\n",
       "    </tr>\n",
       "  </thead>\n",
       "  <tbody>\n",
       "    <tr>\n",
       "      <th>0</th>\n",
       "      <td>Advanced Energy Q2 Earnings Top Estimates, Rev...</td>\n",
       "      <td>https://www.benzinga.com/news/earnings/24/07/4...</td>\n",
       "      <td>20240731T201919</td>\n",
       "      <td>['Zacks']</td>\n",
       "      <td>Benzinga</td>\n",
       "      <td>www.benzinga.com</td>\n",
       "      <td>0.126429</td>\n",
       "      <td>Neutral</td>\n",
       "      <td>AAPL</td>\n",
       "      <td>Advanced Energy Industries AEIS reported non-G...</td>\n",
       "    </tr>\n",
       "    <tr>\n",
       "      <th>1</th>\n",
       "      <td>Oversold Condition And China Loophole Overpowe...</td>\n",
       "      <td>https://www.benzinga.com/markets/asia/24/07/40...</td>\n",
       "      <td>20240731T153854</td>\n",
       "      <td>['The Arora Report']</td>\n",
       "      <td>Benzinga</td>\n",
       "      <td>www.benzinga.com</td>\n",
       "      <td>0.204111</td>\n",
       "      <td>Somewhat-Bullish</td>\n",
       "      <td>AAPL</td>\n",
       "      <td>To gain an edge, this is what you need to know...</td>\n",
       "    </tr>\n",
       "    <tr>\n",
       "      <th>2</th>\n",
       "      <td>T-Mobile's Q2 Earnings: Net Postpaid Adds, Rec...</td>\n",
       "      <td>https://www.benzinga.com/news/earnings/24/07/4...</td>\n",
       "      <td>20240731T125206</td>\n",
       "      <td>['Anusuya Lahiri']</td>\n",
       "      <td>Benzinga</td>\n",
       "      <td>www.benzinga.com</td>\n",
       "      <td>0.211757</td>\n",
       "      <td>Somewhat-Bullish</td>\n",
       "      <td>AAPL</td>\n",
       "      <td>T-Mobile US, Inc TMUS reported its second-quar...</td>\n",
       "    </tr>\n",
       "    <tr>\n",
       "      <th>3</th>\n",
       "      <td>Epic Games' Tim Sweeney Slams Apple's 'Find My...</td>\n",
       "      <td>https://www.benzinga.com/news/24/07/40066966/e...</td>\n",
       "      <td>20240731T123649</td>\n",
       "      <td>['Rounak Jain']</td>\n",
       "      <td>Benzinga</td>\n",
       "      <td>www.benzinga.com</td>\n",
       "      <td>-0.095462</td>\n",
       "      <td>Neutral</td>\n",
       "      <td>AAPL</td>\n",
       "      <td>Tim Sweeney, the CEO of Epic Games, has public...</td>\n",
       "    </tr>\n",
       "    <tr>\n",
       "      <th>4</th>\n",
       "      <td>Bitcoin, Ethereum, Dogecoin Slide As Mt. Gox M...</td>\n",
       "      <td>https://www.benzinga.com/markets/cryptocurrenc...</td>\n",
       "      <td>20240731T030145</td>\n",
       "      <td>['Aniket Verma']</td>\n",
       "      <td>Benzinga</td>\n",
       "      <td>www.benzinga.com</td>\n",
       "      <td>0.002398</td>\n",
       "      <td>Neutral</td>\n",
       "      <td>AAPL</td>\n",
       "      <td>Leading cryptocurrencies edged lower Tuesday a...</td>\n",
       "    </tr>\n",
       "  </tbody>\n",
       "</table>\n",
       "</div>"
      ],
      "text/plain": [
       "                                               title  \\\n",
       "0  Advanced Energy Q2 Earnings Top Estimates, Rev...   \n",
       "1  Oversold Condition And China Loophole Overpowe...   \n",
       "2  T-Mobile's Q2 Earnings: Net Postpaid Adds, Rec...   \n",
       "3  Epic Games' Tim Sweeney Slams Apple's 'Find My...   \n",
       "4  Bitcoin, Ethereum, Dogecoin Slide As Mt. Gox M...   \n",
       "\n",
       "                                                 url   time_published  \\\n",
       "0  https://www.benzinga.com/news/earnings/24/07/4...  20240731T201919   \n",
       "1  https://www.benzinga.com/markets/asia/24/07/40...  20240731T153854   \n",
       "2  https://www.benzinga.com/news/earnings/24/07/4...  20240731T125206   \n",
       "3  https://www.benzinga.com/news/24/07/40066966/e...  20240731T123649   \n",
       "4  https://www.benzinga.com/markets/cryptocurrenc...  20240731T030145   \n",
       "\n",
       "                authors    source     source_domain  overall_sentiment_score  \\\n",
       "0             ['Zacks']  Benzinga  www.benzinga.com                 0.126429   \n",
       "1  ['The Arora Report']  Benzinga  www.benzinga.com                 0.204111   \n",
       "2    ['Anusuya Lahiri']  Benzinga  www.benzinga.com                 0.211757   \n",
       "3       ['Rounak Jain']  Benzinga  www.benzinga.com                -0.095462   \n",
       "4      ['Aniket Verma']  Benzinga  www.benzinga.com                 0.002398   \n",
       "\n",
       "  overall_sentiment_label ticker  \\\n",
       "0                 Neutral   AAPL   \n",
       "1        Somewhat-Bullish   AAPL   \n",
       "2        Somewhat-Bullish   AAPL   \n",
       "3                 Neutral   AAPL   \n",
       "4                 Neutral   AAPL   \n",
       "\n",
       "                                             article  \n",
       "0  Advanced Energy Industries AEIS reported non-G...  \n",
       "1  To gain an edge, this is what you need to know...  \n",
       "2  T-Mobile US, Inc TMUS reported its second-quar...  \n",
       "3  Tim Sweeney, the CEO of Epic Games, has public...  \n",
       "4  Leading cryptocurrencies edged lower Tuesday a...  "
      ]
     },
     "execution_count": 244,
     "metadata": {},
     "output_type": "execute_result"
    }
   ],
   "source": [
    "new_master_df = pd.concat([benzinga_df, zacks_df, motley_df])\n",
    "new_master_df.reset_index(inplace=True, drop=True)\n",
    "# new_master_df.drop(columns=['Unnamed: 0'], inplace=True)\n",
    "new_master_df.head()"
   ]
  },
  {
   "cell_type": "code",
   "execution_count": 10,
   "id": "c979b841",
   "metadata": {},
   "outputs": [],
   "source": [
    "new_master_df = pd.read_csv('articles_with_sentiment.csv', index_col=0)"
   ]
  },
  {
   "cell_type": "code",
   "execution_count": 15,
   "id": "69adf801",
   "metadata": {},
   "outputs": [
    {
     "name": "stdout",
     "output_type": "stream",
     "text": [
      "<class 'pandas.core.frame.DataFrame'>\n",
      "Index: 9604 entries, 0 to 9603\n",
      "Data columns (total 12 columns):\n",
      " #   Column                     Non-Null Count  Dtype  \n",
      "---  ------                     --------------  -----  \n",
      " 0   title                      9604 non-null   object \n",
      " 1   url                        9604 non-null   object \n",
      " 2   time_published             9604 non-null   object \n",
      " 3   authors                    9604 non-null   object \n",
      " 4   source                     9604 non-null   object \n",
      " 5   source_domain              9604 non-null   object \n",
      " 6   overall_sentiment_score    9604 non-null   float64\n",
      " 7   overall_sentiment_label    9604 non-null   object \n",
      " 8   ticker                     9604 non-null   object \n",
      " 9   article                    9604 non-null   object \n",
      " 10  overall_cleaned_sentiment  9604 non-null   float64\n",
      " 11  result                     9604 non-null   int64  \n",
      "dtypes: float64(2), int64(1), object(9)\n",
      "memory usage: 975.4+ KB\n"
     ]
    }
   ],
   "source": [
    "new_master_df.info()"
   ]
  },
  {
   "cell_type": "code",
   "execution_count": 14,
   "id": "691d04ee",
   "metadata": {},
   "outputs": [],
   "source": [
    "new_master_df['result'] = new_master_df['overall_cleaned_sentiment'].apply(lambda x: 1 if x >=0 else 0)"
   ]
  },
  {
   "cell_type": "code",
   "execution_count": 94,
   "id": "f1800811",
   "metadata": {},
   "outputs": [],
   "source": [
    "#create column for articles in lower case\n",
    "# new_master_df['to_lower'] = new_master_df['article'].apply(lambda x: x.lower())"
   ]
  },
  {
   "cell_type": "code",
   "execution_count": 95,
   "id": "b7b3b8dd",
   "metadata": {},
   "outputs": [],
   "source": [
    "#create column for articles in lower and with no numbers\n",
    "# new_master_df['no_nums'] = new_master_df['to_lower'].apply(lambda x: re.sub(r'\\d+', '', x))"
   ]
  },
  {
   "cell_type": "code",
   "execution_count": 96,
   "id": "d85ca848",
   "metadata": {},
   "outputs": [],
   "source": [
    "# new_master_df['no_punc'] = new_master_df['no_nums'].apply(lambda x: x.translate(str.maketrans('', '', string.punctuation)))"
   ]
  },
  {
   "cell_type": "code",
   "execution_count": 97,
   "id": "89dd6c9b",
   "metadata": {},
   "outputs": [],
   "source": [
    "# new_master_df['final_trimmed'] = new_master_df['no_punc'].apply(lambda x: x.strip())"
   ]
  },
  {
   "cell_type": "code",
   "execution_count": 12,
   "id": "aeccae6f",
   "metadata": {},
   "outputs": [
    {
     "name": "stderr",
     "output_type": "stream",
     "text": [
      "[nltk_data] Downloading package punkt to\n",
      "[nltk_data]     /Users/matthewelmajian/nltk_data...\n",
      "[nltk_data]   Package punkt is already up-to-date!\n",
      "[nltk_data] Downloading package wordnet to\n",
      "[nltk_data]     /Users/matthewelmajian/nltk_data...\n",
      "[nltk_data]   Package wordnet is already up-to-date!\n"
     ]
    },
    {
     "data": {
      "text/plain": [
       "True"
      ]
     },
     "execution_count": 12,
     "metadata": {},
     "output_type": "execute_result"
    }
   ],
   "source": [
    "nltk.download('punkt')\n",
    "nltk.download('wordnet')"
   ]
  },
  {
   "cell_type": "code",
   "execution_count": 32,
   "id": "e110f732",
   "metadata": {},
   "outputs": [],
   "source": [
    "def preprocess_and_lemmatize(df, article_col):\n",
    "    lemmatizer = WordNetLemmatizer()\n",
    "    articles = df[article_col]\n",
    "    lower_case = [x.lower() for x in articles]\n",
    "    no_nums = [re.sub(r'\\d+', '', x) for x in lower_case]\n",
    "    no_punc = [x.translate(str.maketrans('', '', string.punctuation)) for x in no_nums]\n",
    "    no_emojis = [re.sub(r'[^a-zA-Z\\s]', '', x) for x in no_punc]\n",
    "    df['new_arts'] = no_emojis\n",
    "    return df\n",
    "#     words = [word_tokenize(x) for x in no_emojis]\n",
    "#     lemmatized_articles = [' '.join([lemmatizer.lemmatize(word) for word in article]) for article in words]\n",
    "#     return lemmatized_articles"
   ]
  },
  {
   "cell_type": "code",
   "execution_count": 246,
   "id": "d4e7c621",
   "metadata": {},
   "outputs": [],
   "source": [
    "# def preprocess_and_lemmatize(text):\n",
    "#     text = re.sub(r'\\W+', ' ', text)\n",
    "#     new_text = re.sub(r'[^a-zA-Z\\s]', '', text)\n",
    "#     words = word_tokenize(new_text.lower())\n",
    "#     lemmatized_words = [lemmatizer.lemmatize(word) for word in words]\n",
    "    \n",
    "#     return ' '.join(lemmatized_words)"
   ]
  },
  {
   "cell_type": "code",
   "execution_count": 33,
   "id": "4fa75b2a",
   "metadata": {},
   "outputs": [],
   "source": [
    "cleaned_docs_df = preprocess_and_lemmatize(new_master_df, 'article')"
   ]
  },
  {
   "cell_type": "code",
   "execution_count": 34,
   "id": "fa457a0b",
   "metadata": {},
   "outputs": [
    {
     "name": "stdout",
     "output_type": "stream",
     "text": [
      "<class 'pandas.core.frame.DataFrame'>\n",
      "Index: 9604 entries, 0 to 9603\n",
      "Data columns (total 13 columns):\n",
      " #   Column                     Non-Null Count  Dtype  \n",
      "---  ------                     --------------  -----  \n",
      " 0   title                      9604 non-null   object \n",
      " 1   url                        9604 non-null   object \n",
      " 2   time_published             9604 non-null   object \n",
      " 3   authors                    9604 non-null   object \n",
      " 4   source                     9604 non-null   object \n",
      " 5   source_domain              9604 non-null   object \n",
      " 6   overall_sentiment_score    9604 non-null   float64\n",
      " 7   overall_sentiment_label    9604 non-null   object \n",
      " 8   ticker                     9604 non-null   object \n",
      " 9   article                    9604 non-null   object \n",
      " 10  overall_cleaned_sentiment  9604 non-null   float64\n",
      " 11  result                     9604 non-null   int64  \n",
      " 12  new_arts                   9604 non-null   object \n",
      "dtypes: float64(2), int64(1), object(10)\n",
      "memory usage: 1.0+ MB\n"
     ]
    }
   ],
   "source": [
    "cleaned_docs_df.info()"
   ]
  },
  {
   "cell_type": "markdown",
   "id": "c54d7478",
   "metadata": {},
   "source": [
    "<h1> Most Predictive Words\n",
    "   "
   ]
  },
  {
   "cell_type": "code",
   "execution_count": 24,
   "id": "a6762b4f",
   "metadata": {},
   "outputs": [],
   "source": [
    "from sklearn.naive_bayes import MultinomialNB"
   ]
  },
  {
   "cell_type": "code",
   "execution_count": 38,
   "id": "37651206",
   "metadata": {},
   "outputs": [],
   "source": [
    "vectorizer = CountVectorizer(stop_words='english', max_features=2500)"
   ]
  },
  {
   "cell_type": "code",
   "execution_count": 39,
   "id": "135f8897",
   "metadata": {},
   "outputs": [
    {
     "name": "stderr",
     "output_type": "stream",
     "text": [
      "/var/folders/k7/_jdxw9bx3_7cybsnkxz0pr200000gn/T/ipykernel_82190/791076178.py:2: DeprecationWarning: `np.int` is a deprecated alias for the builtin `int`. To silence this warning, use `int` by itself. Doing this will not modify any behavior and is safe. When replacing `np.int`, you may wish to use e.g. `np.int64` or `np.int32` to specify the precision. If you wish to review your current use, check the release note link for additional information.\n",
      "Deprecated in NumPy 1.20; for more details and guidance: https://numpy.org/devdocs/release/1.20.0-notes.html#deprecations\n",
      "  y = new_master_df['result'].values.astype(np.int)\n"
     ]
    }
   ],
   "source": [
    "X = vectorizer.fit_transform(cleaned_docs_df['new_arts']).tocsc()\n",
    "y = new_master_df['result'].values.astype(np.int)"
   ]
  },
  {
   "cell_type": "code",
   "execution_count": 46,
   "id": "4ed56777",
   "metadata": {},
   "outputs": [
    {
     "data": {
      "text/plain": [
       "323"
      ]
     },
     "execution_count": 46,
     "metadata": {},
     "output_type": "execute_result"
    }
   ],
   "source": [
    "len(y[y==0])"
   ]
  },
  {
   "cell_type": "code",
   "execution_count": 47,
   "id": "c4786111",
   "metadata": {},
   "outputs": [
    {
     "data": {
      "text/plain": [
       "9604"
      ]
     },
     "execution_count": 47,
     "metadata": {},
     "output_type": "execute_result"
    }
   ],
   "source": [
    "len(y)"
   ]
  },
  {
   "cell_type": "code",
   "execution_count": 40,
   "id": "fad1ed20",
   "metadata": {},
   "outputs": [],
   "source": [
    "X_train, X_test, y_train, y_test = train_test_split(X, y)"
   ]
  },
  {
   "cell_type": "code",
   "execution_count": 41,
   "id": "fea14a0c",
   "metadata": {},
   "outputs": [],
   "source": [
    "clf = MultinomialNB().fit(X_train, y_train)"
   ]
  },
  {
   "cell_type": "code",
   "execution_count": 43,
   "id": "238ef827",
   "metadata": {},
   "outputs": [
    {
     "name": "stdout",
     "output_type": "stream",
     "text": [
      "training data: 0.8282660002776621\n",
      "testing accuracy: 0.812161599333611\n"
     ]
    }
   ],
   "source": [
    "training_accuracy = clf.score(X_train, y_train)\n",
    "testing_accuracy = clf.score(X_test, y_test)\n",
    "print(f'training data: {training_accuracy}')\n",
    "print(f'testing accuracy: {testing_accuracy}')"
   ]
  },
  {
   "cell_type": "code",
   "execution_count": 127,
   "id": "be5a11ce",
   "metadata": {},
   "outputs": [
    {
     "name": "stdout",
     "output_type": "stream",
     "text": [
      "Good words\t     P(high sentiment | word)\n",
      "                 esp 1.00\n",
      "                etfs 1.00\n",
      "            trailing 1.00\n",
      "             deliver 1.00\n",
      "                rank 1.00\n",
      "               zacks 1.00\n",
      "               jason 1.00\n",
      "              motley 1.00\n",
      "              galaxy 1.00\n",
      "        tobereported 1.00\n",
      "           revisions 1.00\n",
      "               dylan 1.00\n",
      "             expense 1.00\n",
      "                yeah 1.00\n",
      "               score 1.00\n",
      "               style 1.00\n",
      "          efficiency 1.00\n",
      "           surpassed 1.00\n",
      "       opportunities 1.00\n",
      "              pegged 1.00\n",
      "Bad words\t     P(high sentiment | word)\n",
      "               court 0.81\n",
      "               class 0.81\n",
      "                fell 0.81\n",
      "             housing 0.80\n",
      "             futures 0.80\n",
      "               filed 0.80\n",
      "              rights 0.79\n",
      "                debt 0.79\n",
      "             ukraine 0.77\n",
      "               biden 0.75\n",
      "           plaintiff 0.75\n",
      "              cramer 0.75\n",
      "             lawsuit 0.74\n",
      "              falcon 0.73\n",
      "              failed 0.73\n",
      "               crude 0.70\n",
      "              russia 0.67\n",
      "          defendants 0.65\n",
      "          misleading 0.64\n",
      "                fear 0.57\n"
     ]
    }
   ],
   "source": [
    "words = np.array(vectorizer.get_feature_names_out())\n",
    "\n",
    "x = np.eye(X_test.shape[1])\n",
    "probs = clf.predict_log_proba(x)[:,0]\n",
    "ind = np.argsort(probs)\n",
    "\n",
    "good_words = words[ind[:20]]\n",
    "bad_words = words[ind[-20:]]\n",
    "\n",
    "good_prob = probs[ind[:20]]\n",
    "bad_prob = probs[ind[-20:]]\n",
    "\n",
    "print(\"Good words\\t     P(high sentiment | word)\")\n",
    "for w, p in zip(good_words, good_prob):\n",
    "    print(\"{:>20}\".format(w), \"{:.2f}\".format(1 - np.exp(p)))\n",
    "    \n",
    "print(\"Bad words\\t     P(high sentiment | word)\")\n",
    "for w, p in zip(bad_words, bad_prob):\n",
    "    print(\"{:>20}\".format(w), \"{:.2f}\".format(1 - np.exp(p)))"
   ]
  },
  {
   "cell_type": "code",
   "execution_count": 128,
   "id": "5350fe60",
   "metadata": {},
   "outputs": [],
   "source": [
    "good_prob = (1 - np.exp(good_prob))\n",
    "bad_prob = (1 - np.exp(bad_prob))"
   ]
  },
  {
   "cell_type": "code",
   "execution_count": 132,
   "id": "ac451efe",
   "metadata": {},
   "outputs": [
    {
     "data": {
      "text/html": [
       "<div>\n",
       "<style scoped>\n",
       "    .dataframe tbody tr th:only-of-type {\n",
       "        vertical-align: middle;\n",
       "    }\n",
       "\n",
       "    .dataframe tbody tr th {\n",
       "        vertical-align: top;\n",
       "    }\n",
       "\n",
       "    .dataframe thead th {\n",
       "        text-align: right;\n",
       "    }\n",
       "</style>\n",
       "<table border=\"1\" class=\"dataframe\">\n",
       "  <thead>\n",
       "    <tr style=\"text-align: right;\">\n",
       "      <th></th>\n",
       "      <th>word</th>\n",
       "      <th>probability</th>\n",
       "    </tr>\n",
       "  </thead>\n",
       "  <tbody>\n",
       "    <tr>\n",
       "      <th>0</th>\n",
       "      <td>court</td>\n",
       "      <td>0.814771</td>\n",
       "    </tr>\n",
       "    <tr>\n",
       "      <th>1</th>\n",
       "      <td>class</td>\n",
       "      <td>0.814396</td>\n",
       "    </tr>\n",
       "    <tr>\n",
       "      <th>2</th>\n",
       "      <td>fell</td>\n",
       "      <td>0.813555</td>\n",
       "    </tr>\n",
       "    <tr>\n",
       "      <th>3</th>\n",
       "      <td>housing</td>\n",
       "      <td>0.802341</td>\n",
       "    </tr>\n",
       "    <tr>\n",
       "      <th>4</th>\n",
       "      <td>futures</td>\n",
       "      <td>0.801251</td>\n",
       "    </tr>\n",
       "    <tr>\n",
       "      <th>5</th>\n",
       "      <td>filed</td>\n",
       "      <td>0.800502</td>\n",
       "    </tr>\n",
       "    <tr>\n",
       "      <th>6</th>\n",
       "      <td>rights</td>\n",
       "      <td>0.787389</td>\n",
       "    </tr>\n",
       "    <tr>\n",
       "      <th>7</th>\n",
       "      <td>debt</td>\n",
       "      <td>0.787161</td>\n",
       "    </tr>\n",
       "    <tr>\n",
       "      <th>8</th>\n",
       "      <td>ukraine</td>\n",
       "      <td>0.768223</td>\n",
       "    </tr>\n",
       "    <tr>\n",
       "      <th>9</th>\n",
       "      <td>biden</td>\n",
       "      <td>0.754843</td>\n",
       "    </tr>\n",
       "    <tr>\n",
       "      <th>10</th>\n",
       "      <td>plaintiff</td>\n",
       "      <td>0.751073</td>\n",
       "    </tr>\n",
       "    <tr>\n",
       "      <th>11</th>\n",
       "      <td>cramer</td>\n",
       "      <td>0.750915</td>\n",
       "    </tr>\n",
       "    <tr>\n",
       "      <th>12</th>\n",
       "      <td>lawsuit</td>\n",
       "      <td>0.738893</td>\n",
       "    </tr>\n",
       "    <tr>\n",
       "      <th>13</th>\n",
       "      <td>falcon</td>\n",
       "      <td>0.728038</td>\n",
       "    </tr>\n",
       "    <tr>\n",
       "      <th>14</th>\n",
       "      <td>failed</td>\n",
       "      <td>0.726175</td>\n",
       "    </tr>\n",
       "    <tr>\n",
       "      <th>15</th>\n",
       "      <td>crude</td>\n",
       "      <td>0.700571</td>\n",
       "    </tr>\n",
       "    <tr>\n",
       "      <th>16</th>\n",
       "      <td>russia</td>\n",
       "      <td>0.665005</td>\n",
       "    </tr>\n",
       "    <tr>\n",
       "      <th>17</th>\n",
       "      <td>defendants</td>\n",
       "      <td>0.654167</td>\n",
       "    </tr>\n",
       "    <tr>\n",
       "      <th>18</th>\n",
       "      <td>misleading</td>\n",
       "      <td>0.636024</td>\n",
       "    </tr>\n",
       "    <tr>\n",
       "      <th>19</th>\n",
       "      <td>fear</td>\n",
       "      <td>0.567789</td>\n",
       "    </tr>\n",
       "  </tbody>\n",
       "</table>\n",
       "</div>"
      ],
      "text/plain": [
       "          word  probability\n",
       "0        court     0.814771\n",
       "1        class     0.814396\n",
       "2         fell     0.813555\n",
       "3      housing     0.802341\n",
       "4      futures     0.801251\n",
       "5        filed     0.800502\n",
       "6       rights     0.787389\n",
       "7         debt     0.787161\n",
       "8      ukraine     0.768223\n",
       "9        biden     0.754843\n",
       "10   plaintiff     0.751073\n",
       "11      cramer     0.750915\n",
       "12     lawsuit     0.738893\n",
       "13      falcon     0.728038\n",
       "14      failed     0.726175\n",
       "15       crude     0.700571\n",
       "16      russia     0.665005\n",
       "17  defendants     0.654167\n",
       "18  misleading     0.636024\n",
       "19        fear     0.567789"
      ]
     },
     "execution_count": 132,
     "metadata": {},
     "output_type": "execute_result"
    }
   ],
   "source": [
    "bad_probs_df = pd.DataFrame(zip(bad_words, bad_prob), columns=['word', 'probability'])\n",
    "bad_probs_df"
   ]
  },
  {
   "cell_type": "code",
   "execution_count": 131,
   "id": "0191adbb",
   "metadata": {},
   "outputs": [
    {
     "data": {
      "text/html": [
       "<div>\n",
       "<style scoped>\n",
       "    .dataframe tbody tr th:only-of-type {\n",
       "        vertical-align: middle;\n",
       "    }\n",
       "\n",
       "    .dataframe tbody tr th {\n",
       "        vertical-align: top;\n",
       "    }\n",
       "\n",
       "    .dataframe thead th {\n",
       "        text-align: right;\n",
       "    }\n",
       "</style>\n",
       "<table border=\"1\" class=\"dataframe\">\n",
       "  <thead>\n",
       "    <tr style=\"text-align: right;\">\n",
       "      <th></th>\n",
       "      <th>word</th>\n",
       "      <th>probability</th>\n",
       "    </tr>\n",
       "  </thead>\n",
       "  <tbody>\n",
       "    <tr>\n",
       "      <th>0</th>\n",
       "      <td>esp</td>\n",
       "      <td>0.999670</td>\n",
       "    </tr>\n",
       "    <tr>\n",
       "      <th>1</th>\n",
       "      <td>etfs</td>\n",
       "      <td>0.999040</td>\n",
       "    </tr>\n",
       "    <tr>\n",
       "      <th>2</th>\n",
       "      <td>trailing</td>\n",
       "      <td>0.998887</td>\n",
       "    </tr>\n",
       "    <tr>\n",
       "      <th>3</th>\n",
       "      <td>deliver</td>\n",
       "      <td>0.998563</td>\n",
       "    </tr>\n",
       "    <tr>\n",
       "      <th>4</th>\n",
       "      <td>rank</td>\n",
       "      <td>0.998464</td>\n",
       "    </tr>\n",
       "    <tr>\n",
       "      <th>5</th>\n",
       "      <td>zacks</td>\n",
       "      <td>0.998390</td>\n",
       "    </tr>\n",
       "    <tr>\n",
       "      <th>6</th>\n",
       "      <td>jason</td>\n",
       "      <td>0.998251</td>\n",
       "    </tr>\n",
       "    <tr>\n",
       "      <th>7</th>\n",
       "      <td>motley</td>\n",
       "      <td>0.998226</td>\n",
       "    </tr>\n",
       "    <tr>\n",
       "      <th>8</th>\n",
       "      <td>galaxy</td>\n",
       "      <td>0.998221</td>\n",
       "    </tr>\n",
       "    <tr>\n",
       "      <th>9</th>\n",
       "      <td>tobereported</td>\n",
       "      <td>0.998110</td>\n",
       "    </tr>\n",
       "    <tr>\n",
       "      <th>10</th>\n",
       "      <td>revisions</td>\n",
       "      <td>0.998017</td>\n",
       "    </tr>\n",
       "    <tr>\n",
       "      <th>11</th>\n",
       "      <td>dylan</td>\n",
       "      <td>0.997950</td>\n",
       "    </tr>\n",
       "    <tr>\n",
       "      <th>12</th>\n",
       "      <td>expense</td>\n",
       "      <td>0.997889</td>\n",
       "    </tr>\n",
       "    <tr>\n",
       "      <th>13</th>\n",
       "      <td>yeah</td>\n",
       "      <td>0.997718</td>\n",
       "    </tr>\n",
       "    <tr>\n",
       "      <th>14</th>\n",
       "      <td>score</td>\n",
       "      <td>0.997612</td>\n",
       "    </tr>\n",
       "    <tr>\n",
       "      <th>15</th>\n",
       "      <td>style</td>\n",
       "      <td>0.997542</td>\n",
       "    </tr>\n",
       "    <tr>\n",
       "      <th>16</th>\n",
       "      <td>efficiency</td>\n",
       "      <td>0.997496</td>\n",
       "    </tr>\n",
       "    <tr>\n",
       "      <th>17</th>\n",
       "      <td>surpassed</td>\n",
       "      <td>0.997486</td>\n",
       "    </tr>\n",
       "    <tr>\n",
       "      <th>18</th>\n",
       "      <td>opportunities</td>\n",
       "      <td>0.997456</td>\n",
       "    </tr>\n",
       "    <tr>\n",
       "      <th>19</th>\n",
       "      <td>pegged</td>\n",
       "      <td>0.997400</td>\n",
       "    </tr>\n",
       "  </tbody>\n",
       "</table>\n",
       "</div>"
      ],
      "text/plain": [
       "             word  probability\n",
       "0             esp     0.999670\n",
       "1            etfs     0.999040\n",
       "2        trailing     0.998887\n",
       "3         deliver     0.998563\n",
       "4            rank     0.998464\n",
       "5           zacks     0.998390\n",
       "6           jason     0.998251\n",
       "7          motley     0.998226\n",
       "8          galaxy     0.998221\n",
       "9    tobereported     0.998110\n",
       "10      revisions     0.998017\n",
       "11          dylan     0.997950\n",
       "12        expense     0.997889\n",
       "13           yeah     0.997718\n",
       "14          score     0.997612\n",
       "15          style     0.997542\n",
       "16     efficiency     0.997496\n",
       "17      surpassed     0.997486\n",
       "18  opportunities     0.997456\n",
       "19         pegged     0.997400"
      ]
     },
     "execution_count": 131,
     "metadata": {},
     "output_type": "execute_result"
    }
   ],
   "source": [
    "good_probs_df = pd.DataFrame(zip(good_words, good_prob), columns=['word','probability'])\n",
    "good_probs_df"
   ]
  },
  {
   "cell_type": "code",
   "execution_count": 118,
   "id": "421e02ef",
   "metadata": {},
   "outputs": [
    {
     "data": {
      "text/plain": [
       "array([ 725,  736, 2296, ...,  566, 1382,  820])"
      ]
     },
     "execution_count": 118,
     "metadata": {},
     "output_type": "execute_result"
    }
   ],
   "source": [
    "words\n",
    "probs\n",
    "ind"
   ]
  },
  {
   "cell_type": "code",
   "execution_count": 67,
   "id": "79ab41e0",
   "metadata": {},
   "outputs": [],
   "source": [
    "words_array = np.concatenate([good_words, bad_words])"
   ]
  },
  {
   "cell_type": "code",
   "execution_count": 68,
   "id": "fb173f82",
   "metadata": {},
   "outputs": [
    {
     "data": {
      "text/plain": [
       "array(['esp', 'etfs', 'trailing', 'deliver', 'rank', 'zacks', 'jason',\n",
       "       'motley', 'galaxy', 'tobereported', 'revisions', 'dylan',\n",
       "       'expense', 'yeah', 'score', 'style', 'efficiency', 'surpassed',\n",
       "       'opportunities', 'pegged', 'court', 'class', 'fell', 'housing',\n",
       "       'futures', 'filed', 'rights', 'debt', 'ukraine', 'biden',\n",
       "       'plaintiff', 'cramer', 'lawsuit', 'falcon', 'failed', 'crude',\n",
       "       'russia', 'defendants', 'misleading', 'fear'], dtype=object)"
      ]
     },
     "execution_count": 68,
     "metadata": {},
     "output_type": "execute_result"
    }
   ],
   "source": [
    "words_array"
   ]
  },
  {
   "cell_type": "code",
   "execution_count": null,
   "id": "7a778ae1",
   "metadata": {},
   "outputs": [],
   "source": []
  },
  {
   "cell_type": "code",
   "execution_count": null,
   "id": "0bdbd8ac",
   "metadata": {},
   "outputs": [],
   "source": []
  },
  {
   "cell_type": "markdown",
   "id": "98fee9d6",
   "metadata": {},
   "source": [
    "<h1> Vectorizing"
   ]
  },
  {
   "cell_type": "code",
   "execution_count": 69,
   "id": "fb019bf6",
   "metadata": {},
   "outputs": [],
   "source": [
    "from sklearn.feature_extraction.text import CountVectorizer, TfidfVectorizer\n",
    "from vaderSentiment.vaderSentiment import SentimentIntensityAnalyzer"
   ]
  },
  {
   "cell_type": "markdown",
   "id": "ccf0f621",
   "metadata": {},
   "source": [
    "<h2> CountVectorizer"
   ]
  },
  {
   "cell_type": "code",
   "execution_count": 106,
   "id": "adb4152c",
   "metadata": {},
   "outputs": [],
   "source": [
    "c_vectorizer = CountVectorizer(stop_words='english', min_df= 5)"
   ]
  },
  {
   "cell_type": "code",
   "execution_count": 107,
   "id": "24d8353e",
   "metadata": {},
   "outputs": [],
   "source": [
    "c_X = c_vectorizer.fit_transform(lemmatized_docs)"
   ]
  },
  {
   "cell_type": "code",
   "execution_count": 108,
   "id": "e656d492",
   "metadata": {},
   "outputs": [],
   "source": [
    "c_feature_names = c_vectorizer.get_feature_names_out()"
   ]
  },
  {
   "cell_type": "code",
   "execution_count": 109,
   "id": "6aa44819",
   "metadata": {},
   "outputs": [],
   "source": [
    "c_Xdense = c_X.toarray()"
   ]
  },
  {
   "cell_type": "code",
   "execution_count": 110,
   "id": "16f4427a",
   "metadata": {},
   "outputs": [],
   "source": [
    "c_df = pd.DataFrame(c_Xdense, columns = c_feature_names)"
   ]
  },
  {
   "cell_type": "code",
   "execution_count": 111,
   "id": "173915d2",
   "metadata": {},
   "outputs": [],
   "source": [
    "sum_scores = np.sum(c_Xdense, axis=0)"
   ]
  },
  {
   "cell_type": "code",
   "execution_count": 112,
   "id": "80136a9a",
   "metadata": {},
   "outputs": [],
   "source": [
    "count_df = pd.DataFrame({'word': c_feature_names, 'sum_score': sum_scores})"
   ]
  },
  {
   "cell_type": "code",
   "execution_count": 113,
   "id": "2866a03f",
   "metadata": {
    "scrolled": true
   },
   "outputs": [
    {
     "data": {
      "text/html": [
       "<div>\n",
       "<style scoped>\n",
       "    .dataframe tbody tr th:only-of-type {\n",
       "        vertical-align: middle;\n",
       "    }\n",
       "\n",
       "    .dataframe tbody tr th {\n",
       "        vertical-align: top;\n",
       "    }\n",
       "\n",
       "    .dataframe thead th {\n",
       "        text-align: right;\n",
       "    }\n",
       "</style>\n",
       "<table border=\"1\" class=\"dataframe\">\n",
       "  <thead>\n",
       "    <tr style=\"text-align: right;\">\n",
       "      <th></th>\n",
       "      <th>word</th>\n",
       "      <th>sum_score</th>\n",
       "    </tr>\n",
       "  </thead>\n",
       "  <tbody>\n",
       "    <tr>\n",
       "      <th>3152</th>\n",
       "      <td>company</td>\n",
       "      <td>43102</td>\n",
       "    </tr>\n",
       "    <tr>\n",
       "      <th>5074</th>\n",
       "      <td>earnings</td>\n",
       "      <td>42532</td>\n",
       "    </tr>\n",
       "    <tr>\n",
       "      <th>18757</th>\n",
       "      <td>year</td>\n",
       "      <td>39950</td>\n",
       "    </tr>\n",
       "    <tr>\n",
       "      <th>16101</th>\n",
       "      <td>stock</td>\n",
       "      <td>37897</td>\n",
       "    </tr>\n",
       "    <tr>\n",
       "      <th>7202</th>\n",
       "      <td>ha</td>\n",
       "      <td>36109</td>\n",
       "    </tr>\n",
       "  </tbody>\n",
       "</table>\n",
       "</div>"
      ],
      "text/plain": [
       "           word  sum_score\n",
       "3152    company      43102\n",
       "5074   earnings      42532\n",
       "18757      year      39950\n",
       "16101     stock      37897\n",
       "7202         ha      36109"
      ]
     },
     "execution_count": 113,
     "metadata": {},
     "output_type": "execute_result"
    }
   ],
   "source": [
    "count_df = count_df.sort_values(by='sum_score', ascending=False)\n",
    "count_df.head()"
   ]
  },
  {
   "cell_type": "code",
   "execution_count": 114,
   "id": "06bd363d",
   "metadata": {},
   "outputs": [
    {
     "data": {
      "text/plain": [
       "Text(0.5, 0, 'Count')"
      ]
     },
     "execution_count": 114,
     "metadata": {},
     "output_type": "execute_result"
    },
    {
     "data": {
      "image/png": "[encoded data removed]",
      "text/plain": [
       "<Figure size 640x480 with 1 Axes>"
      ]
     },
     "metadata": {},
     "output_type": "display_data"
    }
   ],
   "source": [
    "plt.barh(count_df['word'][0:10], count_df['sum_score'][0:10])\n",
    "plt.gca().invert_yaxis()\n",
    "plt.title('Most words used')\n",
    "plt.ylabel('Words')\n",
    "plt.xlabel('Count')"
   ]
  },
  {
   "cell_type": "code",
   "execution_count": null,
   "id": "2e7e0fbc",
   "metadata": {},
   "outputs": [],
   "source": []
  },
  {
   "cell_type": "code",
   "execution_count": 118,
   "id": "7db6d70e",
   "metadata": {},
   "outputs": [],
   "source": [
    "key_words = ['buy', 'sale', 'strong', 'beat', 'higher', 'increase', 'positive', 'gain', 'lower', 'trend', \n",
    "            'big', 'bullish', 'increased', 'potential', 'valuation', 'cost', 'decline', 'good', 'bearish',\n",
    "            'sell', 'major', 'loss', 'profit', 'low', 'growing', 'indicating', 'despite', 'leading', 'momentum',\n",
    "            'exposure', 'rising', 'grow', 'rise', 'solution', 'bad', 'worse', 'negative', 'poor']"
   ]
  },
  {
   "cell_type": "code",
   "execution_count": 115,
   "id": "c7720607",
   "metadata": {},
   "outputs": [],
   "source": [
    "c_df.to_csv('count_vectorizer_matrix.csv')"
   ]
  },
  {
   "cell_type": "code",
   "execution_count": 185,
   "id": "be364ed4",
   "metadata": {},
   "outputs": [
    {
     "data": {
      "text/html": [
       "<div>\n",
       "<style scoped>\n",
       "    .dataframe tbody tr th:only-of-type {\n",
       "        vertical-align: middle;\n",
       "    }\n",
       "\n",
       "    .dataframe tbody tr th {\n",
       "        vertical-align: top;\n",
       "    }\n",
       "\n",
       "    .dataframe thead th {\n",
       "        text-align: right;\n",
       "    }\n",
       "</style>\n",
       "<table border=\"1\" class=\"dataframe\">\n",
       "  <thead>\n",
       "    <tr style=\"text-align: right;\">\n",
       "      <th>word</th>\n",
       "      <th>aapl</th>\n",
       "      <th>ability</th>\n",
       "      <th>able</th>\n",
       "      <th>abnb</th>\n",
       "      <th>abr</th>\n",
       "      <th>absolutely</th>\n",
       "      <th>accelerate</th>\n",
       "      <th>accelerated</th>\n",
       "      <th>accelerating</th>\n",
       "      <th>acceleration</th>\n",
       "      <th>...</th>\n",
       "      <th>young</th>\n",
       "      <th>youre</th>\n",
       "      <th>youtube</th>\n",
       "      <th>youve</th>\n",
       "      <th>yoy</th>\n",
       "      <th>ytd</th>\n",
       "      <th>zacks</th>\n",
       "      <th>zackscom</th>\n",
       "      <th>zero</th>\n",
       "      <th>zoom</th>\n",
       "    </tr>\n",
       "  </thead>\n",
       "  <tbody>\n",
       "    <tr>\n",
       "      <th>sum_score</th>\n",
       "      <td>1914</td>\n",
       "      <td>1458</td>\n",
       "      <td>2049</td>\n",
       "      <td>606</td>\n",
       "      <td>339</td>\n",
       "      <td>352</td>\n",
       "      <td>682</td>\n",
       "      <td>549</td>\n",
       "      <td>395</td>\n",
       "      <td>277</td>\n",
       "      <td>...</td>\n",
       "      <td>236</td>\n",
       "      <td>2877</td>\n",
       "      <td>1004</td>\n",
       "      <td>762</td>\n",
       "      <td>477</td>\n",
       "      <td>303</td>\n",
       "      <td>28940</td>\n",
       "      <td>494</td>\n",
       "      <td>587</td>\n",
       "      <td>510</td>\n",
       "    </tr>\n",
       "  </tbody>\n",
       "</table>\n",
       "<p>1 rows × 2500 columns</p>\n",
       "</div>"
      ],
      "text/plain": [
       "word       aapl  ability  able  abnb  abr  absolutely  accelerate  \\\n",
       "sum_score  1914     1458  2049   606  339         352         682   \n",
       "\n",
       "word       accelerated  accelerating  acceleration  ...  young  youre  \\\n",
       "sum_score          549           395           277  ...    236   2877   \n",
       "\n",
       "word       youtube  youve  yoy  ytd  zacks  zackscom  zero  zoom  \n",
       "sum_score     1004    762  477  303  28940       494   587   510  \n",
       "\n",
       "[1 rows x 2500 columns]"
      ]
     },
     "execution_count": 185,
     "metadata": {},
     "output_type": "execute_result"
    }
   ],
   "source": [
    "count_df.set_index('word').T"
   ]
  },
  {
   "cell_type": "code",
   "execution_count": null,
   "id": "6660ade3",
   "metadata": {},
   "outputs": [],
   "source": []
  },
  {
   "cell_type": "code",
   "execution_count": null,
   "id": "c7a2a6d8",
   "metadata": {},
   "outputs": [],
   "source": []
  },
  {
   "cell_type": "markdown",
   "id": "713b2947",
   "metadata": {},
   "source": [
    "<h2>TFIDF Vectorizer"
   ]
  },
  {
   "cell_type": "code",
   "execution_count": 93,
   "id": "28156d56",
   "metadata": {},
   "outputs": [],
   "source": [
    "t_vectorizer = TfidfVectorizer(stop_words='english', min_df=5)"
   ]
  },
  {
   "cell_type": "code",
   "execution_count": 94,
   "id": "31d45046",
   "metadata": {},
   "outputs": [],
   "source": [
    "X = t_vectorizer.fit_transform(lemmatized_docs)"
   ]
  },
  {
   "cell_type": "code",
   "execution_count": 95,
   "id": "84468073",
   "metadata": {},
   "outputs": [],
   "source": [
    "feature_names = t_vectorizer.get_feature_names_out()"
   ]
  },
  {
   "cell_type": "code",
   "execution_count": 96,
   "id": "23bf5780",
   "metadata": {},
   "outputs": [],
   "source": [
    "X_dense = X.todense()"
   ]
  },
  {
   "cell_type": "code",
   "execution_count": 97,
   "id": "87beb9ab",
   "metadata": {},
   "outputs": [],
   "source": [
    "df = pd.DataFrame(X_dense, columns=feature_names)"
   ]
  },
  {
   "cell_type": "code",
   "execution_count": 98,
   "id": "e0719a06",
   "metadata": {},
   "outputs": [
    {
     "data": {
      "text/html": [
       "<div>\n",
       "<style scoped>\n",
       "    .dataframe tbody tr th:only-of-type {\n",
       "        vertical-align: middle;\n",
       "    }\n",
       "\n",
       "    .dataframe tbody tr th {\n",
       "        vertical-align: top;\n",
       "    }\n",
       "\n",
       "    .dataframe thead th {\n",
       "        text-align: right;\n",
       "    }\n",
       "</style>\n",
       "<table border=\"1\" class=\"dataframe\">\n",
       "  <thead>\n",
       "    <tr style=\"text-align: right;\">\n",
       "      <th></th>\n",
       "      <th>aa</th>\n",
       "      <th>aaa</th>\n",
       "      <th>aal</th>\n",
       "      <th>aap</th>\n",
       "      <th>aapl</th>\n",
       "      <th>aapls</th>\n",
       "      <th>aaron</th>\n",
       "      <th>ab</th>\n",
       "      <th>abandon</th>\n",
       "      <th>abandoned</th>\n",
       "      <th>...</th>\n",
       "      <th>zucker</th>\n",
       "      <th>zuckerberg</th>\n",
       "      <th>zuckerbergled</th>\n",
       "      <th>zuckerbergs</th>\n",
       "      <th>zukin</th>\n",
       "      <th>zurich</th>\n",
       "      <th>zynga</th>\n",
       "      <th>zyngas</th>\n",
       "      <th>zynq</th>\n",
       "      <th>zyx</th>\n",
       "    </tr>\n",
       "  </thead>\n",
       "  <tbody>\n",
       "    <tr>\n",
       "      <th>0</th>\n",
       "      <td>0.0</td>\n",
       "      <td>0.0</td>\n",
       "      <td>0.0</td>\n",
       "      <td>0.0</td>\n",
       "      <td>0.027001</td>\n",
       "      <td>0.0</td>\n",
       "      <td>0.0</td>\n",
       "      <td>0.0</td>\n",
       "      <td>0.0</td>\n",
       "      <td>0.0</td>\n",
       "      <td>...</td>\n",
       "      <td>0.0</td>\n",
       "      <td>0.0</td>\n",
       "      <td>0.0</td>\n",
       "      <td>0.0</td>\n",
       "      <td>0.0</td>\n",
       "      <td>0.0</td>\n",
       "      <td>0.0</td>\n",
       "      <td>0.0</td>\n",
       "      <td>0.0</td>\n",
       "      <td>0.0</td>\n",
       "    </tr>\n",
       "    <tr>\n",
       "      <th>1</th>\n",
       "      <td>0.0</td>\n",
       "      <td>0.0</td>\n",
       "      <td>0.0</td>\n",
       "      <td>0.0</td>\n",
       "      <td>0.028503</td>\n",
       "      <td>0.0</td>\n",
       "      <td>0.0</td>\n",
       "      <td>0.0</td>\n",
       "      <td>0.0</td>\n",
       "      <td>0.0</td>\n",
       "      <td>...</td>\n",
       "      <td>0.0</td>\n",
       "      <td>0.0</td>\n",
       "      <td>0.0</td>\n",
       "      <td>0.0</td>\n",
       "      <td>0.0</td>\n",
       "      <td>0.0</td>\n",
       "      <td>0.0</td>\n",
       "      <td>0.0</td>\n",
       "      <td>0.0</td>\n",
       "      <td>0.0</td>\n",
       "    </tr>\n",
       "    <tr>\n",
       "      <th>2</th>\n",
       "      <td>0.0</td>\n",
       "      <td>0.0</td>\n",
       "      <td>0.0</td>\n",
       "      <td>0.0</td>\n",
       "      <td>0.028924</td>\n",
       "      <td>0.0</td>\n",
       "      <td>0.0</td>\n",
       "      <td>0.0</td>\n",
       "      <td>0.0</td>\n",
       "      <td>0.0</td>\n",
       "      <td>...</td>\n",
       "      <td>0.0</td>\n",
       "      <td>0.0</td>\n",
       "      <td>0.0</td>\n",
       "      <td>0.0</td>\n",
       "      <td>0.0</td>\n",
       "      <td>0.0</td>\n",
       "      <td>0.0</td>\n",
       "      <td>0.0</td>\n",
       "      <td>0.0</td>\n",
       "      <td>0.0</td>\n",
       "    </tr>\n",
       "    <tr>\n",
       "      <th>3</th>\n",
       "      <td>0.0</td>\n",
       "      <td>0.0</td>\n",
       "      <td>0.0</td>\n",
       "      <td>0.0</td>\n",
       "      <td>0.032103</td>\n",
       "      <td>0.0</td>\n",
       "      <td>0.0</td>\n",
       "      <td>0.0</td>\n",
       "      <td>0.0</td>\n",
       "      <td>0.0</td>\n",
       "      <td>...</td>\n",
       "      <td>0.0</td>\n",
       "      <td>0.0</td>\n",
       "      <td>0.0</td>\n",
       "      <td>0.0</td>\n",
       "      <td>0.0</td>\n",
       "      <td>0.0</td>\n",
       "      <td>0.0</td>\n",
       "      <td>0.0</td>\n",
       "      <td>0.0</td>\n",
       "      <td>0.0</td>\n",
       "    </tr>\n",
       "    <tr>\n",
       "      <th>4</th>\n",
       "      <td>0.0</td>\n",
       "      <td>0.0</td>\n",
       "      <td>0.0</td>\n",
       "      <td>0.0</td>\n",
       "      <td>0.033185</td>\n",
       "      <td>0.0</td>\n",
       "      <td>0.0</td>\n",
       "      <td>0.0</td>\n",
       "      <td>0.0</td>\n",
       "      <td>0.0</td>\n",
       "      <td>...</td>\n",
       "      <td>0.0</td>\n",
       "      <td>0.0</td>\n",
       "      <td>0.0</td>\n",
       "      <td>0.0</td>\n",
       "      <td>0.0</td>\n",
       "      <td>0.0</td>\n",
       "      <td>0.0</td>\n",
       "      <td>0.0</td>\n",
       "      <td>0.0</td>\n",
       "      <td>0.0</td>\n",
       "    </tr>\n",
       "  </tbody>\n",
       "</table>\n",
       "<p>5 rows × 18897 columns</p>\n",
       "</div>"
      ],
      "text/plain": [
       "    aa  aaa  aal  aap      aapl  aapls  aaron   ab  abandon  abandoned  ...  \\\n",
       "0  0.0  0.0  0.0  0.0  0.027001    0.0    0.0  0.0      0.0        0.0  ...   \n",
       "1  0.0  0.0  0.0  0.0  0.028503    0.0    0.0  0.0      0.0        0.0  ...   \n",
       "2  0.0  0.0  0.0  0.0  0.028924    0.0    0.0  0.0      0.0        0.0  ...   \n",
       "3  0.0  0.0  0.0  0.0  0.032103    0.0    0.0  0.0      0.0        0.0  ...   \n",
       "4  0.0  0.0  0.0  0.0  0.033185    0.0    0.0  0.0      0.0        0.0  ...   \n",
       "\n",
       "   zucker  zuckerberg  zuckerbergled  zuckerbergs  zukin  zurich  zynga  \\\n",
       "0     0.0         0.0            0.0          0.0    0.0     0.0    0.0   \n",
       "1     0.0         0.0            0.0          0.0    0.0     0.0    0.0   \n",
       "2     0.0         0.0            0.0          0.0    0.0     0.0    0.0   \n",
       "3     0.0         0.0            0.0          0.0    0.0     0.0    0.0   \n",
       "4     0.0         0.0            0.0          0.0    0.0     0.0    0.0   \n",
       "\n",
       "   zyngas  zynq  zyx  \n",
       "0     0.0   0.0  0.0  \n",
       "1     0.0   0.0  0.0  \n",
       "2     0.0   0.0  0.0  \n",
       "3     0.0   0.0  0.0  \n",
       "4     0.0   0.0  0.0  \n",
       "\n",
       "[5 rows x 18897 columns]"
      ]
     },
     "execution_count": 98,
     "metadata": {},
     "output_type": "execute_result"
    }
   ],
   "source": [
    "df.head()"
   ]
  },
  {
   "cell_type": "code",
   "execution_count": 99,
   "id": "b79c1870",
   "metadata": {},
   "outputs": [
    {
     "data": {
      "text/html": [
       "<div>\n",
       "<style scoped>\n",
       "    .dataframe tbody tr th:only-of-type {\n",
       "        vertical-align: middle;\n",
       "    }\n",
       "\n",
       "    .dataframe tbody tr th {\n",
       "        vertical-align: top;\n",
       "    }\n",
       "\n",
       "    .dataframe thead th {\n",
       "        text-align: right;\n",
       "    }\n",
       "</style>\n",
       "<table border=\"1\" class=\"dataframe\">\n",
       "  <thead>\n",
       "    <tr style=\"text-align: right;\">\n",
       "      <th></th>\n",
       "      <th>0</th>\n",
       "    </tr>\n",
       "  </thead>\n",
       "  <tbody>\n",
       "    <tr>\n",
       "      <th>aeis</th>\n",
       "      <td>0.358101</td>\n",
       "    </tr>\n",
       "    <tr>\n",
       "      <th>revenue</th>\n",
       "      <td>0.215920</td>\n",
       "    </tr>\n",
       "    <tr>\n",
       "      <th>million</th>\n",
       "      <td>0.211759</td>\n",
       "    </tr>\n",
       "    <tr>\n",
       "      <th>year</th>\n",
       "      <td>0.205814</td>\n",
       "    </tr>\n",
       "    <tr>\n",
       "      <th>declined</th>\n",
       "      <td>0.187188</td>\n",
       "    </tr>\n",
       "    <tr>\n",
       "      <th>energy</th>\n",
       "      <td>0.179986</td>\n",
       "    </tr>\n",
       "    <tr>\n",
       "      <th>zacks</th>\n",
       "      <td>0.174377</td>\n",
       "    </tr>\n",
       "    <tr>\n",
       "      <th>sequentially</th>\n",
       "      <td>0.173005</td>\n",
       "    </tr>\n",
       "    <tr>\n",
       "      <th>nongaap</th>\n",
       "      <td>0.168899</td>\n",
       "    </tr>\n",
       "    <tr>\n",
       "      <th>advanced</th>\n",
       "      <td>0.167388</td>\n",
       "    </tr>\n",
       "    <tr>\n",
       "      <th>aeiss</th>\n",
       "      <td>0.154411</td>\n",
       "    </tr>\n",
       "    <tr>\n",
       "      <th>everest</th>\n",
       "      <td>0.146939</td>\n",
       "    </tr>\n",
       "    <tr>\n",
       "      <th>rf</th>\n",
       "      <td>0.117277</td>\n",
       "    </tr>\n",
       "    <tr>\n",
       "      <th>consensus</th>\n",
       "      <td>0.116932</td>\n",
       "    </tr>\n",
       "    <tr>\n",
       "      <th>bps</th>\n",
       "      <td>0.114300</td>\n",
       "    </tr>\n",
       "    <tr>\n",
       "      <th>server</th>\n",
       "      <td>0.106463</td>\n",
       "    </tr>\n",
       "    <tr>\n",
       "      <th>aug</th>\n",
       "      <td>0.102959</td>\n",
       "    </tr>\n",
       "    <tr>\n",
       "      <th>figure</th>\n",
       "      <td>0.102694</td>\n",
       "    </tr>\n",
       "    <tr>\n",
       "      <th>quarter</th>\n",
       "      <td>0.092379</td>\n",
       "    </tr>\n",
       "    <tr>\n",
       "      <th>basis</th>\n",
       "      <td>0.091930</td>\n",
       "    </tr>\n",
       "    <tr>\n",
       "      <th>increased</th>\n",
       "      <td>0.091742</td>\n",
       "    </tr>\n",
       "    <tr>\n",
       "      <th>secondquarter</th>\n",
       "      <td>0.086905</td>\n",
       "    </tr>\n",
       "    <tr>\n",
       "      <th>market</th>\n",
       "      <td>0.085673</td>\n",
       "    </tr>\n",
       "    <tr>\n",
       "      <th>estimate</th>\n",
       "      <td>0.085456</td>\n",
       "    </tr>\n",
       "    <tr>\n",
       "      <th>total</th>\n",
       "      <td>0.084971</td>\n",
       "    </tr>\n",
       "    <tr>\n",
       "      <th>cent</th>\n",
       "      <td>0.084553</td>\n",
       "    </tr>\n",
       "    <tr>\n",
       "      <th>ai</th>\n",
       "      <td>0.083924</td>\n",
       "    </tr>\n",
       "    <tr>\n",
       "      <th>medical</th>\n",
       "      <td>0.082374</td>\n",
       "    </tr>\n",
       "    <tr>\n",
       "      <th>demand</th>\n",
       "      <td>0.081437</td>\n",
       "    </tr>\n",
       "    <tr>\n",
       "      <th>attributed</th>\n",
       "      <td>0.080895</td>\n",
       "    </tr>\n",
       "  </tbody>\n",
       "</table>\n",
       "</div>"
      ],
      "text/plain": [
       "                      0\n",
       "aeis           0.358101\n",
       "revenue        0.215920\n",
       "million        0.211759\n",
       "year           0.205814\n",
       "declined       0.187188\n",
       "energy         0.179986\n",
       "zacks          0.174377\n",
       "sequentially   0.173005\n",
       "nongaap        0.168899\n",
       "advanced       0.167388\n",
       "aeiss          0.154411\n",
       "everest        0.146939\n",
       "rf             0.117277\n",
       "consensus      0.116932\n",
       "bps            0.114300\n",
       "server         0.106463\n",
       "aug            0.102959\n",
       "figure         0.102694\n",
       "quarter        0.092379\n",
       "basis          0.091930\n",
       "increased      0.091742\n",
       "secondquarter  0.086905\n",
       "market         0.085673\n",
       "estimate       0.085456\n",
       "total          0.084971\n",
       "cent           0.084553\n",
       "ai             0.083924\n",
       "medical        0.082374\n",
       "demand         0.081437\n",
       "attributed     0.080895"
      ]
     },
     "execution_count": 99,
     "metadata": {},
     "output_type": "execute_result"
    }
   ],
   "source": [
    "row = X[0]\n",
    "non_zero_indices = row.nonzero()[1]\n",
    "tfidf_scores = row[0, non_zero_indices]\n",
    "words_with_scores = {feature_names[idx]: tfidf_scores[0, i] for i, idx in enumerate(non_zero_indices)}\n",
    "pd.DataFrame([words_with_scores]).T.sort_values(by=0, ascending=False).head(30)"
   ]
  },
  {
   "cell_type": "code",
   "execution_count": 100,
   "id": "a774bcd1",
   "metadata": {},
   "outputs": [],
   "source": [
    "mean_tfidf_scores = np.mean(X.toarray(), axis=0)"
   ]
  },
  {
   "cell_type": "code",
   "execution_count": 101,
   "id": "2a396b71",
   "metadata": {},
   "outputs": [],
   "source": [
    "tfidf_df = pd.DataFrame({'word': feature_names, 'mean_score': mean_tfidf_scores})"
   ]
  },
  {
   "cell_type": "code",
   "execution_count": 102,
   "id": "752371cd",
   "metadata": {},
   "outputs": [],
   "source": [
    "tfidf_df = tfidf_df.sort_values('mean_score', ascending = False)"
   ]
  },
  {
   "cell_type": "code",
   "execution_count": 103,
   "id": "b2c6fa26",
   "metadata": {
    "scrolled": false
   },
   "outputs": [
    {
     "data": {
      "text/html": [
       "<div>\n",
       "<style scoped>\n",
       "    .dataframe tbody tr th:only-of-type {\n",
       "        vertical-align: middle;\n",
       "    }\n",
       "\n",
       "    .dataframe tbody tr th {\n",
       "        vertical-align: top;\n",
       "    }\n",
       "\n",
       "    .dataframe thead th {\n",
       "        text-align: right;\n",
       "    }\n",
       "</style>\n",
       "<table border=\"1\" class=\"dataframe\">\n",
       "  <thead>\n",
       "    <tr style=\"text-align: right;\">\n",
       "      <th></th>\n",
       "      <th>word</th>\n",
       "      <th>mean_score</th>\n",
       "    </tr>\n",
       "  </thead>\n",
       "  <tbody>\n",
       "    <tr>\n",
       "      <th>5074</th>\n",
       "      <td>earnings</td>\n",
       "      <td>0.061972</td>\n",
       "    </tr>\n",
       "    <tr>\n",
       "      <th>18844</th>\n",
       "      <td>zacks</td>\n",
       "      <td>0.055980</td>\n",
       "    </tr>\n",
       "    <tr>\n",
       "      <th>16101</th>\n",
       "      <td>stock</td>\n",
       "      <td>0.046214</td>\n",
       "    </tr>\n",
       "    <tr>\n",
       "      <th>3152</th>\n",
       "      <td>company</td>\n",
       "      <td>0.043488</td>\n",
       "    </tr>\n",
       "    <tr>\n",
       "      <th>18757</th>\n",
       "      <td>year</td>\n",
       "      <td>0.041891</td>\n",
       "    </tr>\n",
       "    <tr>\n",
       "      <th>14057</th>\n",
       "      <td>report</td>\n",
       "      <td>0.038727</td>\n",
       "    </tr>\n",
       "    <tr>\n",
       "      <th>5575</th>\n",
       "      <td>estimate</td>\n",
       "      <td>0.038210</td>\n",
       "    </tr>\n",
       "    <tr>\n",
       "      <th>7202</th>\n",
       "      <td>ha</td>\n",
       "      <td>0.037440</td>\n",
       "    </tr>\n",
       "    <tr>\n",
       "      <th>9803</th>\n",
       "      <td>market</td>\n",
       "      <td>0.036973</td>\n",
       "    </tr>\n",
       "    <tr>\n",
       "      <th>12946</th>\n",
       "      <td>quarter</td>\n",
       "      <td>0.034799</td>\n",
       "    </tr>\n",
       "  </tbody>\n",
       "</table>\n",
       "</div>"
      ],
      "text/plain": [
       "           word  mean_score\n",
       "5074   earnings    0.061972\n",
       "18844     zacks    0.055980\n",
       "16101     stock    0.046214\n",
       "3152    company    0.043488\n",
       "18757      year    0.041891\n",
       "14057    report    0.038727\n",
       "5575   estimate    0.038210\n",
       "7202         ha    0.037440\n",
       "9803     market    0.036973\n",
       "12946   quarter    0.034799"
      ]
     },
     "execution_count": 103,
     "metadata": {},
     "output_type": "execute_result"
    }
   ],
   "source": [
    "tfidf_df[0:10]"
   ]
  },
  {
   "cell_type": "code",
   "execution_count": 104,
   "id": "91ad9690",
   "metadata": {},
   "outputs": [
    {
     "data": {
      "text/plain": [
       "Text(0.5, 0, 'TFIDF Mean Score')"
      ]
     },
     "execution_count": 104,
     "metadata": {},
     "output_type": "execute_result"
    },
    {
     "data": {
      "image/png": "[encoded data removed]",
      "text/plain": [
       "<Figure size 640x480 with 1 Axes>"
      ]
     },
     "metadata": {},
     "output_type": "display_data"
    }
   ],
   "source": [
    "plt.barh(tfidf_df['word'][0:10], tfidf_df['mean_score'][0:10])\n",
    "plt.gca().invert_yaxis()\n",
    "plt.title('Top scoring TFIDF words')\n",
    "plt.ylabel('Words')\n",
    "plt.xlabel('TFIDF Mean Score')"
   ]
  },
  {
   "cell_type": "code",
   "execution_count": 105,
   "id": "10825ceb",
   "metadata": {},
   "outputs": [],
   "source": [
    "df.to_csv('tfidf_sparse_matrix.csv')"
   ]
  },
  {
   "cell_type": "markdown",
   "id": "652d33d0",
   "metadata": {},
   "source": [
    "<h2>Vader Sentiment Analysis"
   ]
  },
  {
   "cell_type": "code",
   "execution_count": null,
   "id": "9807c33e",
   "metadata": {},
   "outputs": [],
   "source": []
  },
  {
   "cell_type": "code",
   "execution_count": 264,
   "id": "c8e73f1d",
   "metadata": {},
   "outputs": [],
   "source": [
    "from vaderSentiment.vaderSentiment import SentimentIntensityAnalyzer"
   ]
  },
  {
   "cell_type": "code",
   "execution_count": 265,
   "id": "608e6354",
   "metadata": {},
   "outputs": [],
   "source": [
    "analyzer = SentimentIntensityAnalyzer()\n",
    "def get_sentiment(text):\n",
    "    return analyzer.polarity_scores(text)['compound']\n"
   ]
  },
  {
   "cell_type": "code",
   "execution_count": 266,
   "id": "71c38884",
   "metadata": {},
   "outputs": [
    {
     "name": "stderr",
     "output_type": "stream",
     "text": [
      "100%|█████████████████████████████| 9604/9604 [03:33<00:00, 45.02it/s]\n"
     ]
    }
   ],
   "source": [
    "new_master_df['overall_cleaned_sentiment'] = [get_sentiment(doc) for doc in tqdm(lemmatized_docs)]"
   ]
  },
  {
   "cell_type": "code",
   "execution_count": 79,
   "id": "b6303528",
   "metadata": {},
   "outputs": [
    {
     "name": "stderr",
     "output_type": "stream",
     "text": [
      "100%|███████████████████████████████| 8156/8156 [02:23<00:00, 56.78it/s]\n"
     ]
    }
   ],
   "source": [
    "new_master_df['uncleaned_sentiment'] = [get_sentiment(doc) for doc in tqdm(new_master_df['article'])]"
   ]
  },
  {
   "cell_type": "code",
   "execution_count": 267,
   "id": "c015e784",
   "metadata": {},
   "outputs": [
    {
     "data": {
      "text/html": [
       "<div>\n",
       "<style scoped>\n",
       "    .dataframe tbody tr th:only-of-type {\n",
       "        vertical-align: middle;\n",
       "    }\n",
       "\n",
       "    .dataframe tbody tr th {\n",
       "        vertical-align: top;\n",
       "    }\n",
       "\n",
       "    .dataframe thead th {\n",
       "        text-align: right;\n",
       "    }\n",
       "</style>\n",
       "<table border=\"1\" class=\"dataframe\">\n",
       "  <thead>\n",
       "    <tr style=\"text-align: right;\">\n",
       "      <th></th>\n",
       "      <th>title</th>\n",
       "      <th>url</th>\n",
       "      <th>time_published</th>\n",
       "      <th>authors</th>\n",
       "      <th>source</th>\n",
       "      <th>source_domain</th>\n",
       "      <th>overall_sentiment_score</th>\n",
       "      <th>overall_sentiment_label</th>\n",
       "      <th>ticker</th>\n",
       "      <th>article</th>\n",
       "      <th>overall_cleaned_sentiment</th>\n",
       "    </tr>\n",
       "  </thead>\n",
       "  <tbody>\n",
       "    <tr>\n",
       "      <th>0</th>\n",
       "      <td>Advanced Energy Q2 Earnings Top Estimates, Rev...</td>\n",
       "      <td>https://www.benzinga.com/news/earnings/24/07/4...</td>\n",
       "      <td>20240731T201919</td>\n",
       "      <td>['Zacks']</td>\n",
       "      <td>Benzinga</td>\n",
       "      <td>www.benzinga.com</td>\n",
       "      <td>0.126429</td>\n",
       "      <td>Neutral</td>\n",
       "      <td>AAPL</td>\n",
       "      <td>Advanced Energy Industries AEIS reported non-G...</td>\n",
       "      <td>0.9981</td>\n",
       "    </tr>\n",
       "    <tr>\n",
       "      <th>1</th>\n",
       "      <td>Oversold Condition And China Loophole Overpowe...</td>\n",
       "      <td>https://www.benzinga.com/markets/asia/24/07/40...</td>\n",
       "      <td>20240731T153854</td>\n",
       "      <td>['The Arora Report']</td>\n",
       "      <td>Benzinga</td>\n",
       "      <td>www.benzinga.com</td>\n",
       "      <td>0.204111</td>\n",
       "      <td>Somewhat-Bullish</td>\n",
       "      <td>AAPL</td>\n",
       "      <td>To gain an edge, this is what you need to know...</td>\n",
       "      <td>0.9464</td>\n",
       "    </tr>\n",
       "    <tr>\n",
       "      <th>2</th>\n",
       "      <td>T-Mobile's Q2 Earnings: Net Postpaid Adds, Rec...</td>\n",
       "      <td>https://www.benzinga.com/news/earnings/24/07/4...</td>\n",
       "      <td>20240731T125206</td>\n",
       "      <td>['Anusuya Lahiri']</td>\n",
       "      <td>Benzinga</td>\n",
       "      <td>www.benzinga.com</td>\n",
       "      <td>0.211757</td>\n",
       "      <td>Somewhat-Bullish</td>\n",
       "      <td>AAPL</td>\n",
       "      <td>T-Mobile US, Inc TMUS reported its second-quar...</td>\n",
       "      <td>0.9875</td>\n",
       "    </tr>\n",
       "    <tr>\n",
       "      <th>3</th>\n",
       "      <td>Epic Games' Tim Sweeney Slams Apple's 'Find My...</td>\n",
       "      <td>https://www.benzinga.com/news/24/07/40066966/e...</td>\n",
       "      <td>20240731T123649</td>\n",
       "      <td>['Rounak Jain']</td>\n",
       "      <td>Benzinga</td>\n",
       "      <td>www.benzinga.com</td>\n",
       "      <td>-0.095462</td>\n",
       "      <td>Neutral</td>\n",
       "      <td>AAPL</td>\n",
       "      <td>Tim Sweeney, the CEO of Epic Games, has public...</td>\n",
       "      <td>-0.9020</td>\n",
       "    </tr>\n",
       "    <tr>\n",
       "      <th>4</th>\n",
       "      <td>Bitcoin, Ethereum, Dogecoin Slide As Mt. Gox M...</td>\n",
       "      <td>https://www.benzinga.com/markets/cryptocurrenc...</td>\n",
       "      <td>20240731T030145</td>\n",
       "      <td>['Aniket Verma']</td>\n",
       "      <td>Benzinga</td>\n",
       "      <td>www.benzinga.com</td>\n",
       "      <td>0.002398</td>\n",
       "      <td>Neutral</td>\n",
       "      <td>AAPL</td>\n",
       "      <td>Leading cryptocurrencies edged lower Tuesday a...</td>\n",
       "      <td>0.5256</td>\n",
       "    </tr>\n",
       "  </tbody>\n",
       "</table>\n",
       "</div>"
      ],
      "text/plain": [
       "                                               title  \\\n",
       "0  Advanced Energy Q2 Earnings Top Estimates, Rev...   \n",
       "1  Oversold Condition And China Loophole Overpowe...   \n",
       "2  T-Mobile's Q2 Earnings: Net Postpaid Adds, Rec...   \n",
       "3  Epic Games' Tim Sweeney Slams Apple's 'Find My...   \n",
       "4  Bitcoin, Ethereum, Dogecoin Slide As Mt. Gox M...   \n",
       "\n",
       "                                                 url   time_published  \\\n",
       "0  https://www.benzinga.com/news/earnings/24/07/4...  20240731T201919   \n",
       "1  https://www.benzinga.com/markets/asia/24/07/40...  20240731T153854   \n",
       "2  https://www.benzinga.com/news/earnings/24/07/4...  20240731T125206   \n",
       "3  https://www.benzinga.com/news/24/07/40066966/e...  20240731T123649   \n",
       "4  https://www.benzinga.com/markets/cryptocurrenc...  20240731T030145   \n",
       "\n",
       "                authors    source     source_domain  overall_sentiment_score  \\\n",
       "0             ['Zacks']  Benzinga  www.benzinga.com                 0.126429   \n",
       "1  ['The Arora Report']  Benzinga  www.benzinga.com                 0.204111   \n",
       "2    ['Anusuya Lahiri']  Benzinga  www.benzinga.com                 0.211757   \n",
       "3       ['Rounak Jain']  Benzinga  www.benzinga.com                -0.095462   \n",
       "4      ['Aniket Verma']  Benzinga  www.benzinga.com                 0.002398   \n",
       "\n",
       "  overall_sentiment_label ticker  \\\n",
       "0                 Neutral   AAPL   \n",
       "1        Somewhat-Bullish   AAPL   \n",
       "2        Somewhat-Bullish   AAPL   \n",
       "3                 Neutral   AAPL   \n",
       "4                 Neutral   AAPL   \n",
       "\n",
       "                                             article  \\\n",
       "0  Advanced Energy Industries AEIS reported non-G...   \n",
       "1  To gain an edge, this is what you need to know...   \n",
       "2  T-Mobile US, Inc TMUS reported its second-quar...   \n",
       "3  Tim Sweeney, the CEO of Epic Games, has public...   \n",
       "4  Leading cryptocurrencies edged lower Tuesday a...   \n",
       "\n",
       "   overall_cleaned_sentiment  \n",
       "0                     0.9981  \n",
       "1                     0.9464  \n",
       "2                     0.9875  \n",
       "3                    -0.9020  \n",
       "4                     0.5256  "
      ]
     },
     "execution_count": 267,
     "metadata": {},
     "output_type": "execute_result"
    }
   ],
   "source": [
    "new_master_df.head()"
   ]
  },
  {
   "cell_type": "code",
   "execution_count": 268,
   "id": "5104ced0",
   "metadata": {},
   "outputs": [],
   "source": [
    "new_master_df.to_csv('articles_with_sentiment.csv')\n",
    "\n"
   ]
  },
  {
   "cell_type": "code",
   "execution_count": 269,
   "id": "e02dce0d",
   "metadata": {},
   "outputs": [],
   "source": []
  },
  {
   "cell_type": "code",
   "execution_count": 273,
   "id": "4a987329",
   "metadata": {},
   "outputs": [
    {
     "data": {
      "text/plain": [
       "28"
      ]
     },
     "execution_count": 273,
     "metadata": {},
     "output_type": "execute_result"
    }
   ],
   "source": [
    "len(new_master_df['ticker'].unique())"
   ]
  },
  {
   "cell_type": "code",
   "execution_count": 297,
   "id": "67e614ec",
   "metadata": {},
   "outputs": [
    {
     "data": {
      "text/plain": [
       "ticker\n",
       "AAPL    35\n",
       "TSLA    34\n",
       "AMD     20\n",
       "BABA    19\n",
       "CRWD    18\n",
       "NVDA    16\n",
       "AVGO    15\n",
       "MSFT    15\n",
       "CSCO    13\n",
       "NFLX    12\n",
       "META    12\n",
       "UBER    11\n",
       "PYPL    11\n",
       "MU      10\n",
       "ABNB    10\n",
       "TSM     10\n",
       "SPOT     9\n",
       "SHOP     9\n",
       "GOOG     9\n",
       "QCOM     9\n",
       "INTU     7\n",
       "ADBE     7\n",
       "PLTR     4\n",
       "ORCL     3\n",
       "IBM      2\n",
       "ADP      2\n",
       "DELL     1\n",
       "Name: count, dtype: int64"
      ]
     },
     "execution_count": 297,
     "metadata": {},
     "output_type": "execute_result"
    }
   ],
   "source": [
    "pd.set_option('display.max_colwidth', None)\n",
    "new_master_df[new_master_df['overall_cleaned_sentiment'] < 0]['ticker'].value_counts()"
   ]
  },
  {
   "cell_type": "code",
   "execution_count": null,
   "id": "4eb36946",
   "metadata": {},
   "outputs": [],
   "source": []
  }
 ],
 "metadata": {
  "kernelspec": {
   "display_name": "Python 3 (ipykernel)",
   "language": "python",
   "name": "python3"
  },
  "language_info": {
   "codemirror_mode": {
    "name": "ipython",
    "version": 3
   },
   "file_extension": ".py",
   "mimetype": "text/x-python",
   "name": "python",
   "nbconvert_exporter": "python",
   "pygments_lexer": "ipython3",
   "version": "3.11.5"
  }
 },
 "nbformat": 4,
 "nbformat_minor": 5
}
